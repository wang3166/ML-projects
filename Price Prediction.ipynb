{
 "cells": [
  {
   "cell_type": "markdown",
   "metadata": {},
   "source": [
    "We are an agency helping our customers purchase XoX (a made-up product) from various makers. Price is one of the most important things we care about. We need to estimate the price of a XoX before we recommend it to our customers. However, the estimations vary significantly with our employees' experience. \n",
    "\n",
    "We would like you to build a machine learning model to accurately predict the price for a future purchase and provide insights to help us explain the predicted price to our customers. Please note that neither our customers nor us have any knowledge about machine learning. A sample of our sales record is available in ../data/sales.csv.\n",
    "\n",
    "\n",
    "1. Preprocess, clean, analyze and visualized the provided data. A few sentences or plots describing your approach will suffice. Any thing you would like us to know about the price?\n",
    "2. Build a machine learning model to help us determine the price for a purchase. Discuss why you choose the approaches, what alternatives you consider, and any concerns you have. How is the performance of your model?\n",
    "3. Help us understand how the price is predicted (again, a few sentences will suffice)."
   ]
  },
  {
   "cell_type": "code",
   "execution_count": 1,
   "metadata": {},
   "outputs": [],
   "source": [
    "import pandas as pd\n",
    "import numpy as np\n",
    "import matplotlib.pyplot as plt\n",
    "%matplotlib inline\n",
    "import seaborn as sns\n",
    "\n",
    "df = pd.read_csv('sales.csv')"
   ]
  },
  {
   "cell_type": "markdown",
   "metadata": {},
   "source": [
    "# 1.Data Analysis Phase"
   ]
  },
  {
   "cell_type": "code",
   "execution_count": 2,
   "metadata": {},
   "outputs": [
    {
     "data": {
      "text/html": [
       "<div>\n",
       "<style scoped>\n",
       "    .dataframe tbody tr th:only-of-type {\n",
       "        vertical-align: middle;\n",
       "    }\n",
       "\n",
       "    .dataframe tbody tr th {\n",
       "        vertical-align: top;\n",
       "    }\n",
       "\n",
       "    .dataframe thead th {\n",
       "        text-align: right;\n",
       "    }\n",
       "</style>\n",
       "<table border=\"1\" class=\"dataframe\">\n",
       "  <thead>\n",
       "    <tr style=\"text-align: right;\">\n",
       "      <th></th>\n",
       "      <th>cost</th>\n",
       "      <th>price</th>\n",
       "      <th>weight</th>\n",
       "      <th>purchase_date</th>\n",
       "      <th>product_type</th>\n",
       "      <th>product_level</th>\n",
       "      <th>maker</th>\n",
       "      <th>ingredient</th>\n",
       "      <th>height</th>\n",
       "      <th>width</th>\n",
       "      <th>depth</th>\n",
       "    </tr>\n",
       "  </thead>\n",
       "  <tbody>\n",
       "    <tr>\n",
       "      <th>0</th>\n",
       "      <td>$333k</td>\n",
       "      <td>$300,492</td>\n",
       "      <td>3 Ton 90 Kg</td>\n",
       "      <td>Dec 19 2008</td>\n",
       "      <td>Q,B</td>\n",
       "      <td>advanced</td>\n",
       "      <td>M14122</td>\n",
       "      <td>IN732052,IN732053</td>\n",
       "      <td>2.76 meters</td>\n",
       "      <td>97 cm</td>\n",
       "      <td>26 cm</td>\n",
       "    </tr>\n",
       "    <tr>\n",
       "      <th>1</th>\n",
       "      <td>NaN</td>\n",
       "      <td>$430,570</td>\n",
       "      <td>3 Ton 30 Kg</td>\n",
       "      <td>Sep 10 1997</td>\n",
       "      <td>J,D</td>\n",
       "      <td>basic</td>\n",
       "      <td>NaN</td>\n",
       "      <td>IN732054,IN732055,IN732056,IN732057,IN732058</td>\n",
       "      <td>2.67 meters</td>\n",
       "      <td>98 cm</td>\n",
       "      <td>26 cm</td>\n",
       "    </tr>\n",
       "    <tr>\n",
       "      <th>2</th>\n",
       "      <td>$270k</td>\n",
       "      <td>$213,070</td>\n",
       "      <td>3 Ton 40 Kg</td>\n",
       "      <td>Sep 05 2001</td>\n",
       "      <td>J,D</td>\n",
       "      <td>basic</td>\n",
       "      <td>NaN</td>\n",
       "      <td>IN732054,IN732059,IN732060</td>\n",
       "      <td>3.0 meters</td>\n",
       "      <td>93 cm</td>\n",
       "      <td>24 cm</td>\n",
       "    </tr>\n",
       "    <tr>\n",
       "      <th>3</th>\n",
       "      <td>NaN</td>\n",
       "      <td>$229,174</td>\n",
       "      <td>3 Ton 50 Kg</td>\n",
       "      <td>Dec 23 2016</td>\n",
       "      <td>U</td>\n",
       "      <td>advanced</td>\n",
       "      <td>M14123</td>\n",
       "      <td>IN732061,IN732062,IN732063</td>\n",
       "      <td>2.5 meters</td>\n",
       "      <td>102 cm</td>\n",
       "      <td>27 cm</td>\n",
       "    </tr>\n",
       "    <tr>\n",
       "      <th>4</th>\n",
       "      <td>$97k</td>\n",
       "      <td>$122,659</td>\n",
       "      <td>2 Ton 970 Kg</td>\n",
       "      <td>Jan 12 2000</td>\n",
       "      <td>D,R</td>\n",
       "      <td>advanced</td>\n",
       "      <td>NaN</td>\n",
       "      <td>IN732064,IN732065,IN732066</td>\n",
       "      <td>2.47 meters</td>\n",
       "      <td>101 cm</td>\n",
       "      <td>26 cm</td>\n",
       "    </tr>\n",
       "  </tbody>\n",
       "</table>\n",
       "</div>"
      ],
      "text/plain": [
       "    cost      price        weight purchase_date product_type product_level  \\\n",
       "0  $333k  $300,492    3 Ton 90 Kg   Dec 19 2008          Q,B      advanced   \n",
       "1    NaN  $430,570    3 Ton 30 Kg   Sep 10 1997          J,D         basic   \n",
       "2  $270k  $213,070    3 Ton 40 Kg   Sep 05 2001          J,D         basic   \n",
       "3    NaN  $229,174    3 Ton 50 Kg   Dec 23 2016            U      advanced   \n",
       "4   $97k  $122,659   2 Ton 970 Kg   Jan 12 2000          D,R      advanced   \n",
       "\n",
       "    maker                                    ingredient       height   width  \\\n",
       "0  M14122                             IN732052,IN732053  2.76 meters   97 cm   \n",
       "1     NaN  IN732054,IN732055,IN732056,IN732057,IN732058  2.67 meters   98 cm   \n",
       "2     NaN                    IN732054,IN732059,IN732060   3.0 meters   93 cm   \n",
       "3  M14123                    IN732061,IN732062,IN732063   2.5 meters  102 cm   \n",
       "4     NaN                    IN732064,IN732065,IN732066  2.47 meters  101 cm   \n",
       "\n",
       "   depth  \n",
       "0  26 cm  \n",
       "1  26 cm  \n",
       "2  24 cm  \n",
       "3  27 cm  \n",
       "4  26 cm  "
      ]
     },
     "execution_count": 2,
     "metadata": {},
     "output_type": "execute_result"
    }
   ],
   "source": [
    "df.head()"
   ]
  },
  {
   "cell_type": "code",
   "execution_count": 3,
   "metadata": {},
   "outputs": [
    {
     "data": {
      "text/plain": [
       "(3197, 11)"
      ]
     },
     "execution_count": 3,
     "metadata": {},
     "output_type": "execute_result"
    }
   ],
   "source": [
    "df.shape"
   ]
  },
  {
   "cell_type": "code",
   "execution_count": 4,
   "metadata": {},
   "outputs": [
    {
     "name": "stdout",
     "output_type": "stream",
     "text": [
      "<class 'pandas.core.frame.DataFrame'>\n",
      "RangeIndex: 3197 entries, 0 to 3196\n",
      "Data columns (total 11 columns):\n",
      " #   Column         Non-Null Count  Dtype \n",
      "---  ------         --------------  ----- \n",
      " 0   cost           2216 non-null   object\n",
      " 1   price          3186 non-null   object\n",
      " 2   weight         3193 non-null   object\n",
      " 3   purchase_date  3196 non-null   object\n",
      " 4   product_type   3196 non-null   object\n",
      " 5   product_level  3196 non-null   object\n",
      " 6   maker          2373 non-null   object\n",
      " 7   ingredient     2941 non-null   object\n",
      " 8   height         3197 non-null   object\n",
      " 9   width          3193 non-null   object\n",
      " 10  depth          3193 non-null   object\n",
      "dtypes: object(11)\n",
      "memory usage: 274.9+ KB\n"
     ]
    }
   ],
   "source": [
    "df.info()"
   ]
  },
  {
   "cell_type": "code",
   "execution_count": 5,
   "metadata": {},
   "outputs": [],
   "source": [
    "df.dropna(subset=['price'], inplace=True)"
   ]
  },
  {
   "cell_type": "markdown",
   "metadata": {},
   "source": [
    "## Since the target 'price' is numerical values, then use Linear regression or Tree-based models."
   ]
  },
  {
   "cell_type": "code",
   "execution_count": 6,
   "metadata": {},
   "outputs": [],
   "source": [
    "df['year'] = pd.to_datetime(df.purchase_date).dt.year\n",
    "train_raw = df[df.year < 2015].reset_index(drop=True)\n",
    "test_raw = df[df.year >= 2015].reset_index(drop=True)"
   ]
  },
  {
   "cell_type": "code",
   "execution_count": 7,
   "metadata": {},
   "outputs": [
    {
     "data": {
      "text/plain": [
       "cost             835\n",
       "price              0\n",
       "weight             1\n",
       "purchase_date      0\n",
       "product_type       0\n",
       "product_level      0\n",
       "maker            752\n",
       "ingredient       219\n",
       "height             0\n",
       "width              1\n",
       "depth              1\n",
       "year               0\n",
       "dtype: int64"
      ]
     },
     "execution_count": 7,
     "metadata": {},
     "output_type": "execute_result"
    }
   ],
   "source": [
    "train_raw.isnull().sum()"
   ]
  },
  {
   "cell_type": "code",
   "execution_count": 8,
   "metadata": {},
   "outputs": [],
   "source": [
    "class ob2num(object):\n",
    "    \n",
    "    def fit(self, X, y=None):\n",
    "        df = pd.DataFrame()\n",
    "        df['cost'] = X.cost.map(self.cost2num)\n",
    "        df['weight'] = X.weight.map(self.weight2num)\n",
    "        df['height'] = X.height.map(self.height2num)\n",
    "        df['width'] = X.width.map(self.width2num)\n",
    "        df['depth'] = X.depth.map(self.depth2num)\n",
    "        df['price'] = X.price.map(self.price2num)\n",
    "        return df\n",
    "\n",
    "    def cost2num(self, x):\n",
    "        if type(x) == str: \n",
    "            x = x.strip('$').strip('k')\n",
    "            return float(x)*1000\n",
    "        else:\n",
    "            return x\n",
    "        \n",
    "    def weight2num(self, x):\n",
    "        if type(x) == str: \n",
    "            x = x.strip(' Kg').replace(' Ton ', '.')\n",
    "            return float(x)\n",
    "        else:\n",
    "            return x\n",
    "    \n",
    "    def height2num(self, x):\n",
    "        if type(x) == str: \n",
    "            x = x.strip(' meters')\n",
    "            return float(x)\n",
    "        else:\n",
    "            return x\n",
    "    \n",
    "    def width2num(self, x):\n",
    "        if type(x) == str: \n",
    "            x = x.strip(' cm')\n",
    "            return float(x)\n",
    "        else:\n",
    "            return x\n",
    "        \n",
    "    def depth2num(self, x):\n",
    "        if type(x) == str: \n",
    "            x = x.strip(' cm')\n",
    "            return float(x)\n",
    "        else:\n",
    "            return x\n",
    "    \n",
    "    def price2num(self, x):\n",
    "        if type(x) == str:\n",
    "            x = x.strip('$')\n",
    "            x = x.replace(',', '')\n",
    "        return float(x)"
   ]
  },
  {
   "cell_type": "code",
   "execution_count": 9,
   "metadata": {},
   "outputs": [],
   "source": [
    "on = ob2num()"
   ]
  },
  {
   "cell_type": "code",
   "execution_count": 10,
   "metadata": {},
   "outputs": [],
   "source": [
    "train = on.fit(train_raw)"
   ]
  },
  {
   "cell_type": "code",
   "execution_count": 11,
   "metadata": {},
   "outputs": [
    {
     "data": {
      "text/html": [
       "<div>\n",
       "<style scoped>\n",
       "    .dataframe tbody tr th:only-of-type {\n",
       "        vertical-align: middle;\n",
       "    }\n",
       "\n",
       "    .dataframe tbody tr th {\n",
       "        vertical-align: top;\n",
       "    }\n",
       "\n",
       "    .dataframe thead th {\n",
       "        text-align: right;\n",
       "    }\n",
       "</style>\n",
       "<table border=\"1\" class=\"dataframe\">\n",
       "  <thead>\n",
       "    <tr style=\"text-align: right;\">\n",
       "      <th></th>\n",
       "      <th>cost</th>\n",
       "      <th>weight</th>\n",
       "      <th>height</th>\n",
       "      <th>width</th>\n",
       "      <th>depth</th>\n",
       "      <th>price</th>\n",
       "    </tr>\n",
       "  </thead>\n",
       "  <tbody>\n",
       "    <tr>\n",
       "      <th>0</th>\n",
       "      <td>333000.0</td>\n",
       "      <td>3.90</td>\n",
       "      <td>2.76</td>\n",
       "      <td>97.0</td>\n",
       "      <td>26.0</td>\n",
       "      <td>300492.0</td>\n",
       "    </tr>\n",
       "    <tr>\n",
       "      <th>1</th>\n",
       "      <td>NaN</td>\n",
       "      <td>3.30</td>\n",
       "      <td>2.67</td>\n",
       "      <td>98.0</td>\n",
       "      <td>26.0</td>\n",
       "      <td>430570.0</td>\n",
       "    </tr>\n",
       "    <tr>\n",
       "      <th>2</th>\n",
       "      <td>270000.0</td>\n",
       "      <td>3.40</td>\n",
       "      <td>3.00</td>\n",
       "      <td>93.0</td>\n",
       "      <td>24.0</td>\n",
       "      <td>213070.0</td>\n",
       "    </tr>\n",
       "    <tr>\n",
       "      <th>3</th>\n",
       "      <td>97000.0</td>\n",
       "      <td>2.97</td>\n",
       "      <td>2.47</td>\n",
       "      <td>101.0</td>\n",
       "      <td>26.0</td>\n",
       "      <td>122659.0</td>\n",
       "    </tr>\n",
       "    <tr>\n",
       "      <th>4</th>\n",
       "      <td>59000.0</td>\n",
       "      <td>2.93</td>\n",
       "      <td>2.71</td>\n",
       "      <td>96.0</td>\n",
       "      <td>25.0</td>\n",
       "      <td>60320.0</td>\n",
       "    </tr>\n",
       "    <tr>\n",
       "      <th>...</th>\n",
       "      <td>...</td>\n",
       "      <td>...</td>\n",
       "      <td>...</td>\n",
       "      <td>...</td>\n",
       "      <td>...</td>\n",
       "      <td>...</td>\n",
       "    </tr>\n",
       "    <tr>\n",
       "      <th>2752</th>\n",
       "      <td>254000.0</td>\n",
       "      <td>3.40</td>\n",
       "      <td>2.02</td>\n",
       "      <td>113.0</td>\n",
       "      <td>30.0</td>\n",
       "      <td>255179.0</td>\n",
       "    </tr>\n",
       "    <tr>\n",
       "      <th>2753</th>\n",
       "      <td>91000.0</td>\n",
       "      <td>2.89</td>\n",
       "      <td>2.52</td>\n",
       "      <td>99.0</td>\n",
       "      <td>26.0</td>\n",
       "      <td>144631.0</td>\n",
       "    </tr>\n",
       "    <tr>\n",
       "      <th>2754</th>\n",
       "      <td>NaN</td>\n",
       "      <td>2.83</td>\n",
       "      <td>2.15</td>\n",
       "      <td>106.0</td>\n",
       "      <td>28.0</td>\n",
       "      <td>40384.0</td>\n",
       "    </tr>\n",
       "    <tr>\n",
       "      <th>2755</th>\n",
       "      <td>44000.0</td>\n",
       "      <td>2.95</td>\n",
       "      <td>2.52</td>\n",
       "      <td>100.0</td>\n",
       "      <td>26.0</td>\n",
       "      <td>55931.0</td>\n",
       "    </tr>\n",
       "    <tr>\n",
       "      <th>2756</th>\n",
       "      <td>128000.0</td>\n",
       "      <td>2.98</td>\n",
       "      <td>2.96</td>\n",
       "      <td>92.0</td>\n",
       "      <td>24.0</td>\n",
       "      <td>44370.0</td>\n",
       "    </tr>\n",
       "  </tbody>\n",
       "</table>\n",
       "<p>2757 rows × 6 columns</p>\n",
       "</div>"
      ],
      "text/plain": [
       "          cost  weight  height  width  depth     price\n",
       "0     333000.0    3.90    2.76   97.0   26.0  300492.0\n",
       "1          NaN    3.30    2.67   98.0   26.0  430570.0\n",
       "2     270000.0    3.40    3.00   93.0   24.0  213070.0\n",
       "3      97000.0    2.97    2.47  101.0   26.0  122659.0\n",
       "4      59000.0    2.93    2.71   96.0   25.0   60320.0\n",
       "...        ...     ...     ...    ...    ...       ...\n",
       "2752  254000.0    3.40    2.02  113.0   30.0  255179.0\n",
       "2753   91000.0    2.89    2.52   99.0   26.0  144631.0\n",
       "2754       NaN    2.83    2.15  106.0   28.0   40384.0\n",
       "2755   44000.0    2.95    2.52  100.0   26.0   55931.0\n",
       "2756  128000.0    2.98    2.96   92.0   24.0   44370.0\n",
       "\n",
       "[2757 rows x 6 columns]"
      ]
     },
     "execution_count": 11,
     "metadata": {},
     "output_type": "execute_result"
    }
   ],
   "source": [
    "train"
   ]
  },
  {
   "cell_type": "code",
   "execution_count": 12,
   "metadata": {},
   "outputs": [],
   "source": [
    "numerical_features = [feature for feature in train.columns if train[feature].dtype != 'O' and feature not in ['price']]"
   ]
  },
  {
   "cell_type": "code",
   "execution_count": 13,
   "metadata": {},
   "outputs": [
    {
     "data": {
      "text/plain": [
       "['cost', 'weight', 'height', 'width', 'depth']"
      ]
     },
     "execution_count": 13,
     "metadata": {},
     "output_type": "execute_result"
    }
   ],
   "source": [
    "numerical_features"
   ]
  },
  {
   "cell_type": "code",
   "execution_count": 14,
   "metadata": {},
   "outputs": [],
   "source": [
    "categorical_features = [feature for feature in train_raw.columns if feature not in train and feature not in ['purchase_date']+['year']+['price']]"
   ]
  },
  {
   "cell_type": "code",
   "execution_count": 15,
   "metadata": {},
   "outputs": [
    {
     "data": {
      "text/plain": [
       "['product_type', 'product_level', 'maker', 'ingredient']"
      ]
     },
     "execution_count": 15,
     "metadata": {},
     "output_type": "execute_result"
    }
   ],
   "source": [
    "categorical_features"
   ]
  },
  {
   "cell_type": "code",
   "execution_count": 16,
   "metadata": {},
   "outputs": [],
   "source": [
    "discrete_feature=[feature for feature in numerical_features if len(train[feature].unique())<25]"
   ]
  },
  {
   "cell_type": "code",
   "execution_count": 17,
   "metadata": {},
   "outputs": [
    {
     "data": {
      "text/plain": [
       "['depth']"
      ]
     },
     "execution_count": 17,
     "metadata": {},
     "output_type": "execute_result"
    }
   ],
   "source": [
    "discrete_feature"
   ]
  },
  {
   "cell_type": "code",
   "execution_count": 18,
   "metadata": {},
   "outputs": [],
   "source": [
    "continuous_feature =[feature for feature in numerical_features if feature not in discrete_feature]"
   ]
  },
  {
   "cell_type": "code",
   "execution_count": 19,
   "metadata": {},
   "outputs": [
    {
     "data": {
      "text/plain": [
       "['cost', 'weight', 'height', 'width']"
      ]
     },
     "execution_count": 19,
     "metadata": {},
     "output_type": "execute_result"
    }
   ],
   "source": [
    "continuous_feature"
   ]
  },
  {
   "cell_type": "code",
   "execution_count": 20,
   "metadata": {},
   "outputs": [
    {
     "data": {
      "image/png": "[encoded data removed]",
      "text/plain": [
       "<Figure size 432x288 with 1 Axes>"
      ]
     },
     "metadata": {
      "needs_background": "light"
     },
     "output_type": "display_data"
    },
    {
     "data": {
      "image/png": "[encoded data removed]",
      "text/plain": [
       "<Figure size 432x288 with 1 Axes>"
      ]
     },
     "metadata": {
      "needs_background": "light"
     },
     "output_type": "display_data"
    },
    {
     "data": {
      "image/png": "[encoded data removed]",
      "text/plain": [
       "<Figure size 432x288 with 1 Axes>"
      ]
     },
     "metadata": {
      "needs_background": "light"
     },
     "output_type": "display_data"
    },
    {
     "data": {
      "image/png": "[encoded data removed]",
      "text/plain": [
       "<Figure size 432x288 with 1 Axes>"
      ]
     },
     "metadata": {
      "needs_background": "light"
     },
     "output_type": "display_data"
    }
   ],
   "source": [
    "# analyse the continuous values by creating histograms to understand the distribution\n",
    "for feature in continuous_feature:\n",
    "    train[feature].hist(bins=25)\n",
    "    plt.xlabel(feature)\n",
    "    plt.ylabel(\"Count\")\n",
    "    plt.title(feature)\n",
    "    plt.show()"
   ]
  },
  {
   "cell_type": "markdown",
   "metadata": {},
   "source": [
    "### 'cost' is skewed: using logarithmic transformation"
   ]
  },
  {
   "cell_type": "code",
   "execution_count": 21,
   "metadata": {},
   "outputs": [
    {
     "data": {
      "text/plain": [
       "<matplotlib.axes._subplots.AxesSubplot at 0x18c3397fdf0>"
      ]
     },
     "execution_count": 21,
     "metadata": {},
     "output_type": "execute_result"
    },
    {
     "data": {
      "image/png": "[encoded data removed]",
      "text/plain": [
       "<Figure size 432x288 with 1 Axes>"
      ]
     },
     "metadata": {
      "needs_background": "light"
     },
     "output_type": "display_data"
    }
   ],
   "source": [
    "train.cost.map(np.log).plot(kind='hist', bins=25)"
   ]
  },
  {
   "cell_type": "markdown",
   "metadata": {},
   "source": [
    "# Should a new feature which is log(cost) be create????????"
   ]
  },
  {
   "cell_type": "code",
   "execution_count": 22,
   "metadata": {},
   "outputs": [
    {
     "data": {
      "text/plain": [
       "<matplotlib.axes._subplots.AxesSubplot at 0x18c33a1d880>"
      ]
     },
     "execution_count": 22,
     "metadata": {},
     "output_type": "execute_result"
    },
    {
     "data": {
      "image/png": "[encoded data removed]",
      "text/plain": [
       "<Figure size 432x288 with 1 Axes>"
      ]
     },
     "metadata": {
      "needs_background": "light"
     },
     "output_type": "display_data"
    }
   ],
   "source": [
    "train.weight.map(np.log).plot(kind = 'hist', bins = 15)"
   ]
  },
  {
   "cell_type": "code",
   "execution_count": 23,
   "metadata": {},
   "outputs": [
    {
     "data": {
      "image/png": "[encoded data removed]",
      "text/plain": [
       "<Figure size 432x288 with 1 Axes>"
      ]
     },
     "metadata": {
      "needs_background": "light"
     },
     "output_type": "display_data"
    }
   ],
   "source": [
    "for feature in discrete_feature:\n",
    "    train[feature].hist(bins=12)\n",
    "    plt.xlabel(feature)\n",
    "    plt.ylabel(\"Count\")\n",
    "    plt.title(feature)\n",
    "    plt.show()"
   ]
  },
  {
   "cell_type": "code",
   "execution_count": 24,
   "metadata": {},
   "outputs": [],
   "source": [
    "class DT_Transformer(object):\n",
    "        \n",
    "    def transform(self, X, y=None):\n",
    "        df = pd.DataFrame()\n",
    "        df['year'] = pd.to_datetime(X.purchase_date).dt.year\n",
    "        df['month'] = pd.to_datetime(X.purchase_date).dt.month\n",
    "        df['day'] = pd.to_datetime(X.purchase_date).dt.day\n",
    "        return df\n",
    "    \n",
    "    def fit_transform(self, X, y=None):\n",
    "        return self.transform(X)"
   ]
  },
  {
   "cell_type": "code",
   "execution_count": 25,
   "metadata": {},
   "outputs": [],
   "source": [
    "dt = DT_Transformer()"
   ]
  },
  {
   "cell_type": "code",
   "execution_count": 26,
   "metadata": {},
   "outputs": [],
   "source": [
    "train_date = dt.fit_transform(train_raw)"
   ]
  },
  {
   "cell_type": "code",
   "execution_count": 27,
   "metadata": {},
   "outputs": [
    {
     "data": {
      "text/html": [
       "<div>\n",
       "<style scoped>\n",
       "    .dataframe tbody tr th:only-of-type {\n",
       "        vertical-align: middle;\n",
       "    }\n",
       "\n",
       "    .dataframe tbody tr th {\n",
       "        vertical-align: top;\n",
       "    }\n",
       "\n",
       "    .dataframe thead th {\n",
       "        text-align: right;\n",
       "    }\n",
       "</style>\n",
       "<table border=\"1\" class=\"dataframe\">\n",
       "  <thead>\n",
       "    <tr style=\"text-align: right;\">\n",
       "      <th></th>\n",
       "      <th>year</th>\n",
       "      <th>month</th>\n",
       "      <th>day</th>\n",
       "    </tr>\n",
       "  </thead>\n",
       "  <tbody>\n",
       "    <tr>\n",
       "      <th>0</th>\n",
       "      <td>2008</td>\n",
       "      <td>12</td>\n",
       "      <td>19</td>\n",
       "    </tr>\n",
       "    <tr>\n",
       "      <th>1</th>\n",
       "      <td>1997</td>\n",
       "      <td>9</td>\n",
       "      <td>10</td>\n",
       "    </tr>\n",
       "    <tr>\n",
       "      <th>2</th>\n",
       "      <td>2001</td>\n",
       "      <td>9</td>\n",
       "      <td>5</td>\n",
       "    </tr>\n",
       "    <tr>\n",
       "      <th>3</th>\n",
       "      <td>2000</td>\n",
       "      <td>1</td>\n",
       "      <td>12</td>\n",
       "    </tr>\n",
       "    <tr>\n",
       "      <th>4</th>\n",
       "      <td>2011</td>\n",
       "      <td>8</td>\n",
       "      <td>19</td>\n",
       "    </tr>\n",
       "    <tr>\n",
       "      <th>...</th>\n",
       "      <td>...</td>\n",
       "      <td>...</td>\n",
       "      <td>...</td>\n",
       "    </tr>\n",
       "    <tr>\n",
       "      <th>2752</th>\n",
       "      <td>2012</td>\n",
       "      <td>4</td>\n",
       "      <td>20</td>\n",
       "    </tr>\n",
       "    <tr>\n",
       "      <th>2753</th>\n",
       "      <td>2002</td>\n",
       "      <td>7</td>\n",
       "      <td>12</td>\n",
       "    </tr>\n",
       "    <tr>\n",
       "      <th>2754</th>\n",
       "      <td>2007</td>\n",
       "      <td>5</td>\n",
       "      <td>25</td>\n",
       "    </tr>\n",
       "    <tr>\n",
       "      <th>2755</th>\n",
       "      <td>2002</td>\n",
       "      <td>4</td>\n",
       "      <td>12</td>\n",
       "    </tr>\n",
       "    <tr>\n",
       "      <th>2756</th>\n",
       "      <td>2003</td>\n",
       "      <td>6</td>\n",
       "      <td>13</td>\n",
       "    </tr>\n",
       "  </tbody>\n",
       "</table>\n",
       "<p>2757 rows × 3 columns</p>\n",
       "</div>"
      ],
      "text/plain": [
       "      year  month  day\n",
       "0     2008     12   19\n",
       "1     1997      9   10\n",
       "2     2001      9    5\n",
       "3     2000      1   12\n",
       "4     2011      8   19\n",
       "...    ...    ...  ...\n",
       "2752  2012      4   20\n",
       "2753  2002      7   12\n",
       "2754  2007      5   25\n",
       "2755  2002      4   12\n",
       "2756  2003      6   13\n",
       "\n",
       "[2757 rows x 3 columns]"
      ]
     },
     "execution_count": 27,
     "metadata": {},
     "output_type": "execute_result"
    }
   ],
   "source": [
    "train_date"
   ]
  },
  {
   "cell_type": "code",
   "execution_count": 28,
   "metadata": {},
   "outputs": [],
   "source": [
    "train = train.join(train_date) "
   ]
  },
  {
   "cell_type": "code",
   "execution_count": 29,
   "metadata": {},
   "outputs": [
    {
     "data": {
      "text/html": [
       "<div>\n",
       "<style scoped>\n",
       "    .dataframe tbody tr th:only-of-type {\n",
       "        vertical-align: middle;\n",
       "    }\n",
       "\n",
       "    .dataframe tbody tr th {\n",
       "        vertical-align: top;\n",
       "    }\n",
       "\n",
       "    .dataframe thead th {\n",
       "        text-align: right;\n",
       "    }\n",
       "</style>\n",
       "<table border=\"1\" class=\"dataframe\">\n",
       "  <thead>\n",
       "    <tr style=\"text-align: right;\">\n",
       "      <th></th>\n",
       "      <th>cost</th>\n",
       "      <th>weight</th>\n",
       "      <th>height</th>\n",
       "      <th>width</th>\n",
       "      <th>depth</th>\n",
       "      <th>price</th>\n",
       "      <th>year</th>\n",
       "      <th>month</th>\n",
       "      <th>day</th>\n",
       "    </tr>\n",
       "  </thead>\n",
       "  <tbody>\n",
       "    <tr>\n",
       "      <th>0</th>\n",
       "      <td>333000.0</td>\n",
       "      <td>3.90</td>\n",
       "      <td>2.76</td>\n",
       "      <td>97.0</td>\n",
       "      <td>26.0</td>\n",
       "      <td>300492.0</td>\n",
       "      <td>2008</td>\n",
       "      <td>12</td>\n",
       "      <td>19</td>\n",
       "    </tr>\n",
       "    <tr>\n",
       "      <th>1</th>\n",
       "      <td>NaN</td>\n",
       "      <td>3.30</td>\n",
       "      <td>2.67</td>\n",
       "      <td>98.0</td>\n",
       "      <td>26.0</td>\n",
       "      <td>430570.0</td>\n",
       "      <td>1997</td>\n",
       "      <td>9</td>\n",
       "      <td>10</td>\n",
       "    </tr>\n",
       "    <tr>\n",
       "      <th>2</th>\n",
       "      <td>270000.0</td>\n",
       "      <td>3.40</td>\n",
       "      <td>3.00</td>\n",
       "      <td>93.0</td>\n",
       "      <td>24.0</td>\n",
       "      <td>213070.0</td>\n",
       "      <td>2001</td>\n",
       "      <td>9</td>\n",
       "      <td>5</td>\n",
       "    </tr>\n",
       "    <tr>\n",
       "      <th>3</th>\n",
       "      <td>97000.0</td>\n",
       "      <td>2.97</td>\n",
       "      <td>2.47</td>\n",
       "      <td>101.0</td>\n",
       "      <td>26.0</td>\n",
       "      <td>122659.0</td>\n",
       "      <td>2000</td>\n",
       "      <td>1</td>\n",
       "      <td>12</td>\n",
       "    </tr>\n",
       "    <tr>\n",
       "      <th>4</th>\n",
       "      <td>59000.0</td>\n",
       "      <td>2.93</td>\n",
       "      <td>2.71</td>\n",
       "      <td>96.0</td>\n",
       "      <td>25.0</td>\n",
       "      <td>60320.0</td>\n",
       "      <td>2011</td>\n",
       "      <td>8</td>\n",
       "      <td>19</td>\n",
       "    </tr>\n",
       "    <tr>\n",
       "      <th>...</th>\n",
       "      <td>...</td>\n",
       "      <td>...</td>\n",
       "      <td>...</td>\n",
       "      <td>...</td>\n",
       "      <td>...</td>\n",
       "      <td>...</td>\n",
       "      <td>...</td>\n",
       "      <td>...</td>\n",
       "      <td>...</td>\n",
       "    </tr>\n",
       "    <tr>\n",
       "      <th>2752</th>\n",
       "      <td>254000.0</td>\n",
       "      <td>3.40</td>\n",
       "      <td>2.02</td>\n",
       "      <td>113.0</td>\n",
       "      <td>30.0</td>\n",
       "      <td>255179.0</td>\n",
       "      <td>2012</td>\n",
       "      <td>4</td>\n",
       "      <td>20</td>\n",
       "    </tr>\n",
       "    <tr>\n",
       "      <th>2753</th>\n",
       "      <td>91000.0</td>\n",
       "      <td>2.89</td>\n",
       "      <td>2.52</td>\n",
       "      <td>99.0</td>\n",
       "      <td>26.0</td>\n",
       "      <td>144631.0</td>\n",
       "      <td>2002</td>\n",
       "      <td>7</td>\n",
       "      <td>12</td>\n",
       "    </tr>\n",
       "    <tr>\n",
       "      <th>2754</th>\n",
       "      <td>NaN</td>\n",
       "      <td>2.83</td>\n",
       "      <td>2.15</td>\n",
       "      <td>106.0</td>\n",
       "      <td>28.0</td>\n",
       "      <td>40384.0</td>\n",
       "      <td>2007</td>\n",
       "      <td>5</td>\n",
       "      <td>25</td>\n",
       "    </tr>\n",
       "    <tr>\n",
       "      <th>2755</th>\n",
       "      <td>44000.0</td>\n",
       "      <td>2.95</td>\n",
       "      <td>2.52</td>\n",
       "      <td>100.0</td>\n",
       "      <td>26.0</td>\n",
       "      <td>55931.0</td>\n",
       "      <td>2002</td>\n",
       "      <td>4</td>\n",
       "      <td>12</td>\n",
       "    </tr>\n",
       "    <tr>\n",
       "      <th>2756</th>\n",
       "      <td>128000.0</td>\n",
       "      <td>2.98</td>\n",
       "      <td>2.96</td>\n",
       "      <td>92.0</td>\n",
       "      <td>24.0</td>\n",
       "      <td>44370.0</td>\n",
       "      <td>2003</td>\n",
       "      <td>6</td>\n",
       "      <td>13</td>\n",
       "    </tr>\n",
       "  </tbody>\n",
       "</table>\n",
       "<p>2757 rows × 9 columns</p>\n",
       "</div>"
      ],
      "text/plain": [
       "          cost  weight  height  width  depth     price  year  month  day\n",
       "0     333000.0    3.90    2.76   97.0   26.0  300492.0  2008     12   19\n",
       "1          NaN    3.30    2.67   98.0   26.0  430570.0  1997      9   10\n",
       "2     270000.0    3.40    3.00   93.0   24.0  213070.0  2001      9    5\n",
       "3      97000.0    2.97    2.47  101.0   26.0  122659.0  2000      1   12\n",
       "4      59000.0    2.93    2.71   96.0   25.0   60320.0  2011      8   19\n",
       "...        ...     ...     ...    ...    ...       ...   ...    ...  ...\n",
       "2752  254000.0    3.40    2.02  113.0   30.0  255179.0  2012      4   20\n",
       "2753   91000.0    2.89    2.52   99.0   26.0  144631.0  2002      7   12\n",
       "2754       NaN    2.83    2.15  106.0   28.0   40384.0  2007      5   25\n",
       "2755   44000.0    2.95    2.52  100.0   26.0   55931.0  2002      4   12\n",
       "2756  128000.0    2.98    2.96   92.0   24.0   44370.0  2003      6   13\n",
       "\n",
       "[2757 rows x 9 columns]"
      ]
     },
     "execution_count": 29,
     "metadata": {},
     "output_type": "execute_result"
    }
   ],
   "source": [
    "train"
   ]
  },
  {
   "cell_type": "code",
   "execution_count": 30,
   "metadata": {},
   "outputs": [
    {
     "data": {
      "text/plain": [
       "Text(0.5, 1.0, 'price vs purchase_year')"
      ]
     },
     "execution_count": 30,
     "metadata": {},
     "output_type": "execute_result"
    },
    {
     "data": {
      "image/png": "[encoded data removed]",
      "text/plain": [
       "<Figure size 432x288 with 1 Axes>"
      ]
     },
     "metadata": {
      "needs_background": "light"
     },
     "output_type": "display_data"
    }
   ],
   "source": [
    "train.groupby('year')['price'].median().plot()\n",
    "plt.xlabel('purchase_year')\n",
    "plt.ylabel('Median price')\n",
    "plt.title(\"price vs purchase_year\")"
   ]
  },
  {
   "cell_type": "code",
   "execution_count": 31,
   "metadata": {},
   "outputs": [
    {
     "data": {
      "text/plain": [
       "Text(0.5, 1.0, 'price vs purchase_month')"
      ]
     },
     "execution_count": 31,
     "metadata": {},
     "output_type": "execute_result"
    },
    {
     "data": {
      "image/png": "[encoded data removed]",
      "text/plain": [
       "<Figure size 432x288 with 1 Axes>"
      ]
     },
     "metadata": {
      "needs_background": "light"
     },
     "output_type": "display_data"
    }
   ],
   "source": [
    "train.groupby('month')['price'].median().plot()\n",
    "plt.xlabel('purchase_month')\n",
    "plt.ylabel('Median price')\n",
    "plt.title(\"price vs purchase_month\")"
   ]
  },
  {
   "cell_type": "code",
   "execution_count": 32,
   "metadata": {},
   "outputs": [
    {
     "data": {
      "text/plain": [
       "Text(0.5, 1.0, 'price vs purchase_day')"
      ]
     },
     "execution_count": 32,
     "metadata": {},
     "output_type": "execute_result"
    },
    {
     "data": {
      "image/png": "[encoded data removed]",
      "text/plain": [
       "<Figure size 432x288 with 1 Axes>"
      ]
     },
     "metadata": {
      "needs_background": "light"
     },
     "output_type": "display_data"
    }
   ],
   "source": [
    "train.groupby('day')['price'].median().plot()\n",
    "plt.xlabel('purchase_day')\n",
    "plt.ylabel('Median price')\n",
    "plt.title(\"price vs purchase_day\")"
   ]
  },
  {
   "cell_type": "markdown",
   "metadata": {},
   "source": [
    "## check Outliers"
   ]
  },
  {
   "cell_type": "code",
   "execution_count": 33,
   "metadata": {},
   "outputs": [
    {
     "data": {
      "image/png": "[encoded data removed]",
      "text/plain": [
       "<Figure size 432x288 with 1 Axes>"
      ]
     },
     "metadata": {
      "needs_background": "light"
     },
     "output_type": "display_data"
    },
    {
     "data": {
      "image/png": "[encoded data removed]",
      "text/plain": [
       "<Figure size 432x288 with 1 Axes>"
      ]
     },
     "metadata": {
      "needs_background": "light"
     },
     "output_type": "display_data"
    },
    {
     "data": {
      "image/png": "[encoded data removed]",
      "text/plain": [
       "<Figure size 432x288 with 1 Axes>"
      ]
     },
     "metadata": {
      "needs_background": "light"
     },
     "output_type": "display_data"
    },
    {
     "data": {
      "image/png": "[encoded data removed]",
      "text/plain": [
       "<Figure size 432x288 with 1 Axes>"
      ]
     },
     "metadata": {
      "needs_background": "light"
     },
     "output_type": "display_data"
    }
   ],
   "source": [
    "for feature in continuous_feature:\n",
    "    data=train.copy()\n",
    "    if 0 in data[feature].unique():\n",
    "        pass\n",
    "    if feature == 'cost':\n",
    "        data[feature]=np.log(data[feature])\n",
    "        data.boxplot(column=feature)\n",
    "        plt.ylabel(feature)\n",
    "        plt.title(feature)\n",
    "        plt.show()  \n",
    "    else:\n",
    "        data.boxplot(column=feature)\n",
    "        plt.ylabel(feature)\n",
    "        plt.title(feature)\n",
    "        plt.show()"
   ]
  },
  {
   "cell_type": "code",
   "execution_count": 34,
   "metadata": {},
   "outputs": [
    {
     "name": "stdout",
     "output_type": "stream",
     "text": [
      "The feature is product_type and number of categories are 64\n",
      "The feature is product_level and number of categories are 5\n",
      "The feature is maker and number of categories are 772\n",
      "The feature is ingredient and number of categories are 2435\n"
     ]
    }
   ],
   "source": [
    "for feature in categorical_features:\n",
    "    print('The feature is {} and number of categories are {}'.format(feature,len(train_raw[feature].unique())))"
   ]
  },
  {
   "cell_type": "code",
   "execution_count": 35,
   "metadata": {},
   "outputs": [
    {
     "data": {
      "image/png": "[encoded data removed]",
      "text/plain": [
       "<Figure size 432x288 with 1 Axes>"
      ]
     },
     "metadata": {
      "needs_background": "light"
     },
     "output_type": "display_data"
    },
    {
     "data": {
      "image/png": "[encoded data removed]",
      "text/plain": [
       "<Figure size 432x288 with 1 Axes>"
      ]
     },
     "metadata": {
      "needs_background": "light"
     },
     "output_type": "display_data"
    }
   ],
   "source": [
    "## Find out the relationship between categorical variable and dependent feature price\n",
    "for feature in categorical_features:\n",
    "    data=train_raw.copy()\n",
    "    data['price'] = train['price']\n",
    "    if feature not in ['ingredient','maker']:\n",
    "        data.groupby(feature)['price'].median().plot.bar()\n",
    "        plt.xlabel(feature)\n",
    "        plt.ylabel('price')\n",
    "        plt.title(feature)\n",
    "        plt.show()"
   ]
  },
  {
   "cell_type": "code",
   "execution_count": 36,
   "metadata": {},
   "outputs": [],
   "source": [
    "from pandas import Series, DataFrame\n",
    "\n",
    "maker_split = train_raw['maker'].str.split(',').apply(Series, 1).stack()\n",
    "maker_split.index = maker_split.index.droplevel(-1)\n",
    "maker_split.name = 'maker'"
   ]
  },
  {
   "cell_type": "code",
   "execution_count": 37,
   "metadata": {},
   "outputs": [],
   "source": [
    "maker_ana = train[['price']].join(maker_split)"
   ]
  },
  {
   "cell_type": "code",
   "execution_count": 38,
   "metadata": {},
   "outputs": [
    {
     "data": {
      "text/plain": [
       "0       M14122\n",
       "1          NaN\n",
       "2          NaN\n",
       "3          NaN\n",
       "4       M14124\n",
       "         ...  \n",
       "2752    M14261\n",
       "2753    M14904\n",
       "2754    M14578\n",
       "2755    M14341\n",
       "2756       NaN\n",
       "Name: maker, Length: 2851, dtype: object"
      ]
     },
     "execution_count": 38,
     "metadata": {},
     "output_type": "execute_result"
    }
   ],
   "source": [
    "maker_ana.maker"
   ]
  },
  {
   "cell_type": "code",
   "execution_count": null,
   "metadata": {},
   "outputs": [],
   "source": []
  },
  {
   "cell_type": "code",
   "execution_count": null,
   "metadata": {},
   "outputs": [],
   "source": []
  },
  {
   "cell_type": "code",
   "execution_count": null,
   "metadata": {},
   "outputs": [],
   "source": []
  },
  {
   "cell_type": "code",
   "execution_count": null,
   "metadata": {},
   "outputs": [],
   "source": []
  },
  {
   "cell_type": "markdown",
   "metadata": {},
   "source": [
    "# 2. Feature Engineering"
   ]
  },
  {
   "cell_type": "code",
   "execution_count": 39,
   "metadata": {},
   "outputs": [
    {
     "name": "stdout",
     "output_type": "stream",
     "text": [
      "cost: 0.3029% missing value\n",
      "weight: 0.0004% missing value\n",
      "height: 0.0004% missing value\n",
      "width: 0.0004% missing value\n",
      "depth: 0.0004% missing value\n"
     ]
    }
   ],
   "source": [
    "## check for numerical variables the contains missing values\n",
    "numerical_with_nan=[feature for feature in train.columns if train[feature].isnull().sum()>0 and feature not in ['price']]\n",
    "\n",
    "## print the numerical nan variables and percentage of missing values\n",
    "\n",
    "for feature in numerical_with_nan:\n",
    "    print(\"{}: {}% missing value\".format(feature,np.around(train[feature].isnull().mean(),4)))"
   ]
  },
  {
   "cell_type": "code",
   "execution_count": 40,
   "metadata": {},
   "outputs": [
    {
     "data": {
      "text/plain": [
       "cost      0\n",
       "weight    0\n",
       "height    0\n",
       "width     0\n",
       "depth     0\n",
       "dtype: int64"
      ]
     },
     "execution_count": 40,
     "metadata": {},
     "output_type": "execute_result"
    }
   ],
   "source": [
    "## Replacing the numerical Missing Values\n",
    "\n",
    "for feature in numerical_with_nan:\n",
    "    ## replace by using median since there are outliers\n",
    "    median_value=train[feature].median()\n",
    "    train[feature].fillna(median_value,inplace=True)\n",
    "    \n",
    "train[numerical_with_nan].isnull().sum()   "
   ]
  },
  {
   "cell_type": "code",
   "execution_count": 41,
   "metadata": {},
   "outputs": [
    {
     "name": "stdout",
     "output_type": "stream",
     "text": [
      "<class 'pandas.core.frame.DataFrame'>\n",
      "RangeIndex: 2757 entries, 0 to 2756\n",
      "Data columns (total 9 columns):\n",
      " #   Column  Non-Null Count  Dtype  \n",
      "---  ------  --------------  -----  \n",
      " 0   cost    2757 non-null   float64\n",
      " 1   weight  2757 non-null   float64\n",
      " 2   height  2757 non-null   float64\n",
      " 3   width   2757 non-null   float64\n",
      " 4   depth   2757 non-null   float64\n",
      " 5   price   2757 non-null   float64\n",
      " 6   year    2757 non-null   int64  \n",
      " 7   month   2757 non-null   int64  \n",
      " 8   day     2757 non-null   int64  \n",
      "dtypes: float64(6), int64(3)\n",
      "memory usage: 194.0 KB\n"
     ]
    }
   ],
   "source": [
    "train.info()"
   ]
  },
  {
   "cell_type": "markdown",
   "metadata": {},
   "source": [
    "### Categorical features"
   ]
  },
  {
   "cell_type": "code",
   "execution_count": 42,
   "metadata": {},
   "outputs": [
    {
     "name": "stdout",
     "output_type": "stream",
     "text": [
      "maker: 0.2728% missing value\n",
      "ingredient: 0.0794% missing value\n"
     ]
    }
   ],
   "source": [
    "## check for categorical variables the contains missing values\n",
    "categorical_with_nan=[feature for feature in train_raw.columns if train_raw[feature].isnull().sum()>0 and feature not in train.columns]\n",
    "\n",
    "## print the categorical nan variables and percentage of missing values\n",
    "\n",
    "for feature in categorical_with_nan:\n",
    "    print(\"{}: {}% missing value\".format(feature,np.around(train_raw[feature].isnull().mean(),4)))"
   ]
  },
  {
   "cell_type": "code",
   "execution_count": 43,
   "metadata": {},
   "outputs": [
    {
     "data": {
      "text/plain": [
       "0    IN732638\n",
       "dtype: object"
      ]
     },
     "execution_count": 43,
     "metadata": {},
     "output_type": "execute_result"
    }
   ],
   "source": [
    "train_raw['maker'].mode()\n",
    "train_raw['ingredient'].mode()"
   ]
  },
  {
   "cell_type": "markdown",
   "metadata": {},
   "source": [
    "### 'maker'"
   ]
  },
  {
   "cell_type": "code",
   "execution_count": 44,
   "metadata": {},
   "outputs": [],
   "source": [
    "train = train.join(train_raw[['product_type','product_level','maker','ingredient']]) "
   ]
  },
  {
   "cell_type": "code",
   "execution_count": 45,
   "metadata": {},
   "outputs": [],
   "source": [
    "maker = train.maker.value_counts().to_dict()"
   ]
  },
  {
   "cell_type": "code",
   "execution_count": 46,
   "metadata": {},
   "outputs": [
    {
     "data": {
      "text/plain": [
       "{'M14346': 15,\n",
       " 'M14196': 14,\n",
       " 'M14163': 13,\n",
       " 'M14170': 13,\n",
       " 'M14313': 12,\n",
       " 'M14427': 12,\n",
       " 'M14164': 11,\n",
       " 'M14565': 10,\n",
       " 'M14505': 10,\n",
       " 'M14216': 10,\n",
       " 'M14218': 9,\n",
       " 'M14457': 9,\n",
       " 'M14184': 9,\n",
       " 'M14128': 9,\n",
       " 'M14743': 9,\n",
       " 'M14319': 9,\n",
       " 'M14149': 8,\n",
       " 'M14188': 8,\n",
       " 'M14209': 8,\n",
       " 'M14464': 8,\n",
       " 'M14206': 8,\n",
       " 'M14273': 8,\n",
       " 'M14205': 8,\n",
       " 'M14504': 8,\n",
       " 'M14441': 8,\n",
       " 'M14126': 8,\n",
       " 'M14312': 8,\n",
       " 'M14253': 8,\n",
       " 'M14283': 8,\n",
       " 'M14664': 8,\n",
       " 'M14286': 8,\n",
       " 'M14136': 7,\n",
       " 'M14551': 7,\n",
       " 'M14315': 7,\n",
       " 'M14545': 7,\n",
       " 'M14159': 7,\n",
       " 'M14211': 7,\n",
       " 'M14298': 7,\n",
       " 'M14166': 7,\n",
       " 'M14361': 7,\n",
       " 'M14538': 7,\n",
       " 'M14582': 7,\n",
       " 'M14241': 7,\n",
       " 'M14245': 7,\n",
       " 'M14156': 7,\n",
       " 'M14419': 7,\n",
       " 'M14478': 7,\n",
       " 'M14317': 7,\n",
       " 'M14122': 7,\n",
       " 'M14291': 7,\n",
       " 'M14225': 6,\n",
       " 'M14150': 6,\n",
       " 'M14257': 6,\n",
       " 'M14367': 6,\n",
       " 'M14322': 6,\n",
       " 'M14325': 6,\n",
       " 'M14362': 6,\n",
       " 'M14141': 6,\n",
       " 'M14536': 6,\n",
       " 'M14410': 6,\n",
       " 'M14232': 6,\n",
       " 'M14289': 6,\n",
       " 'M14324': 6,\n",
       " 'M14172': 6,\n",
       " 'M14455': 6,\n",
       " 'M14295': 6,\n",
       " 'M14287': 6,\n",
       " 'M14261': 6,\n",
       " 'M14143': 6,\n",
       " 'M14340': 6,\n",
       " 'M14145': 6,\n",
       " 'M14242': 6,\n",
       " 'M14393': 6,\n",
       " 'M14334': 6,\n",
       " 'M14486': 6,\n",
       " 'M14643': 5,\n",
       " 'M14237': 5,\n",
       " 'M14323': 5,\n",
       " 'M14207': 5,\n",
       " 'M14191': 5,\n",
       " 'M14194': 5,\n",
       " 'M14161': 5,\n",
       " 'M14424': 5,\n",
       " 'M14347': 5,\n",
       " 'M14750': 5,\n",
       " 'M14462': 5,\n",
       " 'M14383': 5,\n",
       " 'M14409': 5,\n",
       " 'M14422': 5,\n",
       " 'M14244': 5,\n",
       " 'M14399': 5,\n",
       " 'M14398': 5,\n",
       " 'M14579': 5,\n",
       " 'M14496': 5,\n",
       " 'M14417': 5,\n",
       " 'M14223': 5,\n",
       " 'M14479': 5,\n",
       " 'M14483': 5,\n",
       " 'M14373,M14374': 5,\n",
       " 'M14247': 5,\n",
       " 'M14314': 5,\n",
       " 'M14221': 5,\n",
       " 'M14227': 5,\n",
       " 'M14458': 5,\n",
       " 'M14228': 5,\n",
       " 'M14226': 5,\n",
       " 'M14543': 5,\n",
       " 'M14381': 5,\n",
       " 'M14475': 5,\n",
       " 'M14169': 5,\n",
       " 'M14231': 5,\n",
       " 'M14432': 5,\n",
       " 'M14124': 5,\n",
       " 'M14214': 5,\n",
       " 'M14180': 5,\n",
       " 'M14357': 5,\n",
       " 'M14689': 5,\n",
       " 'M14181': 5,\n",
       " 'M14256': 5,\n",
       " 'M14229': 5,\n",
       " 'M14791': 5,\n",
       " 'M14549': 5,\n",
       " 'M14495': 5,\n",
       " 'M14310': 5,\n",
       " 'M14657': 5,\n",
       " 'M14151': 4,\n",
       " 'M14590': 4,\n",
       " 'M14400': 4,\n",
       " 'M14131': 4,\n",
       " 'M14535': 4,\n",
       " 'M14341': 4,\n",
       " 'M14374': 4,\n",
       " 'M14499': 4,\n",
       " 'M14402': 4,\n",
       " 'M14540,M14541': 4,\n",
       " 'M14352': 4,\n",
       " 'M14618': 4,\n",
       " 'M14623': 4,\n",
       " 'M14647': 4,\n",
       " 'M14433,M14434': 4,\n",
       " 'M14449': 4,\n",
       " 'M14271': 4,\n",
       " 'M14448': 4,\n",
       " 'M14127': 4,\n",
       " 'M14609': 4,\n",
       " 'M14537': 4,\n",
       " 'M14692': 4,\n",
       " 'M14405': 4,\n",
       " 'M14596': 4,\n",
       " 'M14152': 4,\n",
       " 'M14477,M14452': 4,\n",
       " 'M14129': 4,\n",
       " 'M14299': 4,\n",
       " 'M14501': 4,\n",
       " 'M14425': 4,\n",
       " 'M14820': 4,\n",
       " 'M14370': 4,\n",
       " 'M14416': 4,\n",
       " 'M14775': 4,\n",
       " 'M14731': 4,\n",
       " 'M14224': 4,\n",
       " 'M14301': 4,\n",
       " 'M14557': 4,\n",
       " 'M14208': 4,\n",
       " 'M14598': 4,\n",
       " 'M14382': 4,\n",
       " 'M14583': 4,\n",
       " 'M14673': 4,\n",
       " 'M14832': 4,\n",
       " 'M14293': 4,\n",
       " 'M14762': 4,\n",
       " 'M14575': 4,\n",
       " 'M14412': 4,\n",
       " 'M14814': 4,\n",
       " 'M14125': 4,\n",
       " 'M14249': 4,\n",
       " 'M14792': 4,\n",
       " 'M14140': 4,\n",
       " 'M14265': 4,\n",
       " 'M14602': 4,\n",
       " 'M14200': 4,\n",
       " 'M14389': 4,\n",
       " 'M14420': 4,\n",
       " 'M14655': 4,\n",
       " 'M14576': 4,\n",
       " 'M14674': 4,\n",
       " 'M14274': 4,\n",
       " 'M14904': 4,\n",
       " 'M14514': 4,\n",
       " 'M14566': 4,\n",
       " 'M14210': 4,\n",
       " 'M14695': 4,\n",
       " 'M14634': 4,\n",
       " 'M14426': 4,\n",
       " 'M14296': 4,\n",
       " 'M14497': 4,\n",
       " 'M14282': 4,\n",
       " 'M14183': 4,\n",
       " 'M14306': 4,\n",
       " 'M14699': 4,\n",
       " 'M14558': 4,\n",
       " 'M14811': 3,\n",
       " 'M14801': 3,\n",
       " 'M14924': 3,\n",
       " 'M14506': 3,\n",
       " 'M14567': 3,\n",
       " 'M14311': 3,\n",
       " 'M14258': 3,\n",
       " 'M14418': 3,\n",
       " 'M14366': 3,\n",
       " 'M14685': 3,\n",
       " 'M14808': 3,\n",
       " 'M14302': 3,\n",
       " 'M14612': 3,\n",
       " 'M14563': 3,\n",
       " 'M14369': 3,\n",
       " 'M14474': 3,\n",
       " 'M14345': 3,\n",
       " 'M14519': 3,\n",
       " 'M14531': 3,\n",
       " 'M14190': 3,\n",
       " 'M14700': 3,\n",
       " 'M14358': 3,\n",
       " 'M14331': 3,\n",
       " 'M14604': 3,\n",
       " 'M14450': 3,\n",
       " 'M14637': 3,\n",
       " 'M14451': 3,\n",
       " 'M14493': 3,\n",
       " 'M14414': 3,\n",
       " 'M14236': 3,\n",
       " 'M14203': 3,\n",
       " 'M14413': 3,\n",
       " 'M14260': 3,\n",
       " 'M14525': 3,\n",
       " 'M14377': 3,\n",
       " 'M14332': 3,\n",
       " 'M14335': 3,\n",
       " 'M14606': 3,\n",
       " 'M14267': 3,\n",
       " 'M14562': 3,\n",
       " 'M14423': 3,\n",
       " 'M14724': 3,\n",
       " 'M14173': 3,\n",
       " 'M14415': 3,\n",
       " 'M14578': 3,\n",
       " 'M14148': 3,\n",
       " 'M14248': 3,\n",
       " 'M14798': 3,\n",
       " 'M14308': 3,\n",
       " 'M14763': 3,\n",
       " 'M14435': 3,\n",
       " 'M14294': 3,\n",
       " 'M14137': 3,\n",
       " 'M14492': 3,\n",
       " 'M14407': 3,\n",
       " 'M14277': 3,\n",
       " 'M14439': 3,\n",
       " 'M14629': 3,\n",
       " 'M14603': 3,\n",
       " 'M14238': 3,\n",
       " 'M14375': 3,\n",
       " 'M14440': 3,\n",
       " 'M14459': 3,\n",
       " 'M14365': 3,\n",
       " 'M14461': 3,\n",
       " 'M14769': 3,\n",
       " 'M14528': 3,\n",
       " 'M14349': 3,\n",
       " 'M14521': 3,\n",
       " 'M14429': 3,\n",
       " 'M14292': 3,\n",
       " 'M14269': 3,\n",
       " 'M14784': 3,\n",
       " 'M14723': 3,\n",
       " 'M14284': 3,\n",
       " 'M14649': 3,\n",
       " 'M14465': 3,\n",
       " 'M14833': 3,\n",
       " 'M14368': 3,\n",
       " 'M14182': 3,\n",
       " 'M14633': 3,\n",
       " 'M14133': 3,\n",
       " 'M14701': 3,\n",
       " 'M14721': 3,\n",
       " 'M14278': 3,\n",
       " 'M14516': 2,\n",
       " 'M14619': 2,\n",
       " 'M14430': 2,\n",
       " 'M14880': 2,\n",
       " 'M14572': 2,\n",
       " 'M14270': 2,\n",
       " 'M14259': 2,\n",
       " 'M14601': 2,\n",
       " 'M14584': 2,\n",
       " 'M14719': 2,\n",
       " 'M14473': 2,\n",
       " 'M14684': 2,\n",
       " 'M14827': 2,\n",
       " 'M14651': 2,\n",
       " 'M14805,M14806': 2,\n",
       " 'M14569': 2,\n",
       " 'M14342': 2,\n",
       " 'M14212': 2,\n",
       " 'M14185': 2,\n",
       " 'M14404': 2,\n",
       " 'M14717': 2,\n",
       " 'M14391': 2,\n",
       " 'M14240': 2,\n",
       " 'M14388': 2,\n",
       " 'M14251,M14709': 2,\n",
       " 'M14907': 2,\n",
       " 'M14276': 2,\n",
       " 'M14467,M14468': 2,\n",
       " 'M14522': 2,\n",
       " 'M14193,M14194': 2,\n",
       " 'M14130': 2,\n",
       " 'M14175': 2,\n",
       " 'M14553': 2,\n",
       " 'M14288': 2,\n",
       " 'M14825': 2,\n",
       " 'M14799': 2,\n",
       " 'M14616': 2,\n",
       " 'M14158': 2,\n",
       " 'M14165': 2,\n",
       " 'M14629,M14524': 2,\n",
       " 'M14591': 2,\n",
       " 'M14592': 2,\n",
       " 'M14740': 2,\n",
       " 'M14443': 2,\n",
       " 'M14866': 2,\n",
       " 'M14219,M14220': 2,\n",
       " 'M14243': 2,\n",
       " 'M14687': 2,\n",
       " 'M14500': 2,\n",
       " 'M14507': 2,\n",
       " 'M14201': 2,\n",
       " 'M14865': 2,\n",
       " 'M14864': 2,\n",
       " 'M14275': 2,\n",
       " 'M14625,M14626': 2,\n",
       " 'M14816': 2,\n",
       " 'M14490': 2,\n",
       " 'M14821': 2,\n",
       " 'M14681': 2,\n",
       " 'M14378': 2,\n",
       " 'M14530': 2,\n",
       " 'M14498': 2,\n",
       " 'M14585': 2,\n",
       " 'M14838': 2,\n",
       " 'M14408': 2,\n",
       " 'M14678': 2,\n",
       " 'M14571': 2,\n",
       " 'M14197': 2,\n",
       " 'M14503': 2,\n",
       " 'M14401': 2,\n",
       " 'M14815': 2,\n",
       " 'M14193': 2,\n",
       " 'M14144': 2,\n",
       " 'M14239': 2,\n",
       " 'M14613': 2,\n",
       " 'M14195': 2,\n",
       " 'M14189': 2,\n",
       " 'M14482': 2,\n",
       " 'M14676': 2,\n",
       " 'M14829': 2,\n",
       " 'M14873': 2,\n",
       " 'M14780': 2,\n",
       " 'M14548': 2,\n",
       " 'M14945': 2,\n",
       " 'M14520': 2,\n",
       " 'M14179': 2,\n",
       " 'M14147': 2,\n",
       " 'M14809': 2,\n",
       " 'M14656': 2,\n",
       " 'M14646': 2,\n",
       " 'M14431': 2,\n",
       " 'M14146': 2,\n",
       " 'M14132': 2,\n",
       " 'M14542': 2,\n",
       " 'M14760': 2,\n",
       " 'M14764,M14765': 2,\n",
       " 'M14554': 2,\n",
       " 'M14339': 2,\n",
       " 'M14250': 2,\n",
       " 'M14570,M14363': 2,\n",
       " 'M14386': 2,\n",
       " 'M14395': 2,\n",
       " 'M14638': 2,\n",
       " 'M14856': 2,\n",
       " 'M14608': 2,\n",
       " 'M14777': 2,\n",
       " 'M14230': 2,\n",
       " 'M14552': 2,\n",
       " 'M14252': 2,\n",
       " 'M14842': 2,\n",
       " 'M14517': 2,\n",
       " 'M14803': 2,\n",
       " 'M14927': 2,\n",
       " 'M14254': 2,\n",
       " 'M14333': 2,\n",
       " 'M14336,M14337': 2,\n",
       " 'M14489': 2,\n",
       " 'M14650': 2,\n",
       " 'M14648': 2,\n",
       " 'M14300': 2,\n",
       " 'M14397': 2,\n",
       " 'M14772': 2,\n",
       " 'M14481': 2,\n",
       " 'M14167': 2,\n",
       " 'M14328': 2,\n",
       " 'M14659': 2,\n",
       " 'M14785': 2,\n",
       " 'M14204': 2,\n",
       " 'M14233,M14234': 2,\n",
       " 'M14316': 2,\n",
       " 'M14445': 2,\n",
       " 'M14155': 2,\n",
       " 'M14686': 2,\n",
       " 'M14617': 2,\n",
       " 'M14782': 1,\n",
       " 'M14518': 1,\n",
       " 'M14879': 1,\n",
       " 'M14795': 1,\n",
       " 'M14859': 1,\n",
       " 'M14968': 1,\n",
       " 'M14556': 1,\n",
       " 'M14845': 1,\n",
       " 'M14355': 1,\n",
       " 'M14773': 1,\n",
       " 'M14761': 1,\n",
       " 'M14738': 1,\n",
       " 'M14663': 1,\n",
       " 'M14594': 1,\n",
       " 'M14251,M14709,M14710': 1,\n",
       " 'M14677': 1,\n",
       " 'M14595': 1,\n",
       " 'M14696,M14697': 1,\n",
       " 'M14955': 1,\n",
       " 'M14744,M14501,M14257,M14745,M14202,M14746,M14747,M14595,M14686,M14206': 1,\n",
       " 'M14766': 1,\n",
       " 'M14428': 1,\n",
       " 'M14753': 1,\n",
       " 'M14360': 1,\n",
       " 'M14178': 1,\n",
       " 'M14480': 1,\n",
       " 'M15009': 1,\n",
       " 'M14385': 1,\n",
       " 'M14318': 1,\n",
       " 'M14802': 1,\n",
       " 'M14714': 1,\n",
       " 'M14215': 1,\n",
       " 'M14662': 1,\n",
       " 'M14405,M14585,M14710': 1,\n",
       " 'M14967': 1,\n",
       " 'M14442': 1,\n",
       " 'M14329': 1,\n",
       " 'M14165,M14387': 1,\n",
       " 'M14487': 1,\n",
       " 'M14969': 1,\n",
       " 'M14217': 1,\n",
       " 'M14484': 1,\n",
       " 'M14739': 1,\n",
       " 'M15008': 1,\n",
       " 'M14727': 1,\n",
       " 'M14961': 1,\n",
       " 'M14527': 1,\n",
       " 'M14887': 1,\n",
       " 'M14844': 1,\n",
       " 'M14394': 1,\n",
       " 'M14759': 1,\n",
       " 'M14621': 1,\n",
       " 'M14715': 1,\n",
       " 'M14875': 1,\n",
       " 'M14470,M14266': 1,\n",
       " 'M14957': 1,\n",
       " 'M14788,M14559': 1,\n",
       " 'M14718': 1,\n",
       " 'M14980': 1,\n",
       " 'M14269,M14559': 1,\n",
       " 'M14964': 1,\n",
       " 'M14920': 1,\n",
       " 'M14620': 1,\n",
       " 'M14564,M14565': 1,\n",
       " 'M14515': 1,\n",
       " 'M14199': 1,\n",
       " 'M14976,M14977': 1,\n",
       " 'M14246': 1,\n",
       " 'M14836': 1,\n",
       " 'M14591,M14710': 1,\n",
       " 'M14948': 1,\n",
       " 'M14853': 1,\n",
       " 'M14581': 1,\n",
       " 'M14728': 1,\n",
       " 'M14876': 1,\n",
       " 'M14882,M14883': 1,\n",
       " 'M14737': 1,\n",
       " 'M15011': 1,\n",
       " 'M14524': 1,\n",
       " 'M14154': 1,\n",
       " 'M14928': 1,\n",
       " 'M14330': 1,\n",
       " 'M15001': 1,\n",
       " 'M14320': 1,\n",
       " 'M14749': 1,\n",
       " 'M14266': 1,\n",
       " 'M14868': 1,\n",
       " 'M14652': 1,\n",
       " 'M14574': 1,\n",
       " 'M14819': 1,\n",
       " 'M14264': 1,\n",
       " 'M14779': 1,\n",
       " 'M15007': 1,\n",
       " 'M14965': 1,\n",
       " 'M15010': 1,\n",
       " 'M14990': 1,\n",
       " 'M14187': 1,\n",
       " 'M14379,M14380': 1,\n",
       " 'M14321': 1,\n",
       " 'M14444': 1,\n",
       " 'M14344': 1,\n",
       " 'M14851': 1,\n",
       " 'M14157': 1,\n",
       " 'M14589': 1,\n",
       " 'M14468': 1,\n",
       " 'M14348': 1,\n",
       " 'M14742': 1,\n",
       " 'M14807': 1,\n",
       " 'M14962': 1,\n",
       " 'M14992': 1,\n",
       " 'M14392': 1,\n",
       " 'M14690': 1,\n",
       " 'M14916,M14917': 1,\n",
       " 'M14406': 1,\n",
       " 'M14982': 1,\n",
       " 'M14754': 1,\n",
       " 'M14834': 1,\n",
       " 'M14946': 1,\n",
       " 'M14561': 1,\n",
       " 'M14732,M14733': 1,\n",
       " 'M14752': 1,\n",
       " 'M14705': 1,\n",
       " 'M14988': 1,\n",
       " 'M14952': 1,\n",
       " 'M14854': 1,\n",
       " 'M14452': 1,\n",
       " 'M14905': 1,\n",
       " 'M14599': 1,\n",
       " 'M14138,M14139': 1,\n",
       " 'M14471,M14472': 1,\n",
       " 'M14624': 1,\n",
       " 'M14463': 1,\n",
       " 'M14986': 1,\n",
       " 'M14639,M14738,M14550': 1,\n",
       " 'M14134,M14135': 1,\n",
       " 'M14466': 1,\n",
       " 'M14707': 1,\n",
       " 'M14438': 1,\n",
       " 'M14776': 1,\n",
       " 'M14688': 1,\n",
       " 'M14885': 1,\n",
       " 'M14720': 1,\n",
       " 'M14886': 1,\n",
       " 'M14511': 1,\n",
       " 'M14281': 1,\n",
       " 'M14607': 1,\n",
       " 'M14372': 1,\n",
       " 'M14534': 1,\n",
       " 'M14460': 1,\n",
       " 'M14910': 1,\n",
       " 'M14359': 1,\n",
       " 'M14194,M14193': 1,\n",
       " 'M14725': 1,\n",
       " 'M14491': 1,\n",
       " 'M14828': 1,\n",
       " 'M14693,M14694': 1,\n",
       " 'M14757': 1,\n",
       " 'M14824': 1,\n",
       " 'M14610,M14611': 1,\n",
       " 'M14285': 1,\n",
       " 'M14837': 1,\n",
       " 'M14711': 1,\n",
       " 'M14526': 1,\n",
       " 'M14577': 1,\n",
       " 'M14903': 1,\n",
       " 'M14469': 1,\n",
       " 'M14847': 1,\n",
       " 'M14908': 1,\n",
       " 'M14251,M14252': 1,\n",
       " 'M14279': 1,\n",
       " 'M14936': 1,\n",
       " 'M14888': 1,\n",
       " 'M14778': 1,\n",
       " 'M14751': 1,\n",
       " 'M14971,M14972': 1,\n",
       " 'M14974': 1,\n",
       " 'M14923': 1,\n",
       " 'M14454': 1,\n",
       " 'M14704': 1,\n",
       " 'M14186': 1,\n",
       " 'M14790': 1,\n",
       " 'M14280': 1,\n",
       " 'M14987': 1,\n",
       " 'M14229,M14161': 1,\n",
       " 'M14849': 1,\n",
       " 'M14364': 1,\n",
       " 'M14635': 1,\n",
       " 'M14666,M14667': 1,\n",
       " 'M14411': 1,\n",
       " 'M14213': 1,\n",
       " 'M14510': 1,\n",
       " 'M14830': 1,\n",
       " 'M14641': 1,\n",
       " 'M14560': 1,\n",
       " 'M14754,M15003': 1,\n",
       " 'M14644,M14645': 1,\n",
       " 'M14436,M14437': 1,\n",
       " 'M14813': 1,\n",
       " 'M14614': 1,\n",
       " 'M14822': 1,\n",
       " 'M14698': 1,\n",
       " 'M14297': 1,\n",
       " 'M15012': 1,\n",
       " 'M14176': 1,\n",
       " 'M14959': 1,\n",
       " 'M14794': 1,\n",
       " 'M14951': 1,\n",
       " 'M14168': 1,\n",
       " 'M14564': 1,\n",
       " 'M14953': 1,\n",
       " 'M14597': 1,\n",
       " 'M14846': 1,\n",
       " 'M14937': 1,\n",
       " 'M14877': 1,\n",
       " 'M14533': 1,\n",
       " 'M14354,M14719': 1,\n",
       " 'M14202': 1,\n",
       " 'M14755': 1,\n",
       " 'M14702': 1,\n",
       " 'M14950': 1,\n",
       " 'M14476': 1,\n",
       " 'M14305': 1,\n",
       " 'M14160': 1,\n",
       " 'M14403': 1,\n",
       " 'M14174': 1,\n",
       " 'M14935': 1,\n",
       " 'M14488': 1,\n",
       " 'M14840': 1,\n",
       " 'M14485': 1,\n",
       " 'M14861': 1,\n",
       " 'M15002': 1,\n",
       " 'M14153': 1,\n",
       " 'M14565,M14483': 1,\n",
       " 'M14993,M14994': 1,\n",
       " 'M14559': 1,\n",
       " 'M14782,M14848': 1,\n",
       " 'M15005': 1,\n",
       " 'M14165,M14550': 1,\n",
       " 'M14555': 1,\n",
       " 'M14303': 1,\n",
       " 'M14660': 1,\n",
       " 'M14857': 1,\n",
       " 'M14874': 1,\n",
       " 'M14826': 1,\n",
       " 'M14942': 1,\n",
       " 'M14796': 1,\n",
       " 'M14756': 1,\n",
       " 'M14142': 1,\n",
       " 'M14981': 1,\n",
       " 'M14817': 1,\n",
       " 'M14338': 1,\n",
       " 'M14897': 1,\n",
       " 'M14900': 1,\n",
       " 'M14850': 1,\n",
       " 'M14914': 1,\n",
       " 'M14978,M14979': 1,\n",
       " 'M14970': 1,\n",
       " 'M14263': 1,\n",
       " 'M14934': 1,\n",
       " 'M14627': 1,\n",
       " 'M14343': 1,\n",
       " 'M14933': 1,\n",
       " 'M14810': 1,\n",
       " 'M14665': 1,\n",
       " 'M14235': 1,\n",
       " 'M14680': 1,\n",
       " 'M14804': 1,\n",
       " 'M14958': 1,\n",
       " 'M14890': 1,\n",
       " 'M14911': 1,\n",
       " 'M14889': 1,\n",
       " 'M14512': 1,\n",
       " 'M14363': 1,\n",
       " 'M14843': 1,\n",
       " 'M14675': 1,\n",
       " 'M14568': 1,\n",
       " 'M14192': 1,\n",
       " 'M14198,M14199': 1,\n",
       " 'M14351': 1,\n",
       " 'M14639,M14996': 1,\n",
       " 'M14262': 1,\n",
       " 'M14546': 1,\n",
       " 'M14932': 1,\n",
       " 'M14975': 1,\n",
       " 'M14708,M14565': 1,\n",
       " 'M14588': 1,\n",
       " 'M14943': 1,\n",
       " 'M14572,M14573': 1,\n",
       " 'M15004': 1,\n",
       " 'M14805': 1,\n",
       " 'M14999': 1,\n",
       " 'M14587': 1,\n",
       " 'M14550': 1,\n",
       " 'M14789': 1,\n",
       " 'M14411,M14412': 1,\n",
       " 'M14255': 1,\n",
       " 'M14376': 1,\n",
       " 'M14453': 1,\n",
       " 'M14502': 1,\n",
       " 'M14622': 1,\n",
       " 'M14709': 1,\n",
       " 'M14947': 1,\n",
       " 'M14929': 1,\n",
       " 'M14371': 1,\n",
       " 'M14730': 1,\n",
       " 'M14632': 1,\n",
       " 'M14857,M14626': 1,\n",
       " 'M14781': 1,\n",
       " 'M14304': 1,\n",
       " 'M14858': 1,\n",
       " 'M14353,M14354': 1,\n",
       " 'M14636': 1,\n",
       " 'M14532': 1,\n",
       " 'M14661': 1,\n",
       " 'M14548,M14550': 1,\n",
       " 'M14930': 1,\n",
       " 'M14327': 1,\n",
       " 'M14222': 1,\n",
       " 'M14862': 1,\n",
       " 'M14869': 1,\n",
       " 'M14615,M14738': 1,\n",
       " 'M14326': 1,\n",
       " 'M14894': 1,\n",
       " 'M14446': 1,\n",
       " 'M14748': 1,\n",
       " 'M14272': 1,\n",
       " 'M14812': 1,\n",
       " 'M14989': 1,\n",
       " 'M14628': 1,\n",
       " 'M14350': 1,\n",
       " 'M14818': 1,\n",
       " 'M14931': 1,\n",
       " 'M14949': 1,\n",
       " 'M14878': 1,\n",
       " 'M14855': 1,\n",
       " 'M14852': 1,\n",
       " 'M14896': 1,\n",
       " 'M14670': 1,\n",
       " 'M14390': 1,\n",
       " 'M14171': 1,\n",
       " 'M14884': 1,\n",
       " 'M14984': 1,\n",
       " 'M14679': 1,\n",
       " 'M14940': 1,\n",
       " 'M14615': 1,\n",
       " 'M14944': 1,\n",
       " 'M14290': 1,\n",
       " 'M14895': 1,\n",
       " 'M14642': 1,\n",
       " 'M14767': 1,\n",
       " 'M14922': 1}"
      ]
     },
     "execution_count": 46,
     "metadata": {},
     "output_type": "execute_result"
    }
   ],
   "source": [
    "maker"
   ]
  },
  {
   "cell_type": "code",
   "execution_count": 47,
   "metadata": {},
   "outputs": [
    {
     "name": "stdout",
     "output_type": "stream",
     "text": [
      "['M14346', 'M14196', 'M14163', 'M14170', 'M14313', 'M14427', 'M14164', 'M14565', 'M14505', 'M14216']\n"
     ]
    }
   ],
   "source": [
    "first_10 = list(maker)[:10]\n",
    "print (first_10)"
   ]
  },
  {
   "cell_type": "code",
   "execution_count": 48,
   "metadata": {},
   "outputs": [],
   "source": [
    "# break up 'maker' and 'ingredient' to get the mode value to fill in nan values\n",
    "def breakup(x):\n",
    "    if type(x) == str:\n",
    "        parts = x.split(',')\n",
    "        return parts"
   ]
  },
  {
   "cell_type": "code",
   "execution_count": 49,
   "metadata": {},
   "outputs": [],
   "source": [
    "dict_maker = {}\n",
    "for maker in train[train.maker.notnull()].maker.map(breakup):\n",
    "    for m in maker:\n",
    "        if m in dict_maker.keys():\n",
    "            dict_maker[m] += 1\n",
    "        else:\n",
    "            dict_maker[m] = 1"
   ]
  },
  {
   "cell_type": "code",
   "execution_count": 50,
   "metadata": {},
   "outputs": [],
   "source": [
    "dict_maker = sorted(dict_maker.items(), key = lambda x: x[1], reverse = True)"
   ]
  },
  {
   "cell_type": "code",
   "execution_count": 51,
   "metadata": {},
   "outputs": [
    {
     "name": "stdout",
     "output_type": "stream",
     "text": [
      "[('M14346', 15), ('M14196', 14), ('M14163', 13), ('M14170', 13), ('M14565', 13), ('M14313', 12), ('M14427', 12), ('M14164', 11), ('M14216', 10), ('M14505', 10)]\n"
     ]
    }
   ],
   "source": [
    "first_ten = list(dict_maker)[:10]\n",
    "print (first_ten)"
   ]
  },
  {
   "cell_type": "code",
   "execution_count": 52,
   "metadata": {},
   "outputs": [
    {
     "name": "stdout",
     "output_type": "stream",
     "text": [
      "['M14346', 'M14196', 'M14163', 'M14170', 'M14565', 'M14313', 'M14427', 'M14164', 'M14216', 'M14505']\n"
     ]
    }
   ],
   "source": [
    "def Extract(lst): \n",
    "    return [item[0] for item in lst] \n",
    "      \n",
    "print(Extract(first_ten)) "
   ]
  },
  {
   "cell_type": "code",
   "execution_count": 53,
   "metadata": {},
   "outputs": [
    {
     "data": {
      "text/plain": [
       "['M14505',\n",
       " 'M14170',\n",
       " 'M14164',\n",
       " 'M14565',\n",
       " 'M14216',\n",
       " 'M14427',\n",
       " 'M14313',\n",
       " 'M14346',\n",
       " 'M14163',\n",
       " 'M14196']"
      ]
     },
     "execution_count": 53,
     "metadata": {},
     "output_type": "execute_result"
    }
   ],
   "source": [
    "list(set(Extract(first_ten)) & set(first_10))"
   ]
  },
  {
   "cell_type": "code",
   "execution_count": 54,
   "metadata": {},
   "outputs": [
    {
     "name": "stdout",
     "output_type": "stream",
     "text": [
      "True\n"
     ]
    }
   ],
   "source": [
    "print (set(Extract(first_ten)) == set(first_10))"
   ]
  },
  {
   "cell_type": "code",
   "execution_count": 55,
   "metadata": {},
   "outputs": [
    {
     "data": {
      "text/html": [
       "<div>\n",
       "<style scoped>\n",
       "    .dataframe tbody tr th:only-of-type {\n",
       "        vertical-align: middle;\n",
       "    }\n",
       "\n",
       "    .dataframe tbody tr th {\n",
       "        vertical-align: top;\n",
       "    }\n",
       "\n",
       "    .dataframe thead th {\n",
       "        text-align: right;\n",
       "    }\n",
       "</style>\n",
       "<table border=\"1\" class=\"dataframe\">\n",
       "  <thead>\n",
       "    <tr style=\"text-align: right;\">\n",
       "      <th></th>\n",
       "      <th>maker</th>\n",
       "    </tr>\n",
       "  </thead>\n",
       "  <tbody>\n",
       "    <tr>\n",
       "      <th>0</th>\n",
       "      <td>M14122</td>\n",
       "    </tr>\n",
       "    <tr>\n",
       "      <th>1</th>\n",
       "      <td>NaN</td>\n",
       "    </tr>\n",
       "    <tr>\n",
       "      <th>2</th>\n",
       "      <td>NaN</td>\n",
       "    </tr>\n",
       "    <tr>\n",
       "      <th>3</th>\n",
       "      <td>NaN</td>\n",
       "    </tr>\n",
       "    <tr>\n",
       "      <th>4</th>\n",
       "      <td>M14124</td>\n",
       "    </tr>\n",
       "    <tr>\n",
       "      <th>5</th>\n",
       "      <td>M14125</td>\n",
       "    </tr>\n",
       "    <tr>\n",
       "      <th>6</th>\n",
       "      <td>M14126</td>\n",
       "    </tr>\n",
       "    <tr>\n",
       "      <th>7</th>\n",
       "      <td>NaN</td>\n",
       "    </tr>\n",
       "    <tr>\n",
       "      <th>8</th>\n",
       "      <td>M14127</td>\n",
       "    </tr>\n",
       "    <tr>\n",
       "      <th>9</th>\n",
       "      <td>M14129</td>\n",
       "    </tr>\n",
       "    <tr>\n",
       "      <th>10</th>\n",
       "      <td>M14130</td>\n",
       "    </tr>\n",
       "    <tr>\n",
       "      <th>11</th>\n",
       "      <td>M14131</td>\n",
       "    </tr>\n",
       "    <tr>\n",
       "      <th>12</th>\n",
       "      <td>M14132</td>\n",
       "    </tr>\n",
       "    <tr>\n",
       "      <th>13</th>\n",
       "      <td>M14133</td>\n",
       "    </tr>\n",
       "    <tr>\n",
       "      <th>14</th>\n",
       "      <td>NaN</td>\n",
       "    </tr>\n",
       "    <tr>\n",
       "      <th>15</th>\n",
       "      <td>M14122</td>\n",
       "    </tr>\n",
       "    <tr>\n",
       "      <th>16</th>\n",
       "      <td>M14134,M14135</td>\n",
       "    </tr>\n",
       "    <tr>\n",
       "      <th>17</th>\n",
       "      <td>M14136</td>\n",
       "    </tr>\n",
       "    <tr>\n",
       "      <th>18</th>\n",
       "      <td>M14137</td>\n",
       "    </tr>\n",
       "    <tr>\n",
       "      <th>19</th>\n",
       "      <td>M14138,M14139</td>\n",
       "    </tr>\n",
       "  </tbody>\n",
       "</table>\n",
       "</div>"
      ],
      "text/plain": [
       "            maker\n",
       "0          M14122\n",
       "1             NaN\n",
       "2             NaN\n",
       "3             NaN\n",
       "4          M14124\n",
       "5          M14125\n",
       "6          M14126\n",
       "7             NaN\n",
       "8          M14127\n",
       "9          M14129\n",
       "10         M14130\n",
       "11         M14131\n",
       "12         M14132\n",
       "13         M14133\n",
       "14            NaN\n",
       "15         M14122\n",
       "16  M14134,M14135\n",
       "17         M14136\n",
       "18         M14137\n",
       "19  M14138,M14139"
      ]
     },
     "execution_count": 55,
     "metadata": {},
     "output_type": "execute_result"
    }
   ],
   "source": [
    "train[['maker']].head(20)"
   ]
  },
  {
   "cell_type": "markdown",
   "metadata": {},
   "source": [
    "### replace the missing values with the maximum number of the list 'first_ten'"
   ]
  },
  {
   "cell_type": "markdown",
   "metadata": {},
   "source": [
    "### since the top 10 most frequent values are the same with splitting the cells, no need to split the cell to different rows"
   ]
  },
  {
   "cell_type": "code",
   "execution_count": 56,
   "metadata": {},
   "outputs": [],
   "source": [
    "train['maker'].fillna(first_ten[0][0],inplace=True)"
   ]
  },
  {
   "cell_type": "code",
   "execution_count": 57,
   "metadata": {},
   "outputs": [
    {
     "data": {
      "text/plain": [
       "0"
      ]
     },
     "execution_count": 57,
     "metadata": {},
     "output_type": "execute_result"
    }
   ],
   "source": [
    "train['maker'].isnull().sum()"
   ]
  },
  {
   "cell_type": "code",
   "execution_count": 58,
   "metadata": {},
   "outputs": [],
   "source": [
    "def rar(x):\n",
    "    if type(x)== str:\n",
    "        if x not in first_10:\n",
    "            x = 'rar'\n",
    "        else:\n",
    "            pass\n",
    "    return x"
   ]
  },
  {
   "cell_type": "markdown",
   "metadata": {},
   "source": [
    "### 'ingredient'"
   ]
  },
  {
   "cell_type": "code",
   "execution_count": 59,
   "metadata": {},
   "outputs": [],
   "source": [
    "ingredient = train_raw.ingredient.value_counts().to_dict()"
   ]
  },
  {
   "cell_type": "code",
   "execution_count": 60,
   "metadata": {},
   "outputs": [
    {
     "data": {
      "text/plain": [
       "{'IN732638': 8,\n",
       " 'IN732362': 6,\n",
       " 'IN732502': 4,\n",
       " 'IN732859': 4,\n",
       " 'IN732832': 4,\n",
       " 'IN732835': 4,\n",
       " 'IN732200': 4,\n",
       " 'IN732993': 4,\n",
       " 'IN732094': 3,\n",
       " 'IN733022': 3,\n",
       " 'IN732126': 3,\n",
       " 'IN732789': 3,\n",
       " 'IN732254': 3,\n",
       " 'IN732275': 3,\n",
       " 'IN732231': 3,\n",
       " 'IN732064': 3,\n",
       " 'IN733224,IN732329': 2,\n",
       " 'IN732484': 2,\n",
       " 'IN732275,IN732231,IN733129,IN732903': 2,\n",
       " 'IN732788': 2,\n",
       " 'IN733153,IN733155,IN732348,IN733154': 2,\n",
       " 'IN732347': 2,\n",
       " 'IN732591': 2,\n",
       " 'IN732446': 2,\n",
       " 'IN732427': 2,\n",
       " 'IN732571': 2,\n",
       " 'IN732684': 2,\n",
       " 'IN732559': 2,\n",
       " 'IN732217,IN732219': 2,\n",
       " 'IN732657,IN732658': 2,\n",
       " 'IN732710': 2,\n",
       " 'IN733469,IN732581,IN732589': 2,\n",
       " 'IN732872': 2,\n",
       " 'IN732410': 2,\n",
       " 'IN732466': 2,\n",
       " 'IN732701': 2,\n",
       " 'IN732617': 2,\n",
       " 'IN732587': 2,\n",
       " 'IN732728,IN732532,IN733627': 2,\n",
       " 'IN732322': 2,\n",
       " 'IN732101': 2,\n",
       " 'IN732660': 2,\n",
       " 'IN732566': 2,\n",
       " 'IN733593,IN732277,IN732595,IN732642': 2,\n",
       " 'IN732231,IN732093,IN732645,IN733055,IN732632,IN733056,IN733057,IN732375': 2,\n",
       " 'IN732385': 2,\n",
       " 'IN732692': 2,\n",
       " 'IN732218': 2,\n",
       " 'IN733094': 2,\n",
       " 'IN732395': 2,\n",
       " 'IN732464': 2,\n",
       " 'IN732582': 2,\n",
       " 'IN732689': 2,\n",
       " 'IN732235': 2,\n",
       " 'IN733330': 2,\n",
       " 'IN732357': 2,\n",
       " 'IN732619,IN732403,IN732640,IN732269': 2,\n",
       " 'IN732164': 2,\n",
       " 'IN732845': 2,\n",
       " 'IN732207,IN732119,IN733024,IN732467,IN732967,IN733843': 2,\n",
       " 'IN732720': 2,\n",
       " 'IN732799': 2,\n",
       " 'IN732489': 2,\n",
       " 'IN732490': 2,\n",
       " 'IN732294': 2,\n",
       " 'IN732474': 2,\n",
       " 'IN732641': 2,\n",
       " 'IN732282': 2,\n",
       " 'IN732976': 2,\n",
       " 'IN732846': 2,\n",
       " 'IN732264': 2,\n",
       " 'IN732871': 2,\n",
       " 'IN732444': 2,\n",
       " 'IN732415': 2,\n",
       " 'IN732231,IN732581,IN732873': 1,\n",
       " 'IN732136,IN733734,IN732559': 1,\n",
       " 'IN732503,IN732256,IN732623,IN732467,IN732474,IN732295,IN733244,IN732331,IN732436,IN732624,IN733353': 1,\n",
       " 'IN732532,IN733627,IN732728,IN732615,IN732245,IN733202': 1,\n",
       " 'IN732776,IN732101,IN733010': 1,\n",
       " 'IN733076,IN733322,IN733323,IN733324': 1,\n",
       " 'IN733095,IN732221,IN732551': 1,\n",
       " 'IN732746,IN732073,IN732489,IN732562,IN732442,IN732701,IN732110,IN732556': 1,\n",
       " 'IN732738,IN732089': 1,\n",
       " 'IN732990,IN734017,IN734018,IN732516,IN732838,IN732863,IN734019,IN733997': 1,\n",
       " 'IN732747,IN732411': 1,\n",
       " 'IN732218,IN733308': 1,\n",
       " 'IN733551,IN732541,IN733343,IN732107': 1,\n",
       " 'IN732357,IN732226': 1,\n",
       " 'IN732682,IN732742': 1,\n",
       " 'IN732395,IN732126,IN732559,IN732119,IN732864': 1,\n",
       " 'IN732453,IN732466,IN733098,IN732142': 1,\n",
       " 'IN732541,IN732547,IN732656,IN732235': 1,\n",
       " 'IN732428,IN732685,IN733136,IN732226,IN732612': 1,\n",
       " 'IN732218,IN732237,IN732201': 1,\n",
       " 'IN732066,IN732692,IN732581,IN733184,IN732123': 1,\n",
       " 'IN733065,IN732581,IN733031,IN732545,IN732646,IN732858,IN732994': 1,\n",
       " 'IN732139,IN732684,IN733240': 1,\n",
       " 'IN732993,IN733798': 1,\n",
       " 'IN732526,IN732655,IN732109,IN732629': 1,\n",
       " 'IN733570,IN732645': 1,\n",
       " 'IN732434,IN732988': 1,\n",
       " 'IN733065,IN733491,IN732114': 1,\n",
       " 'IN732076,IN732077,IN732073,IN732078,IN732079,IN732080,IN732081,IN732082,IN732083,IN732084': 1,\n",
       " 'IN732427,IN732106': 1,\n",
       " 'IN732623,IN732495,IN732266': 1,\n",
       " 'IN732501,IN732256,IN732119': 1,\n",
       " 'IN732692,IN732412,IN732082,IN732604': 1,\n",
       " 'IN732224,IN732362,IN732305,IN732728,IN733145,IN733009,IN732316,IN733845,IN732508,IN732089,IN732981,IN733232,IN733846,IN732521,IN732213,IN732355,IN733779,IN733332': 1,\n",
       " 'IN732054,IN732109,IN732850': 1,\n",
       " 'IN732126,IN732648': 1,\n",
       " 'IN732935,IN732101,IN732107,IN732681': 1,\n",
       " 'IN733661,IN732099': 1,\n",
       " 'IN732189,IN732287,IN732288,IN732289,IN732290,IN732291,IN732292,IN732293': 1,\n",
       " 'IN733622,IN732465': 1,\n",
       " 'IN732158,IN732189,IN732531,IN732076,IN732532,IN732258,IN732533,IN732534,IN732149': 1,\n",
       " 'IN732504,IN732929,IN732208,IN732249,IN732825': 1,\n",
       " 'IN732600,IN732576,IN733188,IN733330': 1,\n",
       " 'IN732448,IN732465,IN732922,IN733079,IN733044': 1,\n",
       " 'IN732130,IN732111,IN733448,IN732524,IN732566': 1,\n",
       " 'IN732589,IN732503,IN732373,IN732415,IN732647,IN732654': 1,\n",
       " 'IN732189,IN732232': 1,\n",
       " 'IN732429,IN732107,IN732430,IN732431,IN732356': 1,\n",
       " 'IN732694': 1,\n",
       " 'IN732489,IN732505': 1,\n",
       " 'IN732746,IN733365,IN733366,IN732673,IN732222,IN732978,IN732375': 1,\n",
       " 'IN732685,IN732929,IN732612,IN732299,IN732595,IN733069,IN732079': 1,\n",
       " 'IN732459,IN732107,IN732241,IN732421,IN733144,IN732846,IN733045': 1,\n",
       " 'IN732361,IN732403,IN733156': 1,\n",
       " 'IN732054,IN732059,IN732060': 1,\n",
       " 'IN732321,IN732218,IN732746,IN732562,IN732744,IN732201,IN732489,IN732073,IN733060': 1,\n",
       " 'IN733063,IN732711,IN732395': 1,\n",
       " 'IN732097,IN732932,IN732218,IN732321,IN733069': 1,\n",
       " 'IN732202,IN732528,IN733941,IN733942': 1,\n",
       " 'IN732231,IN732498,IN732390,IN732791,IN733843': 1,\n",
       " 'IN732893,IN733226,IN732456,IN733236,IN732239,IN733237,IN732630': 1,\n",
       " 'IN732600,IN732674,IN732172': 1,\n",
       " 'IN732596,IN732339,IN733168,IN732266,IN732822,IN732321,IN732933,IN732487,IN733787': 1,\n",
       " 'IN732946,IN733611,IN732695,IN733813,IN732695': 1,\n",
       " 'IN733397,IN732506,IN732517': 1,\n",
       " 'IN732121,IN732415,IN732348': 1,\n",
       " 'IN732314,IN732315,IN732316,IN732306,IN732317,IN732318,IN732190,IN732174,IN732319,IN732320,IN732321': 1,\n",
       " 'IN732386,IN732219': 1,\n",
       " 'IN732399,IN732505,IN732990,IN733919': 1,\n",
       " 'IN732591,IN733019,IN732322,IN732981,IN732638,IN732213,IN732729,IN732514,IN732730,IN732339': 1,\n",
       " 'IN732314,IN732079,IN732184': 1,\n",
       " 'IN732231,IN732299,IN732201,IN732612': 1,\n",
       " 'IN732526,IN732412': 1,\n",
       " 'IN732642,IN732456': 1,\n",
       " 'IN732196,IN732932': 1,\n",
       " 'IN733820,IN732353,IN732484': 1,\n",
       " 'IN733162,IN732930': 1,\n",
       " 'IN732386,IN732789': 1,\n",
       " 'IN732528,IN732152,IN732328,IN733329,IN732058': 1,\n",
       " 'IN732217,IN732256,IN732902,IN732219,IN732358': 1,\n",
       " 'IN732093,IN733207,IN733091,IN732143,IN733759': 1,\n",
       " 'IN732094,IN733275,IN732363': 1,\n",
       " 'IN732159,IN732656,IN732987': 1,\n",
       " 'IN732203,IN732180,IN732699,IN732241,IN732737,IN732239': 1,\n",
       " 'IN732664,IN732665': 1,\n",
       " 'IN733156,IN733838,IN733075,IN733839,IN733840,IN732863': 1,\n",
       " 'IN732746,IN732743,IN732420,IN732281': 1,\n",
       " 'IN732272,IN733697,IN732826': 1,\n",
       " 'IN732200,IN732636': 1,\n",
       " 'IN732595,IN732736,IN732711,IN733493,IN732155': 1,\n",
       " 'IN732362,IN732357,IN732480,IN732701': 1,\n",
       " 'IN732583,IN732505,IN733739,IN732484': 1,\n",
       " 'IN732600,IN732434,IN732642,IN733745,IN732455': 1,\n",
       " 'IN732657,IN732658,IN732260,IN732081,IN733784': 1,\n",
       " 'IN732548,IN732434,IN732428,IN733517,IN732211,IN733462': 1,\n",
       " 'IN732335,IN732853,IN732421': 1,\n",
       " 'IN733095,IN732393,IN732910,IN732658,IN733438': 1,\n",
       " 'IN732660,IN732337,IN733117': 1,\n",
       " 'IN732418': 1,\n",
       " 'IN732228,IN732093,IN733032,IN733033,IN732247,IN732608': 1,\n",
       " 'IN732804,IN732180,IN732360,IN732066': 1,\n",
       " 'IN733631,IN732294': 1,\n",
       " 'IN732575,IN732576,IN732390,IN732577,IN732578,IN732384,IN732408,IN732579': 1,\n",
       " 'IN733272,IN732595,IN732612': 1,\n",
       " 'IN732410,IN732525,IN732505,IN732498,IN732239,IN732188': 1,\n",
       " 'IN732482,IN733203,IN732846,IN732227,IN732831,IN732082,IN733655,IN733654,IN732820': 1,\n",
       " 'IN733349': 1,\n",
       " 'IN732852': 1,\n",
       " 'IN732275,IN732685,IN732700,IN732442': 1,\n",
       " 'IN732231,IN732153,IN732740,IN733390,IN732191,IN732924': 1,\n",
       " 'IN732330,IN732575,IN732062,IN732839,IN732508': 1,\n",
       " 'IN732374,IN732312,IN732329,IN732433': 1,\n",
       " 'IN732483,IN733501,IN732588,IN732827': 1,\n",
       " 'IN733356,IN733226,IN732627,IN732281,IN733631': 1,\n",
       " 'IN732304,IN732305,IN732306,IN732307,IN732308,IN732309': 1,\n",
       " 'IN732304,IN732692,IN732569,IN733188,IN732632,IN732339': 1,\n",
       " 'IN732172,IN732248,IN733206,IN733084,IN732443': 1,\n",
       " 'IN733095,IN732910,IN732658,IN733519,IN732567,IN732749': 1,\n",
       " 'IN733019,IN732384,IN733599,IN733546,IN733600,IN732986,IN733601': 1,\n",
       " 'IN732530,IN732230,IN732180': 1,\n",
       " 'IN732469,IN732652,IN732785,IN732786': 1,\n",
       " 'IN732551,IN732263,IN733010': 1,\n",
       " 'IN732752,IN732313,IN732151,IN732766,IN732690,IN732152,IN732155,IN732601,IN733207,IN733126': 1,\n",
       " 'IN732270,IN732269,IN732857,IN733449,IN732969,IN732716,IN732078,IN732523,IN733827': 1,\n",
       " 'IN732752,IN732313,IN732151,IN732690,IN732601,IN732827': 1,\n",
       " 'IN732304,IN732372': 1,\n",
       " 'IN733861,IN732956': 1,\n",
       " 'IN732254,IN732625,IN733136': 1,\n",
       " 'IN733283,IN732836,IN733271,IN732073,IN733859,IN732993,IN732479,IN733437': 1,\n",
       " 'IN732190,IN732681,IN732469,IN732857,IN732270,IN732289,IN732066,IN732505,IN733562,IN732670,IN732141,IN732325,IN732758': 1,\n",
       " 'IN732130,IN732855,IN732666,IN733310,IN732401,IN733374,IN732570,IN732292,IN732142,IN733245': 1,\n",
       " 'IN732368,IN732221,IN732463,IN732277,IN732263,IN732559,IN732188,IN732624': 1,\n",
       " 'IN732495,IN732514,IN732515,IN732415,IN732516': 1,\n",
       " 'IN732885,IN732486,IN732884,IN732280,IN732161,IN733749,IN732060': 1,\n",
       " 'IN732093,IN732117,IN732252': 1,\n",
       " 'IN732508,IN733036,IN732108,IN732239': 1,\n",
       " 'IN733010,IN732562,IN733011,IN732632,IN732280,IN733009,IN732171,IN732383,IN732295,IN732086,IN733012,IN732767': 1,\n",
       " 'IN732372,IN732505,IN732593,IN732114,IN732648': 1,\n",
       " 'IN733843,IN732074': 1,\n",
       " 'IN733247,IN733445,IN732408,IN732360,IN733667,IN733446,IN732983': 1,\n",
       " 'IN732094,IN732122,IN733047': 1,\n",
       " 'IN732074,IN732358,IN732545,IN732548,IN732495,IN733070,IN732106': 1,\n",
       " 'IN733023,IN732833,IN733739,IN733177,IN733649,IN733136,IN733123': 1,\n",
       " 'IN732808,IN732082,IN733843': 1,\n",
       " 'IN732158,IN732631,IN733710,IN732646,IN732894,IN732264,IN732118,IN733086': 1,\n",
       " 'IN732312,IN732374,IN732375,IN732376,IN732377,IN732378,IN732379,IN732329': 1,\n",
       " 'IN732106': 1,\n",
       " 'IN732453,IN732371,IN732642,IN733307,IN732386': 1,\n",
       " 'IN732712,IN732663,IN732482,IN733464,IN732677,IN733465': 1,\n",
       " 'IN733035,IN732581': 1,\n",
       " 'IN732130,IN732486,IN733321,IN733307,IN733019,IN732293': 1,\n",
       " 'IN732177,IN732178,IN732173,IN732176,IN732179,IN732175': 1,\n",
       " 'IN732479,IN732108,IN732180,IN732932,IN732657,IN732658,IN732282,IN732502,IN732834,IN732086': 1,\n",
       " 'IN733065,IN732322': 1,\n",
       " 'IN732105,IN732223,IN733733,IN732369,IN732206': 1,\n",
       " 'IN732755,IN733527,IN732270,IN732203,IN732198,IN732759,IN733347,IN733297': 1,\n",
       " 'IN732667,IN733533,IN733795,IN732253,IN733961': 1,\n",
       " 'IN732158,IN732159,IN732160,IN732161,IN732137,IN732162,IN732163': 1,\n",
       " 'IN732184,IN732185,IN732186,IN732187,IN732188,IN732162': 1,\n",
       " 'IN732140,IN732299,IN732260,IN732253': 1,\n",
       " 'IN732440,IN732153,IN732220,IN732160': 1,\n",
       " 'IN732389,IN732458,IN733495,IN732173,IN733285,IN733991': 1,\n",
       " 'IN732313,IN732309': 1,\n",
       " 'IN732833,IN733907,IN732780,IN732930,IN732097,IN732711': 1,\n",
       " 'IN732660,IN732350,IN732367,IN732614,IN732097,IN733189': 1,\n",
       " 'IN732084,IN732766,IN732933,IN733372,IN732464,IN732387': 1,\n",
       " 'IN733841,IN733842,IN732647,IN733005': 1,\n",
       " 'IN732499,IN732105': 1,\n",
       " 'IN732349,IN732097,IN732505,IN732314,IN733242': 1,\n",
       " 'IN732217,IN733043,IN733202,IN732220,IN733483,IN732632,IN733484,IN732235,IN732170': 1,\n",
       " 'IN732666,IN732652,IN732667,IN732522,IN732668,IN732669,IN732670,IN732078': 1,\n",
       " 'IN732065,IN732929,IN732469,IN732360,IN732930,IN732518': 1,\n",
       " 'IN732429': 1,\n",
       " 'IN732385,IN732520,IN733899,IN732478,IN733654,IN733473': 1,\n",
       " 'IN732751,IN732936,IN733512,IN733513,IN733207,IN732343,IN733449,IN733182': 1,\n",
       " 'IN733853,IN733854,IN733855,IN733710,IN733856,IN733089': 1,\n",
       " 'IN733452,IN733777,IN732441,IN732367': 1,\n",
       " 'IN732399,IN732054,IN732527,IN732441,IN732617,IN733156,IN733471,IN732512,IN732618,IN732591,IN732517': 1,\n",
       " 'IN733014,IN732433,IN733004,IN732108,IN732805,IN733050,IN733279,IN732711,IN733858,IN732534,IN733458,IN732654,IN732861': 1,\n",
       " 'IN733456,IN732910,IN732658,IN732309': 1,\n",
       " 'IN732457,IN732256,IN732134,IN732539,IN732363,IN732608,IN732157': 1,\n",
       " 'IN732139,IN732280,IN732389': 1,\n",
       " 'IN732861,IN732857,IN732382,IN734073,IN732964': 1,\n",
       " 'IN732130,IN732678,IN732308,IN732408': 1,\n",
       " 'IN732257,IN732469,IN733006,IN732306,IN733258,IN733381': 1,\n",
       " 'IN733220,IN732564': 1,\n",
       " 'IN732159,IN732902,IN732581,IN732249,IN732678,IN732442,IN732334,IN732277,IN732903,IN732390': 1,\n",
       " 'IN732698': 1,\n",
       " 'IN732530,IN732678,IN733291': 1,\n",
       " 'IN732683,IN733003,IN732364,IN732137': 1,\n",
       " 'IN732769,IN732309,IN732791,IN732949,IN733494,IN733495': 1,\n",
       " 'IN732816,IN732269,IN733130,IN733599,IN733374': 1,\n",
       " 'IN732305,IN732310,IN733268,IN733551,IN733262,IN732071,IN732836,IN732846,IN732738': 1,\n",
       " 'IN732618,IN732654,IN733019': 1,\n",
       " 'IN732666,IN732370,IN732983,IN733049,IN732575,IN732577': 1,\n",
       " 'IN732885,IN732569,IN732246,IN732430': 1,\n",
       " 'IN733200': 1,\n",
       " 'IN732786,IN732912,IN732524': 1,\n",
       " 'IN732563,IN732062,IN732632,IN732650,IN732390,IN732990,IN733405,IN733674,IN733159,IN733675,IN732089,IN732266,IN733676': 1,\n",
       " 'IN732100,IN733467': 1,\n",
       " 'IN732956,IN732556,IN732375,IN732119,IN733248': 1,\n",
       " 'IN732172,IN732559,IN733376,IN733377,IN732194,IN733215,IN733044,IN732155,IN733378': 1,\n",
       " 'IN732130,IN733283,IN732111,IN732935,IN732305': 1,\n",
       " 'IN732927': 1,\n",
       " 'IN732751,IN732535,IN732243,IN732165,IN732753,IN732119,IN732597,IN732189,IN732204': 1,\n",
       " 'IN732207,IN733024,IN732119,IN732967': 1,\n",
       " 'IN733443,IN733444,IN733445,IN732471,IN732913,IN733442,IN733035,IN732524,IN732143,IN732790,IN732391,IN732270,IN732473,IN733453,IN732786,IN732653,IN733447,IN732384,IN732785,IN733452': 1,\n",
       " 'IN732580,IN733764,IN732489,IN732429,IN733765,IN733738,IN732325,IN732356,IN733205': 1,\n",
       " 'IN732078,IN733247,IN732925,IN732618,IN732692,IN732853,IN732116,IN732670': 1,\n",
       " 'IN732971': 1,\n",
       " 'IN732885,IN732420': 1,\n",
       " 'IN732087,IN732581,IN732708,IN732115,IN732881': 1,\n",
       " 'IN733642,IN733195,IN733035,IN732956,IN732337,IN733469,IN732252,IN732501,IN732847,IN732667,IN732807,IN732420,IN732743,IN732583,IN733658,IN733366': 1,\n",
       " 'IN732372,IN732267': 1,\n",
       " 'IN732885,IN732486,IN732243,IN732280,IN733348': 1,\n",
       " 'IN733883,IN732728,IN732081': 1,\n",
       " 'IN733645,IN733197': 1,\n",
       " 'IN732489,IN732065,IN732134,IN732173,IN733374,IN733843': 1,\n",
       " 'IN732427,IN732551,IN732530': 1,\n",
       " 'IN732846,IN732393,IN732961,IN732614,IN732411,IN732676': 1,\n",
       " 'IN732273,IN732561': 1,\n",
       " 'IN732993,IN732097,IN732808,IN733498,IN733585': 1,\n",
       " 'IN732637,IN732798,IN732521,IN732169,IN733016': 1,\n",
       " 'IN732130,IN732101': 1,\n",
       " 'IN733086,IN732482,IN732153,IN732145,IN733025,IN732241,IN733004': 1,\n",
       " 'IN732964,IN733023,IN732802,IN732182': 1,\n",
       " 'IN733381,IN732559,IN732513,IN733382,IN733383': 1,\n",
       " 'IN732791': 1,\n",
       " 'IN732232,IN732494,IN732631,IN733546,IN732246,IN732629,IN732845': 1,\n",
       " 'IN733884,IN733885': 1,\n",
       " 'IN732428,IN732592,IN732584,IN733436': 1,\n",
       " 'IN733020,IN733767,IN732110,IN733574,IN733229,IN733420,IN733592,IN732743': 1,\n",
       " 'IN732503,IN732591,IN732691,IN732658,IN732637,IN732498,IN732186,IN732827,IN732432,IN732382,IN732368,IN732682': 1,\n",
       " 'IN733837,IN732420,IN732325,IN733383': 1,\n",
       " 'IN732358,IN732395': 1,\n",
       " 'IN732591,IN732503': 1,\n",
       " 'IN732151,IN732313,IN732690,IN732601': 1,\n",
       " 'IN732152': 1,\n",
       " 'IN732350,IN732405,IN732947,IN732304,IN733249,IN733250': 1,\n",
       " 'IN732853,IN733039,IN732640,IN732064,IN732523': 1,\n",
       " 'IN732169,IN732223,IN732166,IN732568,IN732264,IN732736,IN733386,IN732548,IN733550,IN733522,IN733420,IN732663,IN733775,IN732497': 1,\n",
       " 'IN732073,IN733004,IN733128,IN732233': 1,\n",
       " 'IN733200,IN732506,IN733037,IN732505,IN732656,IN733307,IN732162': 1,\n",
       " 'IN733233,IN733234,IN732727': 1,\n",
       " 'IN732089,IN732218,IN732663,IN732671,IN732823,IN732824,IN732825,IN732125': 1,\n",
       " 'IN732432,IN732518,IN733042,IN732636,IN733043,IN732387,IN732329,IN733044,IN733045': 1,\n",
       " 'IN732910,IN732658,IN732064,IN733200,IN732310,IN732456': 1,\n",
       " 'IN732357,IN732743': 1,\n",
       " 'IN732338,IN732273,IN732153,IN732339': 1,\n",
       " 'IN732630,IN732874,IN733767,IN732598,IN732339,IN732730,IN732503,IN732185': 1,\n",
       " 'IN732639': 1,\n",
       " 'IN732776,IN733039,IN733213,IN732369,IN732321,IN732430': 1,\n",
       " 'IN732275,IN732589': 1,\n",
       " 'IN732304,IN732700,IN732656,IN732816,IN732254,IN732640,IN732306,IN732273,IN732082': 1,\n",
       " 'IN732443,IN732480': 1,\n",
       " 'IN732257,IN732581,IN732684,IN732260,IN732405,IN732931,IN732055,IN733587,IN732366,IN732249,IN733448': 1,\n",
       " 'IN732885,IN732742,IN732066,IN732289,IN733521,IN732857,IN732141,IN733303,IN732681,IN732512': 1,\n",
       " 'IN732350,IN732517,IN732087,IN732918,IN732679,IN732224': 1,\n",
       " 'IN732052,IN732053': 1,\n",
       " 'IN733110,IN732288,IN733049,IN732734,IN732820,IN732330,IN732532,IN732413,IN732923': 1,\n",
       " 'IN732691,IN732658,IN732503,IN732245': 1,\n",
       " 'IN733629,IN732122,IN732769,IN732368,IN733253,IN733140,IN733632,IN733633,IN733634': 1,\n",
       " 'IN732137,IN732386,IN733169': 1,\n",
       " 'IN733063,IN732727,IN732396,IN732595,IN732480,IN732465,IN732147': 1,\n",
       " 'IN732217,IN732213,IN732121,IN732853,IN732104,IN732807,IN733159,IN732415,IN732185': 1,\n",
       " 'IN732158,IN732275,IN732233,IN732598': 1,\n",
       " 'IN733009,IN732914,IN734081': 1,\n",
       " 'IN732335,IN732122,IN733117,IN734015,IN733945': 1,\n",
       " 'IN733778,IN733030,IN732174': 1,\n",
       " 'IN732309,IN733307,IN733683': 1,\n",
       " 'IN732314,IN733413,IN732240,IN733049,IN733242': 1,\n",
       " 'IN732112,IN732930,IN732501': 1,\n",
       " 'IN732556,IN732518,IN732730,IN732791,IN732919,IN733421,IN733895,IN732106,IN732585,IN733896': 1,\n",
       " 'IN732940,IN732217': 1,\n",
       " 'IN732067,IN732152,IN732601': 1,\n",
       " 'IN732583,IN732104,IN732186,IN732395': 1,\n",
       " 'IN732488,IN732213,IN732518,IN733004,IN732188,IN732379,IN732185,IN732186': 1,\n",
       " 'IN733220,IN732497,IN732489': 1,\n",
       " 'IN732453,IN732932,IN732873,IN732624,IN732401,IN732374': 1,\n",
       " 'IN732775,IN733773,IN733774,IN732131': 1,\n",
       " 'IN732428,IN732087,IN732776': 1,\n",
       " 'IN732746,IN732100,IN732214,IN732654,IN732186,IN733829,IN733067,IN732846': 1,\n",
       " 'IN733778,IN732615': 1,\n",
       " 'IN732158,IN732257,IN733136,IN732282,IN732468,IN732239,IN732100': 1,\n",
       " 'IN732186,IN732067,IN732618,IN732208,IN732969,IN732549': 1,\n",
       " 'IN733094,IN732742,IN732715,IN733098': 1,\n",
       " 'IN732748,IN732196,IN732518': 1,\n",
       " 'IN732585,IN732653,IN732079,IN733354,IN732509,IN732546,IN732730': 1,\n",
       " 'IN732441,IN733104,IN733105': 1,\n",
       " 'IN732752,IN732313,IN732151,IN732766,IN732601,IN732155,IN732152': 1,\n",
       " 'IN733257,IN732233,IN732798,IN732405': 1,\n",
       " 'IN732484,IN732370,IN733104': 1,\n",
       " 'IN732562,IN732231,IN732257,IN732082': 1,\n",
       " 'IN732325,IN733533,IN732561,IN733572,IN734065,IN733213,IN732286': 1,\n",
       " 'IN732158,IN732642,IN733338': 1,\n",
       " 'IN732217,IN732218,IN732373': 1,\n",
       " 'IN733008,IN732593': 1,\n",
       " 'IN732353,IN732804': 1,\n",
       " 'IN732293,IN732231,IN732663': 1,\n",
       " 'IN732357,IN732196': 1,\n",
       " 'IN732371,IN732160': 1,\n",
       " 'IN732362,IN732363,IN732364,IN732365,IN732366': 1,\n",
       " 'IN732587,IN732351,IN733213,IN732111': 1,\n",
       " 'IN732403,IN732965,IN732653,IN733364,IN733014,IN732222,IN732507,IN732143': 1,\n",
       " 'IN733656,IN732077,IN732490,IN732305,IN733052,IN732073': 1,\n",
       " 'IN732367,IN732929': 1,\n",
       " 'IN732108,IN732616,IN732748,IN732082': 1,\n",
       " 'IN732693,IN732210,IN733363,IN732267,IN733063,IN732559,IN732364': 1,\n",
       " 'IN732738,IN733010,IN732863,IN732437,IN733858,IN732261': 1,\n",
       " 'IN732326,IN732668': 1,\n",
       " 'IN732367,IN732117,IN732527': 1,\n",
       " 'IN732532,IN732859,IN732993': 1,\n",
       " 'IN732591,IN732961,IN732910,IN732658': 1,\n",
       " 'IN732076,IN732093,IN732112,IN732113,IN732114,IN732115': 1,\n",
       " 'IN732067,IN732734,IN733202,IN733868,IN733869': 1,\n",
       " 'IN732581,IN732277,IN732249,IN732682,IN732334,IN732390,IN732903,IN732211': 1,\n",
       " 'IN733125,IN732076,IN733674': 1,\n",
       " 'IN733770,IN732200,IN732160,IN733394,IN733602': 1,\n",
       " 'IN732457,IN732657,IN732658,IN732370,IN732713,IN733539': 1,\n",
       " 'IN732464,IN733914,IN733245,IN733330': 1,\n",
       " 'IN732479,IN732766,IN732545,IN732456,IN732566': 1,\n",
       " 'IN732159,IN732208,IN732559,IN733955': 1,\n",
       " 'IN732139,IN733086': 1,\n",
       " 'IN732351,IN733052,IN732531,IN732112': 1,\n",
       " 'IN733796,IN734074': 1,\n",
       " 'IN732349,IN732935,IN732436,IN732691,IN732658,IN732386': 1,\n",
       " 'IN732065,IN732555,IN732620,IN732369,IN732699': 1,\n",
       " 'IN732073,IN732580,IN732420,IN733635,IN733500,IN732711,IN733285': 1,\n",
       " 'IN732393,IN732893,IN732282': 1,\n",
       " 'IN732372,IN732656,IN732685,IN732463,IN733223': 1,\n",
       " 'IN732613,IN732111,IN732617': 1,\n",
       " 'IN732684,IN732982,IN732178,IN732740,IN732621,IN732293': 1,\n",
       " 'IN732946,IN733336,IN732528,IN732131,IN733337': 1,\n",
       " 'IN732207,IN732228,IN732101,IN732877': 1,\n",
       " 'IN732325,IN732482,IN733001,IN733906,IN732873,IN733275': 1,\n",
       " 'IN733019,IN732275,IN732926': 1,\n",
       " 'IN732109,IN732368': 1,\n",
       " 'IN732159,IN733419,IN732471,IN732339,IN732082': 1,\n",
       " 'IN732528,IN732782,IN733349,IN732655,IN733863,IN732877': 1,\n",
       " 'IN732439,IN732638,IN732711': 1,\n",
       " 'IN732094,IN732701,IN732422': 1,\n",
       " 'IN733579': 1,\n",
       " 'IN732440,IN732113,IN732439': 1,\n",
       " 'IN732541,IN732114,IN732591,IN732348': 1,\n",
       " 'IN732343': 1,\n",
       " 'IN733593,IN733235,IN732554,IN732356,IN732717': 1,\n",
       " 'IN732803,IN732780,IN732804,IN732805,IN732218,IN732731': 1,\n",
       " 'IN733775': 1,\n",
       " 'IN732505,IN732167,IN732930,IN732811': 1,\n",
       " 'IN732595,IN732657,IN732658,IN732332,IN732754,IN733581,IN732624,IN733026': 1,\n",
       " 'IN732338,IN732517,IN732107,IN732459,IN732589,IN732590,IN732196,IN732591,IN732503,IN732213': 1,\n",
       " 'IN733674,IN732987,IN732876': 1,\n",
       " 'IN732267,IN733132,IN732502': 1,\n",
       " 'IN732125,IN733597,IN732435': 1,\n",
       " 'IN733521,IN733060,IN732086,IN732654,IN733221,IN733067,IN732366,IN733575': 1,\n",
       " 'IN732351,IN732440': 1,\n",
       " 'IN732231,IN732257,IN732367,IN732419,IN732420,IN732201,IN732421': 1,\n",
       " 'IN732684,IN732485,IN732798,IN732281': 1,\n",
       " 'IN733092,IN732709,IN732149,IN733405,IN732478': 1,\n",
       " 'IN732052,IN732676': 1,\n",
       " 'IN732438,IN732061,IN732861,IN733229': 1,\n",
       " 'IN732351,IN732094,IN732789,IN732255': 1,\n",
       " 'IN733708,IN732198,IN732945,IN732569': 1,\n",
       " 'IN733053,IN732897,IN733203,IN732277,IN732642': 1,\n",
       " 'IN732189,IN732190,IN732183,IN732191,IN732192,IN732193,IN732194,IN732195,IN732196': 1,\n",
       " 'IN733870,IN733871,IN733872,IN733873': 1,\n",
       " 'IN732094,IN732903,IN732570': 1,\n",
       " 'IN732403,IN732218': 1,\n",
       " 'IN732591,IN733060,IN732369,IN732514,IN733363,IN733271,IN732565,IN732670,IN732511': 1,\n",
       " 'IN732636,IN732429,IN732521,IN732656,IN732712,IN732713,IN732393,IN732714': 1,\n",
       " 'IN732165,IN732328': 1,\n",
       " 'IN732122,IN733137,IN732370,IN732716': 1,\n",
       " 'IN732189,IN732108,IN732335,IN732654,IN732271,IN732650,IN732055,IN732612,IN733882': 1,\n",
       " 'IN732231,IN732500,IN732433,IN732798,IN733738,IN732364': 1,\n",
       " 'IN732628,IN732208,IN732874,IN732893,IN732572': 1,\n",
       " 'IN732468,IN732684,IN732982,IN733249': 1,\n",
       " 'IN732448,IN732081,IN732280,IN732711': 1,\n",
       " 'IN732073,IN733506,IN733168': 1,\n",
       " 'IN732074,IN732102': 1,\n",
       " 'IN732362,IN733053,IN732295,IN732584,IN732444': 1,\n",
       " 'IN733185,IN732294,IN732518,IN732396': 1,\n",
       " 'IN732338,IN732874,IN732875,IN732521,IN732876,IN732633,IN732877,IN732187': 1,\n",
       " 'IN732982,IN732983,IN733052,IN733035,IN732142,IN733852,IN733040,IN732287': 1,\n",
       " 'IN732846,IN732929': 1,\n",
       " 'IN732384,IN732201,IN733035,IN732786,IN732472,IN732304': 1,\n",
       " 'IN732518,IN732396,IN733819,IN732571,IN732736,IN732557,IN732484,IN733818,IN732283,IN732395': 1,\n",
       " 'IN733471,IN733891,IN732058,IN733661,IN733688,IN732572,IN732348': 1,\n",
       " 'IN732254,IN732405': 1,\n",
       " 'IN732226': 1,\n",
       " 'IN732931,IN732328,IN732443': 1,\n",
       " 'IN732738': 1,\n",
       " 'IN732159,IN732763,IN732853,IN732509,IN732183,IN733617': 1,\n",
       " 'IN733452,IN732434,IN732388,IN733911,IN732506,IN734021,IN734022,IN734023,IN732343,IN733971,IN733301,IN732214,IN732430': 1,\n",
       " 'IN732700,IN732835,IN732500,IN732172,IN732663,IN732210,IN732545,IN733611,IN732685,IN732987,IN732850,IN732486,IN732603,IN733363,IN732526,IN733659,IN733146,IN733262,IN732919,IN732096,IN732794,IN732118,IN733681,IN733682,IN732748,IN733136,IN732415': 1,\n",
       " 'IN732313,IN732094': 1,\n",
       " 'IN732529': 1,\n",
       " 'IN732434,IN733452,IN732388,IN732506,IN734021,IN733911,IN733010,IN733301,IN732430,IN734023,IN732343,IN733971': 1,\n",
       " 'IN732180,IN732692,IN732616,IN732525,IN733726': 1,\n",
       " 'IN732766,IN732122,IN732074,IN733373,IN733030,IN733374,IN733375': 1,\n",
       " 'IN732254,IN732385,IN732089,IN733147': 1,\n",
       " 'IN732267,IN732457': 1,\n",
       " 'IN733126,IN732122,IN732304,IN732349,IN732728,IN732161,IN732077,IN733454,IN733455': 1,\n",
       " 'IN733442,IN732072,IN733443,IN733445,IN733444,IN733035,IN732143,IN733452,IN732270,IN732473': 1,\n",
       " 'IN732357,IN732827,IN732828,IN732829,IN732830,IN732831': 1,\n",
       " 'IN732665,IN732338,IN732318,IN732186,IN733482': 1,\n",
       " 'IN732304,IN732441,IN733838,IN732578,IN732743': 1,\n",
       " 'IN732442,IN732437,IN732382,IN732232': 1,\n",
       " 'IN732942': 1,\n",
       " 'IN732346,IN732347,IN732348,IN732309': 1,\n",
       " 'IN733116,IN732210,IN733128,IN732376': 1,\n",
       " 'IN732263,IN732164,IN733767,IN733593,IN732774,IN733768,IN733298,IN733261,IN732895,IN733422,IN733046': 1,\n",
       " 'IN732066,IN733061,IN733013,IN732055,IN732532': 1,\n",
       " 'IN732788,IN732927': 1,\n",
       " 'IN732470,IN732581,IN732087,IN732927,IN732527': 1,\n",
       " 'IN732252,IN732350,IN732322,IN732328': 1,\n",
       " 'IN732238,IN733497,IN732784,IN732982,IN733189': 1,\n",
       " 'IN732700,IN732510,IN732387': 1,\n",
       " 'IN732649,IN732137,IN732519,IN732058,IN733370,IN733475': 1,\n",
       " 'IN732232,IN732535,IN732692,IN732342,IN732919,IN732511': 1,\n",
       " 'IN732349,IN733549,IN733550,IN733226,IN732209': 1,\n",
       " 'IN732108,IN732101,IN732310': 1,\n",
       " 'IN732126,IN732710': 1,\n",
       " 'IN732054,IN732055,IN732056,IN732057,IN732058': 1,\n",
       " 'IN732663': 1,\n",
       " 'IN732528,IN732449,IN732642,IN732393,IN732689,IN732253': 1,\n",
       " 'IN732700,IN732808': 1,\n",
       " 'IN733338,IN733339,IN733083,IN732113,IN733340,IN732363,IN732897,IN733341,IN732157': 1,\n",
       " 'IN732164,IN732061,IN733750': 1,\n",
       " 'IN732433,IN732544,IN732312': 1,\n",
       " 'IN732353,IN733500,IN732968': 1,\n",
       " 'IN733642,IN732982,IN733466,IN732983,IN733036,IN732468': 1,\n",
       " 'IN732596,IN732832,IN733362,IN732099': 1,\n",
       " 'IN732267,IN732486,IN732587,IN732087,IN732245,IN732743': 1,\n",
       " 'IN732448,IN733339,IN732422': 1,\n",
       " 'IN732172,IN732774,IN733275': 1,\n",
       " 'IN732228,IN732566,IN732625': 1,\n",
       " 'IN732434,IN733452,IN732388,IN733911,IN732506,IN734021,IN734022,IN734023,IN732343,IN733971,IN733010,IN734024,IN732215,IN733342,IN732214,IN734025,IN733621': 1,\n",
       " 'IN732217,IN732503': 1,\n",
       " 'IN732525,IN732172,IN732584,IN733743,IN732280,IN733219,IN733180,IN733354': 1,\n",
       " 'IN733245,IN733280': 1,\n",
       " 'IN732525,IN732741,IN732149,IN732782,IN734002': 1,\n",
       " 'IN732576,IN732582,IN732589': 1,\n",
       " 'IN732629,IN734015': 1,\n",
       " 'IN732067': 1,\n",
       " 'IN733431,IN732275,IN732315,IN732566,IN732816,IN732137,IN732738,IN733432,IN732103': 1,\n",
       " 'IN733043,IN733060,IN732826,IN732498': 1,\n",
       " 'IN732855,IN732178,IN732620,IN732325,IN732430,IN732143,IN732847': 1,\n",
       " 'IN732682,IN732282': 1,\n",
       " 'IN732640,IN732621,IN732401,IN732089': 1,\n",
       " 'IN733611,IN732181,IN732511,IN734060': 1,\n",
       " 'IN732205': 1,\n",
       " 'IN733064,IN732405,IN733065': 1,\n",
       " 'IN732489,IN732617,IN732931,IN732282,IN732354,IN733182,IN732115': 1,\n",
       " 'IN732448,IN732611,IN732612': 1,\n",
       " 'IN732630,IN732528,IN733275': 1,\n",
       " 'IN732333,IN732510,IN732628': 1,\n",
       " 'IN732208,IN732361': 1,\n",
       " 'IN733325': 1,\n",
       " 'IN732478,IN733200': 1,\n",
       " 'IN732210,IN732605,IN732828,IN732973,IN732974,IN732581': 1,\n",
       " 'IN732485,IN732275,IN733476,IN732233': 1,\n",
       " 'IN733037,IN732903': 1,\n",
       " 'IN732282,IN732442': 1,\n",
       " 'IN732117,IN732189,IN732789,IN732238,IN732617': 1,\n",
       " 'IN732700,IN732074,IN732328': 1,\n",
       " 'IN733136,IN732064': 1,\n",
       " 'IN732551,IN733291,IN732273,IN732196': 1,\n",
       " 'IN732453,IN732321,IN732566,IN732112,IN732288,IN733836,IN733466': 1,\n",
       " 'IN732695,IN732766,IN732835': 1,\n",
       " 'IN732721,IN732542,IN732273,IN733111': 1,\n",
       " 'IN732591,IN733179': 1,\n",
       " 'IN732619,IN732980,IN732981,IN732482': 1,\n",
       " 'IN732714,IN732256': 1,\n",
       " 'IN732486,IN733035': 1,\n",
       " 'IN732084,IN732256,IN732363': 1,\n",
       " 'IN732208,IN732066,IN732209,IN732210,IN732211,IN732212': 1,\n",
       " 'IN732093,IN732167,IN732632,IN733009,IN733484,IN732273,IN733509,IN733510': 1,\n",
       " 'IN732559,IN732895,IN733625,IN732390,IN732720,IN733728,IN732598': 1,\n",
       " 'IN732807,IN732723': 1,\n",
       " 'IN732505,IN732457,IN732569,IN732368,IN732570,IN732497': 1,\n",
       " 'IN732657,IN732658,IN732680': 1,\n",
       " 'IN732746,IN732628,IN732304,IN732117': 1,\n",
       " 'IN732276,IN732165,IN732527,IN733066': 1,\n",
       " 'IN733610': 1,\n",
       " 'IN732130,IN732065,IN732453,IN732252,IN732248,IN733836,IN733967,IN732242': 1,\n",
       " 'IN732357,IN732440': 1,\n",
       " 'IN732871,IN732872': 1,\n",
       " 'IN732101,IN732436,IN732437': 1,\n",
       " 'IN732929,IN732100,IN733226,IN732468': 1,\n",
       " 'IN732403,IN732325,IN732269,IN732412,IN732384,IN732473,IN732666,IN732401,IN732965,IN732630,IN733224,IN733266,IN732561': 1,\n",
       " 'IN732294,IN732235,IN733519': 1,\n",
       " 'IN732457,IN732581,IN732270': 1,\n",
       " 'IN732231,IN732660,IN732756': 1,\n",
       " 'IN732074,IN732309,IN732415,IN732732,IN732365,IN732061,IN732989': 1,\n",
       " 'IN732780,IN732062,IN732299,IN732756,IN732835': 1,\n",
       " 'IN732094,IN732117,IN733168,IN732082': 1,\n",
       " 'IN732654,IN732503,IN732583,IN732589,IN732710,IN732338': 1,\n",
       " 'IN732736,IN733397,IN732396': 1,\n",
       " 'IN732275,IN732817,IN732898,IN732899,IN732900,IN732901,IN732187,IN732210': 1,\n",
       " 'IN732885,IN732189,IN732716': 1,\n",
       " 'IN732677': 1,\n",
       " 'IN733156,IN733507,IN733508,IN732503,IN732692': 1,\n",
       " 'IN732313,IN732715,IN732716': 1,\n",
       " 'IN732604,IN732119,IN733095,IN733894,IN732989,IN733022,IN733094': 1,\n",
       " 'IN732504,IN732313': 1,\n",
       " 'IN732350,IN732591': 1,\n",
       " 'IN732165,IN732099,IN732160,IN732306': 1,\n",
       " 'IN732434,IN732346,IN732101,IN733653,IN733860,IN732981,IN733192,IN732802,IN733479,IN733555,IN732969': 1,\n",
       " 'IN732325,IN733245,IN732748,IN732931': 1,\n",
       " 'IN732296,IN733314,IN733315,IN733316': 1,\n",
       " 'IN732400,IN732335,IN732401,IN732292,IN732402': 1,\n",
       " 'IN732226,IN732961,IN732501': 1,\n",
       " 'IN732596,IN733928,IN732621,IN732261,IN732450,IN732390': 1,\n",
       " 'IN732143,IN732164': 1,\n",
       " 'IN732275,IN732642': 1,\n",
       " 'IN733023,IN732065,IN732367,IN732194': 1,\n",
       " 'IN732207,IN732753,IN733026': 1,\n",
       " 'IN732314': 1,\n",
       " 'IN733004,IN733588,IN733114,IN732531': 1,\n",
       " 'IN733284': 1,\n",
       " 'IN732489,IN732888,IN732419,IN732064,IN733190,IN733129,IN733226,IN732367': 1,\n",
       " 'IN732489,IN732089,IN732436,IN733029,IN733544': 1,\n",
       " 'IN732808,IN732581,IN732681,IN732076': 1,\n",
       " 'IN732743': 1,\n",
       " 'IN733031,IN733585': 1,\n",
       " 'IN732684,IN732304,IN732640,IN732559': 1,\n",
       " 'IN732071,IN733133': 1,\n",
       " 'IN732325,IN732671,IN732088,IN732964': 1,\n",
       " 'IN732074,IN732566,IN732104': 1,\n",
       " 'IN732257,IN732562,IN732304,IN732367,IN732671,IN732672,IN732673,IN732674,IN732078': 1,\n",
       " 'IN732433,IN732518,IN732415': 1,\n",
       " 'IN732122,IN732294,IN732451,IN732555,IN732528,IN732066,IN732788': 1,\n",
       " 'IN733046,IN732504,IN732165,IN732806,IN732087,IN733128,IN732547,IN732280': 1,\n",
       " 'IN732325,IN732564,IN732583,IN732354': 1,\n",
       " 'IN732252,IN732342,IN732564,IN732122': 1,\n",
       " 'IN732122,IN732595': 1,\n",
       " 'IN732663,IN733367,IN732120,IN733368,IN732193': 1,\n",
       " 'IN733172,IN733456,IN733841': 1,\n",
       " 'IN732158,IN732611,IN732612': 1,\n",
       " 'IN732590,IN732611': 1,\n",
       " 'IN732190,IN732482,IN732535,IN732146,IN732536,IN732537,IN732188,IN732097': 1,\n",
       " 'IN732489,IN732322,IN732502,IN732494,IN732097,IN733950,IN732524,IN732253,IN733951,IN732539,IN733427,IN732234,IN733247': 1,\n",
       " 'IN733221': 1,\n",
       " 'IN732220,IN732222,IN733460': 1,\n",
       " 'IN732326,IN732122,IN733128': 1,\n",
       " 'IN732596,IN732428,IN732656,IN732323,IN732627': 1,\n",
       " 'IN732349,IN732333,IN732433': 1,\n",
       " 'IN732660,IN732173': 1,\n",
       " 'IN732107,IN732551,IN732399,IN732583': 1,\n",
       " 'IN732252,IN732642,IN733248,IN733136,IN733520': 1,\n",
       " 'IN732682,IN732577,IN733128,IN732332,IN733553,IN732285,IN732276': 1,\n",
       " 'IN732503,IN732583,IN732373,IN732338,IN732347,IN732282,IN733065,IN732137': 1,\n",
       " 'IN733583,IN733465,IN732905': 1,\n",
       " 'IN732582,IN732593,IN732594,IN732595': 1,\n",
       " 'IN732993,IN733079': 1,\n",
       " 'IN732189,IN732428': 1,\n",
       " 'IN732440,IN732456,IN732112,IN732157,IN732933': 1,\n",
       " 'IN732252,IN732260,IN732406,IN733256,IN733192,IN732478': 1,\n",
       " 'IN732591,IN732723,IN733006,IN732114,IN732912': 1,\n",
       " 'IN732305,IN732207': 1,\n",
       " 'IN732903': 1,\n",
       " 'IN732073,IN732383': 1,\n",
       " 'IN732498,IN733091,IN733046': 1,\n",
       " 'IN732655,IN732161,IN732268,IN732334,IN733627': 1,\n",
       " 'IN732166,IN732740,IN732115,IN732220': 1,\n",
       " 'IN732446,IN732160,IN732761,IN733083,IN732588,IN733478,IN733305': 1,\n",
       " 'IN732746,IN732684,IN733240': 1,\n",
       " 'IN732245': 1,\n",
       " 'IN732315,IN732359,IN732269,IN732360,IN732361': 1,\n",
       " 'IN732372,IN732351': 1,\n",
       " 'IN733442,IN732466,IN732595': 1,\n",
       " 'IN733695,IN733148,IN732223,IN732635,IN732373,IN732226': 1,\n",
       " 'IN732459,IN732405,IN732321,IN732366,IN732355,IN732782,IN732114,IN734030': 1,\n",
       " 'IN732074,IN733547,IN732459,IN733662,IN733273,IN732382': 1,\n",
       " 'IN732140,IN732619,IN732620,IN732260,IN732481': 1,\n",
       " 'IN733277,IN732885,IN732935,IN732861,IN732575,IN733061,IN733115': 1,\n",
       " 'IN732276': 1,\n",
       " 'IN732466,IN732904,IN732905,IN732906,IN732701': 1,\n",
       " 'IN732189,IN732260,IN732246,IN732248,IN732261,IN732262,IN732263': 1,\n",
       " 'IN732347,IN733266,IN732690,IN732423': 1,\n",
       " 'IN732362,IN732930,IN732456,IN732992,IN733397,IN732598,IN732502': 1,\n",
       " 'IN732115,IN732738': 1,\n",
       " 'IN732482,IN732097,IN732536,IN732064,IN732840': 1,\n",
       " 'IN732728,IN732112,IN733763,IN732729': 1,\n",
       " 'IN732596,IN732975,IN732252,IN732982,IN732306': 1,\n",
       " 'IN732562,IN732464,IN732260,IN733049': 1,\n",
       " 'IN732338,IN732159,IN732766,IN732153,IN732094,IN732845,IN733499,IN732637,IN732125,IN733030': 1,\n",
       " 'IN732466,IN732748': 1,\n",
       " 'IN732535,IN732334,IN732232,IN732488': 1,\n",
       " 'IN732956,IN732666,IN733181,IN732359,IN733563,IN732622,IN732982': 1,\n",
       " 'IN732349,IN732350,IN732140': 1,\n",
       " 'IN733346,IN733353,IN732247,IN732477': 1,\n",
       " 'IN733387,IN732363,IN733472': 1,\n",
       " 'IN732464,IN732618,IN732361': 1,\n",
       " 'IN732159,IN732717,IN732324,IN732879,IN732328,IN732794,IN733022': 1,\n",
       " 'IN732136,IN733611,IN732263,IN732722,IN733477,IN732921': 1,\n",
       " 'IN733354,IN733377,IN734000': 1,\n",
       " 'IN732367,IN732221,IN732412': 1,\n",
       " 'IN732855,IN732587,IN732464,IN732502,IN732873': 1,\n",
       " 'IN732180,IN732064': 1,\n",
       " 'IN732766,IN732782,IN733617,IN732532,IN732778,IN733021': 1,\n",
       " 'IN732691,IN732658,IN732846,IN733226,IN732466,IN732673,IN732186,IN732533,IN732937,IN732484': 1,\n",
       " 'IN732070,IN733095,IN733167,IN732791,IN733883': 1,\n",
       " 'IN732660,IN733202,IN732282': 1,\n",
       " 'IN732304,IN732850,IN733086': 1,\n",
       " 'IN732766,IN732339': 1,\n",
       " 'IN732759,IN732760,IN732761,IN732762': 1,\n",
       " 'IN732139,IN732681,IN732387': 1,\n",
       " 'IN732874': 1,\n",
       " 'IN732842,IN732119': 1,\n",
       " 'IN732101,IN732111': 1,\n",
       " 'IN732231,IN733533,IN732227,IN733188,IN732282,IN733366,IN732248': 1,\n",
       " 'IN733511,IN732873': 1,\n",
       " 'IN732074,IN732105,IN732114': 1,\n",
       " 'IN733990,IN733212,IN732532,IN733420': 1,\n",
       " 'IN732257,IN732334,IN732535,IN732612': 1,\n",
       " 'IN732700,IN733283,IN733065,IN733215': 1,\n",
       " 'IN732347,IN732311,IN733734': 1,\n",
       " 'IN732207,IN732604,IN732058,IN732642,IN732142,IN732295,IN732534': 1,\n",
       " 'IN733035,IN732337,IN732269': 1,\n",
       " 'IN732596,IN732562,IN732624,IN733597,IN732711,IN733355,IN732295,IN733064,IN733598': 1,\n",
       " 'IN732200,IN732710,IN732152,IN732711': 1,\n",
       " 'IN732305,IN732405,IN732806': 1,\n",
       " 'IN732066,IN732243,IN733771,IN732820,IN733659': 1,\n",
       " 'IN732368,IN733156,IN732280,IN732208,IN732482,IN732227': 1,\n",
       " 'IN732932,IN732539,IN734079': 1,\n",
       " 'IN732509,IN732529,IN732253,IN733049,IN732798,IN732589,IN732434,IN733544,IN732846': 1,\n",
       " 'IN732593': 1,\n",
       " 'IN733022,IN732648': 1,\n",
       " 'IN732073,IN732853,IN732855,IN732419,IN733188,IN733344,IN733533,IN732143,IN732145,IN732839': 1,\n",
       " 'IN733170,IN732131,IN732061': 1,\n",
       " 'IN732634,IN732618,IN732748': 1,\n",
       " 'IN732368,IN732455,IN732086': 1,\n",
       " 'IN732263,IN732873,IN732466': 1,\n",
       " 'IN732630,IN732545,IN732464,IN732521,IN733685,IN732646,IN733069': 1,\n",
       " 'IN732384,IN732596,IN732453,IN733814,IN732082,IN733503,IN732807,IN733430': 1,\n",
       " 'IN732235,IN733602': 1,\n",
       " 'IN732073,IN732457,IN732610,IN733113,IN732529,IN733654': 1,\n",
       " 'IN732065': 1,\n",
       " 'IN732684,IN732427,IN732566,IN732991,IN732054': 1,\n",
       " 'IN733141,IN732589,IN732695,IN732919': 1,\n",
       " 'IN732094,IN732180': 1,\n",
       " 'IN732434,IN733697': 1,\n",
       " 'IN732061,IN733003': 1,\n",
       " 'IN732728': 1,\n",
       " 'IN732433,IN733079,IN732518,IN732530': 1,\n",
       " 'IN732832,IN732166,IN733162,IN733785,IN732069,IN732797': 1,\n",
       " 'IN733020,IN732618,IN732576,IN732308': 1,\n",
       " 'IN732596,IN732927': 1,\n",
       " 'IN733361,IN732648,IN732923,IN732355,IN732435,IN733062,IN732098': 1,\n",
       " 'IN732583,IN732335,IN732289,IN732430,IN732280,IN733658,IN733093,IN732956': 1,\n",
       " 'IN732587,IN732261,IN733117,IN733018,IN733749,IN732652': 1,\n",
       " 'IN732434,IN733452,IN732388,IN732506,IN733911,IN734021,IN734022,IN733971,IN732343,IN732430,IN733010,IN732214,IN732945': 1,\n",
       " 'IN732108,IN732624,IN732625,IN732062,IN732626,IN732627': 1,\n",
       " 'IN732062,IN732640,IN732058': 1,\n",
       " 'IN732525,IN732304,IN732526,IN732354,IN732470': 1,\n",
       " 'IN732234,IN732115': 1,\n",
       " 'IN732886,IN732856,IN732887': 1,\n",
       " 'IN732526': 1,\n",
       " 'IN733215,IN732299,IN733328': 1,\n",
       " 'IN732310,IN733079,IN732194': 1,\n",
       " 'IN732339,IN732232': 1,\n",
       " 'IN732766,IN733190,IN732577': 1,\n",
       " 'IN732322,IN732645,IN732998,IN732999,IN732849': 1,\n",
       " 'IN732700,IN732691,IN732658,IN732490': 1,\n",
       " 'IN732203,IN733413,IN733607,IN732266,IN732414,IN732281': 1,\n",
       " 'IN732466,IN732691,IN732658,IN732798,IN733049': 1,\n",
       " 'IN733095,IN732114': 1,\n",
       " 'IN732562,IN732252,IN732618,IN732808': 1,\n",
       " 'IN732666,IN732458': 1,\n",
       " 'IN732469,IN733145,IN732385': 1,\n",
       " 'IN732108,IN732233,IN732517': 1,\n",
       " 'IN732660,IN732574': 1,\n",
       " 'IN732423,IN732149': 1,\n",
       " 'IN732580,IN732328,IN732207,IN732386,IN732656,IN732525': 1,\n",
       " 'IN732237,IN733010': 1,\n",
       " 'IN732688,IN732689,IN732393,IN732690,IN732328,IN732647': 1,\n",
       " 'IN732782,IN732055,IN732452,IN732783,IN732784': 1,\n",
       " 'IN733102,IN732454,IN733762,IN733071,IN733257,IN733009,IN733473,IN732976,IN732295,IN733325': 1,\n",
       " 'IN732483': 1,\n",
       " 'IN732074,IN732453,IN732595,IN732688': 1,\n",
       " 'IN733844,IN732277,IN732104,IN732697,IN732826': 1,\n",
       " 'IN732151,IN732100': 1,\n",
       " 'IN733074,IN732212,IN732733,IN732945,IN732884': 1,\n",
       " 'IN732483,IN732827,IN733293,IN733083,IN732126,IN732737,IN733044,IN733305': 1,\n",
       " 'IN732289,IN732489,IN732119,IN732252,IN732350,IN732486,IN732624,IN732480': 1,\n",
       " 'IN732059,IN732897': 1,\n",
       " 'IN732503,IN732847,IN732614': 1,\n",
       " 'IN732753,IN732093,IN733690': 1,\n",
       " 'IN733968,IN732454': 1,\n",
       " 'IN732309,IN733466': 1,\n",
       " 'IN732541,IN732543,IN732542,IN732530,IN732544,IN732545,IN732547,IN732546,IN732273,IN732548,IN732110': 1,\n",
       " 'IN732407,IN732408,IN732239,IN732061,IN732301,IN732409': 1,\n",
       " 'IN732637,IN732983': 1,\n",
       " 'IN732383,IN732257,IN732682,IN732188,IN732242,IN733050,IN732611,IN732683': 1,\n",
       " 'IN732804,IN733433': 1,\n",
       " 'IN733233,IN732213,IN732987,IN732415': 1,\n",
       " 'IN732505,IN732506': 1,\n",
       " 'IN732441,IN732656,IN732648': 1,\n",
       " 'IN733018,IN732305,IN732167,IN733014,IN732995,IN734040': 1,\n",
       " 'IN732613,IN733132': 1,\n",
       " 'IN732459,IN733101,IN733102,IN733103,IN733006,IN732849': 1,\n",
       " 'IN732264,IN732054,IN733362,IN732432,IN732521,IN733472,IN733252,IN733473,IN733353,IN732794,IN732978,IN733474': 1,\n",
       " 'IN732721,IN732630,IN732701': 1,\n",
       " 'IN732325,IN733301,IN733133,IN732345': 1,\n",
       " 'IN732893,IN733062,IN733611,IN732152,IN732599': 1,\n",
       " 'IN733627,IN732459': 1,\n",
       " 'IN732910,IN732658': 1,\n",
       " 'IN732682,IN732401,IN733446,IN733520,IN732743': 1,\n",
       " 'IN733583,IN732947,IN732312': 1,\n",
       " 'IN732209,IN732627': 1,\n",
       " 'IN732194,IN732267,IN732354,IN732182': 1,\n",
       " 'IN732641,IN733042,IN733267,IN732822,IN732608': 1,\n",
       " 'IN732485,IN732252,IN732486,IN732233,IN732087,IN732487,IN732457,IN732341': 1,\n",
       " 'IN732675,IN733674,IN733716,IN734071,IN732594': 1,\n",
       " 'IN732218,IN732415,IN732517,IN733045,IN732421,IN733405,IN732125,IN733262,IN733406,IN733407,IN733408': 1,\n",
       " 'IN732428,IN732093,IN732099,IN732586,IN732565,IN732587': 1,\n",
       " 'IN732570': 1,\n",
       " 'IN732074,IN732356,IN732921': 1,\n",
       " 'IN733023,IN732299,IN732729': 1,\n",
       " 'IN732443,IN732294,IN733185,IN732701,IN733186': 1,\n",
       " 'IN732615,IN732097,IN732625,IN732395,IN732238,IN733372,IN732736': 1,\n",
       " 'IN732224,IN732678,IN732679,IN732567,IN732338,IN732590,IN732273': 1,\n",
       " 'IN732535,IN732137,IN732464': 1,\n",
       " 'IN732616,IN732299,IN732548,IN732740,IN732386,IN732679,IN732277,IN732276': 1,\n",
       " 'IN732660,IN732158,IN732710,IN732153': 1,\n",
       " 'IN732776,IN732839,IN733130,IN733131,IN732062': 1,\n",
       " 'IN732107,IN732104,IN732333,IN732278,IN733062,IN732723,IN733875,IN732921,IN732719': 1,\n",
       " 'IN732649,IN732650,IN732086,IN732382,IN732651,IN732598': 1,\n",
       " 'IN732256,IN732273,IN732663': 1,\n",
       " 'IN732339': 1,\n",
       " 'IN733160,IN733161,IN733162,IN732217,IN732499,IN733163': 1,\n",
       " 'IN733577,IN733593,IN733064': 1,\n",
       " 'IN732477': 1,\n",
       " 'IN732272': 1,\n",
       " 'IN732885,IN732596,IN732566,IN732896,IN732535,IN732986,IN732086,IN732987': 1,\n",
       " 'IN732362,IN732467': 1,\n",
       " 'IN732680,IN732453,IN732927,IN732326,IN732185,IN733262,IN733263,IN733264,IN733265,IN732813': 1,\n",
       " 'IN733492,IN733110,IN732371,IN733285,IN733024': 1,\n",
       " 'IN732752,IN732682,IN732305,IN733301,IN732576,IN732079,IN733591,IN732612': 1,\n",
       " 'IN732859,IN732638': 1,\n",
       " 'IN732164,IN733010': 1,\n",
       " 'IN732151,IN732931,IN732932': 1,\n",
       " 'IN733904,IN732111': 1,\n",
       " 'IN733383,IN733479,IN732965,IN733480,IN733555,IN732577,IN732441': 1,\n",
       " 'IN732121,IN733954,IN732321,IN734011,IN733581': 1,\n",
       " 'IN733547,IN732527,IN732062,IN732656,IN732255,IN732605': 1,\n",
       " 'IN733380,IN732079,IN732523': 1,\n",
       " 'IN732257,IN732325,IN732390': 1,\n",
       " 'IN733186,IN732282': 1,\n",
       " 'IN732503,IN733132,IN732926,IN732356,IN732531': 1,\n",
       " 'IN733777': 1,\n",
       " 'IN733153,IN732210,IN732348,IN733154,IN733155': 1,\n",
       " 'IN732509,IN732111,IN732464,IN732062,IN732449': 1,\n",
       " 'IN732907,IN732908': 1,\n",
       " 'IN732353,IN733062': 1,\n",
       " 'IN732086,IN732861,IN733029,IN733168,IN732421,IN733103,IN732534': 1,\n",
       " 'IN732165,IN732197,IN732198,IN732199': 1,\n",
       " 'IN732196,IN732194,IN732825,IN732211': 1,\n",
       " 'IN733972,IN733882': 1,\n",
       " 'IN732328,IN732313,IN732465,IN732108': 1,\n",
       " 'IN732187': 1,\n",
       " 'IN733190,IN733221,IN732173': 1,\n",
       " 'IN732723,IN733006,IN732472,IN732919,IN733386,IN732395': 1,\n",
       " 'IN732231,IN732328,IN732322,IN732538,IN732631,IN733177,IN732309,IN732276': 1,\n",
       " 'IN733197,IN733198,IN733182': 1,\n",
       " 'IN733303,IN733400': 1,\n",
       " 'IN732466,IN732680,IN732362,IN732115,IN732422,IN732089': 1,\n",
       " 'IN732897': 1,\n",
       " 'IN732368,IN732660': 1,\n",
       " 'IN732338,IN732201,IN733019,IN732738,IN732384': 1,\n",
       " 'IN732503,IN732591,IN732406,IN732521,IN732566': 1,\n",
       " 'IN732338,IN732249,IN733242,IN733128,IN732648,IN732125,IN732213': 1,\n",
       " 'IN732112,IN732184,IN732500,IN732674,IN732198,IN732501': 1,\n",
       " 'IN732143,IN732885,IN733380,IN732305,IN732640,IN732249,IN732325': 1,\n",
       " 'IN732401,IN732321,IN732875,IN733018,IN732846,IN732231,IN732490,IN732632,IN732358': 1,\n",
       " 'IN732410,IN732572,IN732265,IN732729': 1,\n",
       " 'IN732615,IN733806,IN733378': 1,\n",
       " 'IN732601,IN733632': 1,\n",
       " 'IN732527,IN732691,IN732658': 1,\n",
       " 'IN732158,IN732527,IN732074,IN733189,IN732627': 1,\n",
       " 'IN732808,IN732666,IN732060,IN732570,IN732861,IN733030,IN732984,IN732856,IN733587,IN733535': 1,\n",
       " 'IN733026,IN732868': 1,\n",
       " 'IN732252,IN732684,IN732619,IN732143,IN732334,IN732618,IN732328,IN732370,IN732802,IN733049,IN732205,IN732141': 1,\n",
       " 'IN733254,IN732203,IN732674,IN732197,IN732612,IN732255': 1,\n",
       " 'IN732440,IN732756,IN732193,IN732822,IN732241,IN733501,IN732893': 1,\n",
       " 'IN732685,IN732304,IN732360,IN732732': 1,\n",
       " 'IN732267,IN732482,IN732208': 1,\n",
       " 'IN732339,IN732614,IN732454,IN732910,IN732658,IN732961,IN732902': 1,\n",
       " 'IN732593,IN732789,IN732751': 1,\n",
       " 'IN732230,IN732753,IN732570,IN732561': 1,\n",
       " 'IN732149,IN732142': 1,\n",
       " 'IN733269,IN732086,IN732679,IN732121,IN732429,IN732334,IN732654': 1,\n",
       " 'IN732727,IN732480,IN732102,IN732423,IN732738': 1,\n",
       " 'IN732275,IN732458': 1,\n",
       " 'IN732158,IN732347,IN732456': 1,\n",
       " 'IN732471,IN733035': 1,\n",
       " 'IN732734,IN732255': 1,\n",
       " 'IN732929,IN732618,IN732935,IN732575': 1,\n",
       " 'IN732219,IN732518,IN732335,IN732217': 1,\n",
       " 'IN732067,IN732068,IN732069,IN732070,IN732071,IN732072': 1,\n",
       " 'IN733546,IN732299,IN733591,IN733006,IN733118,IN732856,IN733301,IN733969,IN732880': 1,\n",
       " 'IN732441': 1,\n",
       " 'IN732466,IN732172,IN732612': 1,\n",
       " 'IN733866,IN732158': 1,\n",
       " 'IN732688,IN732387,IN732067': 1,\n",
       " 'IN732518,IN732994,IN732508': 1,\n",
       " 'IN733191,IN732401,IN732430': 1,\n",
       " 'IN732231,IN732321': 1,\n",
       " 'IN732470,IN732130,IN732471,IN732469,IN732475,IN732430,IN732473,IN732476': 1,\n",
       " 'IN732126,IN733048': 1,\n",
       " 'IN732503,IN732504,IN732334,IN732502,IN732395': 1,\n",
       " 'IN732746,IN732073,IN732489,IN732564,IN732442,IN732701,IN732562,IN732110,IN732074,IN733285,IN732556': 1,\n",
       " 'IN732403,IN732528,IN732385,IN732529,IN732530,IN732273,IN732337': 1,\n",
       " 'IN732479,IN732368,IN732109,IN732370,IN732395': 1,\n",
       " 'IN732726,IN732157,IN733260,IN732588,IN732396,IN732395,IN732711,IN732493,IN732491,IN732760,IN733783': 1,\n",
       " 'IN732472,IN733098': 1,\n",
       " 'IN732322,IN733136,IN732076': 1,\n",
       " 'IN732453,IN732322,IN732454,IN732455,IN732456,IN732457,IN732458': 1,\n",
       " 'IN732586,IN733333,IN733334': 1,\n",
       " 'IN732273,IN732323': 1,\n",
       " 'IN732075,IN733988,IN732928': 1,\n",
       " 'IN732338,IN732846,IN733262,IN733733,IN732278,IN732994,IN732419': 1,\n",
       " 'IN732983,IN732657,IN732658,IN732930': 1,\n",
       " 'IN732632,IN732277,IN732436': 1,\n",
       " 'IN732743,IN732983,IN733000,IN732786,IN732401': 1,\n",
       " 'IN732638,IN732583,IN732729': 1,\n",
       " 'IN732596,IN732294': 1,\n",
       " 'IN732885,IN732580,IN732932,IN732502,IN732926,IN732308,IN732648,IN732252,IN732337': 1,\n",
       " 'IN732146,IN732406,IN732847,IN732330,IN733129,IN732319,IN732287,IN732413': 1,\n",
       " 'IN732620,IN732144,IN732645,IN732839,IN732569,IN733266,IN732406': 1,\n",
       " 'IN732932,IN732157,IN734002,IN733171': 1,\n",
       " 'IN732105,IN733048,IN732535,IN732295': 1,\n",
       " 'IN732268,IN732115': 1,\n",
       " 'IN732219,IN733111,IN732217': 1,\n",
       " 'IN732217,IN732599,IN732957,IN732187,IN732219': 1,\n",
       " 'IN732300,IN732763,IN733564,IN733246,IN732337,IN732171,IN732716,IN732523,IN732174,IN732624,IN733565': 1,\n",
       " 'IN732238,IN732880,IN732301,IN732111,IN732308': 1,\n",
       " 'IN732600': 1,\n",
       " 'IN733552,IN732568,IN732846,IN732612,IN732779,IN732775': 1,\n",
       " 'IN732074,IN733182,IN732698,IN732808,IN732744,IN732245,IN733283,IN732339,IN732532,IN732237,IN732180': 1,\n",
       " 'IN732074,IN732502': 1,\n",
       " 'IN733808': 1,\n",
       " 'IN732118,IN732690': 1,\n",
       " 'IN732753': 1,\n",
       " 'IN733527,IN732231,IN732145': 1,\n",
       " 'IN733521,IN732529,IN732435,IN732673,IN733308,IN732995': 1,\n",
       " 'IN732349,IN732371,IN733343,IN732238,IN732445': 1,\n",
       " 'IN732420,IN732652,IN732640,IN732325': 1,\n",
       " 'IN732228,IN732368,IN732833': 1,\n",
       " 'IN734064,IN733004': 1,\n",
       " 'IN732428,IN732231': 1,\n",
       " 'IN732499,IN732256': 1,\n",
       " 'IN734044,IN732502,IN733610,IN732490,IN732184,IN732651,IN733521,IN732613': 1,\n",
       " 'IN732701,IN732310,IN732689': 1,\n",
       " 'IN732217,IN732675,IN732789,IN732649,IN732790,IN732791,IN732166,IN732187,IN732792': 1,\n",
       " 'IN732677,IN732972': 1,\n",
       " 'IN732884,IN732564': 1,\n",
       " 'IN732628,IN732197,IN732489,IN732531,IN732933': 1,\n",
       " 'IN733078,IN733000,IN733971,IN732365': 1,\n",
       " 'IN732130,IN733061,IN732674,IN733786,IN732390,IN732401,IN733787,IN732309,IN732802': 1,\n",
       " 'IN732832,IN732596': 1,\n",
       " 'IN732293,IN733780,IN732382,IN732319,IN732213,IN733353': 1,\n",
       " 'IN732628,IN732453,IN732201,IN732276': 1,\n",
       " 'IN732678': 1,\n",
       " 'IN732315,IN732619,IN732921': 1,\n",
       " 'IN732086,IN732309,IN732989': 1,\n",
       " 'IN732267,IN732505,IN732504,IN732459': 1,\n",
       " 'IN732723,IN732548': 1,\n",
       " 'IN732116,IN732417': 1,\n",
       " 'IN732432,IN732518,IN733042,IN733043,IN732387,IN732329,IN732636,IN732779': 1,\n",
       " 'IN733593,IN733016,IN732648,IN733560,IN733055,IN732586,IN733758': 1,\n",
       " 'IN732338,IN732657,IN732658,IN732889': 1,\n",
       " 'IN733043': 1,\n",
       " 'IN733283,IN732399,IN732616,IN732650,IN733182': 1,\n",
       " 'IN733010': 1,\n",
       " 'IN733023,IN732232,IN732674,IN733550,IN733595': 1,\n",
       " 'IN733121,IN733122,IN733123,IN733124': 1,\n",
       " 'IN732448,IN733338': 1,\n",
       " 'IN732562,IN732587,IN732064,IN732201,IN733462,IN732174,IN733672,IN732529,IN732608,IN732556': 1,\n",
       " 'IN732746,IN732159,IN732126': 1,\n",
       " 'IN732587,IN732360,IN732338,IN732433': 1,\n",
       " 'IN733625,IN732671,IN732535,IN733310': 1,\n",
       " 'IN732583,IN732411': 1,\n",
       " 'IN732616,IN732255,IN733024': 1,\n",
       " 'IN732583,IN732589,IN732335,IN732566,IN733061,IN733312,IN732482,IN732338': 1,\n",
       " 'IN733663,IN733664': 1,\n",
       " 'IN732329,IN732143,IN734012,IN732838,IN732565,IN733578,IN732111,IN732731,IN732507': 1,\n",
       " 'IN732052,IN732867,IN732763,IN733927,IN732829': 1,\n",
       " 'IN732564,IN732616,IN732674,IN732487,IN733721,IN733414,IN733722': 1,\n",
       " 'IN732094,IN732763': 1,\n",
       " 'IN732478,IN733200,IN732324': 1,\n",
       " 'IN732755,IN732232,IN732551,IN733462,IN732928': 1,\n",
       " 'IN733176,IN733350,IN732609,IN732677': 1,\n",
       " 'IN732576,IN732100': 1,\n",
       " 'IN733224,IN733420,IN732136': 1,\n",
       " 'IN733442,IN733443,IN733444,IN733445,IN732913,IN733446,IN732473': 1,\n",
       " 'IN732347,IN733266,IN733285': 1,\n",
       " 'IN732273,IN732101': 1,\n",
       " 'IN732875,IN732987,IN733386,IN732338,IN733808,IN733405,IN732636,IN732124,IN732505,IN732121,IN732937,IN732325,IN733579,IN732135,IN732919,IN732695,IN733482,IN732122,IN733644': 1,\n",
       " 'IN733519': 1,\n",
       " 'IN732231,IN732084': 1,\n",
       " 'IN733483,IN732540': 1,\n",
       " 'IN732410,IN732535,IN732508,IN732062,IN733519': 1,\n",
       " 'IN732139,IN732337': 1,\n",
       " 'IN732139,IN732171,IN732482': 1,\n",
       " 'IN732109,IN732576,IN733476': 1,\n",
       " 'IN732315,IN732103,IN732097,IN732700,IN732268,IN732534,IN732873,IN733496,IN732532,IN733535,IN732136,IN733096,IN732838,IN732310,IN733605,IN733156,IN732674,IN733611,IN732525,IN732155,IN733709': 1,\n",
       " 'IN733191,IN733192,IN733193,IN733194': 1,\n",
       " 'IN732207,IN732406,IN732893,IN732569,IN732420': 1,\n",
       " 'IN732474,IN732518,IN732255,IN732249,IN733062': 1,\n",
       " 'IN732495,IN733243,IN733606,IN732794,IN732608,IN732535,IN733473': 1,\n",
       " 'IN732368,IN732190,IN733799,IN732172': 1,\n",
       " 'IN732841,IN732842,IN732843,IN732844,IN732591': 1,\n",
       " 'IN732060,IN732522,IN732523,IN732301,IN732524,IN732287,IN732078': 1,\n",
       " 'IN732224,IN732698,IN732508,IN732255': 1,\n",
       " 'IN732250,IN732251,IN732252,IN732253,IN732143,IN732211,IN732254,IN732255,IN732256,IN732257': 1,\n",
       " 'IN732388,IN732389,IN732390,IN732391,IN732299,IN732392,IN732393,IN732394': 1,\n",
       " 'IN733824,IN733825,IN733826': 1,\n",
       " 'IN732333,IN733179,IN732337,IN732853,IN733245': 1,\n",
       " 'IN732101,IN732379,IN733275,IN734022': 1,\n",
       " 'IN732654,IN732921,IN733018,IN732114,IN732258,IN732819,IN733063,IN732374': 1,\n",
       " 'IN732591,IN732093,IN732590,IN732564': 1,\n",
       " 'IN732350,IN732616,IN733249,IN732173': 1,\n",
       " 'IN732130,IN732490,IN732888,IN732568': 1,\n",
       " 'IN732308,IN732528,IN732929,IN732774': 1,\n",
       " ...}"
      ]
     },
     "execution_count": 60,
     "metadata": {},
     "output_type": "execute_result"
    }
   ],
   "source": [
    "ingredient"
   ]
  },
  {
   "cell_type": "code",
   "execution_count": 61,
   "metadata": {},
   "outputs": [
    {
     "name": "stdout",
     "output_type": "stream",
     "text": [
      "['IN732638', 'IN732362', 'IN732502', 'IN732859', 'IN732832', 'IN732835', 'IN732200', 'IN732993', 'IN732094', 'IN733022']\n"
     ]
    }
   ],
   "source": [
    "ing_first_10 = list(ingredient)[:10]\n",
    "print (ing_first_10)"
   ]
  },
  {
   "cell_type": "code",
   "execution_count": 62,
   "metadata": {},
   "outputs": [],
   "source": [
    "dict_ingredient = {}\n",
    "for ingredient in train[train.ingredient.notnull()].ingredient.map(breakup):\n",
    "    for i in ingredient:\n",
    "        if i in dict_ingredient.keys():\n",
    "            dict_ingredient[i] += 1\n",
    "        else:\n",
    "            dict_ingredient[i] = 1"
   ]
  },
  {
   "cell_type": "code",
   "execution_count": 63,
   "metadata": {},
   "outputs": [],
   "source": [
    "dict_ingredient = sorted(dict_ingredient.items(), key = lambda x: x[1], reverse = True)"
   ]
  },
  {
   "cell_type": "code",
   "execution_count": 64,
   "metadata": {},
   "outputs": [
    {
     "name": "stdout",
     "output_type": "stream",
     "text": [
      "[('IN732658', 57), ('IN732094', 45), ('IN732489', 41), ('IN732074', 40), ('IN732583', 36), ('IN732097', 35), ('IN732231', 35), ('IN732503', 33), ('IN732505', 33), ('IN732217', 30)]\n"
     ]
    }
   ],
   "source": [
    "ing_first_ten = list(dict_ingredient)[:10]\n",
    "print (ing_first_ten)"
   ]
  },
  {
   "cell_type": "code",
   "execution_count": 65,
   "metadata": {},
   "outputs": [],
   "source": [
    "train['ingredient'].fillna(ing_first_ten[0][0],inplace=True)"
   ]
  },
  {
   "cell_type": "code",
   "execution_count": 66,
   "metadata": {},
   "outputs": [
    {
     "data": {
      "text/plain": [
       "0"
      ]
     },
     "execution_count": 66,
     "metadata": {},
     "output_type": "execute_result"
    }
   ],
   "source": [
    "train['ingredient'].isnull().sum()"
   ]
  },
  {
   "cell_type": "code",
   "execution_count": 67,
   "metadata": {},
   "outputs": [
    {
     "name": "stdout",
     "output_type": "stream",
     "text": [
      "['IN732658', 'IN732094', 'IN732489', 'IN732074', 'IN732583', 'IN732097', 'IN732231', 'IN732503', 'IN732505', 'IN732217']\n"
     ]
    }
   ],
   "source": [
    "print(Extract(ing_first_ten)) "
   ]
  },
  {
   "cell_type": "code",
   "execution_count": 68,
   "metadata": {},
   "outputs": [
    {
     "data": {
      "text/plain": [
       "['IN732094']"
      ]
     },
     "execution_count": 68,
     "metadata": {},
     "output_type": "execute_result"
    }
   ],
   "source": [
    "list(set(Extract(ing_first_ten)) & set(ing_first_10))"
   ]
  },
  {
   "cell_type": "code",
   "execution_count": 69,
   "metadata": {},
   "outputs": [],
   "source": [
    "from pandas import Series, DataFrame\n",
    "\n",
    "ing_split = train['ingredient'].str.split(',').apply(Series, 1).stack()\n",
    "ing_split.index = ing_split.index.droplevel(-1)\n",
    "ing_split.name = 'ingredient'\n",
    "del train['ingredient']"
   ]
  },
  {
   "cell_type": "code",
   "execution_count": 70,
   "metadata": {},
   "outputs": [
    {
     "data": {
      "text/plain": [
       "0       IN732052\n",
       "0       IN732053\n",
       "1       IN732054\n",
       "1       IN732055\n",
       "1       IN732056\n",
       "          ...   \n",
       "2754    IN733785\n",
       "2754    IN732069\n",
       "2754    IN732797\n",
       "2755    IN732587\n",
       "2756    IN732658\n",
       "Name: ingredient, Length: 11835, dtype: object"
      ]
     },
     "execution_count": 70,
     "metadata": {},
     "output_type": "execute_result"
    }
   ],
   "source": [
    "ing_split"
   ]
  },
  {
   "cell_type": "markdown",
   "metadata": {},
   "source": [
    "### 'product_type'"
   ]
  },
  {
   "cell_type": "code",
   "execution_count": 71,
   "metadata": {},
   "outputs": [],
   "source": [
    "product_type = train.product_type.value_counts().to_dict()"
   ]
  },
  {
   "cell_type": "code",
   "execution_count": 72,
   "metadata": {},
   "outputs": [
    {
     "data": {
      "text/plain": [
       "{'D': 417,\n",
       " 'N': 172,\n",
       " 'C': 170,\n",
       " 'D,R': 160,\n",
       " 'H': 149,\n",
       " 'U': 147,\n",
       " 'A': 113,\n",
       " 'J,D': 94,\n",
       " 'D,H': 77,\n",
       " 'D,A': 75,\n",
       " 'J,B': 65,\n",
       " 'R': 57,\n",
       " 'U,H': 54,\n",
       " 'U,A': 53,\n",
       " 'T,H': 47,\n",
       " 'F,D': 42,\n",
       " 'K': 42,\n",
       " 'P,H': 41,\n",
       " 'F,H': 40,\n",
       " 'S,A': 40,\n",
       " 'B,A': 39,\n",
       " 'Q,H': 39,\n",
       " 'T,D': 36,\n",
       " 'H,A': 34,\n",
       " 'S,N': 30,\n",
       " 'N,A': 28,\n",
       " 'K,D': 27,\n",
       " 'J': 27,\n",
       " 'Q,B': 26,\n",
       " 'N,U': 26,\n",
       " 'S,U': 25,\n",
       " 'N,D': 23,\n",
       " 'S,B': 22,\n",
       " 'F,U': 21,\n",
       " 'F,A': 20,\n",
       " 'B': 20,\n",
       " 'V': 20,\n",
       " 'P,P': 19,\n",
       " 'G': 17,\n",
       " 'S,D': 16,\n",
       " 'K,H': 16,\n",
       " 'F': 15,\n",
       " 'S': 13,\n",
       " 'V,H': 13,\n",
       " 'U,R': 13,\n",
       " 'W': 12,\n",
       " 'H,M': 10,\n",
       " 'E': 10,\n",
       " 'Q,A': 10,\n",
       " 'K,S': 9,\n",
       " 'B,D': 8,\n",
       " 'Q,N': 8,\n",
       " 'L,A': 7,\n",
       " 'Q,D': 7,\n",
       " 'U,D': 7,\n",
       " 'L': 5,\n",
       " 'I,M': 5,\n",
       " 'K,A': 5,\n",
       " 'T,A': 3,\n",
       " 'W,D': 3,\n",
       " 'N,L': 3,\n",
       " 'O': 2,\n",
       " 'R,V': 2,\n",
       " 'B,R': 1}"
      ]
     },
     "execution_count": 72,
     "metadata": {},
     "output_type": "execute_result"
    }
   ],
   "source": [
    "product_type"
   ]
  },
  {
   "cell_type": "code",
   "execution_count": 73,
   "metadata": {},
   "outputs": [
    {
     "name": "stdout",
     "output_type": "stream",
     "text": [
      "['D', 'N', 'C', 'D,R', 'H', 'U', 'A', 'J,D', 'D,H', 'D,A']\n"
     ]
    }
   ],
   "source": [
    "pt_first_10 = list(product_type)[:10]\n",
    "print (pt_first_10)"
   ]
  },
  {
   "cell_type": "code",
   "execution_count": 74,
   "metadata": {},
   "outputs": [],
   "source": [
    "dict_pt = {}\n",
    "for pt in train[train.product_type.notnull()].product_type.map(breakup):\n",
    "    for i in pt:\n",
    "        if i in dict_pt.keys():\n",
    "            dict_pt[i] += 1\n",
    "        else:\n",
    "            dict_pt[i] = 1"
   ]
  },
  {
   "cell_type": "code",
   "execution_count": 75,
   "metadata": {},
   "outputs": [],
   "source": [
    "dict_pt = sorted(dict_pt.items(), key = lambda x: x[1], reverse = True)"
   ]
  },
  {
   "cell_type": "code",
   "execution_count": 76,
   "metadata": {},
   "outputs": [
    {
     "name": "stdout",
     "output_type": "stream",
     "text": [
      "[('D', 992), ('H', 520), ('A', 427), ('U', 346), ('N', 290), ('R', 233), ('J', 186), ('B', 181), ('C', 170), ('S', 155)]\n"
     ]
    }
   ],
   "source": [
    "pt_first_ten = list(dict_pt)[:10]\n",
    "print (pt_first_ten)"
   ]
  },
  {
   "cell_type": "code",
   "execution_count": 77,
   "metadata": {},
   "outputs": [
    {
     "data": {
      "text/plain": [
       "['D', 'U', 'N', 'C', 'H', 'A']"
      ]
     },
     "execution_count": 77,
     "metadata": {},
     "output_type": "execute_result"
    }
   ],
   "source": [
    "list(set(Extract(pt_first_ten)) & set(pt_first_10))"
   ]
  },
  {
   "cell_type": "code",
   "execution_count": 78,
   "metadata": {},
   "outputs": [],
   "source": [
    "pt_split = train['product_type'].str.split(',').apply(Series, 1).stack()\n",
    "pt_split.index = pt_split.index.droplevel(-1)\n",
    "pt_split.name = 'product_type'\n",
    "del train['product_type']"
   ]
  },
  {
   "cell_type": "code",
   "execution_count": 79,
   "metadata": {},
   "outputs": [
    {
     "data": {
      "text/plain": [
       "0       Q\n",
       "0       B\n",
       "1       J\n",
       "1       D\n",
       "2       J\n",
       "       ..\n",
       "2753    D\n",
       "2754    J\n",
       "2754    B\n",
       "2755    R\n",
       "2756    N\n",
       "Name: product_type, Length: 4106, dtype: object"
      ]
     },
     "execution_count": 79,
     "metadata": {},
     "output_type": "execute_result"
    }
   ],
   "source": [
    "pt_split"
   ]
  },
  {
   "cell_type": "code",
   "execution_count": 80,
   "metadata": {},
   "outputs": [],
   "source": [
    "train_split = train.join(pd.DataFrame(ing_split).join(pt_split))"
   ]
  },
  {
   "cell_type": "markdown",
   "metadata": {},
   "source": [
    "### using one_hot_encoding for data transforming"
   ]
  },
  {
   "cell_type": "code",
   "execution_count": 81,
   "metadata": {},
   "outputs": [],
   "source": [
    "def one_hot_encoding_top_x(df, variable, top_x_labels):\n",
    "    # function to create the dummy variables for the most frequent labels\n",
    "    # we can vary the number of most frequent labels that we encode\n",
    "    \n",
    "    for label in top_x_labels:\n",
    "        df[variable+'_'+label] = np.where(df[variable]==label, 1, 0)"
   ]
  },
  {
   "cell_type": "code",
   "execution_count": 82,
   "metadata": {},
   "outputs": [],
   "source": [
    "one_hot_encoding_top_x(train_split, 'maker', first_10)"
   ]
  },
  {
   "cell_type": "code",
   "execution_count": 83,
   "metadata": {},
   "outputs": [],
   "source": [
    "one_hot_encoding_top_x(train_split, 'ingredient', Extract(ing_first_ten))"
   ]
  },
  {
   "cell_type": "code",
   "execution_count": 84,
   "metadata": {},
   "outputs": [],
   "source": [
    "one_hot_encoding_top_x(train_split, 'product_type', Extract(pt_first_ten))"
   ]
  },
  {
   "cell_type": "code",
   "execution_count": 85,
   "metadata": {},
   "outputs": [
    {
     "data": {
      "text/html": [
       "<div>\n",
       "<style scoped>\n",
       "    .dataframe tbody tr th:only-of-type {\n",
       "        vertical-align: middle;\n",
       "    }\n",
       "\n",
       "    .dataframe tbody tr th {\n",
       "        vertical-align: top;\n",
       "    }\n",
       "\n",
       "    .dataframe thead th {\n",
       "        text-align: right;\n",
       "    }\n",
       "</style>\n",
       "<table border=\"1\" class=\"dataframe\">\n",
       "  <thead>\n",
       "    <tr style=\"text-align: right;\">\n",
       "      <th></th>\n",
       "      <th>maker</th>\n",
       "    </tr>\n",
       "  </thead>\n",
       "  <tbody>\n",
       "    <tr>\n",
       "      <th>0</th>\n",
       "      <td>M14122</td>\n",
       "    </tr>\n",
       "    <tr>\n",
       "      <th>0</th>\n",
       "      <td>M14122</td>\n",
       "    </tr>\n",
       "    <tr>\n",
       "      <th>0</th>\n",
       "      <td>M14122</td>\n",
       "    </tr>\n",
       "    <tr>\n",
       "      <th>0</th>\n",
       "      <td>M14122</td>\n",
       "    </tr>\n",
       "    <tr>\n",
       "      <th>1</th>\n",
       "      <td>M14346</td>\n",
       "    </tr>\n",
       "    <tr>\n",
       "      <th>1</th>\n",
       "      <td>M14346</td>\n",
       "    </tr>\n",
       "    <tr>\n",
       "      <th>1</th>\n",
       "      <td>M14346</td>\n",
       "    </tr>\n",
       "    <tr>\n",
       "      <th>1</th>\n",
       "      <td>M14346</td>\n",
       "    </tr>\n",
       "    <tr>\n",
       "      <th>1</th>\n",
       "      <td>M14346</td>\n",
       "    </tr>\n",
       "    <tr>\n",
       "      <th>1</th>\n",
       "      <td>M14346</td>\n",
       "    </tr>\n",
       "    <tr>\n",
       "      <th>1</th>\n",
       "      <td>M14346</td>\n",
       "    </tr>\n",
       "    <tr>\n",
       "      <th>1</th>\n",
       "      <td>M14346</td>\n",
       "    </tr>\n",
       "    <tr>\n",
       "      <th>1</th>\n",
       "      <td>M14346</td>\n",
       "    </tr>\n",
       "    <tr>\n",
       "      <th>1</th>\n",
       "      <td>M14346</td>\n",
       "    </tr>\n",
       "    <tr>\n",
       "      <th>2</th>\n",
       "      <td>M14346</td>\n",
       "    </tr>\n",
       "    <tr>\n",
       "      <th>2</th>\n",
       "      <td>M14346</td>\n",
       "    </tr>\n",
       "    <tr>\n",
       "      <th>2</th>\n",
       "      <td>M14346</td>\n",
       "    </tr>\n",
       "    <tr>\n",
       "      <th>2</th>\n",
       "      <td>M14346</td>\n",
       "    </tr>\n",
       "    <tr>\n",
       "      <th>2</th>\n",
       "      <td>M14346</td>\n",
       "    </tr>\n",
       "    <tr>\n",
       "      <th>2</th>\n",
       "      <td>M14346</td>\n",
       "    </tr>\n",
       "  </tbody>\n",
       "</table>\n",
       "</div>"
      ],
      "text/plain": [
       "    maker\n",
       "0  M14122\n",
       "0  M14122\n",
       "0  M14122\n",
       "0  M14122\n",
       "1  M14346\n",
       "1  M14346\n",
       "1  M14346\n",
       "1  M14346\n",
       "1  M14346\n",
       "1  M14346\n",
       "1  M14346\n",
       "1  M14346\n",
       "1  M14346\n",
       "1  M14346\n",
       "2  M14346\n",
       "2  M14346\n",
       "2  M14346\n",
       "2  M14346\n",
       "2  M14346\n",
       "2  M14346"
      ]
     },
     "execution_count": 85,
     "metadata": {},
     "output_type": "execute_result"
    }
   ],
   "source": [
    "train_split[['maker']].head(20)"
   ]
  },
  {
   "cell_type": "markdown",
   "metadata": {},
   "source": [
    "### use label encoding"
   ]
  },
  {
   "cell_type": "code",
   "execution_count": null,
   "metadata": {},
   "outputs": [],
   "source": []
  },
  {
   "cell_type": "code",
   "execution_count": null,
   "metadata": {},
   "outputs": [],
   "source": []
  },
  {
   "cell_type": "code",
   "execution_count": null,
   "metadata": {},
   "outputs": [],
   "source": []
  },
  {
   "cell_type": "code",
   "execution_count": null,
   "metadata": {},
   "outputs": [],
   "source": []
  },
  {
   "cell_type": "code",
   "execution_count": null,
   "metadata": {},
   "outputs": [],
   "source": []
  },
  {
   "cell_type": "markdown",
   "metadata": {},
   "source": [
    "### 'product_level'"
   ]
  },
  {
   "cell_type": "markdown",
   "metadata": {},
   "source": [
    "#### use ordinal label"
   ]
  },
  {
   "cell_type": "code",
   "execution_count": 86,
   "metadata": {},
   "outputs": [],
   "source": [
    "dic = {'unrated':0, 'basic':1, 'intermediate':2, 'advanced':3, 'super advanced':4}\n",
    "train_split['product_level'] = train_split.product_level.map(dic)"
   ]
  },
  {
   "cell_type": "code",
   "execution_count": 87,
   "metadata": {},
   "outputs": [
    {
     "data": {
      "text/html": [
       "<div>\n",
       "<style scoped>\n",
       "    .dataframe tbody tr th:only-of-type {\n",
       "        vertical-align: middle;\n",
       "    }\n",
       "\n",
       "    .dataframe tbody tr th {\n",
       "        vertical-align: top;\n",
       "    }\n",
       "\n",
       "    .dataframe thead th {\n",
       "        text-align: right;\n",
       "    }\n",
       "</style>\n",
       "<table border=\"1\" class=\"dataframe\">\n",
       "  <thead>\n",
       "    <tr style=\"text-align: right;\">\n",
       "      <th></th>\n",
       "      <th>cost</th>\n",
       "      <th>weight</th>\n",
       "      <th>height</th>\n",
       "      <th>width</th>\n",
       "      <th>depth</th>\n",
       "      <th>price</th>\n",
       "      <th>year</th>\n",
       "      <th>month</th>\n",
       "      <th>day</th>\n",
       "      <th>product_level</th>\n",
       "      <th>...</th>\n",
       "      <th>product_type_D</th>\n",
       "      <th>product_type_H</th>\n",
       "      <th>product_type_A</th>\n",
       "      <th>product_type_U</th>\n",
       "      <th>product_type_N</th>\n",
       "      <th>product_type_R</th>\n",
       "      <th>product_type_J</th>\n",
       "      <th>product_type_B</th>\n",
       "      <th>product_type_C</th>\n",
       "      <th>product_type_S</th>\n",
       "    </tr>\n",
       "  </thead>\n",
       "  <tbody>\n",
       "    <tr>\n",
       "      <th>0</th>\n",
       "      <td>333000.0</td>\n",
       "      <td>3.90</td>\n",
       "      <td>2.76</td>\n",
       "      <td>97.0</td>\n",
       "      <td>26.0</td>\n",
       "      <td>300492.0</td>\n",
       "      <td>2008</td>\n",
       "      <td>12</td>\n",
       "      <td>19</td>\n",
       "      <td>3</td>\n",
       "      <td>...</td>\n",
       "      <td>0</td>\n",
       "      <td>0</td>\n",
       "      <td>0</td>\n",
       "      <td>0</td>\n",
       "      <td>0</td>\n",
       "      <td>0</td>\n",
       "      <td>0</td>\n",
       "      <td>0</td>\n",
       "      <td>0</td>\n",
       "      <td>0</td>\n",
       "    </tr>\n",
       "    <tr>\n",
       "      <th>0</th>\n",
       "      <td>333000.0</td>\n",
       "      <td>3.90</td>\n",
       "      <td>2.76</td>\n",
       "      <td>97.0</td>\n",
       "      <td>26.0</td>\n",
       "      <td>300492.0</td>\n",
       "      <td>2008</td>\n",
       "      <td>12</td>\n",
       "      <td>19</td>\n",
       "      <td>3</td>\n",
       "      <td>...</td>\n",
       "      <td>0</td>\n",
       "      <td>0</td>\n",
       "      <td>0</td>\n",
       "      <td>0</td>\n",
       "      <td>0</td>\n",
       "      <td>0</td>\n",
       "      <td>0</td>\n",
       "      <td>1</td>\n",
       "      <td>0</td>\n",
       "      <td>0</td>\n",
       "    </tr>\n",
       "    <tr>\n",
       "      <th>0</th>\n",
       "      <td>333000.0</td>\n",
       "      <td>3.90</td>\n",
       "      <td>2.76</td>\n",
       "      <td>97.0</td>\n",
       "      <td>26.0</td>\n",
       "      <td>300492.0</td>\n",
       "      <td>2008</td>\n",
       "      <td>12</td>\n",
       "      <td>19</td>\n",
       "      <td>3</td>\n",
       "      <td>...</td>\n",
       "      <td>0</td>\n",
       "      <td>0</td>\n",
       "      <td>0</td>\n",
       "      <td>0</td>\n",
       "      <td>0</td>\n",
       "      <td>0</td>\n",
       "      <td>0</td>\n",
       "      <td>0</td>\n",
       "      <td>0</td>\n",
       "      <td>0</td>\n",
       "    </tr>\n",
       "    <tr>\n",
       "      <th>0</th>\n",
       "      <td>333000.0</td>\n",
       "      <td>3.90</td>\n",
       "      <td>2.76</td>\n",
       "      <td>97.0</td>\n",
       "      <td>26.0</td>\n",
       "      <td>300492.0</td>\n",
       "      <td>2008</td>\n",
       "      <td>12</td>\n",
       "      <td>19</td>\n",
       "      <td>3</td>\n",
       "      <td>...</td>\n",
       "      <td>0</td>\n",
       "      <td>0</td>\n",
       "      <td>0</td>\n",
       "      <td>0</td>\n",
       "      <td>0</td>\n",
       "      <td>0</td>\n",
       "      <td>0</td>\n",
       "      <td>1</td>\n",
       "      <td>0</td>\n",
       "      <td>0</td>\n",
       "    </tr>\n",
       "    <tr>\n",
       "      <th>1</th>\n",
       "      <td>122000.0</td>\n",
       "      <td>3.30</td>\n",
       "      <td>2.67</td>\n",
       "      <td>98.0</td>\n",
       "      <td>26.0</td>\n",
       "      <td>430570.0</td>\n",
       "      <td>1997</td>\n",
       "      <td>9</td>\n",
       "      <td>10</td>\n",
       "      <td>1</td>\n",
       "      <td>...</td>\n",
       "      <td>0</td>\n",
       "      <td>0</td>\n",
       "      <td>0</td>\n",
       "      <td>0</td>\n",
       "      <td>0</td>\n",
       "      <td>0</td>\n",
       "      <td>1</td>\n",
       "      <td>0</td>\n",
       "      <td>0</td>\n",
       "      <td>0</td>\n",
       "    </tr>\n",
       "    <tr>\n",
       "      <th>...</th>\n",
       "      <td>...</td>\n",
       "      <td>...</td>\n",
       "      <td>...</td>\n",
       "      <td>...</td>\n",
       "      <td>...</td>\n",
       "      <td>...</td>\n",
       "      <td>...</td>\n",
       "      <td>...</td>\n",
       "      <td>...</td>\n",
       "      <td>...</td>\n",
       "      <td>...</td>\n",
       "      <td>...</td>\n",
       "      <td>...</td>\n",
       "      <td>...</td>\n",
       "      <td>...</td>\n",
       "      <td>...</td>\n",
       "      <td>...</td>\n",
       "      <td>...</td>\n",
       "      <td>...</td>\n",
       "      <td>...</td>\n",
       "      <td>...</td>\n",
       "    </tr>\n",
       "    <tr>\n",
       "      <th>2754</th>\n",
       "      <td>122000.0</td>\n",
       "      <td>2.83</td>\n",
       "      <td>2.15</td>\n",
       "      <td>106.0</td>\n",
       "      <td>28.0</td>\n",
       "      <td>40384.0</td>\n",
       "      <td>2007</td>\n",
       "      <td>5</td>\n",
       "      <td>25</td>\n",
       "      <td>2</td>\n",
       "      <td>...</td>\n",
       "      <td>0</td>\n",
       "      <td>0</td>\n",
       "      <td>0</td>\n",
       "      <td>0</td>\n",
       "      <td>0</td>\n",
       "      <td>0</td>\n",
       "      <td>0</td>\n",
       "      <td>1</td>\n",
       "      <td>0</td>\n",
       "      <td>0</td>\n",
       "    </tr>\n",
       "    <tr>\n",
       "      <th>2754</th>\n",
       "      <td>122000.0</td>\n",
       "      <td>2.83</td>\n",
       "      <td>2.15</td>\n",
       "      <td>106.0</td>\n",
       "      <td>28.0</td>\n",
       "      <td>40384.0</td>\n",
       "      <td>2007</td>\n",
       "      <td>5</td>\n",
       "      <td>25</td>\n",
       "      <td>2</td>\n",
       "      <td>...</td>\n",
       "      <td>0</td>\n",
       "      <td>0</td>\n",
       "      <td>0</td>\n",
       "      <td>0</td>\n",
       "      <td>0</td>\n",
       "      <td>0</td>\n",
       "      <td>1</td>\n",
       "      <td>0</td>\n",
       "      <td>0</td>\n",
       "      <td>0</td>\n",
       "    </tr>\n",
       "    <tr>\n",
       "      <th>2754</th>\n",
       "      <td>122000.0</td>\n",
       "      <td>2.83</td>\n",
       "      <td>2.15</td>\n",
       "      <td>106.0</td>\n",
       "      <td>28.0</td>\n",
       "      <td>40384.0</td>\n",
       "      <td>2007</td>\n",
       "      <td>5</td>\n",
       "      <td>25</td>\n",
       "      <td>2</td>\n",
       "      <td>...</td>\n",
       "      <td>0</td>\n",
       "      <td>0</td>\n",
       "      <td>0</td>\n",
       "      <td>0</td>\n",
       "      <td>0</td>\n",
       "      <td>0</td>\n",
       "      <td>0</td>\n",
       "      <td>1</td>\n",
       "      <td>0</td>\n",
       "      <td>0</td>\n",
       "    </tr>\n",
       "    <tr>\n",
       "      <th>2755</th>\n",
       "      <td>44000.0</td>\n",
       "      <td>2.95</td>\n",
       "      <td>2.52</td>\n",
       "      <td>100.0</td>\n",
       "      <td>26.0</td>\n",
       "      <td>55931.0</td>\n",
       "      <td>2002</td>\n",
       "      <td>4</td>\n",
       "      <td>12</td>\n",
       "      <td>3</td>\n",
       "      <td>...</td>\n",
       "      <td>0</td>\n",
       "      <td>0</td>\n",
       "      <td>0</td>\n",
       "      <td>0</td>\n",
       "      <td>0</td>\n",
       "      <td>1</td>\n",
       "      <td>0</td>\n",
       "      <td>0</td>\n",
       "      <td>0</td>\n",
       "      <td>0</td>\n",
       "    </tr>\n",
       "    <tr>\n",
       "      <th>2756</th>\n",
       "      <td>128000.0</td>\n",
       "      <td>2.98</td>\n",
       "      <td>2.96</td>\n",
       "      <td>92.0</td>\n",
       "      <td>24.0</td>\n",
       "      <td>44370.0</td>\n",
       "      <td>2003</td>\n",
       "      <td>6</td>\n",
       "      <td>13</td>\n",
       "      <td>4</td>\n",
       "      <td>...</td>\n",
       "      <td>0</td>\n",
       "      <td>0</td>\n",
       "      <td>0</td>\n",
       "      <td>0</td>\n",
       "      <td>1</td>\n",
       "      <td>0</td>\n",
       "      <td>0</td>\n",
       "      <td>0</td>\n",
       "      <td>0</td>\n",
       "      <td>0</td>\n",
       "    </tr>\n",
       "  </tbody>\n",
       "</table>\n",
       "<p>17535 rows × 43 columns</p>\n",
       "</div>"
      ],
      "text/plain": [
       "          cost  weight  height  width  depth     price  year  month  day  \\\n",
       "0     333000.0    3.90    2.76   97.0   26.0  300492.0  2008     12   19   \n",
       "0     333000.0    3.90    2.76   97.0   26.0  300492.0  2008     12   19   \n",
       "0     333000.0    3.90    2.76   97.0   26.0  300492.0  2008     12   19   \n",
       "0     333000.0    3.90    2.76   97.0   26.0  300492.0  2008     12   19   \n",
       "1     122000.0    3.30    2.67   98.0   26.0  430570.0  1997      9   10   \n",
       "...        ...     ...     ...    ...    ...       ...   ...    ...  ...   \n",
       "2754  122000.0    2.83    2.15  106.0   28.0   40384.0  2007      5   25   \n",
       "2754  122000.0    2.83    2.15  106.0   28.0   40384.0  2007      5   25   \n",
       "2754  122000.0    2.83    2.15  106.0   28.0   40384.0  2007      5   25   \n",
       "2755   44000.0    2.95    2.52  100.0   26.0   55931.0  2002      4   12   \n",
       "2756  128000.0    2.98    2.96   92.0   24.0   44370.0  2003      6   13   \n",
       "\n",
       "      product_level  ... product_type_D product_type_H product_type_A  \\\n",
       "0                 3  ...              0              0              0   \n",
       "0                 3  ...              0              0              0   \n",
       "0                 3  ...              0              0              0   \n",
       "0                 3  ...              0              0              0   \n",
       "1                 1  ...              0              0              0   \n",
       "...             ...  ...            ...            ...            ...   \n",
       "2754              2  ...              0              0              0   \n",
       "2754              2  ...              0              0              0   \n",
       "2754              2  ...              0              0              0   \n",
       "2755              3  ...              0              0              0   \n",
       "2756              4  ...              0              0              0   \n",
       "\n",
       "      product_type_U  product_type_N  product_type_R  product_type_J  \\\n",
       "0                  0               0               0               0   \n",
       "0                  0               0               0               0   \n",
       "0                  0               0               0               0   \n",
       "0                  0               0               0               0   \n",
       "1                  0               0               0               1   \n",
       "...              ...             ...             ...             ...   \n",
       "2754               0               0               0               0   \n",
       "2754               0               0               0               1   \n",
       "2754               0               0               0               0   \n",
       "2755               0               0               1               0   \n",
       "2756               0               1               0               0   \n",
       "\n",
       "      product_type_B  product_type_C  product_type_S  \n",
       "0                  0               0               0  \n",
       "0                  1               0               0  \n",
       "0                  0               0               0  \n",
       "0                  1               0               0  \n",
       "1                  0               0               0  \n",
       "...              ...             ...             ...  \n",
       "2754               1               0               0  \n",
       "2754               0               0               0  \n",
       "2754               1               0               0  \n",
       "2755               0               0               0  \n",
       "2756               0               0               0  \n",
       "\n",
       "[17535 rows x 43 columns]"
      ]
     },
     "execution_count": 87,
     "metadata": {},
     "output_type": "execute_result"
    }
   ],
   "source": [
    "train_split"
   ]
  },
  {
   "cell_type": "markdown",
   "metadata": {},
   "source": [
    "# 3. Feature selection"
   ]
  },
  {
   "cell_type": "markdown",
   "metadata": {},
   "source": [
    "## 3.1 Lasso"
   ]
  },
  {
   "cell_type": "code",
   "execution_count": 88,
   "metadata": {},
   "outputs": [],
   "source": [
    "from sklearn.linear_model import Lasso\n",
    "from sklearn.feature_selection import SelectFromModel"
   ]
  },
  {
   "cell_type": "code",
   "execution_count": 89,
   "metadata": {},
   "outputs": [],
   "source": [
    "y_train=train_split[['price']]"
   ]
  },
  {
   "cell_type": "code",
   "execution_count": 90,
   "metadata": {},
   "outputs": [],
   "source": [
    "X_train=train_split.drop(['price', 'ingredient','maker','product_type'],axis=1)"
   ]
  },
  {
   "cell_type": "code",
   "execution_count": 91,
   "metadata": {},
   "outputs": [
    {
     "data": {
      "text/plain": [
       "SelectFromModel(estimator=Lasso(alpha=0.005, random_state=0))"
      ]
     },
     "execution_count": 91,
     "metadata": {},
     "output_type": "execute_result"
    }
   ],
   "source": [
    "### Apply Feature Selection\n",
    "# first, I specify the Lasso Regression model, and I\n",
    "# select a suitable alpha (equivalent of penalty).\n",
    "# The bigger the alpha the less features that will be selected.\n",
    "\n",
    "# Then I use the selectFromModel object from sklearn, which\n",
    "# will select the features which coefficients are non-zero\n",
    "\n",
    "feature_sel_model = SelectFromModel(Lasso(alpha=0.005, random_state=0)) # remember to set the seed, the random state in this function\n",
    "feature_sel_model.fit(X_train, y_train)"
   ]
  },
  {
   "cell_type": "code",
   "execution_count": 92,
   "metadata": {},
   "outputs": [
    {
     "data": {
      "text/plain": [
       "array([ True,  True,  True,  True,  True,  True,  True,  True,  True,\n",
       "        True,  True,  True,  True,  True,  True,  True,  True,  True,\n",
       "        True,  True,  True,  True,  True,  True,  True,  True,  True,\n",
       "        True,  True,  True,  True,  True,  True,  True,  True,  True,\n",
       "        True,  True,  True])"
      ]
     },
     "execution_count": 92,
     "metadata": {},
     "output_type": "execute_result"
    }
   ],
   "source": [
    "feature_sel_model.get_support()"
   ]
  },
  {
   "cell_type": "markdown",
   "metadata": {},
   "source": [
    "## 3.2 Correlation"
   ]
  },
  {
   "cell_type": "code",
   "execution_count": 93,
   "metadata": {},
   "outputs": [
    {
     "data": {
      "text/plain": [
       "<matplotlib.axes._subplots.AxesSubplot at 0x18c34f0d7f0>"
      ]
     },
     "execution_count": 93,
     "metadata": {},
     "output_type": "execute_result"
    },
    {
     "data": {
      "image/png": "[encoded data removed]",
      "text/plain": [
       "<Figure size 792x792 with 2 Axes>"
      ]
     },
     "metadata": {
      "needs_background": "light"
     },
     "output_type": "display_data"
    }
   ],
   "source": [
    "import seaborn as sns\n",
    "#Using Pearson Correlation\n",
    "corrmat = X_train.corr()\n",
    "fig, ax = plt.subplots()\n",
    "fig.set_size_inches(11,11)\n",
    "sns.heatmap(corrmat)"
   ]
  },
  {
   "cell_type": "code",
   "execution_count": 94,
   "metadata": {},
   "outputs": [],
   "source": [
    "# with the following function we can select highly correlated features\n",
    "# it will remove the first feature that is correlated with anything other feature\n",
    "\n",
    "def correlation(dataset, threshold):\n",
    "    col_corr = set()  # Set of all the names of correlated columns\n",
    "    corr_matrix = dataset.corr()\n",
    "    for i in range(len(corr_matrix.columns)):\n",
    "        for j in range(i):\n",
    "            if abs(corr_matrix.iloc[i, j]) > threshold: # we are interested in absolute coeff value\n",
    "                colname = corr_matrix.columns[i]  # getting the name of column\n",
    "                col_corr.add(colname)\n",
    "    return col_corr"
   ]
  },
  {
   "cell_type": "code",
   "execution_count": 95,
   "metadata": {},
   "outputs": [
    {
     "data": {
      "text/plain": [
       "1"
      ]
     },
     "execution_count": 95,
     "metadata": {},
     "output_type": "execute_result"
    }
   ],
   "source": [
    "corr_features = correlation(X_train, 0.9)\n",
    "len(set(corr_features))"
   ]
  },
  {
   "cell_type": "code",
   "execution_count": 96,
   "metadata": {},
   "outputs": [
    {
     "data": {
      "text/plain": [
       "{'depth'}"
      ]
     },
     "execution_count": 96,
     "metadata": {},
     "output_type": "execute_result"
    }
   ],
   "source": [
    "corr_features"
   ]
  },
  {
   "cell_type": "code",
   "execution_count": 97,
   "metadata": {},
   "outputs": [],
   "source": [
    "X_train = X_train.drop(corr_features,axis=1)"
   ]
  },
  {
   "cell_type": "code",
   "execution_count": 98,
   "metadata": {},
   "outputs": [
    {
     "data": {
      "text/html": [
       "<div>\n",
       "<style scoped>\n",
       "    .dataframe tbody tr th:only-of-type {\n",
       "        vertical-align: middle;\n",
       "    }\n",
       "\n",
       "    .dataframe tbody tr th {\n",
       "        vertical-align: top;\n",
       "    }\n",
       "\n",
       "    .dataframe thead th {\n",
       "        text-align: right;\n",
       "    }\n",
       "</style>\n",
       "<table border=\"1\" class=\"dataframe\">\n",
       "  <thead>\n",
       "    <tr style=\"text-align: right;\">\n",
       "      <th></th>\n",
       "      <th>cost</th>\n",
       "      <th>weight</th>\n",
       "      <th>height</th>\n",
       "      <th>width</th>\n",
       "      <th>year</th>\n",
       "      <th>month</th>\n",
       "      <th>day</th>\n",
       "      <th>product_level</th>\n",
       "      <th>maker_M14346</th>\n",
       "      <th>maker_M14196</th>\n",
       "      <th>...</th>\n",
       "      <th>product_type_D</th>\n",
       "      <th>product_type_H</th>\n",
       "      <th>product_type_A</th>\n",
       "      <th>product_type_U</th>\n",
       "      <th>product_type_N</th>\n",
       "      <th>product_type_R</th>\n",
       "      <th>product_type_J</th>\n",
       "      <th>product_type_B</th>\n",
       "      <th>product_type_C</th>\n",
       "      <th>product_type_S</th>\n",
       "    </tr>\n",
       "  </thead>\n",
       "  <tbody>\n",
       "    <tr>\n",
       "      <th>0</th>\n",
       "      <td>333000.0</td>\n",
       "      <td>3.90</td>\n",
       "      <td>2.76</td>\n",
       "      <td>97.0</td>\n",
       "      <td>2008</td>\n",
       "      <td>12</td>\n",
       "      <td>19</td>\n",
       "      <td>3</td>\n",
       "      <td>0</td>\n",
       "      <td>0</td>\n",
       "      <td>...</td>\n",
       "      <td>0</td>\n",
       "      <td>0</td>\n",
       "      <td>0</td>\n",
       "      <td>0</td>\n",
       "      <td>0</td>\n",
       "      <td>0</td>\n",
       "      <td>0</td>\n",
       "      <td>0</td>\n",
       "      <td>0</td>\n",
       "      <td>0</td>\n",
       "    </tr>\n",
       "    <tr>\n",
       "      <th>0</th>\n",
       "      <td>333000.0</td>\n",
       "      <td>3.90</td>\n",
       "      <td>2.76</td>\n",
       "      <td>97.0</td>\n",
       "      <td>2008</td>\n",
       "      <td>12</td>\n",
       "      <td>19</td>\n",
       "      <td>3</td>\n",
       "      <td>0</td>\n",
       "      <td>0</td>\n",
       "      <td>...</td>\n",
       "      <td>0</td>\n",
       "      <td>0</td>\n",
       "      <td>0</td>\n",
       "      <td>0</td>\n",
       "      <td>0</td>\n",
       "      <td>0</td>\n",
       "      <td>0</td>\n",
       "      <td>1</td>\n",
       "      <td>0</td>\n",
       "      <td>0</td>\n",
       "    </tr>\n",
       "    <tr>\n",
       "      <th>0</th>\n",
       "      <td>333000.0</td>\n",
       "      <td>3.90</td>\n",
       "      <td>2.76</td>\n",
       "      <td>97.0</td>\n",
       "      <td>2008</td>\n",
       "      <td>12</td>\n",
       "      <td>19</td>\n",
       "      <td>3</td>\n",
       "      <td>0</td>\n",
       "      <td>0</td>\n",
       "      <td>...</td>\n",
       "      <td>0</td>\n",
       "      <td>0</td>\n",
       "      <td>0</td>\n",
       "      <td>0</td>\n",
       "      <td>0</td>\n",
       "      <td>0</td>\n",
       "      <td>0</td>\n",
       "      <td>0</td>\n",
       "      <td>0</td>\n",
       "      <td>0</td>\n",
       "    </tr>\n",
       "    <tr>\n",
       "      <th>0</th>\n",
       "      <td>333000.0</td>\n",
       "      <td>3.90</td>\n",
       "      <td>2.76</td>\n",
       "      <td>97.0</td>\n",
       "      <td>2008</td>\n",
       "      <td>12</td>\n",
       "      <td>19</td>\n",
       "      <td>3</td>\n",
       "      <td>0</td>\n",
       "      <td>0</td>\n",
       "      <td>...</td>\n",
       "      <td>0</td>\n",
       "      <td>0</td>\n",
       "      <td>0</td>\n",
       "      <td>0</td>\n",
       "      <td>0</td>\n",
       "      <td>0</td>\n",
       "      <td>0</td>\n",
       "      <td>1</td>\n",
       "      <td>0</td>\n",
       "      <td>0</td>\n",
       "    </tr>\n",
       "    <tr>\n",
       "      <th>1</th>\n",
       "      <td>122000.0</td>\n",
       "      <td>3.30</td>\n",
       "      <td>2.67</td>\n",
       "      <td>98.0</td>\n",
       "      <td>1997</td>\n",
       "      <td>9</td>\n",
       "      <td>10</td>\n",
       "      <td>1</td>\n",
       "      <td>1</td>\n",
       "      <td>0</td>\n",
       "      <td>...</td>\n",
       "      <td>0</td>\n",
       "      <td>0</td>\n",
       "      <td>0</td>\n",
       "      <td>0</td>\n",
       "      <td>0</td>\n",
       "      <td>0</td>\n",
       "      <td>1</td>\n",
       "      <td>0</td>\n",
       "      <td>0</td>\n",
       "      <td>0</td>\n",
       "    </tr>\n",
       "    <tr>\n",
       "      <th>...</th>\n",
       "      <td>...</td>\n",
       "      <td>...</td>\n",
       "      <td>...</td>\n",
       "      <td>...</td>\n",
       "      <td>...</td>\n",
       "      <td>...</td>\n",
       "      <td>...</td>\n",
       "      <td>...</td>\n",
       "      <td>...</td>\n",
       "      <td>...</td>\n",
       "      <td>...</td>\n",
       "      <td>...</td>\n",
       "      <td>...</td>\n",
       "      <td>...</td>\n",
       "      <td>...</td>\n",
       "      <td>...</td>\n",
       "      <td>...</td>\n",
       "      <td>...</td>\n",
       "      <td>...</td>\n",
       "      <td>...</td>\n",
       "      <td>...</td>\n",
       "    </tr>\n",
       "    <tr>\n",
       "      <th>2754</th>\n",
       "      <td>122000.0</td>\n",
       "      <td>2.83</td>\n",
       "      <td>2.15</td>\n",
       "      <td>106.0</td>\n",
       "      <td>2007</td>\n",
       "      <td>5</td>\n",
       "      <td>25</td>\n",
       "      <td>2</td>\n",
       "      <td>0</td>\n",
       "      <td>0</td>\n",
       "      <td>...</td>\n",
       "      <td>0</td>\n",
       "      <td>0</td>\n",
       "      <td>0</td>\n",
       "      <td>0</td>\n",
       "      <td>0</td>\n",
       "      <td>0</td>\n",
       "      <td>0</td>\n",
       "      <td>1</td>\n",
       "      <td>0</td>\n",
       "      <td>0</td>\n",
       "    </tr>\n",
       "    <tr>\n",
       "      <th>2754</th>\n",
       "      <td>122000.0</td>\n",
       "      <td>2.83</td>\n",
       "      <td>2.15</td>\n",
       "      <td>106.0</td>\n",
       "      <td>2007</td>\n",
       "      <td>5</td>\n",
       "      <td>25</td>\n",
       "      <td>2</td>\n",
       "      <td>0</td>\n",
       "      <td>0</td>\n",
       "      <td>...</td>\n",
       "      <td>0</td>\n",
       "      <td>0</td>\n",
       "      <td>0</td>\n",
       "      <td>0</td>\n",
       "      <td>0</td>\n",
       "      <td>0</td>\n",
       "      <td>1</td>\n",
       "      <td>0</td>\n",
       "      <td>0</td>\n",
       "      <td>0</td>\n",
       "    </tr>\n",
       "    <tr>\n",
       "      <th>2754</th>\n",
       "      <td>122000.0</td>\n",
       "      <td>2.83</td>\n",
       "      <td>2.15</td>\n",
       "      <td>106.0</td>\n",
       "      <td>2007</td>\n",
       "      <td>5</td>\n",
       "      <td>25</td>\n",
       "      <td>2</td>\n",
       "      <td>0</td>\n",
       "      <td>0</td>\n",
       "      <td>...</td>\n",
       "      <td>0</td>\n",
       "      <td>0</td>\n",
       "      <td>0</td>\n",
       "      <td>0</td>\n",
       "      <td>0</td>\n",
       "      <td>0</td>\n",
       "      <td>0</td>\n",
       "      <td>1</td>\n",
       "      <td>0</td>\n",
       "      <td>0</td>\n",
       "    </tr>\n",
       "    <tr>\n",
       "      <th>2755</th>\n",
       "      <td>44000.0</td>\n",
       "      <td>2.95</td>\n",
       "      <td>2.52</td>\n",
       "      <td>100.0</td>\n",
       "      <td>2002</td>\n",
       "      <td>4</td>\n",
       "      <td>12</td>\n",
       "      <td>3</td>\n",
       "      <td>0</td>\n",
       "      <td>0</td>\n",
       "      <td>...</td>\n",
       "      <td>0</td>\n",
       "      <td>0</td>\n",
       "      <td>0</td>\n",
       "      <td>0</td>\n",
       "      <td>0</td>\n",
       "      <td>1</td>\n",
       "      <td>0</td>\n",
       "      <td>0</td>\n",
       "      <td>0</td>\n",
       "      <td>0</td>\n",
       "    </tr>\n",
       "    <tr>\n",
       "      <th>2756</th>\n",
       "      <td>128000.0</td>\n",
       "      <td>2.98</td>\n",
       "      <td>2.96</td>\n",
       "      <td>92.0</td>\n",
       "      <td>2003</td>\n",
       "      <td>6</td>\n",
       "      <td>13</td>\n",
       "      <td>4</td>\n",
       "      <td>1</td>\n",
       "      <td>0</td>\n",
       "      <td>...</td>\n",
       "      <td>0</td>\n",
       "      <td>0</td>\n",
       "      <td>0</td>\n",
       "      <td>0</td>\n",
       "      <td>1</td>\n",
       "      <td>0</td>\n",
       "      <td>0</td>\n",
       "      <td>0</td>\n",
       "      <td>0</td>\n",
       "      <td>0</td>\n",
       "    </tr>\n",
       "  </tbody>\n",
       "</table>\n",
       "<p>17535 rows × 38 columns</p>\n",
       "</div>"
      ],
      "text/plain": [
       "          cost  weight  height  width  year  month  day  product_level  \\\n",
       "0     333000.0    3.90    2.76   97.0  2008     12   19              3   \n",
       "0     333000.0    3.90    2.76   97.0  2008     12   19              3   \n",
       "0     333000.0    3.90    2.76   97.0  2008     12   19              3   \n",
       "0     333000.0    3.90    2.76   97.0  2008     12   19              3   \n",
       "1     122000.0    3.30    2.67   98.0  1997      9   10              1   \n",
       "...        ...     ...     ...    ...   ...    ...  ...            ...   \n",
       "2754  122000.0    2.83    2.15  106.0  2007      5   25              2   \n",
       "2754  122000.0    2.83    2.15  106.0  2007      5   25              2   \n",
       "2754  122000.0    2.83    2.15  106.0  2007      5   25              2   \n",
       "2755   44000.0    2.95    2.52  100.0  2002      4   12              3   \n",
       "2756  128000.0    2.98    2.96   92.0  2003      6   13              4   \n",
       "\n",
       "      maker_M14346  maker_M14196  ...  product_type_D  product_type_H  \\\n",
       "0                0             0  ...               0               0   \n",
       "0                0             0  ...               0               0   \n",
       "0                0             0  ...               0               0   \n",
       "0                0             0  ...               0               0   \n",
       "1                1             0  ...               0               0   \n",
       "...            ...           ...  ...             ...             ...   \n",
       "2754             0             0  ...               0               0   \n",
       "2754             0             0  ...               0               0   \n",
       "2754             0             0  ...               0               0   \n",
       "2755             0             0  ...               0               0   \n",
       "2756             1             0  ...               0               0   \n",
       "\n",
       "      product_type_A  product_type_U  product_type_N  product_type_R  \\\n",
       "0                  0               0               0               0   \n",
       "0                  0               0               0               0   \n",
       "0                  0               0               0               0   \n",
       "0                  0               0               0               0   \n",
       "1                  0               0               0               0   \n",
       "...              ...             ...             ...             ...   \n",
       "2754               0               0               0               0   \n",
       "2754               0               0               0               0   \n",
       "2754               0               0               0               0   \n",
       "2755               0               0               0               1   \n",
       "2756               0               0               1               0   \n",
       "\n",
       "      product_type_J  product_type_B  product_type_C  product_type_S  \n",
       "0                  0               0               0               0  \n",
       "0                  0               1               0               0  \n",
       "0                  0               0               0               0  \n",
       "0                  0               1               0               0  \n",
       "1                  1               0               0               0  \n",
       "...              ...             ...             ...             ...  \n",
       "2754               0               1               0               0  \n",
       "2754               1               0               0               0  \n",
       "2754               0               1               0               0  \n",
       "2755               0               0               0               0  \n",
       "2756               0               0               0               0  \n",
       "\n",
       "[17535 rows x 38 columns]"
      ]
     },
     "execution_count": 98,
     "metadata": {},
     "output_type": "execute_result"
    }
   ],
   "source": [
    "X_train"
   ]
  },
  {
   "cell_type": "markdown",
   "metadata": {},
   "source": [
    "### will do scaling in model building "
   ]
  },
  {
   "cell_type": "markdown",
   "metadata": {},
   "source": [
    "## transform test dataset"
   ]
  },
  {
   "cell_type": "code",
   "execution_count": 99,
   "metadata": {},
   "outputs": [],
   "source": [
    "test = on.fit(test_raw)"
   ]
  },
  {
   "cell_type": "code",
   "execution_count": 100,
   "metadata": {},
   "outputs": [
    {
     "name": "stdout",
     "output_type": "stream",
     "text": [
      "<class 'pandas.core.frame.DataFrame'>\n",
      "RangeIndex: 429 entries, 0 to 428\n",
      "Data columns (total 6 columns):\n",
      " #   Column  Non-Null Count  Dtype  \n",
      "---  ------  --------------  -----  \n",
      " 0   cost    289 non-null    float64\n",
      " 1   weight  427 non-null    float64\n",
      " 2   height  427 non-null    float64\n",
      " 3   width   427 non-null    float64\n",
      " 4   depth   427 non-null    float64\n",
      " 5   price   429 non-null    float64\n",
      "dtypes: float64(6)\n",
      "memory usage: 20.2 KB\n"
     ]
    }
   ],
   "source": [
    "test.info()"
   ]
  },
  {
   "cell_type": "code",
   "execution_count": 101,
   "metadata": {},
   "outputs": [],
   "source": [
    "test = test.drop(['depth'], axis=1)"
   ]
  },
  {
   "cell_type": "code",
   "execution_count": 102,
   "metadata": {},
   "outputs": [
    {
     "data": {
      "text/html": [
       "<div>\n",
       "<style scoped>\n",
       "    .dataframe tbody tr th:only-of-type {\n",
       "        vertical-align: middle;\n",
       "    }\n",
       "\n",
       "    .dataframe tbody tr th {\n",
       "        vertical-align: top;\n",
       "    }\n",
       "\n",
       "    .dataframe thead th {\n",
       "        text-align: right;\n",
       "    }\n",
       "</style>\n",
       "<table border=\"1\" class=\"dataframe\">\n",
       "  <thead>\n",
       "    <tr style=\"text-align: right;\">\n",
       "      <th></th>\n",
       "      <th>cost</th>\n",
       "      <th>weight</th>\n",
       "      <th>height</th>\n",
       "      <th>width</th>\n",
       "      <th>price</th>\n",
       "    </tr>\n",
       "  </thead>\n",
       "  <tbody>\n",
       "    <tr>\n",
       "      <th>0</th>\n",
       "      <td>NaN</td>\n",
       "      <td>3.50</td>\n",
       "      <td>2.50</td>\n",
       "      <td>102.0</td>\n",
       "      <td>229174.0</td>\n",
       "    </tr>\n",
       "    <tr>\n",
       "      <th>1</th>\n",
       "      <td>160000.0</td>\n",
       "      <td>3.44</td>\n",
       "      <td>2.91</td>\n",
       "      <td>100.0</td>\n",
       "      <td>168762.0</td>\n",
       "    </tr>\n",
       "    <tr>\n",
       "      <th>2</th>\n",
       "      <td>160000.0</td>\n",
       "      <td>3.12</td>\n",
       "      <td>2.93</td>\n",
       "      <td>95.0</td>\n",
       "      <td>605022.0</td>\n",
       "    </tr>\n",
       "    <tr>\n",
       "      <th>3</th>\n",
       "      <td>NaN</td>\n",
       "      <td>2.98</td>\n",
       "      <td>2.14</td>\n",
       "      <td>109.0</td>\n",
       "      <td>4444.0</td>\n",
       "    </tr>\n",
       "    <tr>\n",
       "      <th>4</th>\n",
       "      <td>18000.0</td>\n",
       "      <td>3.21</td>\n",
       "      <td>2.58</td>\n",
       "      <td>103.0</td>\n",
       "      <td>17932.0</td>\n",
       "    </tr>\n",
       "    <tr>\n",
       "      <th>...</th>\n",
       "      <td>...</td>\n",
       "      <td>...</td>\n",
       "      <td>...</td>\n",
       "      <td>...</td>\n",
       "      <td>...</td>\n",
       "    </tr>\n",
       "    <tr>\n",
       "      <th>424</th>\n",
       "      <td>37000.0</td>\n",
       "      <td>3.90</td>\n",
       "      <td>2.84</td>\n",
       "      <td>96.0</td>\n",
       "      <td>107358.0</td>\n",
       "    </tr>\n",
       "    <tr>\n",
       "      <th>425</th>\n",
       "      <td>NaN</td>\n",
       "      <td>3.23</td>\n",
       "      <td>2.19</td>\n",
       "      <td>112.0</td>\n",
       "      <td>47939.0</td>\n",
       "    </tr>\n",
       "    <tr>\n",
       "      <th>426</th>\n",
       "      <td>562000.0</td>\n",
       "      <td>3.43</td>\n",
       "      <td>2.49</td>\n",
       "      <td>108.0</td>\n",
       "      <td>491055.0</td>\n",
       "    </tr>\n",
       "    <tr>\n",
       "      <th>427</th>\n",
       "      <td>NaN</td>\n",
       "      <td>3.00</td>\n",
       "      <td>2.02</td>\n",
       "      <td>112.0</td>\n",
       "      <td>93349.0</td>\n",
       "    </tr>\n",
       "    <tr>\n",
       "      <th>428</th>\n",
       "      <td>NaN</td>\n",
       "      <td>3.80</td>\n",
       "      <td>2.84</td>\n",
       "      <td>96.0</td>\n",
       "      <td>1074844.0</td>\n",
       "    </tr>\n",
       "  </tbody>\n",
       "</table>\n",
       "<p>429 rows × 5 columns</p>\n",
       "</div>"
      ],
      "text/plain": [
       "         cost  weight  height  width      price\n",
       "0         NaN    3.50    2.50  102.0   229174.0\n",
       "1    160000.0    3.44    2.91  100.0   168762.0\n",
       "2    160000.0    3.12    2.93   95.0   605022.0\n",
       "3         NaN    2.98    2.14  109.0     4444.0\n",
       "4     18000.0    3.21    2.58  103.0    17932.0\n",
       "..        ...     ...     ...    ...        ...\n",
       "424   37000.0    3.90    2.84   96.0   107358.0\n",
       "425       NaN    3.23    2.19  112.0    47939.0\n",
       "426  562000.0    3.43    2.49  108.0   491055.0\n",
       "427       NaN    3.00    2.02  112.0    93349.0\n",
       "428       NaN    3.80    2.84   96.0  1074844.0\n",
       "\n",
       "[429 rows x 5 columns]"
      ]
     },
     "execution_count": 102,
     "metadata": {},
     "output_type": "execute_result"
    }
   ],
   "source": [
    "test"
   ]
  },
  {
   "cell_type": "code",
   "execution_count": 103,
   "metadata": {},
   "outputs": [],
   "source": [
    "test_date = dt.fit_transform(test_raw)"
   ]
  },
  {
   "cell_type": "code",
   "execution_count": 104,
   "metadata": {},
   "outputs": [],
   "source": [
    "test = test.join(test_date)"
   ]
  },
  {
   "cell_type": "code",
   "execution_count": 105,
   "metadata": {},
   "outputs": [
    {
     "data": {
      "text/plain": [
       "0"
      ]
     },
     "execution_count": 105,
     "metadata": {},
     "output_type": "execute_result"
    }
   ],
   "source": [
    "for feature in ['cost','weight','height','width']:\n",
    "    median = test[feature].median()\n",
    "    test[feature].fillna(median, inplace=True)\n",
    "\n",
    "test[feature].isnull().sum() "
   ]
  },
  {
   "cell_type": "code",
   "execution_count": 106,
   "metadata": {},
   "outputs": [
    {
     "name": "stdout",
     "output_type": "stream",
     "text": [
      "<class 'pandas.core.frame.DataFrame'>\n",
      "RangeIndex: 429 entries, 0 to 428\n",
      "Data columns (total 8 columns):\n",
      " #   Column  Non-Null Count  Dtype  \n",
      "---  ------  --------------  -----  \n",
      " 0   cost    429 non-null    float64\n",
      " 1   weight  429 non-null    float64\n",
      " 2   height  429 non-null    float64\n",
      " 3   width   429 non-null    float64\n",
      " 4   price   429 non-null    float64\n",
      " 5   year    429 non-null    int64  \n",
      " 6   month   429 non-null    int64  \n",
      " 7   day     429 non-null    int64  \n",
      "dtypes: float64(5), int64(3)\n",
      "memory usage: 26.9 KB\n"
     ]
    }
   ],
   "source": [
    "test.info()"
   ]
  },
  {
   "cell_type": "code",
   "execution_count": 107,
   "metadata": {},
   "outputs": [
    {
     "name": "stdout",
     "output_type": "stream",
     "text": [
      "<class 'pandas.core.frame.DataFrame'>\n",
      "RangeIndex: 429 entries, 0 to 428\n",
      "Data columns (total 12 columns):\n",
      " #   Column         Non-Null Count  Dtype \n",
      "---  ------         --------------  ----- \n",
      " 0   cost           289 non-null    object\n",
      " 1   price          429 non-null    object\n",
      " 2   weight         427 non-null    object\n",
      " 3   purchase_date  429 non-null    object\n",
      " 4   product_type   429 non-null    object\n",
      " 5   product_level  429 non-null    object\n",
      " 6   maker          360 non-null    object\n",
      " 7   ingredient     394 non-null    object\n",
      " 8   height         429 non-null    object\n",
      " 9   width          427 non-null    object\n",
      " 10  depth          427 non-null    object\n",
      " 11  year           429 non-null    int64 \n",
      "dtypes: int64(1), object(11)\n",
      "memory usage: 40.3+ KB\n"
     ]
    }
   ],
   "source": [
    "test_raw.info()"
   ]
  },
  {
   "cell_type": "code",
   "execution_count": 108,
   "metadata": {},
   "outputs": [],
   "source": [
    "test = test.join(test_raw[['product_type','product_level','maker','ingredient']]) "
   ]
  },
  {
   "cell_type": "code",
   "execution_count": 109,
   "metadata": {},
   "outputs": [],
   "source": [
    "test['maker'].fillna(first_ten[0][0],inplace=True)"
   ]
  },
  {
   "cell_type": "code",
   "execution_count": 110,
   "metadata": {},
   "outputs": [],
   "source": [
    "test['ingredient'].fillna(ing_first_ten[0][0],inplace=True)"
   ]
  },
  {
   "cell_type": "code",
   "execution_count": 111,
   "metadata": {},
   "outputs": [],
   "source": [
    "ing_splitt = test['ingredient'].str.split(',').apply(Series, 1).stack()\n",
    "ing_splitt.index = ing_splitt.index.droplevel(-1)\n",
    "ing_splitt.name = 'ingredient'\n",
    "del test['ingredient']"
   ]
  },
  {
   "cell_type": "code",
   "execution_count": 112,
   "metadata": {},
   "outputs": [],
   "source": [
    "pt_splitt = test['product_type'].str.split(',').apply(Series, 1).stack()\n",
    "pt_splitt.index = pt_splitt.index.droplevel(-1)\n",
    "pt_splitt.name = 'product_type'\n",
    "del test['product_type']"
   ]
  },
  {
   "cell_type": "code",
   "execution_count": 113,
   "metadata": {},
   "outputs": [],
   "source": [
    "test_split = test.join(pd.DataFrame(ing_splitt).join(pt_splitt))"
   ]
  },
  {
   "cell_type": "code",
   "execution_count": 114,
   "metadata": {},
   "outputs": [
    {
     "data": {
      "text/html": [
       "<div>\n",
       "<style scoped>\n",
       "    .dataframe tbody tr th:only-of-type {\n",
       "        vertical-align: middle;\n",
       "    }\n",
       "\n",
       "    .dataframe tbody tr th {\n",
       "        vertical-align: top;\n",
       "    }\n",
       "\n",
       "    .dataframe thead th {\n",
       "        text-align: right;\n",
       "    }\n",
       "</style>\n",
       "<table border=\"1\" class=\"dataframe\">\n",
       "  <thead>\n",
       "    <tr style=\"text-align: right;\">\n",
       "      <th></th>\n",
       "      <th>cost</th>\n",
       "      <th>weight</th>\n",
       "      <th>height</th>\n",
       "      <th>width</th>\n",
       "      <th>price</th>\n",
       "      <th>year</th>\n",
       "      <th>month</th>\n",
       "      <th>day</th>\n",
       "      <th>product_level</th>\n",
       "      <th>maker</th>\n",
       "      <th>ingredient</th>\n",
       "      <th>product_type</th>\n",
       "    </tr>\n",
       "  </thead>\n",
       "  <tbody>\n",
       "    <tr>\n",
       "      <th>0</th>\n",
       "      <td>122000.0</td>\n",
       "      <td>3.50</td>\n",
       "      <td>2.50</td>\n",
       "      <td>102.0</td>\n",
       "      <td>229174.0</td>\n",
       "      <td>2016</td>\n",
       "      <td>12</td>\n",
       "      <td>23</td>\n",
       "      <td>advanced</td>\n",
       "      <td>M14123</td>\n",
       "      <td>IN732061</td>\n",
       "      <td>U</td>\n",
       "    </tr>\n",
       "    <tr>\n",
       "      <th>0</th>\n",
       "      <td>122000.0</td>\n",
       "      <td>3.50</td>\n",
       "      <td>2.50</td>\n",
       "      <td>102.0</td>\n",
       "      <td>229174.0</td>\n",
       "      <td>2016</td>\n",
       "      <td>12</td>\n",
       "      <td>23</td>\n",
       "      <td>advanced</td>\n",
       "      <td>M14123</td>\n",
       "      <td>IN732062</td>\n",
       "      <td>U</td>\n",
       "    </tr>\n",
       "    <tr>\n",
       "      <th>0</th>\n",
       "      <td>122000.0</td>\n",
       "      <td>3.50</td>\n",
       "      <td>2.50</td>\n",
       "      <td>102.0</td>\n",
       "      <td>229174.0</td>\n",
       "      <td>2016</td>\n",
       "      <td>12</td>\n",
       "      <td>23</td>\n",
       "      <td>advanced</td>\n",
       "      <td>M14123</td>\n",
       "      <td>IN732063</td>\n",
       "      <td>U</td>\n",
       "    </tr>\n",
       "    <tr>\n",
       "      <th>1</th>\n",
       "      <td>160000.0</td>\n",
       "      <td>3.44</td>\n",
       "      <td>2.91</td>\n",
       "      <td>100.0</td>\n",
       "      <td>168762.0</td>\n",
       "      <td>2016</td>\n",
       "      <td>10</td>\n",
       "      <td>28</td>\n",
       "      <td>super advanced</td>\n",
       "      <td>M14128</td>\n",
       "      <td>IN732088</td>\n",
       "      <td>H</td>\n",
       "    </tr>\n",
       "    <tr>\n",
       "      <th>1</th>\n",
       "      <td>160000.0</td>\n",
       "      <td>3.44</td>\n",
       "      <td>2.91</td>\n",
       "      <td>100.0</td>\n",
       "      <td>168762.0</td>\n",
       "      <td>2016</td>\n",
       "      <td>10</td>\n",
       "      <td>28</td>\n",
       "      <td>super advanced</td>\n",
       "      <td>M14128</td>\n",
       "      <td>IN732089</td>\n",
       "      <td>H</td>\n",
       "    </tr>\n",
       "    <tr>\n",
       "      <th>...</th>\n",
       "      <td>...</td>\n",
       "      <td>...</td>\n",
       "      <td>...</td>\n",
       "      <td>...</td>\n",
       "      <td>...</td>\n",
       "      <td>...</td>\n",
       "      <td>...</td>\n",
       "      <td>...</td>\n",
       "      <td>...</td>\n",
       "      <td>...</td>\n",
       "      <td>...</td>\n",
       "      <td>...</td>\n",
       "    </tr>\n",
       "    <tr>\n",
       "      <th>428</th>\n",
       "      <td>122000.0</td>\n",
       "      <td>3.80</td>\n",
       "      <td>2.84</td>\n",
       "      <td>96.0</td>\n",
       "      <td>1074844.0</td>\n",
       "      <td>2016</td>\n",
       "      <td>12</td>\n",
       "      <td>16</td>\n",
       "      <td>intermediate</td>\n",
       "      <td>M14883,M15011</td>\n",
       "      <td>IN734088</td>\n",
       "      <td>C</td>\n",
       "    </tr>\n",
       "    <tr>\n",
       "      <th>428</th>\n",
       "      <td>122000.0</td>\n",
       "      <td>3.80</td>\n",
       "      <td>2.84</td>\n",
       "      <td>96.0</td>\n",
       "      <td>1074844.0</td>\n",
       "      <td>2016</td>\n",
       "      <td>12</td>\n",
       "      <td>16</td>\n",
       "      <td>intermediate</td>\n",
       "      <td>M14883,M15011</td>\n",
       "      <td>IN733474</td>\n",
       "      <td>C</td>\n",
       "    </tr>\n",
       "    <tr>\n",
       "      <th>428</th>\n",
       "      <td>122000.0</td>\n",
       "      <td>3.80</td>\n",
       "      <td>2.84</td>\n",
       "      <td>96.0</td>\n",
       "      <td>1074844.0</td>\n",
       "      <td>2016</td>\n",
       "      <td>12</td>\n",
       "      <td>16</td>\n",
       "      <td>intermediate</td>\n",
       "      <td>M14883,M15011</td>\n",
       "      <td>IN732868</td>\n",
       "      <td>C</td>\n",
       "    </tr>\n",
       "    <tr>\n",
       "      <th>428</th>\n",
       "      <td>122000.0</td>\n",
       "      <td>3.80</td>\n",
       "      <td>2.84</td>\n",
       "      <td>96.0</td>\n",
       "      <td>1074844.0</td>\n",
       "      <td>2016</td>\n",
       "      <td>12</td>\n",
       "      <td>16</td>\n",
       "      <td>intermediate</td>\n",
       "      <td>M14883,M15011</td>\n",
       "      <td>IN732266</td>\n",
       "      <td>C</td>\n",
       "    </tr>\n",
       "    <tr>\n",
       "      <th>428</th>\n",
       "      <td>122000.0</td>\n",
       "      <td>3.80</td>\n",
       "      <td>2.84</td>\n",
       "      <td>96.0</td>\n",
       "      <td>1074844.0</td>\n",
       "      <td>2016</td>\n",
       "      <td>12</td>\n",
       "      <td>16</td>\n",
       "      <td>intermediate</td>\n",
       "      <td>M14883,M15011</td>\n",
       "      <td>IN732193</td>\n",
       "      <td>C</td>\n",
       "    </tr>\n",
       "  </tbody>\n",
       "</table>\n",
       "<p>2964 rows × 12 columns</p>\n",
       "</div>"
      ],
      "text/plain": [
       "         cost  weight  height  width      price  year  month  day  \\\n",
       "0    122000.0    3.50    2.50  102.0   229174.0  2016     12   23   \n",
       "0    122000.0    3.50    2.50  102.0   229174.0  2016     12   23   \n",
       "0    122000.0    3.50    2.50  102.0   229174.0  2016     12   23   \n",
       "1    160000.0    3.44    2.91  100.0   168762.0  2016     10   28   \n",
       "1    160000.0    3.44    2.91  100.0   168762.0  2016     10   28   \n",
       "..        ...     ...     ...    ...        ...   ...    ...  ...   \n",
       "428  122000.0    3.80    2.84   96.0  1074844.0  2016     12   16   \n",
       "428  122000.0    3.80    2.84   96.0  1074844.0  2016     12   16   \n",
       "428  122000.0    3.80    2.84   96.0  1074844.0  2016     12   16   \n",
       "428  122000.0    3.80    2.84   96.0  1074844.0  2016     12   16   \n",
       "428  122000.0    3.80    2.84   96.0  1074844.0  2016     12   16   \n",
       "\n",
       "      product_level          maker ingredient product_type  \n",
       "0          advanced         M14123   IN732061            U  \n",
       "0          advanced         M14123   IN732062            U  \n",
       "0          advanced         M14123   IN732063            U  \n",
       "1    super advanced         M14128   IN732088            H  \n",
       "1    super advanced         M14128   IN732089            H  \n",
       "..              ...            ...        ...          ...  \n",
       "428    intermediate  M14883,M15011   IN734088            C  \n",
       "428    intermediate  M14883,M15011   IN733474            C  \n",
       "428    intermediate  M14883,M15011   IN732868            C  \n",
       "428    intermediate  M14883,M15011   IN732266            C  \n",
       "428    intermediate  M14883,M15011   IN732193            C  \n",
       "\n",
       "[2964 rows x 12 columns]"
      ]
     },
     "execution_count": 114,
     "metadata": {},
     "output_type": "execute_result"
    }
   ],
   "source": [
    "test_split"
   ]
  },
  {
   "cell_type": "code",
   "execution_count": 115,
   "metadata": {},
   "outputs": [],
   "source": [
    "one_hot_encoding_top_x(test_split, 'maker', first_10)"
   ]
  },
  {
   "cell_type": "code",
   "execution_count": 116,
   "metadata": {},
   "outputs": [],
   "source": [
    "one_hot_encoding_top_x(test_split, 'ingredient', Extract(ing_first_ten))"
   ]
  },
  {
   "cell_type": "code",
   "execution_count": 117,
   "metadata": {},
   "outputs": [],
   "source": [
    "one_hot_encoding_top_x(test_split, 'product_type', Extract(pt_first_ten))"
   ]
  },
  {
   "cell_type": "code",
   "execution_count": 118,
   "metadata": {},
   "outputs": [],
   "source": [
    "test_split['product_level'] = test_split.product_level.map(dic)"
   ]
  },
  {
   "cell_type": "code",
   "execution_count": 119,
   "metadata": {},
   "outputs": [],
   "source": [
    "X_test = test_split.drop(['price', 'ingredient','maker','product_type'],axis=1)"
   ]
  },
  {
   "cell_type": "code",
   "execution_count": 120,
   "metadata": {},
   "outputs": [
    {
     "data": {
      "text/plain": [
       "Index(['cost', 'weight', 'height', 'width', 'year', 'month', 'day',\n",
       "       'product_level', 'maker_M14346', 'maker_M14196', 'maker_M14163',\n",
       "       'maker_M14170', 'maker_M14313', 'maker_M14427', 'maker_M14164',\n",
       "       'maker_M14565', 'maker_M14505', 'maker_M14216', 'ingredient_IN732658',\n",
       "       'ingredient_IN732094', 'ingredient_IN732489', 'ingredient_IN732074',\n",
       "       'ingredient_IN732583', 'ingredient_IN732097', 'ingredient_IN732231',\n",
       "       'ingredient_IN732503', 'ingredient_IN732505', 'ingredient_IN732217',\n",
       "       'product_type_D', 'product_type_H', 'product_type_A', 'product_type_U',\n",
       "       'product_type_N', 'product_type_R', 'product_type_J', 'product_type_B',\n",
       "       'product_type_C', 'product_type_S'],\n",
       "      dtype='object')"
      ]
     },
     "execution_count": 120,
     "metadata": {},
     "output_type": "execute_result"
    }
   ],
   "source": [
    "X_test.columns"
   ]
  },
  {
   "cell_type": "code",
   "execution_count": 121,
   "metadata": {},
   "outputs": [],
   "source": [
    "y_test = test_split[['price']]"
   ]
  },
  {
   "cell_type": "markdown",
   "metadata": {},
   "source": [
    "# 4. Model Building"
   ]
  },
  {
   "cell_type": "code",
   "execution_count": 122,
   "metadata": {},
   "outputs": [],
   "source": [
    "# Importing Classifier Modules, as discussed at the beginning, only LR & tree-based models will be considered\n",
    "\n",
    "from sklearn.pipeline import Pipeline\n",
    "from sklearn.preprocessing import MinMaxScaler\n",
    "from sklearn.decomposition import PCA\n",
    "\n",
    "from sklearn.linear_model import LinearRegression\n",
    "from sklearn.preprocessing import PolynomialFeatures\n",
    "from sklearn.linear_model import Lasso\n",
    "\n",
    "from sklearn.tree import DecisionTreeRegressor\n",
    "from sklearn.ensemble import RandomForestRegressor\n",
    "from sklearn.ensemble import GradientBoostingRegressor\n",
    "\n",
    "from sklearn.metrics import mean_absolute_error, mean_squared_error, r2_score\n",
    "\n",
    "from sklearn.model_selection import GridSearchCV\n",
    "from sklearn.model_selection import KFold\n",
    "from sklearn.metrics import make_scorer\n",
    "from sklearn.model_selection import cross_val_score"
   ]
  },
  {
   "cell_type": "code",
   "execution_count": 123,
   "metadata": {},
   "outputs": [
    {
     "ename": "SyntaxError",
     "evalue": "invalid syntax (<ipython-input-123-937aa1fe9551>, line 2)",
     "output_type": "error",
     "traceback": [
      "\u001b[1;36m  File \u001b[1;32m\"<ipython-input-123-937aa1fe9551>\"\u001b[1;36m, line \u001b[1;32m2\u001b[0m\n\u001b[1;33m    conda install -c conda-forge xgboost\u001b[0m\n\u001b[1;37m          ^\u001b[0m\n\u001b[1;31mSyntaxError\u001b[0m\u001b[1;31m:\u001b[0m invalid syntax\n"
     ]
    }
   ],
   "source": [
    "from xgboost.sklearn import XGBRegressor\n",
    "conda install -c conda-forge xgboost"
   ]
  },
  {
   "cell_type": "markdown",
   "metadata": {},
   "source": [
    "## 4.1 Regularized Linear Regression"
   ]
  },
  {
   "cell_type": "code",
   "execution_count": 124,
   "metadata": {},
   "outputs": [],
   "source": [
    "steps1 = [('rescale', MinMaxScaler()),\n",
    "         ('pca', PCA(n_components = 2)),\n",
    "         ('poly', PolynomialFeatures()),\n",
    "         ('lasso', Lasso(max_iter = 100))]\n",
    "model1 = Pipeline(steps1)\n",
    "model1 = model1.fit(X_train, y_train)"
   ]
  },
  {
   "cell_type": "code",
   "execution_count": 125,
   "metadata": {},
   "outputs": [],
   "source": [
    "parameters1 = {'lasso__alpha': np.arange(0.1,1,0.1), \n",
    "              'poly__degree': range(2,8)}"
   ]
  },
  {
   "cell_type": "code",
   "execution_count": 126,
   "metadata": {},
   "outputs": [],
   "source": [
    "scorer1 = make_scorer(mean_squared_error, greater_is_better = False)"
   ]
  },
  {
   "cell_type": "code",
   "execution_count": 127,
   "metadata": {},
   "outputs": [],
   "source": [
    "model1 = GridSearchCV(model1, parameters1, cv=5, scoring = scorer1)"
   ]
  },
  {
   "cell_type": "code",
   "execution_count": 128,
   "metadata": {},
   "outputs": [
    {
     "name": "stderr",
     "output_type": "stream",
     "text": [
      "C:\\Users\\bluen\\anaconda3\\lib\\site-packages\\sklearn\\linear_model\\_coordinate_descent.py:529: ConvergenceWarning: Objective did not converge. You might want to increase the number of iterations. Duality gap: 414613874390591.3, tolerance: 105407788981.1624\n",
      "  model = cd_fast.enet_coordinate_descent(\n",
      "C:\\Users\\bluen\\anaconda3\\lib\\site-packages\\sklearn\\linear_model\\_coordinate_descent.py:529: ConvergenceWarning: Objective did not converge. You might want to increase the number of iterations. Duality gap: 408348205753341.06, tolerance: 98964245712.08815\n",
      "  model = cd_fast.enet_coordinate_descent(\n",
      "C:\\Users\\bluen\\anaconda3\\lib\\site-packages\\sklearn\\linear_model\\_coordinate_descent.py:529: ConvergenceWarning: Objective did not converge. You might want to increase the number of iterations. Duality gap: 395635449607784.94, tolerance: 97568934394.92003\n",
      "  model = cd_fast.enet_coordinate_descent(\n",
      "C:\\Users\\bluen\\anaconda3\\lib\\site-packages\\sklearn\\linear_model\\_coordinate_descent.py:529: ConvergenceWarning: Objective did not converge. You might want to increase the number of iterations. Duality gap: 375181032730045.3, tolerance: 91832433309.57408\n",
      "  model = cd_fast.enet_coordinate_descent(\n",
      "C:\\Users\\bluen\\anaconda3\\lib\\site-packages\\sklearn\\linear_model\\_coordinate_descent.py:529: ConvergenceWarning: Objective did not converge. You might want to increase the number of iterations. Duality gap: 412075772472582.7, tolerance: 98772680113.59616\n",
      "  model = cd_fast.enet_coordinate_descent(\n",
      "C:\\Users\\bluen\\anaconda3\\lib\\site-packages\\sklearn\\linear_model\\_coordinate_descent.py:529: ConvergenceWarning: Objective did not converge. You might want to increase the number of iterations. Duality gap: 412979804849993.56, tolerance: 105407788981.1624\n",
      "  model = cd_fast.enet_coordinate_descent(\n",
      "C:\\Users\\bluen\\anaconda3\\lib\\site-packages\\sklearn\\linear_model\\_coordinate_descent.py:529: ConvergenceWarning: Objective did not converge. You might want to increase the number of iterations. Duality gap: 407487626858320.8, tolerance: 98964245712.08815\n",
      "  model = cd_fast.enet_coordinate_descent(\n",
      "C:\\Users\\bluen\\anaconda3\\lib\\site-packages\\sklearn\\linear_model\\_coordinate_descent.py:529: ConvergenceWarning: Objective did not converge. You might want to increase the number of iterations. Duality gap: 394361129318948.94, tolerance: 97568934394.92003\n",
      "  model = cd_fast.enet_coordinate_descent(\n",
      "C:\\Users\\bluen\\anaconda3\\lib\\site-packages\\sklearn\\linear_model\\_coordinate_descent.py:529: ConvergenceWarning: Objective did not converge. You might want to increase the number of iterations. Duality gap: 372527703711378.4, tolerance: 91832433309.57408\n",
      "  model = cd_fast.enet_coordinate_descent(\n",
      "C:\\Users\\bluen\\anaconda3\\lib\\site-packages\\sklearn\\linear_model\\_coordinate_descent.py:529: ConvergenceWarning: Objective did not converge. You might want to increase the number of iterations. Duality gap: 412060606907552.1, tolerance: 98772680113.59616\n",
      "  model = cd_fast.enet_coordinate_descent(\n",
      "C:\\Users\\bluen\\anaconda3\\lib\\site-packages\\sklearn\\linear_model\\_coordinate_descent.py:529: ConvergenceWarning: Objective did not converge. You might want to increase the number of iterations. Duality gap: 412392991980853.5, tolerance: 105407788981.1624\n",
      "  model = cd_fast.enet_coordinate_descent(\n",
      "C:\\Users\\bluen\\anaconda3\\lib\\site-packages\\sklearn\\linear_model\\_coordinate_descent.py:529: ConvergenceWarning: Objective did not converge. You might want to increase the number of iterations. Duality gap: 406742002682375.2, tolerance: 98964245712.08815\n",
      "  model = cd_fast.enet_coordinate_descent(\n",
      "C:\\Users\\bluen\\anaconda3\\lib\\site-packages\\sklearn\\linear_model\\_coordinate_descent.py:529: ConvergenceWarning: Objective did not converge. You might want to increase the number of iterations. Duality gap: 394173684958823.7, tolerance: 97568934394.92003\n",
      "  model = cd_fast.enet_coordinate_descent(\n",
      "C:\\Users\\bluen\\anaconda3\\lib\\site-packages\\sklearn\\linear_model\\_coordinate_descent.py:529: ConvergenceWarning: Objective did not converge. You might want to increase the number of iterations. Duality gap: 372081620643251.44, tolerance: 91832433309.57408\n",
      "  model = cd_fast.enet_coordinate_descent(\n",
      "C:\\Users\\bluen\\anaconda3\\lib\\site-packages\\sklearn\\linear_model\\_coordinate_descent.py:529: ConvergenceWarning: Objective did not converge. You might want to increase the number of iterations. Duality gap: 411464663565094.44, tolerance: 98772680113.59616\n",
      "  model = cd_fast.enet_coordinate_descent(\n",
      "C:\\Users\\bluen\\anaconda3\\lib\\site-packages\\sklearn\\linear_model\\_coordinate_descent.py:529: ConvergenceWarning: Objective did not converge. You might want to increase the number of iterations. Duality gap: 412394326532878.44, tolerance: 105407788981.1624\n",
      "  model = cd_fast.enet_coordinate_descent(\n",
      "C:\\Users\\bluen\\anaconda3\\lib\\site-packages\\sklearn\\linear_model\\_coordinate_descent.py:529: ConvergenceWarning: Objective did not converge. You might want to increase the number of iterations. Duality gap: 406728141573187.2, tolerance: 98964245712.08815\n",
      "  model = cd_fast.enet_coordinate_descent(\n",
      "C:\\Users\\bluen\\anaconda3\\lib\\site-packages\\sklearn\\linear_model\\_coordinate_descent.py:529: ConvergenceWarning: Objective did not converge. You might want to increase the number of iterations. Duality gap: 394134142939736.3, tolerance: 97568934394.92003\n",
      "  model = cd_fast.enet_coordinate_descent(\n",
      "C:\\Users\\bluen\\anaconda3\\lib\\site-packages\\sklearn\\linear_model\\_coordinate_descent.py:529: ConvergenceWarning: Objective did not converge. You might want to increase the number of iterations. Duality gap: 371975313599199.56, tolerance: 91832433309.57408\n",
      "  model = cd_fast.enet_coordinate_descent(\n",
      "C:\\Users\\bluen\\anaconda3\\lib\\site-packages\\sklearn\\linear_model\\_coordinate_descent.py:529: ConvergenceWarning: Objective did not converge. You might want to increase the number of iterations. Duality gap: 411476999128800.06, tolerance: 98772680113.59616\n",
      "  model = cd_fast.enet_coordinate_descent(\n",
      "C:\\Users\\bluen\\anaconda3\\lib\\site-packages\\sklearn\\linear_model\\_coordinate_descent.py:529: ConvergenceWarning: Objective did not converge. You might want to increase the number of iterations. Duality gap: 412030908079230.06, tolerance: 105407788981.1624\n",
      "  model = cd_fast.enet_coordinate_descent(\n",
      "C:\\Users\\bluen\\anaconda3\\lib\\site-packages\\sklearn\\linear_model\\_coordinate_descent.py:529: ConvergenceWarning: Objective did not converge. You might want to increase the number of iterations. Duality gap: 406554503376423.4, tolerance: 98964245712.08815\n",
      "  model = cd_fast.enet_coordinate_descent(\n",
      "C:\\Users\\bluen\\anaconda3\\lib\\site-packages\\sklearn\\linear_model\\_coordinate_descent.py:529: ConvergenceWarning: Objective did not converge. You might want to increase the number of iterations. Duality gap: 394005593511812.3, tolerance: 97568934394.92003\n",
      "  model = cd_fast.enet_coordinate_descent(\n",
      "C:\\Users\\bluen\\anaconda3\\lib\\site-packages\\sklearn\\linear_model\\_coordinate_descent.py:529: ConvergenceWarning: Objective did not converge. You might want to increase the number of iterations. Duality gap: 371774088206173.75, tolerance: 91832433309.57408\n",
      "  model = cd_fast.enet_coordinate_descent(\n",
      "C:\\Users\\bluen\\anaconda3\\lib\\site-packages\\sklearn\\linear_model\\_coordinate_descent.py:529: ConvergenceWarning: Objective did not converge. You might want to increase the number of iterations. Duality gap: 411417346165002.06, tolerance: 98772680113.59616\n",
      "  model = cd_fast.enet_coordinate_descent(\n",
      "C:\\Users\\bluen\\anaconda3\\lib\\site-packages\\sklearn\\linear_model\\_coordinate_descent.py:529: ConvergenceWarning: Objective did not converge. You might want to increase the number of iterations. Duality gap: 413730761218929.4, tolerance: 105407788981.1624\n",
      "  model = cd_fast.enet_coordinate_descent(\n",
      "C:\\Users\\bluen\\anaconda3\\lib\\site-packages\\sklearn\\linear_model\\_coordinate_descent.py:529: ConvergenceWarning: Objective did not converge. You might want to increase the number of iterations. Duality gap: 407576126279389.06, tolerance: 98964245712.08815\n",
      "  model = cd_fast.enet_coordinate_descent(\n",
      "C:\\Users\\bluen\\anaconda3\\lib\\site-packages\\sklearn\\linear_model\\_coordinate_descent.py:529: ConvergenceWarning: Objective did not converge. You might want to increase the number of iterations. Duality gap: 394741467968739.8, tolerance: 97568934394.92003\n",
      "  model = cd_fast.enet_coordinate_descent(\n"
     ]
    },
    {
     "name": "stderr",
     "output_type": "stream",
     "text": [
      "C:\\Users\\bluen\\anaconda3\\lib\\site-packages\\sklearn\\linear_model\\_coordinate_descent.py:529: ConvergenceWarning: Objective did not converge. You might want to increase the number of iterations. Duality gap: 374584047879841.8, tolerance: 91832433309.57408\n",
      "  model = cd_fast.enet_coordinate_descent(\n",
      "C:\\Users\\bluen\\anaconda3\\lib\\site-packages\\sklearn\\linear_model\\_coordinate_descent.py:529: ConvergenceWarning: Objective did not converge. You might want to increase the number of iterations. Duality gap: 410386731489240.7, tolerance: 98772680113.59616\n",
      "  model = cd_fast.enet_coordinate_descent(\n",
      "C:\\Users\\bluen\\anaconda3\\lib\\site-packages\\sklearn\\linear_model\\_coordinate_descent.py:529: ConvergenceWarning: Objective did not converge. You might want to increase the number of iterations. Duality gap: 412415856029032.1, tolerance: 105407788981.1624\n",
      "  model = cd_fast.enet_coordinate_descent(\n",
      "C:\\Users\\bluen\\anaconda3\\lib\\site-packages\\sklearn\\linear_model\\_coordinate_descent.py:529: ConvergenceWarning: Objective did not converge. You might want to increase the number of iterations. Duality gap: 406762241011399.75, tolerance: 98964245712.08815\n",
      "  model = cd_fast.enet_coordinate_descent(\n",
      "C:\\Users\\bluen\\anaconda3\\lib\\site-packages\\sklearn\\linear_model\\_coordinate_descent.py:529: ConvergenceWarning: Objective did not converge. You might want to increase the number of iterations. Duality gap: 393664541474536.7, tolerance: 97568934394.92003\n",
      "  model = cd_fast.enet_coordinate_descent(\n",
      "C:\\Users\\bluen\\anaconda3\\lib\\site-packages\\sklearn\\linear_model\\_coordinate_descent.py:529: ConvergenceWarning: Objective did not converge. You might want to increase the number of iterations. Duality gap: 372131840340634.44, tolerance: 91832433309.57408\n",
      "  model = cd_fast.enet_coordinate_descent(\n",
      "C:\\Users\\bluen\\anaconda3\\lib\\site-packages\\sklearn\\linear_model\\_coordinate_descent.py:529: ConvergenceWarning: Objective did not converge. You might want to increase the number of iterations. Duality gap: 411297018315155.44, tolerance: 98772680113.59616\n",
      "  model = cd_fast.enet_coordinate_descent(\n",
      "C:\\Users\\bluen\\anaconda3\\lib\\site-packages\\sklearn\\linear_model\\_coordinate_descent.py:529: ConvergenceWarning: Objective did not converge. You might want to increase the number of iterations. Duality gap: 411572777281693.7, tolerance: 105407788981.1624\n",
      "  model = cd_fast.enet_coordinate_descent(\n",
      "C:\\Users\\bluen\\anaconda3\\lib\\site-packages\\sklearn\\linear_model\\_coordinate_descent.py:529: ConvergenceWarning: Objective did not converge. You might want to increase the number of iterations. Duality gap: 405389596633484.56, tolerance: 98964245712.08815\n",
      "  model = cd_fast.enet_coordinate_descent(\n",
      "C:\\Users\\bluen\\anaconda3\\lib\\site-packages\\sklearn\\linear_model\\_coordinate_descent.py:529: ConvergenceWarning: Objective did not converge. You might want to increase the number of iterations. Duality gap: 393543517140818.3, tolerance: 97568934394.92003\n",
      "  model = cd_fast.enet_coordinate_descent(\n",
      "C:\\Users\\bluen\\anaconda3\\lib\\site-packages\\sklearn\\linear_model\\_coordinate_descent.py:529: ConvergenceWarning: Objective did not converge. You might want to increase the number of iterations. Duality gap: 371600779846568.56, tolerance: 91832433309.57408\n",
      "  model = cd_fast.enet_coordinate_descent(\n",
      "C:\\Users\\bluen\\anaconda3\\lib\\site-packages\\sklearn\\linear_model\\_coordinate_descent.py:529: ConvergenceWarning: Objective did not converge. You might want to increase the number of iterations. Duality gap: 410317613443752.6, tolerance: 98772680113.59616\n",
      "  model = cd_fast.enet_coordinate_descent(\n",
      "C:\\Users\\bluen\\anaconda3\\lib\\site-packages\\sklearn\\linear_model\\_coordinate_descent.py:529: ConvergenceWarning: Objective did not converge. You might want to increase the number of iterations. Duality gap: 411740154576753.25, tolerance: 105407788981.1624\n",
      "  model = cd_fast.enet_coordinate_descent(\n",
      "C:\\Users\\bluen\\anaconda3\\lib\\site-packages\\sklearn\\linear_model\\_coordinate_descent.py:529: ConvergenceWarning: Objective did not converge. You might want to increase the number of iterations. Duality gap: 405489259075041.94, tolerance: 98964245712.08815\n",
      "  model = cd_fast.enet_coordinate_descent(\n",
      "C:\\Users\\bluen\\anaconda3\\lib\\site-packages\\sklearn\\linear_model\\_coordinate_descent.py:529: ConvergenceWarning: Objective did not converge. You might want to increase the number of iterations. Duality gap: 393565738806800.44, tolerance: 97568934394.92003\n",
      "  model = cd_fast.enet_coordinate_descent(\n",
      "C:\\Users\\bluen\\anaconda3\\lib\\site-packages\\sklearn\\linear_model\\_coordinate_descent.py:529: ConvergenceWarning: Objective did not converge. You might want to increase the number of iterations. Duality gap: 371524907081368.25, tolerance: 91832433309.57408\n",
      "  model = cd_fast.enet_coordinate_descent(\n",
      "C:\\Users\\bluen\\anaconda3\\lib\\site-packages\\sklearn\\linear_model\\_coordinate_descent.py:529: ConvergenceWarning: Objective did not converge. You might want to increase the number of iterations. Duality gap: 410420042910231.56, tolerance: 98772680113.59616\n",
      "  model = cd_fast.enet_coordinate_descent(\n",
      "C:\\Users\\bluen\\anaconda3\\lib\\site-packages\\sklearn\\linear_model\\_coordinate_descent.py:529: ConvergenceWarning: Objective did not converge. You might want to increase the number of iterations. Duality gap: 411202997533041.3, tolerance: 105407788981.1624\n",
      "  model = cd_fast.enet_coordinate_descent(\n",
      "C:\\Users\\bluen\\anaconda3\\lib\\site-packages\\sklearn\\linear_model\\_coordinate_descent.py:529: ConvergenceWarning: Objective did not converge. You might want to increase the number of iterations. Duality gap: 405168452121475.7, tolerance: 98964245712.08815\n",
      "  model = cd_fast.enet_coordinate_descent(\n",
      "C:\\Users\\bluen\\anaconda3\\lib\\site-packages\\sklearn\\linear_model\\_coordinate_descent.py:529: ConvergenceWarning: Objective did not converge. You might want to increase the number of iterations. Duality gap: 393399039370534.0, tolerance: 97568934394.92003\n",
      "  model = cd_fast.enet_coordinate_descent(\n",
      "C:\\Users\\bluen\\anaconda3\\lib\\site-packages\\sklearn\\linear_model\\_coordinate_descent.py:529: ConvergenceWarning: Objective did not converge. You might want to increase the number of iterations. Duality gap: 371247303937080.6, tolerance: 91832433309.57408\n",
      "  model = cd_fast.enet_coordinate_descent(\n",
      "C:\\Users\\bluen\\anaconda3\\lib\\site-packages\\sklearn\\linear_model\\_coordinate_descent.py:529: ConvergenceWarning: Objective did not converge. You might want to increase the number of iterations. Duality gap: 410379420406939.56, tolerance: 98772680113.59616\n",
      "  model = cd_fast.enet_coordinate_descent(\n",
      "C:\\Users\\bluen\\anaconda3\\lib\\site-packages\\sklearn\\linear_model\\_coordinate_descent.py:529: ConvergenceWarning: Objective did not converge. You might want to increase the number of iterations. Duality gap: 412841933981252.1, tolerance: 105407788981.1624\n",
      "  model = cd_fast.enet_coordinate_descent(\n",
      "C:\\Users\\bluen\\anaconda3\\lib\\site-packages\\sklearn\\linear_model\\_coordinate_descent.py:529: ConvergenceWarning: Objective did not converge. You might want to increase the number of iterations. Duality gap: 406818933963543.6, tolerance: 98964245712.08815\n",
      "  model = cd_fast.enet_coordinate_descent(\n",
      "C:\\Users\\bluen\\anaconda3\\lib\\site-packages\\sklearn\\linear_model\\_coordinate_descent.py:529: ConvergenceWarning: Objective did not converge. You might want to increase the number of iterations. Duality gap: 393826781667098.5, tolerance: 97568934394.92003\n",
      "  model = cd_fast.enet_coordinate_descent(\n",
      "C:\\Users\\bluen\\anaconda3\\lib\\site-packages\\sklearn\\linear_model\\_coordinate_descent.py:529: ConvergenceWarning: Objective did not converge. You might want to increase the number of iterations. Duality gap: 373967901726509.25, tolerance: 91832433309.57408\n",
      "  model = cd_fast.enet_coordinate_descent(\n",
      "C:\\Users\\bluen\\anaconda3\\lib\\site-packages\\sklearn\\linear_model\\_coordinate_descent.py:529: ConvergenceWarning: Objective did not converge. You might want to increase the number of iterations. Duality gap: 408700410471671.06, tolerance: 98772680113.59616\n",
      "  model = cd_fast.enet_coordinate_descent(\n",
      "C:\\Users\\bluen\\anaconda3\\lib\\site-packages\\sklearn\\linear_model\\_coordinate_descent.py:529: ConvergenceWarning: Objective did not converge. You might want to increase the number of iterations. Duality gap: 411820666325588.3, tolerance: 105407788981.1624\n",
      "  model = cd_fast.enet_coordinate_descent(\n"
     ]
    },
    {
     "name": "stderr",
     "output_type": "stream",
     "text": [
      "C:\\Users\\bluen\\anaconda3\\lib\\site-packages\\sklearn\\linear_model\\_coordinate_descent.py:529: ConvergenceWarning: Objective did not converge. You might want to increase the number of iterations. Duality gap: 405999343834200.8, tolerance: 98964245712.08815\n",
      "  model = cd_fast.enet_coordinate_descent(\n",
      "C:\\Users\\bluen\\anaconda3\\lib\\site-packages\\sklearn\\linear_model\\_coordinate_descent.py:529: ConvergenceWarning: Objective did not converge. You might want to increase the number of iterations. Duality gap: 392967151904473.6, tolerance: 97568934394.92003\n",
      "  model = cd_fast.enet_coordinate_descent(\n",
      "C:\\Users\\bluen\\anaconda3\\lib\\site-packages\\sklearn\\linear_model\\_coordinate_descent.py:529: ConvergenceWarning: Objective did not converge. You might want to increase the number of iterations. Duality gap: 371715828566046.6, tolerance: 91832433309.57408\n",
      "  model = cd_fast.enet_coordinate_descent(\n",
      "C:\\Users\\bluen\\anaconda3\\lib\\site-packages\\sklearn\\linear_model\\_coordinate_descent.py:529: ConvergenceWarning: Objective did not converge. You might want to increase the number of iterations. Duality gap: 410538224211483.2, tolerance: 98772680113.59616\n",
      "  model = cd_fast.enet_coordinate_descent(\n",
      "C:\\Users\\bluen\\anaconda3\\lib\\site-packages\\sklearn\\linear_model\\_coordinate_descent.py:529: ConvergenceWarning: Objective did not converge. You might want to increase the number of iterations. Duality gap: 410745667511517.06, tolerance: 105407788981.1624\n",
      "  model = cd_fast.enet_coordinate_descent(\n",
      "C:\\Users\\bluen\\anaconda3\\lib\\site-packages\\sklearn\\linear_model\\_coordinate_descent.py:529: ConvergenceWarning: Objective did not converge. You might want to increase the number of iterations. Duality gap: 404055060011901.7, tolerance: 98964245712.08815\n",
      "  model = cd_fast.enet_coordinate_descent(\n",
      "C:\\Users\\bluen\\anaconda3\\lib\\site-packages\\sklearn\\linear_model\\_coordinate_descent.py:529: ConvergenceWarning: Objective did not converge. You might want to increase the number of iterations. Duality gap: 392908228665832.56, tolerance: 97568934394.92003\n",
      "  model = cd_fast.enet_coordinate_descent(\n",
      "C:\\Users\\bluen\\anaconda3\\lib\\site-packages\\sklearn\\linear_model\\_coordinate_descent.py:529: ConvergenceWarning: Objective did not converge. You might want to increase the number of iterations. Duality gap: 371118079658293.9, tolerance: 91832433309.57408\n",
      "  model = cd_fast.enet_coordinate_descent(\n",
      "C:\\Users\\bluen\\anaconda3\\lib\\site-packages\\sklearn\\linear_model\\_coordinate_descent.py:529: ConvergenceWarning: Objective did not converge. You might want to increase the number of iterations. Duality gap: 409149528963653.25, tolerance: 98772680113.59616\n",
      "  model = cd_fast.enet_coordinate_descent(\n",
      "C:\\Users\\bluen\\anaconda3\\lib\\site-packages\\sklearn\\linear_model\\_coordinate_descent.py:529: ConvergenceWarning: Objective did not converge. You might want to increase the number of iterations. Duality gap: 411141666391116.44, tolerance: 105407788981.1624\n",
      "  model = cd_fast.enet_coordinate_descent(\n",
      "C:\\Users\\bluen\\anaconda3\\lib\\site-packages\\sklearn\\linear_model\\_coordinate_descent.py:529: ConvergenceWarning: Objective did not converge. You might want to increase the number of iterations. Duality gap: 404227481505634.56, tolerance: 98964245712.08815\n",
      "  model = cd_fast.enet_coordinate_descent(\n",
      "C:\\Users\\bluen\\anaconda3\\lib\\site-packages\\sklearn\\linear_model\\_coordinate_descent.py:529: ConvergenceWarning: Objective did not converge. You might want to increase the number of iterations. Duality gap: 393001885816049.94, tolerance: 97568934394.92003\n",
      "  model = cd_fast.enet_coordinate_descent(\n",
      "C:\\Users\\bluen\\anaconda3\\lib\\site-packages\\sklearn\\linear_model\\_coordinate_descent.py:529: ConvergenceWarning: Objective did not converge. You might want to increase the number of iterations. Duality gap: 371075505516754.1, tolerance: 91832433309.57408\n",
      "  model = cd_fast.enet_coordinate_descent(\n",
      "C:\\Users\\bluen\\anaconda3\\lib\\site-packages\\sklearn\\linear_model\\_coordinate_descent.py:529: ConvergenceWarning: Objective did not converge. You might want to increase the number of iterations. Duality gap: 409345009487847.0, tolerance: 98772680113.59616\n",
      "  model = cd_fast.enet_coordinate_descent(\n",
      "C:\\Users\\bluen\\anaconda3\\lib\\site-packages\\sklearn\\linear_model\\_coordinate_descent.py:529: ConvergenceWarning: Objective did not converge. You might want to increase the number of iterations. Duality gap: 410371446256315.8, tolerance: 105407788981.1624\n",
      "  model = cd_fast.enet_coordinate_descent(\n",
      "C:\\Users\\bluen\\anaconda3\\lib\\site-packages\\sklearn\\linear_model\\_coordinate_descent.py:529: ConvergenceWarning: Objective did not converge. You might want to increase the number of iterations. Duality gap: 403797457073560.1, tolerance: 98964245712.08815\n",
      "  model = cd_fast.enet_coordinate_descent(\n",
      "C:\\Users\\bluen\\anaconda3\\lib\\site-packages\\sklearn\\linear_model\\_coordinate_descent.py:529: ConvergenceWarning: Objective did not converge. You might want to increase the number of iterations. Duality gap: 392791499142306.44, tolerance: 97568934394.92003\n",
      "  model = cd_fast.enet_coordinate_descent(\n",
      "C:\\Users\\bluen\\anaconda3\\lib\\site-packages\\sklearn\\linear_model\\_coordinate_descent.py:529: ConvergenceWarning: Objective did not converge. You might want to increase the number of iterations. Duality gap: 370730908006960.9, tolerance: 91832433309.57408\n",
      "  model = cd_fast.enet_coordinate_descent(\n",
      "C:\\Users\\bluen\\anaconda3\\lib\\site-packages\\sklearn\\linear_model\\_coordinate_descent.py:529: ConvergenceWarning: Objective did not converge. You might want to increase the number of iterations. Duality gap: 409339902516492.56, tolerance: 98772680113.59616\n",
      "  model = cd_fast.enet_coordinate_descent(\n",
      "C:\\Users\\bluen\\anaconda3\\lib\\site-packages\\sklearn\\linear_model\\_coordinate_descent.py:529: ConvergenceWarning: Objective did not converge. You might want to increase the number of iterations. Duality gap: 411955255740791.1, tolerance: 105407788981.1624\n",
      "  model = cd_fast.enet_coordinate_descent(\n",
      "C:\\Users\\bluen\\anaconda3\\lib\\site-packages\\sklearn\\linear_model\\_coordinate_descent.py:529: ConvergenceWarning: Objective did not converge. You might want to increase the number of iterations. Duality gap: 406038136493650.3, tolerance: 98964245712.08815\n",
      "  model = cd_fast.enet_coordinate_descent(\n",
      "C:\\Users\\bluen\\anaconda3\\lib\\site-packages\\sklearn\\linear_model\\_coordinate_descent.py:529: ConvergenceWarning: Objective did not converge. You might want to increase the number of iterations. Duality gap: 392960443068020.06, tolerance: 97568934394.92003\n",
      "  model = cd_fast.enet_coordinate_descent(\n",
      "C:\\Users\\bluen\\anaconda3\\lib\\site-packages\\sklearn\\linear_model\\_coordinate_descent.py:529: ConvergenceWarning: Objective did not converge. You might want to increase the number of iterations. Duality gap: 373387599633228.9, tolerance: 91832433309.57408\n",
      "  model = cd_fast.enet_coordinate_descent(\n",
      "C:\\Users\\bluen\\anaconda3\\lib\\site-packages\\sklearn\\linear_model\\_coordinate_descent.py:529: ConvergenceWarning: Objective did not converge. You might want to increase the number of iterations. Duality gap: 407018373400870.2, tolerance: 98772680113.59616\n",
      "  model = cd_fast.enet_coordinate_descent(\n",
      "C:\\Users\\bluen\\anaconda3\\lib\\site-packages\\sklearn\\linear_model\\_coordinate_descent.py:529: ConvergenceWarning: Objective did not converge. You might want to increase the number of iterations. Duality gap: 411252807274783.5, tolerance: 105407788981.1624\n",
      "  model = cd_fast.enet_coordinate_descent(\n",
      "C:\\Users\\bluen\\anaconda3\\lib\\site-packages\\sklearn\\linear_model\\_coordinate_descent.py:529: ConvergenceWarning: Objective did not converge. You might want to increase the number of iterations. Duality gap: 405230916811547.5, tolerance: 98964245712.08815\n",
      "  model = cd_fast.enet_coordinate_descent(\n",
      "C:\\Users\\bluen\\anaconda3\\lib\\site-packages\\sklearn\\linear_model\\_coordinate_descent.py:529: ConvergenceWarning: Objective did not converge. You might want to increase the number of iterations. Duality gap: 392273186290987.2, tolerance: 97568934394.92003\n",
      "  model = cd_fast.enet_coordinate_descent(\n",
      "C:\\Users\\bluen\\anaconda3\\lib\\site-packages\\sklearn\\linear_model\\_coordinate_descent.py:529: ConvergenceWarning: Objective did not converge. You might want to increase the number of iterations. Duality gap: 371318274237386.4, tolerance: 91832433309.57408\n",
      "  model = cd_fast.enet_coordinate_descent(\n",
      "C:\\Users\\bluen\\anaconda3\\lib\\site-packages\\sklearn\\linear_model\\_coordinate_descent.py:529: ConvergenceWarning: Objective did not converge. You might want to increase the number of iterations. Duality gap: 409776757006058.0, tolerance: 98772680113.59616\n",
      "  model = cd_fast.enet_coordinate_descent(\n",
      "C:\\Users\\bluen\\anaconda3\\lib\\site-packages\\sklearn\\linear_model\\_coordinate_descent.py:529: ConvergenceWarning: Objective did not converge. You might want to increase the number of iterations. Duality gap: 409935465477995.2, tolerance: 105407788981.1624\n",
      "  model = cd_fast.enet_coordinate_descent(\n"
     ]
    },
    {
     "name": "stderr",
     "output_type": "stream",
     "text": [
      "C:\\Users\\bluen\\anaconda3\\lib\\site-packages\\sklearn\\linear_model\\_coordinate_descent.py:529: ConvergenceWarning: Objective did not converge. You might want to increase the number of iterations. Duality gap: 402722492280979.06, tolerance: 98964245712.08815\n",
      "  model = cd_fast.enet_coordinate_descent(\n",
      "C:\\Users\\bluen\\anaconda3\\lib\\site-packages\\sklearn\\linear_model\\_coordinate_descent.py:529: ConvergenceWarning: Objective did not converge. You might want to increase the number of iterations. Duality gap: 392277774749755.1, tolerance: 97568934394.92003\n",
      "  model = cd_fast.enet_coordinate_descent(\n",
      "C:\\Users\\bluen\\anaconda3\\lib\\site-packages\\sklearn\\linear_model\\_coordinate_descent.py:529: ConvergenceWarning: Objective did not converge. You might want to increase the number of iterations. Duality gap: 370634603839266.2, tolerance: 91832433309.57408\n",
      "  model = cd_fast.enet_coordinate_descent(\n",
      "C:\\Users\\bluen\\anaconda3\\lib\\site-packages\\sklearn\\linear_model\\_coordinate_descent.py:529: ConvergenceWarning: Objective did not converge. You might want to increase the number of iterations. Duality gap: 407990152349280.56, tolerance: 98772680113.59616\n",
      "  model = cd_fast.enet_coordinate_descent(\n",
      "C:\\Users\\bluen\\anaconda3\\lib\\site-packages\\sklearn\\linear_model\\_coordinate_descent.py:529: ConvergenceWarning: Objective did not converge. You might want to increase the number of iterations. Duality gap: 410423998264098.9, tolerance: 105407788981.1624\n",
      "  model = cd_fast.enet_coordinate_descent(\n",
      "C:\\Users\\bluen\\anaconda3\\lib\\site-packages\\sklearn\\linear_model\\_coordinate_descent.py:529: ConvergenceWarning: Objective did not converge. You might want to increase the number of iterations. Duality gap: 402995202721404.6, tolerance: 98964245712.08815\n",
      "  model = cd_fast.enet_coordinate_descent(\n",
      "C:\\Users\\bluen\\anaconda3\\lib\\site-packages\\sklearn\\linear_model\\_coordinate_descent.py:529: ConvergenceWarning: Objective did not converge. You might want to increase the number of iterations. Duality gap: 392433936540868.0, tolerance: 97568934394.92003\n",
      "  model = cd_fast.enet_coordinate_descent(\n",
      "C:\\Users\\bluen\\anaconda3\\lib\\site-packages\\sklearn\\linear_model\\_coordinate_descent.py:529: ConvergenceWarning: Objective did not converge. You might want to increase the number of iterations. Duality gap: 370619657669360.56, tolerance: 91832433309.57408\n",
      "  model = cd_fast.enet_coordinate_descent(\n",
      "C:\\Users\\bluen\\anaconda3\\lib\\site-packages\\sklearn\\linear_model\\_coordinate_descent.py:529: ConvergenceWarning: Objective did not converge. You might want to increase the number of iterations. Duality gap: 408298035330836.94, tolerance: 98772680113.59616\n",
      "  model = cd_fast.enet_coordinate_descent(\n",
      "C:\\Users\\bluen\\anaconda3\\lib\\site-packages\\sklearn\\linear_model\\_coordinate_descent.py:529: ConvergenceWarning: Objective did not converge. You might want to increase the number of iterations. Duality gap: 409437958903452.25, tolerance: 105407788981.1624\n",
      "  model = cd_fast.enet_coordinate_descent(\n",
      "C:\\Users\\bluen\\anaconda3\\lib\\site-packages\\sklearn\\linear_model\\_coordinate_descent.py:529: ConvergenceWarning: Objective did not converge. You might want to increase the number of iterations. Duality gap: 402424550629087.7, tolerance: 98964245712.08815\n",
      "  model = cd_fast.enet_coordinate_descent(\n",
      "C:\\Users\\bluen\\anaconda3\\lib\\site-packages\\sklearn\\linear_model\\_coordinate_descent.py:529: ConvergenceWarning: Objective did not converge. You might want to increase the number of iterations. Duality gap: 392187136482172.1, tolerance: 97568934394.92003\n",
      "  model = cd_fast.enet_coordinate_descent(\n",
      "C:\\Users\\bluen\\anaconda3\\lib\\site-packages\\sklearn\\linear_model\\_coordinate_descent.py:529: ConvergenceWarning: Objective did not converge. You might want to increase the number of iterations. Duality gap: 370199672292421.06, tolerance: 91832433309.57408\n",
      "  model = cd_fast.enet_coordinate_descent(\n",
      "C:\\Users\\bluen\\anaconda3\\lib\\site-packages\\sklearn\\linear_model\\_coordinate_descent.py:529: ConvergenceWarning: Objective did not converge. You might want to increase the number of iterations. Duality gap: 408314957540013.94, tolerance: 98772680113.59616\n",
      "  model = cd_fast.enet_coordinate_descent(\n",
      "C:\\Users\\bluen\\anaconda3\\lib\\site-packages\\sklearn\\linear_model\\_coordinate_descent.py:529: ConvergenceWarning: Objective did not converge. You might want to increase the number of iterations. Duality gap: 411069544646588.1, tolerance: 105407788981.1624\n",
      "  model = cd_fast.enet_coordinate_descent(\n",
      "C:\\Users\\bluen\\anaconda3\\lib\\site-packages\\sklearn\\linear_model\\_coordinate_descent.py:529: ConvergenceWarning: Objective did not converge. You might want to increase the number of iterations. Duality gap: 405275749671158.8, tolerance: 98964245712.08815\n",
      "  model = cd_fast.enet_coordinate_descent(\n",
      "C:\\Users\\bluen\\anaconda3\\lib\\site-packages\\sklearn\\linear_model\\_coordinate_descent.py:529: ConvergenceWarning: Objective did not converge. You might want to increase the number of iterations. Duality gap: 392073009297374.44, tolerance: 97568934394.92003\n",
      "  model = cd_fast.enet_coordinate_descent(\n",
      "C:\\Users\\bluen\\anaconda3\\lib\\site-packages\\sklearn\\linear_model\\_coordinate_descent.py:529: ConvergenceWarning: Objective did not converge. You might want to increase the number of iterations. Duality gap: 372798197968648.4, tolerance: 91832433309.57408\n",
      "  model = cd_fast.enet_coordinate_descent(\n",
      "C:\\Users\\bluen\\anaconda3\\lib\\site-packages\\sklearn\\linear_model\\_coordinate_descent.py:529: ConvergenceWarning: Objective did not converge. You might want to increase the number of iterations. Duality gap: 405338669198446.9, tolerance: 98772680113.59616\n",
      "  model = cd_fast.enet_coordinate_descent(\n",
      "C:\\Users\\bluen\\anaconda3\\lib\\site-packages\\sklearn\\linear_model\\_coordinate_descent.py:529: ConvergenceWarning: Objective did not converge. You might want to increase the number of iterations. Duality gap: 410674142878616.6, tolerance: 105407788981.1624\n",
      "  model = cd_fast.enet_coordinate_descent(\n",
      "C:\\Users\\bluen\\anaconda3\\lib\\site-packages\\sklearn\\linear_model\\_coordinate_descent.py:529: ConvergenceWarning: Objective did not converge. You might want to increase the number of iterations. Duality gap: 404472243016282.4, tolerance: 98964245712.08815\n",
      "  model = cd_fast.enet_coordinate_descent(\n",
      "C:\\Users\\bluen\\anaconda3\\lib\\site-packages\\sklearn\\linear_model\\_coordinate_descent.py:529: ConvergenceWarning: Objective did not converge. You might want to increase the number of iterations. Duality gap: 391578974589260.44, tolerance: 97568934394.92003\n",
      "  model = cd_fast.enet_coordinate_descent(\n",
      "C:\\Users\\bluen\\anaconda3\\lib\\site-packages\\sklearn\\linear_model\\_coordinate_descent.py:529: ConvergenceWarning: Objective did not converge. You might want to increase the number of iterations. Duality gap: 370910914254425.56, tolerance: 91832433309.57408\n",
      "  model = cd_fast.enet_coordinate_descent(\n",
      "C:\\Users\\bluen\\anaconda3\\lib\\site-packages\\sklearn\\linear_model\\_coordinate_descent.py:529: ConvergenceWarning: Objective did not converge. You might want to increase the number of iterations. Duality gap: 409025864496125.8, tolerance: 98772680113.59616\n",
      "  model = cd_fast.enet_coordinate_descent(\n",
      "C:\\Users\\bluen\\anaconda3\\lib\\site-packages\\sklearn\\linear_model\\_coordinate_descent.py:529: ConvergenceWarning: Objective did not converge. You might want to increase the number of iterations. Duality gap: 409105011119076.5, tolerance: 105407788981.1624\n",
      "  model = cd_fast.enet_coordinate_descent(\n",
      "C:\\Users\\bluen\\anaconda3\\lib\\site-packages\\sklearn\\linear_model\\_coordinate_descent.py:529: ConvergenceWarning: Objective did not converge. You might want to increase the number of iterations. Duality gap: 401393533078676.25, tolerance: 98964245712.08815\n",
      "  model = cd_fast.enet_coordinate_descent(\n",
      "C:\\Users\\bluen\\anaconda3\\lib\\site-packages\\sklearn\\linear_model\\_coordinate_descent.py:529: ConvergenceWarning: Objective did not converge. You might want to increase the number of iterations. Duality gap: 391644787361647.44, tolerance: 97568934394.92003\n",
      "  model = cd_fast.enet_coordinate_descent(\n",
      "C:\\Users\\bluen\\anaconda3\\lib\\site-packages\\sklearn\\linear_model\\_coordinate_descent.py:529: ConvergenceWarning: Objective did not converge. You might want to increase the number of iterations. Duality gap: 370151148251038.4, tolerance: 91832433309.57408\n",
      "  model = cd_fast.enet_coordinate_descent(\n"
     ]
    },
    {
     "name": "stderr",
     "output_type": "stream",
     "text": [
      "C:\\Users\\bluen\\anaconda3\\lib\\site-packages\\sklearn\\linear_model\\_coordinate_descent.py:529: ConvergenceWarning: Objective did not converge. You might want to increase the number of iterations. Duality gap: 406832510869316.2, tolerance: 98772680113.59616\n",
      "  model = cd_fast.enet_coordinate_descent(\n",
      "C:\\Users\\bluen\\anaconda3\\lib\\site-packages\\sklearn\\linear_model\\_coordinate_descent.py:529: ConvergenceWarning: Objective did not converge. You might want to increase the number of iterations. Duality gap: 409763261320674.8, tolerance: 105407788981.1624\n",
      "  model = cd_fast.enet_coordinate_descent(\n",
      "C:\\Users\\bluen\\anaconda3\\lib\\site-packages\\sklearn\\linear_model\\_coordinate_descent.py:529: ConvergenceWarning: Objective did not converge. You might want to increase the number of iterations. Duality gap: 401759298365337.6, tolerance: 98964245712.08815\n",
      "  model = cd_fast.enet_coordinate_descent(\n",
      "C:\\Users\\bluen\\anaconda3\\lib\\site-packages\\sklearn\\linear_model\\_coordinate_descent.py:529: ConvergenceWarning: Objective did not converge. You might want to increase the number of iterations. Duality gap: 391865796948911.4, tolerance: 97568934394.92003\n",
      "  model = cd_fast.enet_coordinate_descent(\n",
      "C:\\Users\\bluen\\anaconda3\\lib\\site-packages\\sklearn\\linear_model\\_coordinate_descent.py:529: ConvergenceWarning: Objective did not converge. You might want to increase the number of iterations. Duality gap: 370169387696578.0, tolerance: 91832433309.57408\n",
      "  model = cd_fast.enet_coordinate_descent(\n",
      "C:\\Users\\bluen\\anaconda3\\lib\\site-packages\\sklearn\\linear_model\\_coordinate_descent.py:529: ConvergenceWarning: Objective did not converge. You might want to increase the number of iterations. Duality gap: 407228595970251.9, tolerance: 98772680113.59616\n",
      "  model = cd_fast.enet_coordinate_descent(\n",
      "C:\\Users\\bluen\\anaconda3\\lib\\site-packages\\sklearn\\linear_model\\_coordinate_descent.py:529: ConvergenceWarning: Objective did not converge. You might want to increase the number of iterations. Duality gap: 408705365279663.25, tolerance: 105407788981.1624\n",
      "  model = cd_fast.enet_coordinate_descent(\n",
      "C:\\Users\\bluen\\anaconda3\\lib\\site-packages\\sklearn\\linear_model\\_coordinate_descent.py:529: ConvergenceWarning: Objective did not converge. You might want to increase the number of iterations. Duality gap: 401095142215254.94, tolerance: 98964245712.08815\n",
      "  model = cd_fast.enet_coordinate_descent(\n",
      "C:\\Users\\bluen\\anaconda3\\lib\\site-packages\\sklearn\\linear_model\\_coordinate_descent.py:529: ConvergenceWarning: Objective did not converge. You might want to increase the number of iterations. Duality gap: 391580343125965.94, tolerance: 97568934394.92003\n",
      "  model = cd_fast.enet_coordinate_descent(\n",
      "C:\\Users\\bluen\\anaconda3\\lib\\site-packages\\sklearn\\linear_model\\_coordinate_descent.py:529: ConvergenceWarning: Objective did not converge. You might want to increase the number of iterations. Duality gap: 369678027748336.7, tolerance: 91832433309.57408\n",
      "  model = cd_fast.enet_coordinate_descent(\n",
      "C:\\Users\\bluen\\anaconda3\\lib\\site-packages\\sklearn\\linear_model\\_coordinate_descent.py:529: ConvergenceWarning: Objective did not converge. You might want to increase the number of iterations. Duality gap: 407293916987606.94, tolerance: 98772680113.59616\n",
      "  model = cd_fast.enet_coordinate_descent(\n",
      "C:\\Users\\bluen\\anaconda3\\lib\\site-packages\\sklearn\\linear_model\\_coordinate_descent.py:529: ConvergenceWarning: Objective did not converge. You might want to increase the number of iterations. Duality gap: 410179774952181.3, tolerance: 105407788981.1624\n",
      "  model = cd_fast.enet_coordinate_descent(\n",
      "C:\\Users\\bluen\\anaconda3\\lib\\site-packages\\sklearn\\linear_model\\_coordinate_descent.py:529: ConvergenceWarning: Objective did not converge. You might want to increase the number of iterations. Duality gap: 404504576407725.8, tolerance: 98964245712.08815\n",
      "  model = cd_fast.enet_coordinate_descent(\n",
      "C:\\Users\\bluen\\anaconda3\\lib\\site-packages\\sklearn\\linear_model\\_coordinate_descent.py:529: ConvergenceWarning: Objective did not converge. You might want to increase the number of iterations. Duality gap: 391189922332042.4, tolerance: 97568934394.92003\n",
      "  model = cd_fast.enet_coordinate_descent(\n",
      "C:\\Users\\bluen\\anaconda3\\lib\\site-packages\\sklearn\\linear_model\\_coordinate_descent.py:529: ConvergenceWarning: Objective did not converge. You might want to increase the number of iterations. Duality gap: 372187748808409.1, tolerance: 91832433309.57408\n",
      "  model = cd_fast.enet_coordinate_descent(\n",
      "C:\\Users\\bluen\\anaconda3\\lib\\site-packages\\sklearn\\linear_model\\_coordinate_descent.py:529: ConvergenceWarning: Objective did not converge. You might want to increase the number of iterations. Duality gap: 403663863015641.8, tolerance: 98772680113.59616\n",
      "  model = cd_fast.enet_coordinate_descent(\n",
      "C:\\Users\\bluen\\anaconda3\\lib\\site-packages\\sklearn\\linear_model\\_coordinate_descent.py:529: ConvergenceWarning: Objective did not converge. You might want to increase the number of iterations. Duality gap: 410100950553146.56, tolerance: 105407788981.1624\n",
      "  model = cd_fast.enet_coordinate_descent(\n",
      "C:\\Users\\bluen\\anaconda3\\lib\\site-packages\\sklearn\\linear_model\\_coordinate_descent.py:529: ConvergenceWarning: Objective did not converge. You might want to increase the number of iterations. Duality gap: 403711140342520.3, tolerance: 98964245712.08815\n",
      "  model = cd_fast.enet_coordinate_descent(\n",
      "C:\\Users\\bluen\\anaconda3\\lib\\site-packages\\sklearn\\linear_model\\_coordinate_descent.py:529: ConvergenceWarning: Objective did not converge. You might want to increase the number of iterations. Duality gap: 390889831838969.9, tolerance: 97568934394.92003\n",
      "  model = cd_fast.enet_coordinate_descent(\n",
      "C:\\Users\\bluen\\anaconda3\\lib\\site-packages\\sklearn\\linear_model\\_coordinate_descent.py:529: ConvergenceWarning: Objective did not converge. You might want to increase the number of iterations. Duality gap: 370508872174593.3, tolerance: 91832433309.57408\n",
      "  model = cd_fast.enet_coordinate_descent(\n",
      "C:\\Users\\bluen\\anaconda3\\lib\\site-packages\\sklearn\\linear_model\\_coordinate_descent.py:529: ConvergenceWarning: Objective did not converge. You might want to increase the number of iterations. Duality gap: 408259365797195.0, tolerance: 98772680113.59616\n",
      "  model = cd_fast.enet_coordinate_descent(\n",
      "C:\\Users\\bluen\\anaconda3\\lib\\site-packages\\sklearn\\linear_model\\_coordinate_descent.py:529: ConvergenceWarning: Objective did not converge. You might want to increase the number of iterations. Duality gap: 408289272006454.1, tolerance: 105407788981.1624\n",
      "  model = cd_fast.enet_coordinate_descent(\n",
      "C:\\Users\\bluen\\anaconda3\\lib\\site-packages\\sklearn\\linear_model\\_coordinate_descent.py:529: ConvergenceWarning: Objective did not converge. You might want to increase the number of iterations. Duality gap: 400059406912103.75, tolerance: 98964245712.08815\n",
      "  model = cd_fast.enet_coordinate_descent(\n",
      "C:\\Users\\bluen\\anaconda3\\lib\\site-packages\\sklearn\\linear_model\\_coordinate_descent.py:529: ConvergenceWarning: Objective did not converge. You might want to increase the number of iterations. Duality gap: 391004082412165.44, tolerance: 97568934394.92003\n",
      "  model = cd_fast.enet_coordinate_descent(\n",
      "C:\\Users\\bluen\\anaconda3\\lib\\site-packages\\sklearn\\linear_model\\_coordinate_descent.py:529: ConvergenceWarning: Objective did not converge. You might want to increase the number of iterations. Duality gap: 369659072693144.5, tolerance: 91832433309.57408\n",
      "  model = cd_fast.enet_coordinate_descent(\n",
      "C:\\Users\\bluen\\anaconda3\\lib\\site-packages\\sklearn\\linear_model\\_coordinate_descent.py:529: ConvergenceWarning: Objective did not converge. You might want to increase the number of iterations. Duality gap: 405655944506000.56, tolerance: 98772680113.59616\n",
      "  model = cd_fast.enet_coordinate_descent(\n",
      "C:\\Users\\bluen\\anaconda3\\lib\\site-packages\\sklearn\\linear_model\\_coordinate_descent.py:529: ConvergenceWarning: Objective did not converge. You might want to increase the number of iterations. Duality gap: 409110236446186.75, tolerance: 105407788981.1624\n",
      "  model = cd_fast.enet_coordinate_descent(\n",
      "C:\\Users\\bluen\\anaconda3\\lib\\site-packages\\sklearn\\linear_model\\_coordinate_descent.py:529: ConvergenceWarning: Objective did not converge. You might want to increase the number of iterations. Duality gap: 400524598737097.44, tolerance: 98964245712.08815\n",
      "  model = cd_fast.enet_coordinate_descent(\n"
     ]
    },
    {
     "name": "stderr",
     "output_type": "stream",
     "text": [
      "C:\\Users\\bluen\\anaconda3\\lib\\site-packages\\sklearn\\linear_model\\_coordinate_descent.py:529: ConvergenceWarning: Objective did not converge. You might want to increase the number of iterations. Duality gap: 391336019853316.25, tolerance: 97568934394.92003\n",
      "  model = cd_fast.enet_coordinate_descent(\n",
      "C:\\Users\\bluen\\anaconda3\\lib\\site-packages\\sklearn\\linear_model\\_coordinate_descent.py:529: ConvergenceWarning: Objective did not converge. You might want to increase the number of iterations. Duality gap: 369711485655916.06, tolerance: 91832433309.57408\n",
      "  model = cd_fast.enet_coordinate_descent(\n",
      "C:\\Users\\bluen\\anaconda3\\lib\\site-packages\\sklearn\\linear_model\\_coordinate_descent.py:529: ConvergenceWarning: Objective did not converge. You might want to increase the number of iterations. Duality gap: 406175743181655.1, tolerance: 98772680113.59616\n",
      "  model = cd_fast.enet_coordinate_descent(\n",
      "C:\\Users\\bluen\\anaconda3\\lib\\site-packages\\sklearn\\linear_model\\_coordinate_descent.py:529: ConvergenceWarning: Objective did not converge. You might want to increase the number of iterations. Duality gap: 407869598295433.0, tolerance: 105407788981.1624\n",
      "  model = cd_fast.enet_coordinate_descent(\n",
      "C:\\Users\\bluen\\anaconda3\\lib\\site-packages\\sklearn\\linear_model\\_coordinate_descent.py:529: ConvergenceWarning: Objective did not converge. You might want to increase the number of iterations. Duality gap: 399746421208054.3, tolerance: 98964245712.08815\n",
      "  model = cd_fast.enet_coordinate_descent(\n",
      "C:\\Users\\bluen\\anaconda3\\lib\\site-packages\\sklearn\\linear_model\\_coordinate_descent.py:529: ConvergenceWarning: Objective did not converge. You might want to increase the number of iterations. Duality gap: 390980672290864.2, tolerance: 97568934394.92003\n",
      "  model = cd_fast.enet_coordinate_descent(\n",
      "C:\\Users\\bluen\\anaconda3\\lib\\site-packages\\sklearn\\linear_model\\_coordinate_descent.py:529: ConvergenceWarning: Objective did not converge. You might want to increase the number of iterations. Duality gap: 369157563838448.0, tolerance: 91832433309.57408\n",
      "  model = cd_fast.enet_coordinate_descent(\n",
      "C:\\Users\\bluen\\anaconda3\\lib\\site-packages\\sklearn\\linear_model\\_coordinate_descent.py:529: ConvergenceWarning: Objective did not converge. You might want to increase the number of iterations. Duality gap: 406274223491650.7, tolerance: 98772680113.59616\n",
      "  model = cd_fast.enet_coordinate_descent(\n",
      "C:\\Users\\bluen\\anaconda3\\lib\\site-packages\\sklearn\\linear_model\\_coordinate_descent.py:529: ConvergenceWarning: Objective did not converge. You might want to increase the number of iterations. Duality gap: 409296343020768.2, tolerance: 105407788981.1624\n",
      "  model = cd_fast.enet_coordinate_descent(\n",
      "C:\\Users\\bluen\\anaconda3\\lib\\site-packages\\sklearn\\linear_model\\_coordinate_descent.py:529: ConvergenceWarning: Objective did not converge. You might want to increase the number of iterations. Duality gap: 403742198249958.8, tolerance: 98964245712.08815\n",
      "  model = cd_fast.enet_coordinate_descent(\n",
      "C:\\Users\\bluen\\anaconda3\\lib\\site-packages\\sklearn\\linear_model\\_coordinate_descent.py:529: ConvergenceWarning: Objective did not converge. You might want to increase the number of iterations. Duality gap: 390306779827680.9, tolerance: 97568934394.92003\n",
      "  model = cd_fast.enet_coordinate_descent(\n",
      "C:\\Users\\bluen\\anaconda3\\lib\\site-packages\\sklearn\\linear_model\\_coordinate_descent.py:529: ConvergenceWarning: Objective did not converge. You might want to increase the number of iterations. Duality gap: 371598149951708.5, tolerance: 91832433309.57408\n",
      "  model = cd_fast.enet_coordinate_descent(\n",
      "C:\\Users\\bluen\\anaconda3\\lib\\site-packages\\sklearn\\linear_model\\_coordinate_descent.py:529: ConvergenceWarning: Objective did not converge. You might want to increase the number of iterations. Duality gap: 401994707330773.75, tolerance: 98772680113.59616\n",
      "  model = cd_fast.enet_coordinate_descent(\n",
      "C:\\Users\\bluen\\anaconda3\\lib\\site-packages\\sklearn\\linear_model\\_coordinate_descent.py:529: ConvergenceWarning: Objective did not converge. You might want to increase the number of iterations. Duality gap: 409532442179507.06, tolerance: 105407788981.1624\n",
      "  model = cd_fast.enet_coordinate_descent(\n",
      "C:\\Users\\bluen\\anaconda3\\lib\\site-packages\\sklearn\\linear_model\\_coordinate_descent.py:529: ConvergenceWarning: Objective did not converge. You might want to increase the number of iterations. Duality gap: 402924940380787.25, tolerance: 98964245712.08815\n",
      "  model = cd_fast.enet_coordinate_descent(\n",
      "C:\\Users\\bluen\\anaconda3\\lib\\site-packages\\sklearn\\linear_model\\_coordinate_descent.py:529: ConvergenceWarning: Objective did not converge. You might want to increase the number of iterations. Duality gap: 390195359255505.5, tolerance: 97568934394.92003\n",
      "  model = cd_fast.enet_coordinate_descent(\n",
      "C:\\Users\\bluen\\anaconda3\\lib\\site-packages\\sklearn\\linear_model\\_coordinate_descent.py:529: ConvergenceWarning: Objective did not converge. You might want to increase the number of iterations. Duality gap: 370103812989001.4, tolerance: 91832433309.57408\n",
      "  model = cd_fast.enet_coordinate_descent(\n",
      "C:\\Users\\bluen\\anaconda3\\lib\\site-packages\\sklearn\\linear_model\\_coordinate_descent.py:529: ConvergenceWarning: Objective did not converge. You might want to increase the number of iterations. Duality gap: 407500573735252.7, tolerance: 98772680113.59616\n",
      "  model = cd_fast.enet_coordinate_descent(\n",
      "C:\\Users\\bluen\\anaconda3\\lib\\site-packages\\sklearn\\linear_model\\_coordinate_descent.py:529: ConvergenceWarning: Objective did not converge. You might want to increase the number of iterations. Duality gap: 407470160356586.0, tolerance: 105407788981.1624\n",
      "  model = cd_fast.enet_coordinate_descent(\n",
      "C:\\Users\\bluen\\anaconda3\\lib\\site-packages\\sklearn\\linear_model\\_coordinate_descent.py:529: ConvergenceWarning: Objective did not converge. You might want to increase the number of iterations. Duality gap: 398746576751057.5, tolerance: 98964245712.08815\n",
      "  model = cd_fast.enet_coordinate_descent(\n",
      "C:\\Users\\bluen\\anaconda3\\lib\\site-packages\\sklearn\\linear_model\\_coordinate_descent.py:529: ConvergenceWarning: Objective did not converge. You might want to increase the number of iterations. Duality gap: 390367028877176.94, tolerance: 97568934394.92003\n",
      "  model = cd_fast.enet_coordinate_descent(\n",
      "C:\\Users\\bluen\\anaconda3\\lib\\site-packages\\sklearn\\linear_model\\_coordinate_descent.py:529: ConvergenceWarning: Objective did not converge. You might want to increase the number of iterations. Duality gap: 369173383136676.7, tolerance: 91832433309.57408\n",
      "  model = cd_fast.enet_coordinate_descent(\n",
      "C:\\Users\\bluen\\anaconda3\\lib\\site-packages\\sklearn\\linear_model\\_coordinate_descent.py:529: ConvergenceWarning: Objective did not converge. You might want to increase the number of iterations. Duality gap: 404486405618255.4, tolerance: 98772680113.59616\n",
      "  model = cd_fast.enet_coordinate_descent(\n",
      "C:\\Users\\bluen\\anaconda3\\lib\\site-packages\\sklearn\\linear_model\\_coordinate_descent.py:529: ConvergenceWarning: Objective did not converge. You might want to increase the number of iterations. Duality gap: 408422424063900.0, tolerance: 105407788981.1624\n",
      "  model = cd_fast.enet_coordinate_descent(\n",
      "C:\\Users\\bluen\\anaconda3\\lib\\site-packages\\sklearn\\linear_model\\_coordinate_descent.py:529: ConvergenceWarning: Objective did not converge. You might want to increase the number of iterations. Duality gap: 399294231645120.44, tolerance: 98964245712.08815\n",
      "  model = cd_fast.enet_coordinate_descent(\n",
      "C:\\Users\\bluen\\anaconda3\\lib\\site-packages\\sklearn\\linear_model\\_coordinate_descent.py:529: ConvergenceWarning: Objective did not converge. You might want to increase the number of iterations. Duality gap: 390720362109169.5, tolerance: 97568934394.92003\n",
      "  model = cd_fast.enet_coordinate_descent(\n",
      "C:\\Users\\bluen\\anaconda3\\lib\\site-packages\\sklearn\\linear_model\\_coordinate_descent.py:529: ConvergenceWarning: Objective did not converge. You might want to increase the number of iterations. Duality gap: 369274121868694.9, tolerance: 91832433309.57408\n",
      "  model = cd_fast.enet_coordinate_descent(\n",
      "C:\\Users\\bluen\\anaconda3\\lib\\site-packages\\sklearn\\linear_model\\_coordinate_descent.py:529: ConvergenceWarning: Objective did not converge. You might want to increase the number of iterations. Duality gap: 405123558772098.2, tolerance: 98772680113.59616\n",
      "  model = cd_fast.enet_coordinate_descent(\n"
     ]
    },
    {
     "name": "stderr",
     "output_type": "stream",
     "text": [
      "C:\\Users\\bluen\\anaconda3\\lib\\site-packages\\sklearn\\linear_model\\_coordinate_descent.py:529: ConvergenceWarning: Objective did not converge. You might want to increase the number of iterations. Duality gap: 407038063613616.44, tolerance: 105407788981.1624\n",
      "  model = cd_fast.enet_coordinate_descent(\n",
      "C:\\Users\\bluen\\anaconda3\\lib\\site-packages\\sklearn\\linear_model\\_coordinate_descent.py:529: ConvergenceWarning: Objective did not converge. You might want to increase the number of iterations. Duality gap: 398430695384993.9, tolerance: 98964245712.08815\n",
      "  model = cd_fast.enet_coordinate_descent(\n",
      "C:\\Users\\bluen\\anaconda3\\lib\\site-packages\\sklearn\\linear_model\\_coordinate_descent.py:529: ConvergenceWarning: Objective did not converge. You might want to increase the number of iterations. Duality gap: 390375528396811.7, tolerance: 97568934394.92003\n",
      "  model = cd_fast.enet_coordinate_descent(\n",
      "C:\\Users\\bluen\\anaconda3\\lib\\site-packages\\sklearn\\linear_model\\_coordinate_descent.py:529: ConvergenceWarning: Objective did not converge. You might want to increase the number of iterations. Duality gap: 368638965425040.25, tolerance: 91832433309.57408\n",
      "  model = cd_fast.enet_coordinate_descent(\n",
      "C:\\Users\\bluen\\anaconda3\\lib\\site-packages\\sklearn\\linear_model\\_coordinate_descent.py:529: ConvergenceWarning: Objective did not converge. You might want to increase the number of iterations. Duality gap: 405265121403996.06, tolerance: 98772680113.59616\n",
      "  model = cd_fast.enet_coordinate_descent(\n",
      "C:\\Users\\bluen\\anaconda3\\lib\\site-packages\\sklearn\\linear_model\\_coordinate_descent.py:529: ConvergenceWarning: Objective did not converge. You might want to increase the number of iterations. Duality gap: 408415715808599.06, tolerance: 105407788981.1624\n",
      "  model = cd_fast.enet_coordinate_descent(\n",
      "C:\\Users\\bluen\\anaconda3\\lib\\site-packages\\sklearn\\linear_model\\_coordinate_descent.py:529: ConvergenceWarning: Objective did not converge. You might want to increase the number of iterations. Duality gap: 402974644228449.06, tolerance: 98964245712.08815\n",
      "  model = cd_fast.enet_coordinate_descent(\n",
      "C:\\Users\\bluen\\anaconda3\\lib\\site-packages\\sklearn\\linear_model\\_coordinate_descent.py:529: ConvergenceWarning: Objective did not converge. You might want to increase the number of iterations. Duality gap: 389426632731329.0, tolerance: 97568934394.92003\n",
      "  model = cd_fast.enet_coordinate_descent(\n",
      "C:\\Users\\bluen\\anaconda3\\lib\\site-packages\\sklearn\\linear_model\\_coordinate_descent.py:529: ConvergenceWarning: Objective did not converge. You might want to increase the number of iterations. Duality gap: 370997909675841.2, tolerance: 91832433309.57408\n",
      "  model = cd_fast.enet_coordinate_descent(\n",
      "C:\\Users\\bluen\\anaconda3\\lib\\site-packages\\sklearn\\linear_model\\_coordinate_descent.py:529: ConvergenceWarning: Objective did not converge. You might want to increase the number of iterations. Duality gap: 400326959542040.5, tolerance: 98772680113.59616\n",
      "  model = cd_fast.enet_coordinate_descent(\n",
      "C:\\Users\\bluen\\anaconda3\\lib\\site-packages\\sklearn\\linear_model\\_coordinate_descent.py:529: ConvergenceWarning: Objective did not converge. You might want to increase the number of iterations. Duality gap: 408967099269966.4, tolerance: 105407788981.1624\n",
      "  model = cd_fast.enet_coordinate_descent(\n",
      "C:\\Users\\bluen\\anaconda3\\lib\\site-packages\\sklearn\\linear_model\\_coordinate_descent.py:529: ConvergenceWarning: Objective did not converge. You might want to increase the number of iterations. Duality gap: 402152150795948.06, tolerance: 98964245712.08815\n",
      "  model = cd_fast.enet_coordinate_descent(\n",
      "C:\\Users\\bluen\\anaconda3\\lib\\site-packages\\sklearn\\linear_model\\_coordinate_descent.py:529: ConvergenceWarning: Objective did not converge. You might want to increase the number of iterations. Duality gap: 389502869982621.9, tolerance: 97568934394.92003\n",
      "  model = cd_fast.enet_coordinate_descent(\n",
      "C:\\Users\\bluen\\anaconda3\\lib\\site-packages\\sklearn\\linear_model\\_coordinate_descent.py:529: ConvergenceWarning: Objective did not converge. You might want to increase the number of iterations. Duality gap: 369702744092587.56, tolerance: 91832433309.57408\n",
      "  model = cd_fast.enet_coordinate_descent(\n",
      "C:\\Users\\bluen\\anaconda3\\lib\\site-packages\\sklearn\\linear_model\\_coordinate_descent.py:529: ConvergenceWarning: Objective did not converge. You might want to increase the number of iterations. Duality gap: 406747615705062.8, tolerance: 98772680113.59616\n",
      "  model = cd_fast.enet_coordinate_descent(\n",
      "C:\\Users\\bluen\\anaconda3\\lib\\site-packages\\sklearn\\linear_model\\_coordinate_descent.py:529: ConvergenceWarning: Objective did not converge. You might want to increase the number of iterations. Duality gap: 406651778608602.6, tolerance: 105407788981.1624\n",
      "  model = cd_fast.enet_coordinate_descent(\n",
      "C:\\Users\\bluen\\anaconda3\\lib\\site-packages\\sklearn\\linear_model\\_coordinate_descent.py:529: ConvergenceWarning: Objective did not converge. You might want to increase the number of iterations. Duality gap: 397428935631803.4, tolerance: 98964245712.08815\n",
      "  model = cd_fast.enet_coordinate_descent(\n",
      "C:\\Users\\bluen\\anaconda3\\lib\\site-packages\\sklearn\\linear_model\\_coordinate_descent.py:529: ConvergenceWarning: Objective did not converge. You might want to increase the number of iterations. Duality gap: 389729251408900.25, tolerance: 97568934394.92003\n",
      "  model = cd_fast.enet_coordinate_descent(\n",
      "C:\\Users\\bluen\\anaconda3\\lib\\site-packages\\sklearn\\linear_model\\_coordinate_descent.py:529: ConvergenceWarning: Objective did not converge. You might want to increase the number of iterations. Duality gap: 368684120683306.06, tolerance: 91832433309.57408\n",
      "  model = cd_fast.enet_coordinate_descent(\n",
      "C:\\Users\\bluen\\anaconda3\\lib\\site-packages\\sklearn\\linear_model\\_coordinate_descent.py:529: ConvergenceWarning: Objective did not converge. You might want to increase the number of iterations. Duality gap: 403321217770711.75, tolerance: 98772680113.59616\n",
      "  model = cd_fast.enet_coordinate_descent(\n",
      "C:\\Users\\bluen\\anaconda3\\lib\\site-packages\\sklearn\\linear_model\\_coordinate_descent.py:529: ConvergenceWarning: Objective did not converge. You might want to increase the number of iterations. Duality gap: 407761726498825.7, tolerance: 105407788981.1624\n",
      "  model = cd_fast.enet_coordinate_descent(\n",
      "C:\\Users\\bluen\\anaconda3\\lib\\site-packages\\sklearn\\linear_model\\_coordinate_descent.py:529: ConvergenceWarning: Objective did not converge. You might want to increase the number of iterations. Duality gap: 398026621653511.8, tolerance: 98964245712.08815\n",
      "  model = cd_fast.enet_coordinate_descent(\n",
      "C:\\Users\\bluen\\anaconda3\\lib\\site-packages\\sklearn\\linear_model\\_coordinate_descent.py:529: ConvergenceWarning: Objective did not converge. You might want to increase the number of iterations. Duality gap: 390153235659340.6, tolerance: 97568934394.92003\n",
      "  model = cd_fast.enet_coordinate_descent(\n",
      "C:\\Users\\bluen\\anaconda3\\lib\\site-packages\\sklearn\\linear_model\\_coordinate_descent.py:529: ConvergenceWarning: Objective did not converge. You might want to increase the number of iterations. Duality gap: 368820682778785.0, tolerance: 91832433309.57408\n",
      "  model = cd_fast.enet_coordinate_descent(\n",
      "C:\\Users\\bluen\\anaconda3\\lib\\site-packages\\sklearn\\linear_model\\_coordinate_descent.py:529: ConvergenceWarning: Objective did not converge. You might want to increase the number of iterations. Duality gap: 404077734323549.9, tolerance: 98772680113.59616\n",
      "  model = cd_fast.enet_coordinate_descent(\n",
      "C:\\Users\\bluen\\anaconda3\\lib\\site-packages\\sklearn\\linear_model\\_coordinate_descent.py:529: ConvergenceWarning: Objective did not converge. You might want to increase the number of iterations. Duality gap: 406203254371255.5, tolerance: 105407788981.1624\n",
      "  model = cd_fast.enet_coordinate_descent(\n",
      "C:\\Users\\bluen\\anaconda3\\lib\\site-packages\\sklearn\\linear_model\\_coordinate_descent.py:529: ConvergenceWarning: Objective did not converge. You might want to increase the number of iterations. Duality gap: 397097475722858.94, tolerance: 98964245712.08815\n",
      "  model = cd_fast.enet_coordinate_descent(\n",
      "C:\\Users\\bluen\\anaconda3\\lib\\site-packages\\sklearn\\linear_model\\_coordinate_descent.py:529: ConvergenceWarning: Objective did not converge. You might want to increase the number of iterations. Duality gap: 389774552009361.6, tolerance: 97568934394.92003\n",
      "  model = cd_fast.enet_coordinate_descent(\n",
      "C:\\Users\\bluen\\anaconda3\\lib\\site-packages\\sklearn\\linear_model\\_coordinate_descent.py:529: ConvergenceWarning: Objective did not converge. You might want to increase the number of iterations. Duality gap: 368139769584572.0, tolerance: 91832433309.57408\n",
      "  model = cd_fast.enet_coordinate_descent(\n"
     ]
    },
    {
     "name": "stderr",
     "output_type": "stream",
     "text": [
      "C:\\Users\\bluen\\anaconda3\\lib\\site-packages\\sklearn\\linear_model\\_coordinate_descent.py:529: ConvergenceWarning: Objective did not converge. You might want to increase the number of iterations. Duality gap: 404255709189879.9, tolerance: 98772680113.59616\n",
      "  model = cd_fast.enet_coordinate_descent(\n",
      "C:\\Users\\bluen\\anaconda3\\lib\\site-packages\\sklearn\\linear_model\\_coordinate_descent.py:529: ConvergenceWarning: Objective did not converge. You might want to increase the number of iterations. Duality gap: 407526431757745.8, tolerance: 105407788981.1624\n",
      "  model = cd_fast.enet_coordinate_descent(\n",
      "C:\\Users\\bluen\\anaconda3\\lib\\site-packages\\sklearn\\linear_model\\_coordinate_descent.py:529: ConvergenceWarning: Objective did not converge. You might want to increase the number of iterations. Duality gap: 402212978291733.75, tolerance: 98964245712.08815\n",
      "  model = cd_fast.enet_coordinate_descent(\n",
      "C:\\Users\\bluen\\anaconda3\\lib\\site-packages\\sklearn\\linear_model\\_coordinate_descent.py:529: ConvergenceWarning: Objective did not converge. You might want to increase the number of iterations. Duality gap: 388554480600201.1, tolerance: 97568934394.92003\n",
      "  model = cd_fast.enet_coordinate_descent(\n",
      "C:\\Users\\bluen\\anaconda3\\lib\\site-packages\\sklearn\\linear_model\\_coordinate_descent.py:529: ConvergenceWarning: Objective did not converge. You might want to increase the number of iterations. Duality gap: 370436102130684.0, tolerance: 91832433309.57408\n",
      "  model = cd_fast.enet_coordinate_descent(\n",
      "C:\\Users\\bluen\\anaconda3\\lib\\site-packages\\sklearn\\linear_model\\_coordinate_descent.py:529: ConvergenceWarning: Objective did not converge. You might want to increase the number of iterations. Duality gap: 398643987653694.56, tolerance: 98772680113.59616\n",
      "  model = cd_fast.enet_coordinate_descent(\n",
      "C:\\Users\\bluen\\anaconda3\\lib\\site-packages\\sklearn\\linear_model\\_coordinate_descent.py:529: ConvergenceWarning: Objective did not converge. You might want to increase the number of iterations. Duality gap: 408394413393551.6, tolerance: 105407788981.1624\n",
      "  model = cd_fast.enet_coordinate_descent(\n",
      "C:\\Users\\bluen\\anaconda3\\lib\\site-packages\\sklearn\\linear_model\\_coordinate_descent.py:529: ConvergenceWarning: Objective did not converge. You might want to increase the number of iterations. Duality gap: 401396043131998.7, tolerance: 98964245712.08815\n",
      "  model = cd_fast.enet_coordinate_descent(\n",
      "C:\\Users\\bluen\\anaconda3\\lib\\site-packages\\sklearn\\linear_model\\_coordinate_descent.py:529: ConvergenceWarning: Objective did not converge. You might want to increase the number of iterations. Duality gap: 388809454985356.2, tolerance: 97568934394.92003\n",
      "  model = cd_fast.enet_coordinate_descent(\n",
      "C:\\Users\\bluen\\anaconda3\\lib\\site-packages\\sklearn\\linear_model\\_coordinate_descent.py:529: ConvergenceWarning: Objective did not converge. You might want to increase the number of iterations. Duality gap: 369288617765793.44, tolerance: 91832433309.57408\n",
      "  model = cd_fast.enet_coordinate_descent(\n",
      "C:\\Users\\bluen\\anaconda3\\lib\\site-packages\\sklearn\\linear_model\\_coordinate_descent.py:529: ConvergenceWarning: Objective did not converge. You might want to increase the number of iterations. Duality gap: 405975935975065.6, tolerance: 98772680113.59616\n",
      "  model = cd_fast.enet_coordinate_descent(\n",
      "C:\\Users\\bluen\\anaconda3\\lib\\site-packages\\sklearn\\linear_model\\_coordinate_descent.py:529: ConvergenceWarning: Objective did not converge. You might want to increase the number of iterations. Duality gap: 405833471852384.6, tolerance: 105407788981.1624\n",
      "  model = cd_fast.enet_coordinate_descent(\n",
      "C:\\Users\\bluen\\anaconda3\\lib\\site-packages\\sklearn\\linear_model\\_coordinate_descent.py:529: ConvergenceWarning: Objective did not converge. You might want to increase the number of iterations. Duality gap: 396112467675656.25, tolerance: 98964245712.08815\n",
      "  model = cd_fast.enet_coordinate_descent(\n",
      "C:\\Users\\bluen\\anaconda3\\lib\\site-packages\\sklearn\\linear_model\\_coordinate_descent.py:529: ConvergenceWarning: Objective did not converge. You might want to increase the number of iterations. Duality gap: 389092665149528.7, tolerance: 97568934394.92003\n",
      "  model = cd_fast.enet_coordinate_descent(\n",
      "C:\\Users\\bluen\\anaconda3\\lib\\site-packages\\sklearn\\linear_model\\_coordinate_descent.py:529: ConvergenceWarning: Objective did not converge. You might want to increase the number of iterations. Duality gap: 368216402586613.6, tolerance: 91832433309.57408\n",
      "  model = cd_fast.enet_coordinate_descent(\n",
      "C:\\Users\\bluen\\anaconda3\\lib\\site-packages\\sklearn\\linear_model\\_coordinate_descent.py:529: ConvergenceWarning: Objective did not converge. You might want to increase the number of iterations. Duality gap: 402137447112987.2, tolerance: 98772680113.59616\n",
      "  model = cd_fast.enet_coordinate_descent(\n",
      "C:\\Users\\bluen\\anaconda3\\lib\\site-packages\\sklearn\\linear_model\\_coordinate_descent.py:529: ConvergenceWarning: Objective did not converge. You might want to increase the number of iterations. Duality gap: 407086913690762.06, tolerance: 105407788981.1624\n",
      "  model = cd_fast.enet_coordinate_descent(\n",
      "C:\\Users\\bluen\\anaconda3\\lib\\site-packages\\sklearn\\linear_model\\_coordinate_descent.py:529: ConvergenceWarning: Objective did not converge. You might want to increase the number of iterations. Duality gap: 396843899345668.7, tolerance: 98964245712.08815\n",
      "  model = cd_fast.enet_coordinate_descent(\n",
      "C:\\Users\\bluen\\anaconda3\\lib\\site-packages\\sklearn\\linear_model\\_coordinate_descent.py:529: ConvergenceWarning: Objective did not converge. You might want to increase the number of iterations. Duality gap: 389583270892443.7, tolerance: 97568934394.92003\n",
      "  model = cd_fast.enet_coordinate_descent(\n",
      "C:\\Users\\bluen\\anaconda3\\lib\\site-packages\\sklearn\\linear_model\\_coordinate_descent.py:529: ConvergenceWarning: Objective did not converge. You might want to increase the number of iterations. Duality gap: 368367752263190.3, tolerance: 91832433309.57408\n",
      "  model = cd_fast.enet_coordinate_descent(\n",
      "C:\\Users\\bluen\\anaconda3\\lib\\site-packages\\sklearn\\linear_model\\_coordinate_descent.py:529: ConvergenceWarning: Objective did not converge. You might want to increase the number of iterations. Duality gap: 403040647919466.75, tolerance: 98772680113.59616\n",
      "  model = cd_fast.enet_coordinate_descent(\n",
      "C:\\Users\\bluen\\anaconda3\\lib\\site-packages\\sklearn\\linear_model\\_coordinate_descent.py:529: ConvergenceWarning: Objective did not converge. You might want to increase the number of iterations. Duality gap: 405363885881347.5, tolerance: 105407788981.1624\n",
      "  model = cd_fast.enet_coordinate_descent(\n",
      "C:\\Users\\bluen\\anaconda3\\lib\\site-packages\\sklearn\\linear_model\\_coordinate_descent.py:529: ConvergenceWarning: Objective did not converge. You might want to increase the number of iterations. Duality gap: 395796727216722.94, tolerance: 98964245712.08815\n",
      "  model = cd_fast.enet_coordinate_descent(\n",
      "C:\\Users\\bluen\\anaconda3\\lib\\site-packages\\sklearn\\linear_model\\_coordinate_descent.py:529: ConvergenceWarning: Objective did not converge. You might want to increase the number of iterations. Duality gap: 389172998795350.44, tolerance: 97568934394.92003\n",
      "  model = cd_fast.enet_coordinate_descent(\n",
      "C:\\Users\\bluen\\anaconda3\\lib\\site-packages\\sklearn\\linear_model\\_coordinate_descent.py:529: ConvergenceWarning: Objective did not converge. You might want to increase the number of iterations. Duality gap: 367628246389951.6, tolerance: 91832433309.57408\n",
      "  model = cd_fast.enet_coordinate_descent(\n",
      "C:\\Users\\bluen\\anaconda3\\lib\\site-packages\\sklearn\\linear_model\\_coordinate_descent.py:529: ConvergenceWarning: Objective did not converge. You might want to increase the number of iterations. Duality gap: 403260651657388.06, tolerance: 98772680113.59616\n",
      "  model = cd_fast.enet_coordinate_descent(\n",
      "C:\\Users\\bluen\\anaconda3\\lib\\site-packages\\sklearn\\linear_model\\_coordinate_descent.py:529: ConvergenceWarning: Objective did not converge. You might want to increase the number of iterations. Duality gap: 491617280176625.0, tolerance: 123168307439.8383\n",
      "  model = cd_fast.enet_coordinate_descent(\n"
     ]
    },
    {
     "data": {
      "text/plain": [
       "GridSearchCV(cv=5,\n",
       "             estimator=Pipeline(steps=[('rescale', MinMaxScaler()),\n",
       "                                       ('pca', PCA(n_components=2)),\n",
       "                                       ('poly', PolynomialFeatures()),\n",
       "                                       ('lasso', Lasso(max_iter=100))]),\n",
       "             param_grid={'lasso__alpha': array([0.1, 0.2, 0.3, 0.4, 0.5, 0.6, 0.7, 0.8, 0.9]),\n",
       "                         'poly__degree': range(2, 8)},\n",
       "             scoring=make_scorer(mean_squared_error, greater_is_better=False))"
      ]
     },
     "execution_count": 128,
     "metadata": {},
     "output_type": "execute_result"
    }
   ],
   "source": [
    "model1.fit(X_train, y_train)"
   ]
  },
  {
   "cell_type": "code",
   "execution_count": 129,
   "metadata": {},
   "outputs": [
    {
     "data": {
      "text/plain": [
       "{'lasso__alpha': 0.8, 'poly__degree': 7}"
      ]
     },
     "execution_count": 129,
     "metadata": {},
     "output_type": "execute_result"
    }
   ],
   "source": [
    "model1.best_params_"
   ]
  },
  {
   "cell_type": "code",
   "execution_count": 130,
   "metadata": {},
   "outputs": [],
   "source": [
    "y_train_pred1 = model1.predict(X_train)"
   ]
  },
  {
   "cell_type": "code",
   "execution_count": 131,
   "metadata": {
    "scrolled": true
   },
   "outputs": [
    {
     "name": "stdout",
     "output_type": "stream",
     "text": [
      "train MAE: 1.62e+05\n",
      "train MSE: 5.69e+10\n",
      "train R2: 0.190\n"
     ]
    }
   ],
   "source": [
    "print('train MAE: {0:.2e}'.format(mean_absolute_error(y_train, y_train_pred1)))\n",
    "print('train MSE: {0:.2e}'.format(mean_squared_error(y_train, y_train_pred1)))\n",
    "print('train R2: {0:.3f}'.format(r2_score(y_train, y_train_pred1)))"
   ]
  },
  {
   "cell_type": "code",
   "execution_count": 132,
   "metadata": {},
   "outputs": [],
   "source": [
    "y_test_pred1 = model1.predict(X_test)"
   ]
  },
  {
   "cell_type": "code",
   "execution_count": 133,
   "metadata": {},
   "outputs": [
    {
     "name": "stdout",
     "output_type": "stream",
     "text": [
      "train MAE: 2.38e+05\n",
      "train MSE: 1.39e+11\n",
      "train R2: 0.281\n"
     ]
    }
   ],
   "source": [
    "print('train MAE: {0:.2e}'.format(mean_absolute_error(y_test, y_test_pred1)))\n",
    "print('train MSE: {0:.2e}'.format(mean_squared_error(y_test, y_test_pred1)))\n",
    "print('train R2: {0:.3f}'.format(r2_score(y_test, y_test_pred1)))"
   ]
  },
  {
   "cell_type": "markdown",
   "metadata": {},
   "source": [
    "## 4.2 Decision Tree"
   ]
  },
  {
   "cell_type": "code",
   "execution_count": 134,
   "metadata": {},
   "outputs": [],
   "source": [
    "steps2 = [('rescale', MinMaxScaler()),\n",
    "         ('dt', DecisionTreeRegressor(random_state=0))]\n",
    "model2 = Pipeline(steps2)\n",
    "model2 = model2.fit(X_train, y_train)"
   ]
  },
  {
   "cell_type": "code",
   "execution_count": 135,
   "metadata": {},
   "outputs": [],
   "source": [
    "parameters2 = {'dt__max_depth':range(1,11,2),\n",
    "               'dt__min_samples_leaf':range(20,200,20),\n",
    "               'dt__min_samples_split':range(2,7)}"
   ]
  },
  {
   "cell_type": "code",
   "execution_count": 136,
   "metadata": {},
   "outputs": [],
   "source": [
    "scorer2 = make_scorer(mean_squared_error, greater_is_better = False)"
   ]
  },
  {
   "cell_type": "code",
   "execution_count": 137,
   "metadata": {},
   "outputs": [],
   "source": [
    "model2gs = GridSearchCV(model2, parameters2, cv=5, scoring = scorer2)"
   ]
  },
  {
   "cell_type": "code",
   "execution_count": 138,
   "metadata": {},
   "outputs": [],
   "source": [
    "model2gs = model2gs.fit(X_train, y_train)"
   ]
  },
  {
   "cell_type": "code",
   "execution_count": 139,
   "metadata": {},
   "outputs": [
    {
     "data": {
      "text/plain": [
       "{'dt__max_depth': 3, 'dt__min_samples_leaf': 140, 'dt__min_samples_split': 2}"
      ]
     },
     "execution_count": 139,
     "metadata": {},
     "output_type": "execute_result"
    }
   ],
   "source": [
    "model2gs.best_params_"
   ]
  },
  {
   "cell_type": "code",
   "execution_count": 140,
   "metadata": {},
   "outputs": [],
   "source": [
    "y_train_pred2 = model2gs.predict(X_train)"
   ]
  },
  {
   "cell_type": "code",
   "execution_count": 141,
   "metadata": {},
   "outputs": [
    {
     "name": "stdout",
     "output_type": "stream",
     "text": [
      "train MAE: 1.30e+05\n",
      "train MSE: 3.92e+10\n",
      "train R2: 0.442\n"
     ]
    }
   ],
   "source": [
    "print('train MAE: {0:.2e}'.format(mean_absolute_error(y_train, y_train_pred2)))\n",
    "print('train MSE: {0:.2e}'.format(mean_squared_error(y_train, y_train_pred2)))\n",
    "print('train R2: {0:.3f}'.format(r2_score(y_train, y_train_pred2)))"
   ]
  },
  {
   "cell_type": "code",
   "execution_count": 142,
   "metadata": {},
   "outputs": [],
   "source": [
    "y_test_pred2 = model2gs.predict(X_test)"
   ]
  },
  {
   "cell_type": "code",
   "execution_count": 143,
   "metadata": {},
   "outputs": [
    {
     "name": "stdout",
     "output_type": "stream",
     "text": [
      "train MAE: 1.75e+05\n",
      "train MSE: 1.20e+11\n",
      "train R2: 0.378\n"
     ]
    }
   ],
   "source": [
    "print('train MAE: {0:.2e}'.format(mean_absolute_error(y_test, y_test_pred2)))\n",
    "print('train MSE: {0:.2e}'.format(mean_squared_error(y_test, y_test_pred2)))\n",
    "print('train R2: {0:.3f}'.format(r2_score(y_test, y_test_pred2)))"
   ]
  },
  {
   "cell_type": "code",
   "execution_count": 144,
   "metadata": {},
   "outputs": [
    {
     "data": {
      "text/plain": [
       "array([4.46813708e-01, 1.15525837e-01, 5.89474681e-02, 4.42767549e-02,\n",
       "       7.93745585e-02, 3.73653223e-02, 1.48346557e-01, 2.62834566e-02,\n",
       "       8.64182266e-03, 4.23862377e-08, 1.04228761e-03, 1.13391265e-06,\n",
       "       4.15592015e-08, 4.03282922e-03, 1.79553409e-03, 0.00000000e+00,\n",
       "       1.04971499e-04, 9.55837970e-05, 9.00744454e-04, 4.64094893e-07,\n",
       "       1.57350027e-04, 0.00000000e+00, 1.01848641e-04, 0.00000000e+00,\n",
       "       0.00000000e+00, 0.00000000e+00, 0.00000000e+00, 0.00000000e+00,\n",
       "       3.21453091e-03, 5.63603997e-04, 5.26650242e-04, 3.28975053e-04,\n",
       "       1.63177748e-03, 8.50236059e-03, 1.33701014e-03, 1.47941949e-03,\n",
       "       7.72286927e-03, 8.84487136e-04])"
      ]
     },
     "execution_count": 144,
     "metadata": {},
     "output_type": "execute_result"
    }
   ],
   "source": [
    "importancedt = model2.steps[1][1].feature_importances_\n",
    "importancedt"
   ]
  },
  {
   "cell_type": "code",
   "execution_count": 145,
   "metadata": {},
   "outputs": [
    {
     "data": {
      "text/plain": [
       "([<matplotlib.axis.XTick at 0x18c32f0b5e0>,\n",
       "  <matplotlib.axis.XTick at 0x18c32f0b6a0>,\n",
       "  <matplotlib.axis.XTick at 0x18c34f82b50>,\n",
       "  <matplotlib.axis.XTick at 0x18c33915880>,\n",
       "  <matplotlib.axis.XTick at 0x18c33c954f0>,\n",
       "  <matplotlib.axis.XTick at 0x18c34f69130>,\n",
       "  <matplotlib.axis.XTick at 0x18c34f5cfd0>,\n",
       "  <matplotlib.axis.XTick at 0x18c34f50dc0>,\n",
       "  <matplotlib.axis.XTick at 0x18c33caff40>,\n",
       "  <matplotlib.axis.XTick at 0x18c33853c40>,\n",
       "  <matplotlib.axis.XTick at 0x18c34f56d00>,\n",
       "  <matplotlib.axis.XTick at 0x18c33c8bee0>,\n",
       "  <matplotlib.axis.XTick at 0x18c3380ac10>,\n",
       "  <matplotlib.axis.XTick at 0x18c337f80a0>,\n",
       "  <matplotlib.axis.XTick at 0x18c33c47e80>,\n",
       "  <matplotlib.axis.XTick at 0x18c33a8dbb0>,\n",
       "  <matplotlib.axis.XTick at 0x18c33985be0>,\n",
       "  <matplotlib.axis.XTick at 0x18c33a0dac0>,\n",
       "  <matplotlib.axis.XTick at 0x18c33cb7190>,\n",
       "  <matplotlib.axis.XTick at 0x18c33ad82b0>,\n",
       "  <matplotlib.axis.XTick at 0x18c33c17fd0>,\n",
       "  <matplotlib.axis.XTick at 0x18c339f8a90>,\n",
       "  <matplotlib.axis.XTick at 0x18c33c37370>,\n",
       "  <matplotlib.axis.XTick at 0x18c33abe8b0>,\n",
       "  <matplotlib.axis.XTick at 0x18c338eb670>,\n",
       "  <matplotlib.axis.XTick at 0x18c34eb2b50>,\n",
       "  <matplotlib.axis.XTick at 0x18c32f01100>,\n",
       "  <matplotlib.axis.XTick at 0x18c32f01370>,\n",
       "  <matplotlib.axis.XTick at 0x18c32f0e2b0>,\n",
       "  <matplotlib.axis.XTick at 0x18c34eb27f0>,\n",
       "  <matplotlib.axis.XTick at 0x18c33c6bdf0>,\n",
       "  <matplotlib.axis.XTick at 0x18c3392f160>,\n",
       "  <matplotlib.axis.XTick at 0x18c34f4e340>,\n",
       "  <matplotlib.axis.XTick at 0x18c32f09d60>,\n",
       "  <matplotlib.axis.XTick at 0x18c34d0f790>,\n",
       "  <matplotlib.axis.XTick at 0x18c34f12e80>,\n",
       "  <matplotlib.axis.XTick at 0x18c33858430>,\n",
       "  <matplotlib.axis.XTick at 0x18c350b06a0>],\n",
       " [Text(0, 0, 'cost'),\n",
       "  Text(0, 0, 'weight'),\n",
       "  Text(0, 0, 'height'),\n",
       "  Text(0, 0, 'width'),\n",
       "  Text(0, 0, 'year'),\n",
       "  Text(0, 0, 'month'),\n",
       "  Text(0, 0, 'day'),\n",
       "  Text(0, 0, 'product_level'),\n",
       "  Text(0, 0, 'maker_M14346'),\n",
       "  Text(0, 0, 'maker_M14196'),\n",
       "  Text(0, 0, 'maker_M14170'),\n",
       "  Text(0, 0, 'maker_M14163'),\n",
       "  Text(0, 0, 'maker_M14313'),\n",
       "  Text(0, 0, 'maker_M14427'),\n",
       "  Text(0, 0, 'maker_M14164'),\n",
       "  Text(0, 0, 'maker_M14216'),\n",
       "  Text(0, 0, 'maker_M14565'),\n",
       "  Text(0, 0, 'maker_M14505'),\n",
       "  Text(0, 0, 'ingredient_IN732658'),\n",
       "  Text(0, 0, 'ingredient_IN732094'),\n",
       "  Text(0, 0, 'ingredient_IN732489'),\n",
       "  Text(0, 0, 'ingredient_IN732074'),\n",
       "  Text(0, 0, 'ingredient_IN732583'),\n",
       "  Text(0, 0, 'ingredient_IN732097'),\n",
       "  Text(0, 0, 'ingredient_IN732231'),\n",
       "  Text(0, 0, 'ingredient_IN732503'),\n",
       "  Text(0, 0, 'ingredient_IN732505'),\n",
       "  Text(0, 0, 'ingredient_IN732217'),\n",
       "  Text(0, 0, 'product_type_D'),\n",
       "  Text(0, 0, 'product_type_H'),\n",
       "  Text(0, 0, 'product_type_A'),\n",
       "  Text(0, 0, 'product_type_U'),\n",
       "  Text(0, 0, 'product_type_N'),\n",
       "  Text(0, 0, 'product_type_R'),\n",
       "  Text(0, 0, 'product_type_J'),\n",
       "  Text(0, 0, 'product_type_B'),\n",
       "  Text(0, 0, 'product_type_C'),\n",
       "  Text(0, 0, 'product_type_S')])"
      ]
     },
     "execution_count": 145,
     "metadata": {},
     "output_type": "execute_result"
    },
    {
     "data": {
      "image/png": "[encoded data removed]",
      "text/plain": [
       "<Figure size 432x288 with 1 Axes>"
      ]
     },
     "metadata": {
      "needs_background": "light"
     },
     "output_type": "display_data"
    }
   ],
   "source": [
    "plt.bar(range(len(importancedt)), importancedt, color=\"r\", align = \"center\")\n",
    "plt.xticks(range(len(importancedt)), ['cost', 'weight', 'height', 'width', 'year', 'month', 'day',\n",
    "       'product_level', 'maker_M14346', 'maker_M14196', 'maker_M14170',\n",
    "       'maker_M14163', 'maker_M14313', 'maker_M14427', 'maker_M14164',\n",
    "       'maker_M14216', 'maker_M14565', 'maker_M14505', 'ingredient_IN732658',\n",
    "       'ingredient_IN732094', 'ingredient_IN732489', 'ingredient_IN732074',\n",
    "       'ingredient_IN732583', 'ingredient_IN732097', 'ingredient_IN732231',\n",
    "       'ingredient_IN732503', 'ingredient_IN732505', 'ingredient_IN732217',\n",
    "       'product_type_D', 'product_type_H', 'product_type_A', 'product_type_U',\n",
    "       'product_type_N', 'product_type_R', 'product_type_J', 'product_type_B',\n",
    "       'product_type_C', 'product_type_S'])"
   ]
  },
  {
   "cell_type": "markdown",
   "metadata": {},
   "source": [
    "### It looks like 'maker', 'ingredient' and 'product_type' do not have too much impact on predicting the 'price' model, try drop these features"
   ]
  },
  {
   "cell_type": "code",
   "execution_count": 146,
   "metadata": {},
   "outputs": [
    {
     "data": {
      "text/html": [
       "<div>\n",
       "<style scoped>\n",
       "    .dataframe tbody tr th:only-of-type {\n",
       "        vertical-align: middle;\n",
       "    }\n",
       "\n",
       "    .dataframe tbody tr th {\n",
       "        vertical-align: top;\n",
       "    }\n",
       "\n",
       "    .dataframe thead th {\n",
       "        text-align: right;\n",
       "    }\n",
       "</style>\n",
       "<table border=\"1\" class=\"dataframe\">\n",
       "  <thead>\n",
       "    <tr style=\"text-align: right;\">\n",
       "      <th></th>\n",
       "      <th>cost</th>\n",
       "      <th>weight</th>\n",
       "      <th>height</th>\n",
       "      <th>width</th>\n",
       "      <th>depth</th>\n",
       "      <th>price</th>\n",
       "      <th>year</th>\n",
       "      <th>month</th>\n",
       "      <th>day</th>\n",
       "      <th>product_level</th>\n",
       "      <th>maker</th>\n",
       "    </tr>\n",
       "  </thead>\n",
       "  <tbody>\n",
       "    <tr>\n",
       "      <th>0</th>\n",
       "      <td>333000.0</td>\n",
       "      <td>3.90</td>\n",
       "      <td>2.76</td>\n",
       "      <td>97.0</td>\n",
       "      <td>26.0</td>\n",
       "      <td>300492.0</td>\n",
       "      <td>2008</td>\n",
       "      <td>12</td>\n",
       "      <td>19</td>\n",
       "      <td>advanced</td>\n",
       "      <td>M14122</td>\n",
       "    </tr>\n",
       "    <tr>\n",
       "      <th>1</th>\n",
       "      <td>122000.0</td>\n",
       "      <td>3.30</td>\n",
       "      <td>2.67</td>\n",
       "      <td>98.0</td>\n",
       "      <td>26.0</td>\n",
       "      <td>430570.0</td>\n",
       "      <td>1997</td>\n",
       "      <td>9</td>\n",
       "      <td>10</td>\n",
       "      <td>basic</td>\n",
       "      <td>M14346</td>\n",
       "    </tr>\n",
       "    <tr>\n",
       "      <th>2</th>\n",
       "      <td>270000.0</td>\n",
       "      <td>3.40</td>\n",
       "      <td>3.00</td>\n",
       "      <td>93.0</td>\n",
       "      <td>24.0</td>\n",
       "      <td>213070.0</td>\n",
       "      <td>2001</td>\n",
       "      <td>9</td>\n",
       "      <td>5</td>\n",
       "      <td>basic</td>\n",
       "      <td>M14346</td>\n",
       "    </tr>\n",
       "    <tr>\n",
       "      <th>3</th>\n",
       "      <td>97000.0</td>\n",
       "      <td>2.97</td>\n",
       "      <td>2.47</td>\n",
       "      <td>101.0</td>\n",
       "      <td>26.0</td>\n",
       "      <td>122659.0</td>\n",
       "      <td>2000</td>\n",
       "      <td>1</td>\n",
       "      <td>12</td>\n",
       "      <td>advanced</td>\n",
       "      <td>M14346</td>\n",
       "    </tr>\n",
       "    <tr>\n",
       "      <th>4</th>\n",
       "      <td>59000.0</td>\n",
       "      <td>2.93</td>\n",
       "      <td>2.71</td>\n",
       "      <td>96.0</td>\n",
       "      <td>25.0</td>\n",
       "      <td>60320.0</td>\n",
       "      <td>2011</td>\n",
       "      <td>8</td>\n",
       "      <td>19</td>\n",
       "      <td>super advanced</td>\n",
       "      <td>M14124</td>\n",
       "    </tr>\n",
       "    <tr>\n",
       "      <th>...</th>\n",
       "      <td>...</td>\n",
       "      <td>...</td>\n",
       "      <td>...</td>\n",
       "      <td>...</td>\n",
       "      <td>...</td>\n",
       "      <td>...</td>\n",
       "      <td>...</td>\n",
       "      <td>...</td>\n",
       "      <td>...</td>\n",
       "      <td>...</td>\n",
       "      <td>...</td>\n",
       "    </tr>\n",
       "    <tr>\n",
       "      <th>2752</th>\n",
       "      <td>254000.0</td>\n",
       "      <td>3.40</td>\n",
       "      <td>2.02</td>\n",
       "      <td>113.0</td>\n",
       "      <td>30.0</td>\n",
       "      <td>255179.0</td>\n",
       "      <td>2012</td>\n",
       "      <td>4</td>\n",
       "      <td>20</td>\n",
       "      <td>intermediate</td>\n",
       "      <td>M14261</td>\n",
       "    </tr>\n",
       "    <tr>\n",
       "      <th>2753</th>\n",
       "      <td>91000.0</td>\n",
       "      <td>2.89</td>\n",
       "      <td>2.52</td>\n",
       "      <td>99.0</td>\n",
       "      <td>26.0</td>\n",
       "      <td>144631.0</td>\n",
       "      <td>2002</td>\n",
       "      <td>7</td>\n",
       "      <td>12</td>\n",
       "      <td>advanced</td>\n",
       "      <td>M14904</td>\n",
       "    </tr>\n",
       "    <tr>\n",
       "      <th>2754</th>\n",
       "      <td>122000.0</td>\n",
       "      <td>2.83</td>\n",
       "      <td>2.15</td>\n",
       "      <td>106.0</td>\n",
       "      <td>28.0</td>\n",
       "      <td>40384.0</td>\n",
       "      <td>2007</td>\n",
       "      <td>5</td>\n",
       "      <td>25</td>\n",
       "      <td>intermediate</td>\n",
       "      <td>M14578</td>\n",
       "    </tr>\n",
       "    <tr>\n",
       "      <th>2755</th>\n",
       "      <td>44000.0</td>\n",
       "      <td>2.95</td>\n",
       "      <td>2.52</td>\n",
       "      <td>100.0</td>\n",
       "      <td>26.0</td>\n",
       "      <td>55931.0</td>\n",
       "      <td>2002</td>\n",
       "      <td>4</td>\n",
       "      <td>12</td>\n",
       "      <td>advanced</td>\n",
       "      <td>M14341</td>\n",
       "    </tr>\n",
       "    <tr>\n",
       "      <th>2756</th>\n",
       "      <td>128000.0</td>\n",
       "      <td>2.98</td>\n",
       "      <td>2.96</td>\n",
       "      <td>92.0</td>\n",
       "      <td>24.0</td>\n",
       "      <td>44370.0</td>\n",
       "      <td>2003</td>\n",
       "      <td>6</td>\n",
       "      <td>13</td>\n",
       "      <td>super advanced</td>\n",
       "      <td>M14346</td>\n",
       "    </tr>\n",
       "  </tbody>\n",
       "</table>\n",
       "<p>2757 rows × 11 columns</p>\n",
       "</div>"
      ],
      "text/plain": [
       "          cost  weight  height  width  depth     price  year  month  day  \\\n",
       "0     333000.0    3.90    2.76   97.0   26.0  300492.0  2008     12   19   \n",
       "1     122000.0    3.30    2.67   98.0   26.0  430570.0  1997      9   10   \n",
       "2     270000.0    3.40    3.00   93.0   24.0  213070.0  2001      9    5   \n",
       "3      97000.0    2.97    2.47  101.0   26.0  122659.0  2000      1   12   \n",
       "4      59000.0    2.93    2.71   96.0   25.0   60320.0  2011      8   19   \n",
       "...        ...     ...     ...    ...    ...       ...   ...    ...  ...   \n",
       "2752  254000.0    3.40    2.02  113.0   30.0  255179.0  2012      4   20   \n",
       "2753   91000.0    2.89    2.52   99.0   26.0  144631.0  2002      7   12   \n",
       "2754  122000.0    2.83    2.15  106.0   28.0   40384.0  2007      5   25   \n",
       "2755   44000.0    2.95    2.52  100.0   26.0   55931.0  2002      4   12   \n",
       "2756  128000.0    2.98    2.96   92.0   24.0   44370.0  2003      6   13   \n",
       "\n",
       "       product_level   maker  \n",
       "0           advanced  M14122  \n",
       "1              basic  M14346  \n",
       "2              basic  M14346  \n",
       "3           advanced  M14346  \n",
       "4     super advanced  M14124  \n",
       "...              ...     ...  \n",
       "2752    intermediate  M14261  \n",
       "2753        advanced  M14904  \n",
       "2754    intermediate  M14578  \n",
       "2755        advanced  M14341  \n",
       "2756  super advanced  M14346  \n",
       "\n",
       "[2757 rows x 11 columns]"
      ]
     },
     "execution_count": 146,
     "metadata": {},
     "output_type": "execute_result"
    }
   ],
   "source": [
    "train"
   ]
  },
  {
   "cell_type": "code",
   "execution_count": 166,
   "metadata": {},
   "outputs": [
    {
     "data": {
      "text/html": [
       "<div>\n",
       "<style scoped>\n",
       "    .dataframe tbody tr th:only-of-type {\n",
       "        vertical-align: middle;\n",
       "    }\n",
       "\n",
       "    .dataframe tbody tr th {\n",
       "        vertical-align: top;\n",
       "    }\n",
       "\n",
       "    .dataframe thead th {\n",
       "        text-align: right;\n",
       "    }\n",
       "</style>\n",
       "<table border=\"1\" class=\"dataframe\">\n",
       "  <thead>\n",
       "    <tr style=\"text-align: right;\">\n",
       "      <th></th>\n",
       "      <th>cost</th>\n",
       "      <th>weight</th>\n",
       "      <th>height</th>\n",
       "      <th>width</th>\n",
       "      <th>year</th>\n",
       "      <th>month</th>\n",
       "      <th>day</th>\n",
       "      <th>product_level</th>\n",
       "    </tr>\n",
       "  </thead>\n",
       "  <tbody>\n",
       "    <tr>\n",
       "      <th>0</th>\n",
       "      <td>333000.0</td>\n",
       "      <td>3.90</td>\n",
       "      <td>2.76</td>\n",
       "      <td>97.0</td>\n",
       "      <td>2008</td>\n",
       "      <td>12</td>\n",
       "      <td>19</td>\n",
       "      <td>advanced</td>\n",
       "    </tr>\n",
       "    <tr>\n",
       "      <th>1</th>\n",
       "      <td>122000.0</td>\n",
       "      <td>3.30</td>\n",
       "      <td>2.67</td>\n",
       "      <td>98.0</td>\n",
       "      <td>1997</td>\n",
       "      <td>9</td>\n",
       "      <td>10</td>\n",
       "      <td>basic</td>\n",
       "    </tr>\n",
       "    <tr>\n",
       "      <th>2</th>\n",
       "      <td>270000.0</td>\n",
       "      <td>3.40</td>\n",
       "      <td>3.00</td>\n",
       "      <td>93.0</td>\n",
       "      <td>2001</td>\n",
       "      <td>9</td>\n",
       "      <td>5</td>\n",
       "      <td>basic</td>\n",
       "    </tr>\n",
       "    <tr>\n",
       "      <th>3</th>\n",
       "      <td>97000.0</td>\n",
       "      <td>2.97</td>\n",
       "      <td>2.47</td>\n",
       "      <td>101.0</td>\n",
       "      <td>2000</td>\n",
       "      <td>1</td>\n",
       "      <td>12</td>\n",
       "      <td>advanced</td>\n",
       "    </tr>\n",
       "    <tr>\n",
       "      <th>4</th>\n",
       "      <td>59000.0</td>\n",
       "      <td>2.93</td>\n",
       "      <td>2.71</td>\n",
       "      <td>96.0</td>\n",
       "      <td>2011</td>\n",
       "      <td>8</td>\n",
       "      <td>19</td>\n",
       "      <td>super advanced</td>\n",
       "    </tr>\n",
       "    <tr>\n",
       "      <th>...</th>\n",
       "      <td>...</td>\n",
       "      <td>...</td>\n",
       "      <td>...</td>\n",
       "      <td>...</td>\n",
       "      <td>...</td>\n",
       "      <td>...</td>\n",
       "      <td>...</td>\n",
       "      <td>...</td>\n",
       "    </tr>\n",
       "    <tr>\n",
       "      <th>2752</th>\n",
       "      <td>254000.0</td>\n",
       "      <td>3.40</td>\n",
       "      <td>2.02</td>\n",
       "      <td>113.0</td>\n",
       "      <td>2012</td>\n",
       "      <td>4</td>\n",
       "      <td>20</td>\n",
       "      <td>intermediate</td>\n",
       "    </tr>\n",
       "    <tr>\n",
       "      <th>2753</th>\n",
       "      <td>91000.0</td>\n",
       "      <td>2.89</td>\n",
       "      <td>2.52</td>\n",
       "      <td>99.0</td>\n",
       "      <td>2002</td>\n",
       "      <td>7</td>\n",
       "      <td>12</td>\n",
       "      <td>advanced</td>\n",
       "    </tr>\n",
       "    <tr>\n",
       "      <th>2754</th>\n",
       "      <td>122000.0</td>\n",
       "      <td>2.83</td>\n",
       "      <td>2.15</td>\n",
       "      <td>106.0</td>\n",
       "      <td>2007</td>\n",
       "      <td>5</td>\n",
       "      <td>25</td>\n",
       "      <td>intermediate</td>\n",
       "    </tr>\n",
       "    <tr>\n",
       "      <th>2755</th>\n",
       "      <td>44000.0</td>\n",
       "      <td>2.95</td>\n",
       "      <td>2.52</td>\n",
       "      <td>100.0</td>\n",
       "      <td>2002</td>\n",
       "      <td>4</td>\n",
       "      <td>12</td>\n",
       "      <td>advanced</td>\n",
       "    </tr>\n",
       "    <tr>\n",
       "      <th>2756</th>\n",
       "      <td>128000.0</td>\n",
       "      <td>2.98</td>\n",
       "      <td>2.96</td>\n",
       "      <td>92.0</td>\n",
       "      <td>2003</td>\n",
       "      <td>6</td>\n",
       "      <td>13</td>\n",
       "      <td>super advanced</td>\n",
       "    </tr>\n",
       "  </tbody>\n",
       "</table>\n",
       "<p>2757 rows × 8 columns</p>\n",
       "</div>"
      ],
      "text/plain": [
       "          cost  weight  height  width  year  month  day   product_level\n",
       "0     333000.0    3.90    2.76   97.0  2008     12   19        advanced\n",
       "1     122000.0    3.30    2.67   98.0  1997      9   10           basic\n",
       "2     270000.0    3.40    3.00   93.0  2001      9    5           basic\n",
       "3      97000.0    2.97    2.47  101.0  2000      1   12        advanced\n",
       "4      59000.0    2.93    2.71   96.0  2011      8   19  super advanced\n",
       "...        ...     ...     ...    ...   ...    ...  ...             ...\n",
       "2752  254000.0    3.40    2.02  113.0  2012      4   20    intermediate\n",
       "2753   91000.0    2.89    2.52   99.0  2002      7   12        advanced\n",
       "2754  122000.0    2.83    2.15  106.0  2007      5   25    intermediate\n",
       "2755   44000.0    2.95    2.52  100.0  2002      4   12        advanced\n",
       "2756  128000.0    2.98    2.96   92.0  2003      6   13  super advanced\n",
       "\n",
       "[2757 rows x 8 columns]"
      ]
     },
     "execution_count": 166,
     "metadata": {},
     "output_type": "execute_result"
    }
   ],
   "source": [
    "X_train = train.drop(['maker','price','depth'], axis=1)\n",
    "X_train"
   ]
  },
  {
   "cell_type": "code",
   "execution_count": 167,
   "metadata": {},
   "outputs": [
    {
     "data": {
      "text/html": [
       "<div>\n",
       "<style scoped>\n",
       "    .dataframe tbody tr th:only-of-type {\n",
       "        vertical-align: middle;\n",
       "    }\n",
       "\n",
       "    .dataframe tbody tr th {\n",
       "        vertical-align: top;\n",
       "    }\n",
       "\n",
       "    .dataframe thead th {\n",
       "        text-align: right;\n",
       "    }\n",
       "</style>\n",
       "<table border=\"1\" class=\"dataframe\">\n",
       "  <thead>\n",
       "    <tr style=\"text-align: right;\">\n",
       "      <th></th>\n",
       "      <th>cost</th>\n",
       "      <th>weight</th>\n",
       "      <th>height</th>\n",
       "      <th>width</th>\n",
       "      <th>year</th>\n",
       "      <th>month</th>\n",
       "      <th>day</th>\n",
       "      <th>product_level</th>\n",
       "    </tr>\n",
       "  </thead>\n",
       "  <tbody>\n",
       "    <tr>\n",
       "      <th>0</th>\n",
       "      <td>333000.0</td>\n",
       "      <td>3.90</td>\n",
       "      <td>2.76</td>\n",
       "      <td>97.0</td>\n",
       "      <td>2008</td>\n",
       "      <td>12</td>\n",
       "      <td>19</td>\n",
       "      <td>3</td>\n",
       "    </tr>\n",
       "    <tr>\n",
       "      <th>1</th>\n",
       "      <td>122000.0</td>\n",
       "      <td>3.30</td>\n",
       "      <td>2.67</td>\n",
       "      <td>98.0</td>\n",
       "      <td>1997</td>\n",
       "      <td>9</td>\n",
       "      <td>10</td>\n",
       "      <td>1</td>\n",
       "    </tr>\n",
       "    <tr>\n",
       "      <th>2</th>\n",
       "      <td>270000.0</td>\n",
       "      <td>3.40</td>\n",
       "      <td>3.00</td>\n",
       "      <td>93.0</td>\n",
       "      <td>2001</td>\n",
       "      <td>9</td>\n",
       "      <td>5</td>\n",
       "      <td>1</td>\n",
       "    </tr>\n",
       "    <tr>\n",
       "      <th>3</th>\n",
       "      <td>97000.0</td>\n",
       "      <td>2.97</td>\n",
       "      <td>2.47</td>\n",
       "      <td>101.0</td>\n",
       "      <td>2000</td>\n",
       "      <td>1</td>\n",
       "      <td>12</td>\n",
       "      <td>3</td>\n",
       "    </tr>\n",
       "    <tr>\n",
       "      <th>4</th>\n",
       "      <td>59000.0</td>\n",
       "      <td>2.93</td>\n",
       "      <td>2.71</td>\n",
       "      <td>96.0</td>\n",
       "      <td>2011</td>\n",
       "      <td>8</td>\n",
       "      <td>19</td>\n",
       "      <td>4</td>\n",
       "    </tr>\n",
       "    <tr>\n",
       "      <th>...</th>\n",
       "      <td>...</td>\n",
       "      <td>...</td>\n",
       "      <td>...</td>\n",
       "      <td>...</td>\n",
       "      <td>...</td>\n",
       "      <td>...</td>\n",
       "      <td>...</td>\n",
       "      <td>...</td>\n",
       "    </tr>\n",
       "    <tr>\n",
       "      <th>2752</th>\n",
       "      <td>254000.0</td>\n",
       "      <td>3.40</td>\n",
       "      <td>2.02</td>\n",
       "      <td>113.0</td>\n",
       "      <td>2012</td>\n",
       "      <td>4</td>\n",
       "      <td>20</td>\n",
       "      <td>2</td>\n",
       "    </tr>\n",
       "    <tr>\n",
       "      <th>2753</th>\n",
       "      <td>91000.0</td>\n",
       "      <td>2.89</td>\n",
       "      <td>2.52</td>\n",
       "      <td>99.0</td>\n",
       "      <td>2002</td>\n",
       "      <td>7</td>\n",
       "      <td>12</td>\n",
       "      <td>3</td>\n",
       "    </tr>\n",
       "    <tr>\n",
       "      <th>2754</th>\n",
       "      <td>122000.0</td>\n",
       "      <td>2.83</td>\n",
       "      <td>2.15</td>\n",
       "      <td>106.0</td>\n",
       "      <td>2007</td>\n",
       "      <td>5</td>\n",
       "      <td>25</td>\n",
       "      <td>2</td>\n",
       "    </tr>\n",
       "    <tr>\n",
       "      <th>2755</th>\n",
       "      <td>44000.0</td>\n",
       "      <td>2.95</td>\n",
       "      <td>2.52</td>\n",
       "      <td>100.0</td>\n",
       "      <td>2002</td>\n",
       "      <td>4</td>\n",
       "      <td>12</td>\n",
       "      <td>3</td>\n",
       "    </tr>\n",
       "    <tr>\n",
       "      <th>2756</th>\n",
       "      <td>128000.0</td>\n",
       "      <td>2.98</td>\n",
       "      <td>2.96</td>\n",
       "      <td>92.0</td>\n",
       "      <td>2003</td>\n",
       "      <td>6</td>\n",
       "      <td>13</td>\n",
       "      <td>4</td>\n",
       "    </tr>\n",
       "  </tbody>\n",
       "</table>\n",
       "<p>2757 rows × 8 columns</p>\n",
       "</div>"
      ],
      "text/plain": [
       "          cost  weight  height  width  year  month  day  product_level\n",
       "0     333000.0    3.90    2.76   97.0  2008     12   19              3\n",
       "1     122000.0    3.30    2.67   98.0  1997      9   10              1\n",
       "2     270000.0    3.40    3.00   93.0  2001      9    5              1\n",
       "3      97000.0    2.97    2.47  101.0  2000      1   12              3\n",
       "4      59000.0    2.93    2.71   96.0  2011      8   19              4\n",
       "...        ...     ...     ...    ...   ...    ...  ...            ...\n",
       "2752  254000.0    3.40    2.02  113.0  2012      4   20              2\n",
       "2753   91000.0    2.89    2.52   99.0  2002      7   12              3\n",
       "2754  122000.0    2.83    2.15  106.0  2007      5   25              2\n",
       "2755   44000.0    2.95    2.52  100.0  2002      4   12              3\n",
       "2756  128000.0    2.98    2.96   92.0  2003      6   13              4\n",
       "\n",
       "[2757 rows x 8 columns]"
      ]
     },
     "execution_count": 167,
     "metadata": {},
     "output_type": "execute_result"
    }
   ],
   "source": [
    "dic = {'unrated':0, 'basic':1, 'intermediate':2, 'advanced':3, 'super advanced':4}\n",
    "X_train['product_level'] = X_train.product_level.map(dic)\n",
    "X_train"
   ]
  },
  {
   "cell_type": "code",
   "execution_count": 168,
   "metadata": {},
   "outputs": [
    {
     "data": {
      "text/plain": [
       "0       300492.0\n",
       "1       430570.0\n",
       "2       213070.0\n",
       "3       122659.0\n",
       "4        60320.0\n",
       "          ...   \n",
       "2752    255179.0\n",
       "2753    144631.0\n",
       "2754     40384.0\n",
       "2755     55931.0\n",
       "2756     44370.0\n",
       "Name: price, Length: 2757, dtype: float64"
      ]
     },
     "execution_count": 168,
     "metadata": {},
     "output_type": "execute_result"
    }
   ],
   "source": [
    "y_train = train.price\n",
    "y_train"
   ]
  },
  {
   "cell_type": "code",
   "execution_count": 169,
   "metadata": {},
   "outputs": [
    {
     "data": {
      "text/html": [
       "<div>\n",
       "<style scoped>\n",
       "    .dataframe tbody tr th:only-of-type {\n",
       "        vertical-align: middle;\n",
       "    }\n",
       "\n",
       "    .dataframe tbody tr th {\n",
       "        vertical-align: top;\n",
       "    }\n",
       "\n",
       "    .dataframe thead th {\n",
       "        text-align: right;\n",
       "    }\n",
       "</style>\n",
       "<table border=\"1\" class=\"dataframe\">\n",
       "  <thead>\n",
       "    <tr style=\"text-align: right;\">\n",
       "      <th></th>\n",
       "      <th>cost</th>\n",
       "      <th>weight</th>\n",
       "      <th>height</th>\n",
       "      <th>width</th>\n",
       "      <th>price</th>\n",
       "      <th>year</th>\n",
       "      <th>month</th>\n",
       "      <th>day</th>\n",
       "      <th>product_level</th>\n",
       "      <th>maker</th>\n",
       "    </tr>\n",
       "  </thead>\n",
       "  <tbody>\n",
       "    <tr>\n",
       "      <th>0</th>\n",
       "      <td>122000.0</td>\n",
       "      <td>3.50</td>\n",
       "      <td>2.50</td>\n",
       "      <td>102.0</td>\n",
       "      <td>229174.0</td>\n",
       "      <td>2016</td>\n",
       "      <td>12</td>\n",
       "      <td>23</td>\n",
       "      <td>advanced</td>\n",
       "      <td>M14123</td>\n",
       "    </tr>\n",
       "    <tr>\n",
       "      <th>1</th>\n",
       "      <td>160000.0</td>\n",
       "      <td>3.44</td>\n",
       "      <td>2.91</td>\n",
       "      <td>100.0</td>\n",
       "      <td>168762.0</td>\n",
       "      <td>2016</td>\n",
       "      <td>10</td>\n",
       "      <td>28</td>\n",
       "      <td>super advanced</td>\n",
       "      <td>M14128</td>\n",
       "    </tr>\n",
       "    <tr>\n",
       "      <th>2</th>\n",
       "      <td>160000.0</td>\n",
       "      <td>3.12</td>\n",
       "      <td>2.93</td>\n",
       "      <td>95.0</td>\n",
       "      <td>605022.0</td>\n",
       "      <td>2015</td>\n",
       "      <td>3</td>\n",
       "      <td>27</td>\n",
       "      <td>super advanced</td>\n",
       "      <td>M14137</td>\n",
       "    </tr>\n",
       "    <tr>\n",
       "      <th>3</th>\n",
       "      <td>122000.0</td>\n",
       "      <td>2.98</td>\n",
       "      <td>2.14</td>\n",
       "      <td>109.0</td>\n",
       "      <td>4444.0</td>\n",
       "      <td>2015</td>\n",
       "      <td>8</td>\n",
       "      <td>7</td>\n",
       "      <td>advanced</td>\n",
       "      <td>M14346</td>\n",
       "    </tr>\n",
       "    <tr>\n",
       "      <th>4</th>\n",
       "      <td>18000.0</td>\n",
       "      <td>3.21</td>\n",
       "      <td>2.58</td>\n",
       "      <td>103.0</td>\n",
       "      <td>17932.0</td>\n",
       "      <td>2016</td>\n",
       "      <td>6</td>\n",
       "      <td>24</td>\n",
       "      <td>advanced</td>\n",
       "      <td>M14162</td>\n",
       "    </tr>\n",
       "    <tr>\n",
       "      <th>...</th>\n",
       "      <td>...</td>\n",
       "      <td>...</td>\n",
       "      <td>...</td>\n",
       "      <td>...</td>\n",
       "      <td>...</td>\n",
       "      <td>...</td>\n",
       "      <td>...</td>\n",
       "      <td>...</td>\n",
       "      <td>...</td>\n",
       "      <td>...</td>\n",
       "    </tr>\n",
       "    <tr>\n",
       "      <th>424</th>\n",
       "      <td>37000.0</td>\n",
       "      <td>3.90</td>\n",
       "      <td>2.84</td>\n",
       "      <td>96.0</td>\n",
       "      <td>107358.0</td>\n",
       "      <td>2016</td>\n",
       "      <td>1</td>\n",
       "      <td>13</td>\n",
       "      <td>advanced</td>\n",
       "      <td>M14346</td>\n",
       "    </tr>\n",
       "    <tr>\n",
       "      <th>425</th>\n",
       "      <td>122000.0</td>\n",
       "      <td>3.23</td>\n",
       "      <td>2.19</td>\n",
       "      <td>112.0</td>\n",
       "      <td>47939.0</td>\n",
       "      <td>2016</td>\n",
       "      <td>7</td>\n",
       "      <td>29</td>\n",
       "      <td>intermediate</td>\n",
       "      <td>M14734,M14735</td>\n",
       "    </tr>\n",
       "    <tr>\n",
       "      <th>426</th>\n",
       "      <td>562000.0</td>\n",
       "      <td>3.43</td>\n",
       "      <td>2.49</td>\n",
       "      <td>108.0</td>\n",
       "      <td>491055.0</td>\n",
       "      <td>2017</td>\n",
       "      <td>3</td>\n",
       "      <td>10</td>\n",
       "      <td>advanced</td>\n",
       "      <td>M14256</td>\n",
       "    </tr>\n",
       "    <tr>\n",
       "      <th>427</th>\n",
       "      <td>122000.0</td>\n",
       "      <td>3.00</td>\n",
       "      <td>2.02</td>\n",
       "      <td>112.0</td>\n",
       "      <td>93349.0</td>\n",
       "      <td>2016</td>\n",
       "      <td>11</td>\n",
       "      <td>25</td>\n",
       "      <td>advanced</td>\n",
       "      <td>M14904</td>\n",
       "    </tr>\n",
       "    <tr>\n",
       "      <th>428</th>\n",
       "      <td>122000.0</td>\n",
       "      <td>3.80</td>\n",
       "      <td>2.84</td>\n",
       "      <td>96.0</td>\n",
       "      <td>1074844.0</td>\n",
       "      <td>2016</td>\n",
       "      <td>12</td>\n",
       "      <td>16</td>\n",
       "      <td>intermediate</td>\n",
       "      <td>M14883,M15011</td>\n",
       "    </tr>\n",
       "  </tbody>\n",
       "</table>\n",
       "<p>429 rows × 10 columns</p>\n",
       "</div>"
      ],
      "text/plain": [
       "         cost  weight  height  width      price  year  month  day  \\\n",
       "0    122000.0    3.50    2.50  102.0   229174.0  2016     12   23   \n",
       "1    160000.0    3.44    2.91  100.0   168762.0  2016     10   28   \n",
       "2    160000.0    3.12    2.93   95.0   605022.0  2015      3   27   \n",
       "3    122000.0    2.98    2.14  109.0     4444.0  2015      8    7   \n",
       "4     18000.0    3.21    2.58  103.0    17932.0  2016      6   24   \n",
       "..        ...     ...     ...    ...        ...   ...    ...  ...   \n",
       "424   37000.0    3.90    2.84   96.0   107358.0  2016      1   13   \n",
       "425  122000.0    3.23    2.19  112.0    47939.0  2016      7   29   \n",
       "426  562000.0    3.43    2.49  108.0   491055.0  2017      3   10   \n",
       "427  122000.0    3.00    2.02  112.0    93349.0  2016     11   25   \n",
       "428  122000.0    3.80    2.84   96.0  1074844.0  2016     12   16   \n",
       "\n",
       "      product_level          maker  \n",
       "0          advanced         M14123  \n",
       "1    super advanced         M14128  \n",
       "2    super advanced         M14137  \n",
       "3          advanced         M14346  \n",
       "4          advanced         M14162  \n",
       "..              ...            ...  \n",
       "424        advanced         M14346  \n",
       "425    intermediate  M14734,M14735  \n",
       "426        advanced         M14256  \n",
       "427        advanced         M14904  \n",
       "428    intermediate  M14883,M15011  \n",
       "\n",
       "[429 rows x 10 columns]"
      ]
     },
     "execution_count": 169,
     "metadata": {},
     "output_type": "execute_result"
    }
   ],
   "source": [
    "test"
   ]
  },
  {
   "cell_type": "code",
   "execution_count": 171,
   "metadata": {},
   "outputs": [
    {
     "data": {
      "text/html": [
       "<div>\n",
       "<style scoped>\n",
       "    .dataframe tbody tr th:only-of-type {\n",
       "        vertical-align: middle;\n",
       "    }\n",
       "\n",
       "    .dataframe tbody tr th {\n",
       "        vertical-align: top;\n",
       "    }\n",
       "\n",
       "    .dataframe thead th {\n",
       "        text-align: right;\n",
       "    }\n",
       "</style>\n",
       "<table border=\"1\" class=\"dataframe\">\n",
       "  <thead>\n",
       "    <tr style=\"text-align: right;\">\n",
       "      <th></th>\n",
       "      <th>cost</th>\n",
       "      <th>weight</th>\n",
       "      <th>height</th>\n",
       "      <th>width</th>\n",
       "      <th>year</th>\n",
       "      <th>month</th>\n",
       "      <th>day</th>\n",
       "      <th>product_level</th>\n",
       "    </tr>\n",
       "  </thead>\n",
       "  <tbody>\n",
       "    <tr>\n",
       "      <th>0</th>\n",
       "      <td>122000.0</td>\n",
       "      <td>3.50</td>\n",
       "      <td>2.50</td>\n",
       "      <td>102.0</td>\n",
       "      <td>2016</td>\n",
       "      <td>12</td>\n",
       "      <td>23</td>\n",
       "      <td>advanced</td>\n",
       "    </tr>\n",
       "    <tr>\n",
       "      <th>1</th>\n",
       "      <td>160000.0</td>\n",
       "      <td>3.44</td>\n",
       "      <td>2.91</td>\n",
       "      <td>100.0</td>\n",
       "      <td>2016</td>\n",
       "      <td>10</td>\n",
       "      <td>28</td>\n",
       "      <td>super advanced</td>\n",
       "    </tr>\n",
       "    <tr>\n",
       "      <th>2</th>\n",
       "      <td>160000.0</td>\n",
       "      <td>3.12</td>\n",
       "      <td>2.93</td>\n",
       "      <td>95.0</td>\n",
       "      <td>2015</td>\n",
       "      <td>3</td>\n",
       "      <td>27</td>\n",
       "      <td>super advanced</td>\n",
       "    </tr>\n",
       "    <tr>\n",
       "      <th>3</th>\n",
       "      <td>122000.0</td>\n",
       "      <td>2.98</td>\n",
       "      <td>2.14</td>\n",
       "      <td>109.0</td>\n",
       "      <td>2015</td>\n",
       "      <td>8</td>\n",
       "      <td>7</td>\n",
       "      <td>advanced</td>\n",
       "    </tr>\n",
       "    <tr>\n",
       "      <th>4</th>\n",
       "      <td>18000.0</td>\n",
       "      <td>3.21</td>\n",
       "      <td>2.58</td>\n",
       "      <td>103.0</td>\n",
       "      <td>2016</td>\n",
       "      <td>6</td>\n",
       "      <td>24</td>\n",
       "      <td>advanced</td>\n",
       "    </tr>\n",
       "    <tr>\n",
       "      <th>...</th>\n",
       "      <td>...</td>\n",
       "      <td>...</td>\n",
       "      <td>...</td>\n",
       "      <td>...</td>\n",
       "      <td>...</td>\n",
       "      <td>...</td>\n",
       "      <td>...</td>\n",
       "      <td>...</td>\n",
       "    </tr>\n",
       "    <tr>\n",
       "      <th>424</th>\n",
       "      <td>37000.0</td>\n",
       "      <td>3.90</td>\n",
       "      <td>2.84</td>\n",
       "      <td>96.0</td>\n",
       "      <td>2016</td>\n",
       "      <td>1</td>\n",
       "      <td>13</td>\n",
       "      <td>advanced</td>\n",
       "    </tr>\n",
       "    <tr>\n",
       "      <th>425</th>\n",
       "      <td>122000.0</td>\n",
       "      <td>3.23</td>\n",
       "      <td>2.19</td>\n",
       "      <td>112.0</td>\n",
       "      <td>2016</td>\n",
       "      <td>7</td>\n",
       "      <td>29</td>\n",
       "      <td>intermediate</td>\n",
       "    </tr>\n",
       "    <tr>\n",
       "      <th>426</th>\n",
       "      <td>562000.0</td>\n",
       "      <td>3.43</td>\n",
       "      <td>2.49</td>\n",
       "      <td>108.0</td>\n",
       "      <td>2017</td>\n",
       "      <td>3</td>\n",
       "      <td>10</td>\n",
       "      <td>advanced</td>\n",
       "    </tr>\n",
       "    <tr>\n",
       "      <th>427</th>\n",
       "      <td>122000.0</td>\n",
       "      <td>3.00</td>\n",
       "      <td>2.02</td>\n",
       "      <td>112.0</td>\n",
       "      <td>2016</td>\n",
       "      <td>11</td>\n",
       "      <td>25</td>\n",
       "      <td>advanced</td>\n",
       "    </tr>\n",
       "    <tr>\n",
       "      <th>428</th>\n",
       "      <td>122000.0</td>\n",
       "      <td>3.80</td>\n",
       "      <td>2.84</td>\n",
       "      <td>96.0</td>\n",
       "      <td>2016</td>\n",
       "      <td>12</td>\n",
       "      <td>16</td>\n",
       "      <td>intermediate</td>\n",
       "    </tr>\n",
       "  </tbody>\n",
       "</table>\n",
       "<p>429 rows × 8 columns</p>\n",
       "</div>"
      ],
      "text/plain": [
       "         cost  weight  height  width  year  month  day   product_level\n",
       "0    122000.0    3.50    2.50  102.0  2016     12   23        advanced\n",
       "1    160000.0    3.44    2.91  100.0  2016     10   28  super advanced\n",
       "2    160000.0    3.12    2.93   95.0  2015      3   27  super advanced\n",
       "3    122000.0    2.98    2.14  109.0  2015      8    7        advanced\n",
       "4     18000.0    3.21    2.58  103.0  2016      6   24        advanced\n",
       "..        ...     ...     ...    ...   ...    ...  ...             ...\n",
       "424   37000.0    3.90    2.84   96.0  2016      1   13        advanced\n",
       "425  122000.0    3.23    2.19  112.0  2016      7   29    intermediate\n",
       "426  562000.0    3.43    2.49  108.0  2017      3   10        advanced\n",
       "427  122000.0    3.00    2.02  112.0  2016     11   25        advanced\n",
       "428  122000.0    3.80    2.84   96.0  2016     12   16    intermediate\n",
       "\n",
       "[429 rows x 8 columns]"
      ]
     },
     "execution_count": 171,
     "metadata": {},
     "output_type": "execute_result"
    }
   ],
   "source": [
    "X_test = test.drop(['maker','price'], axis=1)\n",
    "X_test"
   ]
  },
  {
   "cell_type": "code",
   "execution_count": 172,
   "metadata": {},
   "outputs": [
    {
     "data": {
      "text/html": [
       "<div>\n",
       "<style scoped>\n",
       "    .dataframe tbody tr th:only-of-type {\n",
       "        vertical-align: middle;\n",
       "    }\n",
       "\n",
       "    .dataframe tbody tr th {\n",
       "        vertical-align: top;\n",
       "    }\n",
       "\n",
       "    .dataframe thead th {\n",
       "        text-align: right;\n",
       "    }\n",
       "</style>\n",
       "<table border=\"1\" class=\"dataframe\">\n",
       "  <thead>\n",
       "    <tr style=\"text-align: right;\">\n",
       "      <th></th>\n",
       "      <th>cost</th>\n",
       "      <th>weight</th>\n",
       "      <th>height</th>\n",
       "      <th>width</th>\n",
       "      <th>year</th>\n",
       "      <th>month</th>\n",
       "      <th>day</th>\n",
       "      <th>product_level</th>\n",
       "    </tr>\n",
       "  </thead>\n",
       "  <tbody>\n",
       "    <tr>\n",
       "      <th>0</th>\n",
       "      <td>122000.0</td>\n",
       "      <td>3.50</td>\n",
       "      <td>2.50</td>\n",
       "      <td>102.0</td>\n",
       "      <td>2016</td>\n",
       "      <td>12</td>\n",
       "      <td>23</td>\n",
       "      <td>3</td>\n",
       "    </tr>\n",
       "    <tr>\n",
       "      <th>1</th>\n",
       "      <td>160000.0</td>\n",
       "      <td>3.44</td>\n",
       "      <td>2.91</td>\n",
       "      <td>100.0</td>\n",
       "      <td>2016</td>\n",
       "      <td>10</td>\n",
       "      <td>28</td>\n",
       "      <td>4</td>\n",
       "    </tr>\n",
       "    <tr>\n",
       "      <th>2</th>\n",
       "      <td>160000.0</td>\n",
       "      <td>3.12</td>\n",
       "      <td>2.93</td>\n",
       "      <td>95.0</td>\n",
       "      <td>2015</td>\n",
       "      <td>3</td>\n",
       "      <td>27</td>\n",
       "      <td>4</td>\n",
       "    </tr>\n",
       "    <tr>\n",
       "      <th>3</th>\n",
       "      <td>122000.0</td>\n",
       "      <td>2.98</td>\n",
       "      <td>2.14</td>\n",
       "      <td>109.0</td>\n",
       "      <td>2015</td>\n",
       "      <td>8</td>\n",
       "      <td>7</td>\n",
       "      <td>3</td>\n",
       "    </tr>\n",
       "    <tr>\n",
       "      <th>4</th>\n",
       "      <td>18000.0</td>\n",
       "      <td>3.21</td>\n",
       "      <td>2.58</td>\n",
       "      <td>103.0</td>\n",
       "      <td>2016</td>\n",
       "      <td>6</td>\n",
       "      <td>24</td>\n",
       "      <td>3</td>\n",
       "    </tr>\n",
       "    <tr>\n",
       "      <th>...</th>\n",
       "      <td>...</td>\n",
       "      <td>...</td>\n",
       "      <td>...</td>\n",
       "      <td>...</td>\n",
       "      <td>...</td>\n",
       "      <td>...</td>\n",
       "      <td>...</td>\n",
       "      <td>...</td>\n",
       "    </tr>\n",
       "    <tr>\n",
       "      <th>424</th>\n",
       "      <td>37000.0</td>\n",
       "      <td>3.90</td>\n",
       "      <td>2.84</td>\n",
       "      <td>96.0</td>\n",
       "      <td>2016</td>\n",
       "      <td>1</td>\n",
       "      <td>13</td>\n",
       "      <td>3</td>\n",
       "    </tr>\n",
       "    <tr>\n",
       "      <th>425</th>\n",
       "      <td>122000.0</td>\n",
       "      <td>3.23</td>\n",
       "      <td>2.19</td>\n",
       "      <td>112.0</td>\n",
       "      <td>2016</td>\n",
       "      <td>7</td>\n",
       "      <td>29</td>\n",
       "      <td>2</td>\n",
       "    </tr>\n",
       "    <tr>\n",
       "      <th>426</th>\n",
       "      <td>562000.0</td>\n",
       "      <td>3.43</td>\n",
       "      <td>2.49</td>\n",
       "      <td>108.0</td>\n",
       "      <td>2017</td>\n",
       "      <td>3</td>\n",
       "      <td>10</td>\n",
       "      <td>3</td>\n",
       "    </tr>\n",
       "    <tr>\n",
       "      <th>427</th>\n",
       "      <td>122000.0</td>\n",
       "      <td>3.00</td>\n",
       "      <td>2.02</td>\n",
       "      <td>112.0</td>\n",
       "      <td>2016</td>\n",
       "      <td>11</td>\n",
       "      <td>25</td>\n",
       "      <td>3</td>\n",
       "    </tr>\n",
       "    <tr>\n",
       "      <th>428</th>\n",
       "      <td>122000.0</td>\n",
       "      <td>3.80</td>\n",
       "      <td>2.84</td>\n",
       "      <td>96.0</td>\n",
       "      <td>2016</td>\n",
       "      <td>12</td>\n",
       "      <td>16</td>\n",
       "      <td>2</td>\n",
       "    </tr>\n",
       "  </tbody>\n",
       "</table>\n",
       "<p>429 rows × 8 columns</p>\n",
       "</div>"
      ],
      "text/plain": [
       "         cost  weight  height  width  year  month  day  product_level\n",
       "0    122000.0    3.50    2.50  102.0  2016     12   23              3\n",
       "1    160000.0    3.44    2.91  100.0  2016     10   28              4\n",
       "2    160000.0    3.12    2.93   95.0  2015      3   27              4\n",
       "3    122000.0    2.98    2.14  109.0  2015      8    7              3\n",
       "4     18000.0    3.21    2.58  103.0  2016      6   24              3\n",
       "..        ...     ...     ...    ...   ...    ...  ...            ...\n",
       "424   37000.0    3.90    2.84   96.0  2016      1   13              3\n",
       "425  122000.0    3.23    2.19  112.0  2016      7   29              2\n",
       "426  562000.0    3.43    2.49  108.0  2017      3   10              3\n",
       "427  122000.0    3.00    2.02  112.0  2016     11   25              3\n",
       "428  122000.0    3.80    2.84   96.0  2016     12   16              2\n",
       "\n",
       "[429 rows x 8 columns]"
      ]
     },
     "execution_count": 172,
     "metadata": {},
     "output_type": "execute_result"
    }
   ],
   "source": [
    "dic = {'unrated':0, 'basic':1, 'intermediate':2, 'advanced':3, 'super advanced':4}\n",
    "X_test['product_level'] = X_test.product_level.map(dic)\n",
    "X_test"
   ]
  },
  {
   "cell_type": "code",
   "execution_count": 174,
   "metadata": {},
   "outputs": [
    {
     "data": {
      "text/plain": [
       "0       229174.0\n",
       "1       168762.0\n",
       "2       605022.0\n",
       "3         4444.0\n",
       "4        17932.0\n",
       "         ...    \n",
       "424     107358.0\n",
       "425      47939.0\n",
       "426     491055.0\n",
       "427      93349.0\n",
       "428    1074844.0\n",
       "Name: price, Length: 429, dtype: float64"
      ]
     },
     "execution_count": 174,
     "metadata": {},
     "output_type": "execute_result"
    }
   ],
   "source": [
    "y_test = test.price\n",
    "y_test"
   ]
  },
  {
   "cell_type": "markdown",
   "metadata": {},
   "source": [
    "## 4.1 Regularized Linear Regression(updated)"
   ]
  },
  {
   "cell_type": "code",
   "execution_count": 175,
   "metadata": {},
   "outputs": [],
   "source": [
    "steps1 = [('rescale', MinMaxScaler()),\n",
    "         ('pca', PCA(n_components = 2)),\n",
    "         ('poly', PolynomialFeatures()),\n",
    "         ('lasso', Lasso(max_iter = 100))]\n",
    "model1 = Pipeline(steps1)\n",
    "model1 = model1.fit(X_train, y_train)"
   ]
  },
  {
   "cell_type": "code",
   "execution_count": 176,
   "metadata": {},
   "outputs": [],
   "source": [
    "parameters1 = {'lasso__alpha': np.arange(0.1,1,0.1), \n",
    "              'poly__degree': range(2,8)}"
   ]
  },
  {
   "cell_type": "code",
   "execution_count": 177,
   "metadata": {},
   "outputs": [],
   "source": [
    "scorer1 = make_scorer(mean_squared_error, greater_is_better = False)"
   ]
  },
  {
   "cell_type": "code",
   "execution_count": 178,
   "metadata": {},
   "outputs": [],
   "source": [
    "model1 = GridSearchCV(model1, parameters1, cv=5, scoring = scorer1)"
   ]
  },
  {
   "cell_type": "code",
   "execution_count": 179,
   "metadata": {},
   "outputs": [
    {
     "name": "stderr",
     "output_type": "stream",
     "text": [
      "C:\\Users\\bluen\\anaconda3\\lib\\site-packages\\sklearn\\linear_model\\_coordinate_descent.py:529: ConvergenceWarning: Objective did not converge. You might want to increase the number of iterations. Duality gap: 34279951529853.812, tolerance: 9825112377.678791\n",
      "  model = cd_fast.enet_coordinate_descent(\n",
      "C:\\Users\\bluen\\anaconda3\\lib\\site-packages\\sklearn\\linear_model\\_coordinate_descent.py:529: ConvergenceWarning: Objective did not converge. You might want to increase the number of iterations. Duality gap: 32248780469119.617, tolerance: 9445576142.780487\n",
      "  model = cd_fast.enet_coordinate_descent(\n",
      "C:\\Users\\bluen\\anaconda3\\lib\\site-packages\\sklearn\\linear_model\\_coordinate_descent.py:529: ConvergenceWarning: Objective did not converge. You might want to increase the number of iterations. Duality gap: 42197992339025.96, tolerance: 9649162975.731035\n",
      "  model = cd_fast.enet_coordinate_descent(\n",
      "C:\\Users\\bluen\\anaconda3\\lib\\site-packages\\sklearn\\linear_model\\_coordinate_descent.py:529: ConvergenceWarning: Objective did not converge. You might want to increase the number of iterations. Duality gap: 33688501492111.734, tolerance: 8999377254.654268\n",
      "  model = cd_fast.enet_coordinate_descent(\n",
      "C:\\Users\\bluen\\anaconda3\\lib\\site-packages\\sklearn\\linear_model\\_coordinate_descent.py:529: ConvergenceWarning: Objective did not converge. You might want to increase the number of iterations. Duality gap: 1038248499359.5469, tolerance: 9063490963.889975\n",
      "  model = cd_fast.enet_coordinate_descent(\n",
      "C:\\Users\\bluen\\anaconda3\\lib\\site-packages\\sklearn\\linear_model\\_coordinate_descent.py:529: ConvergenceWarning: Objective did not converge. You might want to increase the number of iterations. Duality gap: 47055894069501.9, tolerance: 9825112377.678791\n",
      "  model = cd_fast.enet_coordinate_descent(\n",
      "C:\\Users\\bluen\\anaconda3\\lib\\site-packages\\sklearn\\linear_model\\_coordinate_descent.py:529: ConvergenceWarning: Objective did not converge. You might want to increase the number of iterations. Duality gap: 44094842004750.87, tolerance: 9445576142.780487\n",
      "  model = cd_fast.enet_coordinate_descent(\n",
      "C:\\Users\\bluen\\anaconda3\\lib\\site-packages\\sklearn\\linear_model\\_coordinate_descent.py:529: ConvergenceWarning: Objective did not converge. You might want to increase the number of iterations. Duality gap: 45652248885150.51, tolerance: 9649162975.731035\n",
      "  model = cd_fast.enet_coordinate_descent(\n",
      "C:\\Users\\bluen\\anaconda3\\lib\\site-packages\\sklearn\\linear_model\\_coordinate_descent.py:529: ConvergenceWarning: Objective did not converge. You might want to increase the number of iterations. Duality gap: 41946496152006.18, tolerance: 8999377254.654268\n",
      "  model = cd_fast.enet_coordinate_descent(\n",
      "C:\\Users\\bluen\\anaconda3\\lib\\site-packages\\sklearn\\linear_model\\_coordinate_descent.py:529: ConvergenceWarning: Objective did not converge. You might want to increase the number of iterations. Duality gap: 43500042365895.586, tolerance: 9063490963.889975\n",
      "  model = cd_fast.enet_coordinate_descent(\n",
      "C:\\Users\\bluen\\anaconda3\\lib\\site-packages\\sklearn\\linear_model\\_coordinate_descent.py:529: ConvergenceWarning: Objective did not converge. You might want to increase the number of iterations. Duality gap: 46374870497379.625, tolerance: 9825112377.678791\n",
      "  model = cd_fast.enet_coordinate_descent(\n",
      "C:\\Users\\bluen\\anaconda3\\lib\\site-packages\\sklearn\\linear_model\\_coordinate_descent.py:529: ConvergenceWarning: Objective did not converge. You might want to increase the number of iterations. Duality gap: 43632429536170.836, tolerance: 9445576142.780487\n",
      "  model = cd_fast.enet_coordinate_descent(\n",
      "C:\\Users\\bluen\\anaconda3\\lib\\site-packages\\sklearn\\linear_model\\_coordinate_descent.py:529: ConvergenceWarning: Objective did not converge. You might want to increase the number of iterations. Duality gap: 45068149188879.39, tolerance: 9649162975.731035\n",
      "  model = cd_fast.enet_coordinate_descent(\n",
      "C:\\Users\\bluen\\anaconda3\\lib\\site-packages\\sklearn\\linear_model\\_coordinate_descent.py:529: ConvergenceWarning: Objective did not converge. You might want to increase the number of iterations. Duality gap: 41602001120249.195, tolerance: 8999377254.654268\n",
      "  model = cd_fast.enet_coordinate_descent(\n",
      "C:\\Users\\bluen\\anaconda3\\lib\\site-packages\\sklearn\\linear_model\\_coordinate_descent.py:529: ConvergenceWarning: Objective did not converge. You might want to increase the number of iterations. Duality gap: 43389045642033.914, tolerance: 9063490963.889975\n",
      "  model = cd_fast.enet_coordinate_descent(\n",
      "C:\\Users\\bluen\\anaconda3\\lib\\site-packages\\sklearn\\linear_model\\_coordinate_descent.py:529: ConvergenceWarning: Objective did not converge. You might want to increase the number of iterations. Duality gap: 45896184611108.984, tolerance: 9825112377.678791\n",
      "  model = cd_fast.enet_coordinate_descent(\n",
      "C:\\Users\\bluen\\anaconda3\\lib\\site-packages\\sklearn\\linear_model\\_coordinate_descent.py:529: ConvergenceWarning: Objective did not converge. You might want to increase the number of iterations. Duality gap: 43385199451625.47, tolerance: 9445576142.780487\n",
      "  model = cd_fast.enet_coordinate_descent(\n",
      "C:\\Users\\bluen\\anaconda3\\lib\\site-packages\\sklearn\\linear_model\\_coordinate_descent.py:529: ConvergenceWarning: Objective did not converge. You might want to increase the number of iterations. Duality gap: 44784227605503.07, tolerance: 9649162975.731035\n",
      "  model = cd_fast.enet_coordinate_descent(\n",
      "C:\\Users\\bluen\\anaconda3\\lib\\site-packages\\sklearn\\linear_model\\_coordinate_descent.py:529: ConvergenceWarning: Objective did not converge. You might want to increase the number of iterations. Duality gap: 41125750041701.33, tolerance: 8999377254.654268\n",
      "  model = cd_fast.enet_coordinate_descent(\n",
      "C:\\Users\\bluen\\anaconda3\\lib\\site-packages\\sklearn\\linear_model\\_coordinate_descent.py:529: ConvergenceWarning: Objective did not converge. You might want to increase the number of iterations. Duality gap: 43078029504675.63, tolerance: 9063490963.889975\n",
      "  model = cd_fast.enet_coordinate_descent(\n",
      "C:\\Users\\bluen\\anaconda3\\lib\\site-packages\\sklearn\\linear_model\\_coordinate_descent.py:529: ConvergenceWarning: Objective did not converge. You might want to increase the number of iterations. Duality gap: 25825317663584.73, tolerance: 9825112377.678791\n",
      "  model = cd_fast.enet_coordinate_descent(\n",
      "C:\\Users\\bluen\\anaconda3\\lib\\site-packages\\sklearn\\linear_model\\_coordinate_descent.py:529: ConvergenceWarning: Objective did not converge. You might want to increase the number of iterations. Duality gap: 24356636943085.54, tolerance: 9445576142.780487\n",
      "  model = cd_fast.enet_coordinate_descent(\n",
      "C:\\Users\\bluen\\anaconda3\\lib\\site-packages\\sklearn\\linear_model\\_coordinate_descent.py:529: ConvergenceWarning: Objective did not converge. You might want to increase the number of iterations. Duality gap: 38759153212080.14, tolerance: 9649162975.731035\n",
      "  model = cd_fast.enet_coordinate_descent(\n",
      "C:\\Users\\bluen\\anaconda3\\lib\\site-packages\\sklearn\\linear_model\\_coordinate_descent.py:529: ConvergenceWarning: Objective did not converge. You might want to increase the number of iterations. Duality gap: 26947951426577.48, tolerance: 8999377254.654268\n",
      "  model = cd_fast.enet_coordinate_descent(\n",
      "C:\\Users\\bluen\\anaconda3\\lib\\site-packages\\sklearn\\linear_model\\_coordinate_descent.py:529: ConvergenceWarning: Objective did not converge. You might want to increase the number of iterations. Duality gap: 303771216143.8281, tolerance: 9063490963.889975\n",
      "  model = cd_fast.enet_coordinate_descent(\n",
      "C:\\Users\\bluen\\anaconda3\\lib\\site-packages\\sklearn\\linear_model\\_coordinate_descent.py:529: ConvergenceWarning: Objective did not converge. You might want to increase the number of iterations. Duality gap: 46863342422144.42, tolerance: 9825112377.678791\n",
      "  model = cd_fast.enet_coordinate_descent(\n",
      "C:\\Users\\bluen\\anaconda3\\lib\\site-packages\\sklearn\\linear_model\\_coordinate_descent.py:529: ConvergenceWarning: Objective did not converge. You might want to increase the number of iterations. Duality gap: 43859973128487.375, tolerance: 9445576142.780487\n",
      "  model = cd_fast.enet_coordinate_descent(\n",
      "C:\\Users\\bluen\\anaconda3\\lib\\site-packages\\sklearn\\linear_model\\_coordinate_descent.py:529: ConvergenceWarning: Objective did not converge. You might want to increase the number of iterations. Duality gap: 45473102366160.97, tolerance: 9649162975.731035\n",
      "  model = cd_fast.enet_coordinate_descent(\n",
      "C:\\Users\\bluen\\anaconda3\\lib\\site-packages\\sklearn\\linear_model\\_coordinate_descent.py:529: ConvergenceWarning: Objective did not converge. You might want to increase the number of iterations. Duality gap: 41799118609405.2, tolerance: 8999377254.654268\n",
      "  model = cd_fast.enet_coordinate_descent(\n",
      "C:\\Users\\bluen\\anaconda3\\lib\\site-packages\\sklearn\\linear_model\\_coordinate_descent.py:529: ConvergenceWarning: Objective did not converge. You might want to increase the number of iterations. Duality gap: 43309809624176.88, tolerance: 9063490963.889975\n",
      "  model = cd_fast.enet_coordinate_descent(\n",
      "C:\\Users\\bluen\\anaconda3\\lib\\site-packages\\sklearn\\linear_model\\_coordinate_descent.py:529: ConvergenceWarning: Objective did not converge. You might want to increase the number of iterations. Duality gap: 46189840517250.984, tolerance: 9825112377.678791\n",
      "  model = cd_fast.enet_coordinate_descent(\n",
      "C:\\Users\\bluen\\anaconda3\\lib\\site-packages\\sklearn\\linear_model\\_coordinate_descent.py:529: ConvergenceWarning: Objective did not converge. You might want to increase the number of iterations. Duality gap: 43499477946889.69, tolerance: 9445576142.780487\n",
      "  model = cd_fast.enet_coordinate_descent(\n",
      "C:\\Users\\bluen\\anaconda3\\lib\\site-packages\\sklearn\\linear_model\\_coordinate_descent.py:529: ConvergenceWarning: Objective did not converge. You might want to increase the number of iterations. Duality gap: 44950461844041.7, tolerance: 9649162975.731035\n",
      "  model = cd_fast.enet_coordinate_descent(\n",
      "C:\\Users\\bluen\\anaconda3\\lib\\site-packages\\sklearn\\linear_model\\_coordinate_descent.py:529: ConvergenceWarning: Objective did not converge. You might want to increase the number of iterations. Duality gap: 41500262827062.625, tolerance: 8999377254.654268\n",
      "  model = cd_fast.enet_coordinate_descent(\n"
     ]
    },
    {
     "name": "stderr",
     "output_type": "stream",
     "text": [
      "C:\\Users\\bluen\\anaconda3\\lib\\site-packages\\sklearn\\linear_model\\_coordinate_descent.py:529: ConvergenceWarning: Objective did not converge. You might want to increase the number of iterations. Duality gap: 43217504314724.21, tolerance: 9063490963.889975\n",
      "  model = cd_fast.enet_coordinate_descent(\n",
      "C:\\Users\\bluen\\anaconda3\\lib\\site-packages\\sklearn\\linear_model\\_coordinate_descent.py:529: ConvergenceWarning: Objective did not converge. You might want to increase the number of iterations. Duality gap: 45804916633119.85, tolerance: 9825112377.678791\n",
      "  model = cd_fast.enet_coordinate_descent(\n",
      "C:\\Users\\bluen\\anaconda3\\lib\\site-packages\\sklearn\\linear_model\\_coordinate_descent.py:529: ConvergenceWarning: Objective did not converge. You might want to increase the number of iterations. Duality gap: 43247334209889.67, tolerance: 9445576142.780487\n",
      "  model = cd_fast.enet_coordinate_descent(\n",
      "C:\\Users\\bluen\\anaconda3\\lib\\site-packages\\sklearn\\linear_model\\_coordinate_descent.py:529: ConvergenceWarning: Objective did not converge. You might want to increase the number of iterations. Duality gap: 44689359309507.14, tolerance: 9649162975.731035\n",
      "  model = cd_fast.enet_coordinate_descent(\n",
      "C:\\Users\\bluen\\anaconda3\\lib\\site-packages\\sklearn\\linear_model\\_coordinate_descent.py:529: ConvergenceWarning: Objective did not converge. You might want to increase the number of iterations. Duality gap: 40937619207372.58, tolerance: 8999377254.654268\n",
      "  model = cd_fast.enet_coordinate_descent(\n",
      "C:\\Users\\bluen\\anaconda3\\lib\\site-packages\\sklearn\\linear_model\\_coordinate_descent.py:529: ConvergenceWarning: Objective did not converge. You might want to increase the number of iterations. Duality gap: 42788434901244.18, tolerance: 9063490963.889975\n",
      "  model = cd_fast.enet_coordinate_descent(\n",
      "C:\\Users\\bluen\\anaconda3\\lib\\site-packages\\sklearn\\linear_model\\_coordinate_descent.py:529: ConvergenceWarning: Objective did not converge. You might want to increase the number of iterations. Duality gap: 20099432097334.688, tolerance: 9825112377.678791\n",
      "  model = cd_fast.enet_coordinate_descent(\n",
      "C:\\Users\\bluen\\anaconda3\\lib\\site-packages\\sklearn\\linear_model\\_coordinate_descent.py:529: ConvergenceWarning: Objective did not converge. You might want to increase the number of iterations. Duality gap: 19036098404400.156, tolerance: 9445576142.780487\n",
      "  model = cd_fast.enet_coordinate_descent(\n",
      "C:\\Users\\bluen\\anaconda3\\lib\\site-packages\\sklearn\\linear_model\\_coordinate_descent.py:529: ConvergenceWarning: Objective did not converge. You might want to increase the number of iterations. Duality gap: 35712649374388.68, tolerance: 9649162975.731035\n",
      "  model = cd_fast.enet_coordinate_descent(\n",
      "C:\\Users\\bluen\\anaconda3\\lib\\site-packages\\sklearn\\linear_model\\_coordinate_descent.py:529: ConvergenceWarning: Objective did not converge. You might want to increase the number of iterations. Duality gap: 22183471115818.402, tolerance: 8999377254.654268\n",
      "  model = cd_fast.enet_coordinate_descent(\n",
      "C:\\Users\\bluen\\anaconda3\\lib\\site-packages\\sklearn\\linear_model\\_coordinate_descent.py:529: ConvergenceWarning: Objective did not converge. You might want to increase the number of iterations. Duality gap: 142448066539.78125, tolerance: 9063490963.889975\n",
      "  model = cd_fast.enet_coordinate_descent(\n",
      "C:\\Users\\bluen\\anaconda3\\lib\\site-packages\\sklearn\\linear_model\\_coordinate_descent.py:529: ConvergenceWarning: Objective did not converge. You might want to increase the number of iterations. Duality gap: 46664537258772.33, tolerance: 9825112377.678791\n",
      "  model = cd_fast.enet_coordinate_descent(\n",
      "C:\\Users\\bluen\\anaconda3\\lib\\site-packages\\sklearn\\linear_model\\_coordinate_descent.py:529: ConvergenceWarning: Objective did not converge. You might want to increase the number of iterations. Duality gap: 43629474173292.65, tolerance: 9445576142.780487\n",
      "  model = cd_fast.enet_coordinate_descent(\n",
      "C:\\Users\\bluen\\anaconda3\\lib\\site-packages\\sklearn\\linear_model\\_coordinate_descent.py:529: ConvergenceWarning: Objective did not converge. You might want to increase the number of iterations. Duality gap: 45284991686153.99, tolerance: 9649162975.731035\n",
      "  model = cd_fast.enet_coordinate_descent(\n",
      "C:\\Users\\bluen\\anaconda3\\lib\\site-packages\\sklearn\\linear_model\\_coordinate_descent.py:529: ConvergenceWarning: Objective did not converge. You might want to increase the number of iterations. Duality gap: 41649805943324.15, tolerance: 8999377254.654268\n",
      "  model = cd_fast.enet_coordinate_descent(\n",
      "C:\\Users\\bluen\\anaconda3\\lib\\site-packages\\sklearn\\linear_model\\_coordinate_descent.py:529: ConvergenceWarning: Objective did not converge. You might want to increase the number of iterations. Duality gap: 43115269510284.77, tolerance: 9063490963.889975\n",
      "  model = cd_fast.enet_coordinate_descent(\n",
      "C:\\Users\\bluen\\anaconda3\\lib\\site-packages\\sklearn\\linear_model\\_coordinate_descent.py:529: ConvergenceWarning: Objective did not converge. You might want to increase the number of iterations. Duality gap: 45988786640682.95, tolerance: 9825112377.678791\n",
      "  model = cd_fast.enet_coordinate_descent(\n",
      "C:\\Users\\bluen\\anaconda3\\lib\\site-packages\\sklearn\\linear_model\\_coordinate_descent.py:529: ConvergenceWarning: Objective did not converge. You might want to increase the number of iterations. Duality gap: 43362404732891.97, tolerance: 9445576142.780487\n",
      "  model = cd_fast.enet_coordinate_descent(\n",
      "C:\\Users\\bluen\\anaconda3\\lib\\site-packages\\sklearn\\linear_model\\_coordinate_descent.py:529: ConvergenceWarning: Objective did not converge. You might want to increase the number of iterations. Duality gap: 44826651162202.016, tolerance: 9649162975.731035\n",
      "  model = cd_fast.enet_coordinate_descent(\n",
      "C:\\Users\\bluen\\anaconda3\\lib\\site-packages\\sklearn\\linear_model\\_coordinate_descent.py:529: ConvergenceWarning: Objective did not converge. You might want to increase the number of iterations. Duality gap: 41397688574900.42, tolerance: 8999377254.654268\n",
      "  model = cd_fast.enet_coordinate_descent(\n",
      "C:\\Users\\bluen\\anaconda3\\lib\\site-packages\\sklearn\\linear_model\\_coordinate_descent.py:529: ConvergenceWarning: Objective did not converge. You might want to increase the number of iterations. Duality gap: 43037954623072.305, tolerance: 9063490963.889975\n",
      "  model = cd_fast.enet_coordinate_descent(\n",
      "C:\\Users\\bluen\\anaconda3\\lib\\site-packages\\sklearn\\linear_model\\_coordinate_descent.py:529: ConvergenceWarning: Objective did not converge. You might want to increase the number of iterations. Duality gap: 45692388965191.33, tolerance: 9825112377.678791\n",
      "  model = cd_fast.enet_coordinate_descent(\n",
      "C:\\Users\\bluen\\anaconda3\\lib\\site-packages\\sklearn\\linear_model\\_coordinate_descent.py:529: ConvergenceWarning: Objective did not converge. You might want to increase the number of iterations. Duality gap: 43106632382898.234, tolerance: 9445576142.780487\n",
      "  model = cd_fast.enet_coordinate_descent(\n",
      "C:\\Users\\bluen\\anaconda3\\lib\\site-packages\\sklearn\\linear_model\\_coordinate_descent.py:529: ConvergenceWarning: Objective did not converge. You might want to increase the number of iterations. Duality gap: 44585839420653.516, tolerance: 9649162975.731035\n",
      "  model = cd_fast.enet_coordinate_descent(\n",
      "C:\\Users\\bluen\\anaconda3\\lib\\site-packages\\sklearn\\linear_model\\_coordinate_descent.py:529: ConvergenceWarning: Objective did not converge. You might want to increase the number of iterations. Duality gap: 40714864412066.56, tolerance: 8999377254.654268\n",
      "  model = cd_fast.enet_coordinate_descent(\n",
      "C:\\Users\\bluen\\anaconda3\\lib\\site-packages\\sklearn\\linear_model\\_coordinate_descent.py:529: ConvergenceWarning: Objective did not converge. You might want to increase the number of iterations. Duality gap: 42474603979845.45, tolerance: 9063490963.889975\n",
      "  model = cd_fast.enet_coordinate_descent(\n",
      "C:\\Users\\bluen\\anaconda3\\lib\\site-packages\\sklearn\\linear_model\\_coordinate_descent.py:529: ConvergenceWarning: Objective did not converge. You might want to increase the number of iterations. Duality gap: 16048057536383.633, tolerance: 9825112377.678791\n",
      "  model = cd_fast.enet_coordinate_descent(\n",
      "C:\\Users\\bluen\\anaconda3\\lib\\site-packages\\sklearn\\linear_model\\_coordinate_descent.py:529: ConvergenceWarning: Objective did not converge. You might want to increase the number of iterations. Duality gap: 15280905318035.672, tolerance: 9445576142.780487\n",
      "  model = cd_fast.enet_coordinate_descent(\n",
      "C:\\Users\\bluen\\anaconda3\\lib\\site-packages\\sklearn\\linear_model\\_coordinate_descent.py:529: ConvergenceWarning: Objective did not converge. You might want to increase the number of iterations. Duality gap: 33002394069230.406, tolerance: 9649162975.731035\n",
      "  model = cd_fast.enet_coordinate_descent(\n",
      "C:\\Users\\bluen\\anaconda3\\lib\\site-packages\\sklearn\\linear_model\\_coordinate_descent.py:529: ConvergenceWarning: Objective did not converge. You might want to increase the number of iterations. Duality gap: 18574722559353.438, tolerance: 8999377254.654268\n",
      "  model = cd_fast.enet_coordinate_descent(\n",
      "C:\\Users\\bluen\\anaconda3\\lib\\site-packages\\sklearn\\linear_model\\_coordinate_descent.py:529: ConvergenceWarning: Objective did not converge. You might want to increase the number of iterations. Duality gap: 82258310645.46875, tolerance: 9063490963.889975\n",
      "  model = cd_fast.enet_coordinate_descent(\n",
      "C:\\Users\\bluen\\anaconda3\\lib\\site-packages\\sklearn\\linear_model\\_coordinate_descent.py:529: ConvergenceWarning: Objective did not converge. You might want to increase the number of iterations. Duality gap: 46459508108634.164, tolerance: 9825112377.678791\n",
      "  model = cd_fast.enet_coordinate_descent(\n",
      "C:\\Users\\bluen\\anaconda3\\lib\\site-packages\\sklearn\\linear_model\\_coordinate_descent.py:529: ConvergenceWarning: Objective did not converge. You might want to increase the number of iterations. Duality gap: 43403090217675.93, tolerance: 9445576142.780487\n",
      "  model = cd_fast.enet_coordinate_descent(\n",
      "C:\\Users\\bluen\\anaconda3\\lib\\site-packages\\sklearn\\linear_model\\_coordinate_descent.py:529: ConvergenceWarning: Objective did not converge. You might want to increase the number of iterations. Duality gap: 45087803269176.94, tolerance: 9649162975.731035\n",
      "  model = cd_fast.enet_coordinate_descent(\n",
      "C:\\Users\\bluen\\anaconda3\\lib\\site-packages\\sklearn\\linear_model\\_coordinate_descent.py:529: ConvergenceWarning: Objective did not converge. You might want to increase the number of iterations. Duality gap: 41498946709278.05, tolerance: 8999377254.654268\n",
      "  model = cd_fast.enet_coordinate_descent(\n",
      "C:\\Users\\bluen\\anaconda3\\lib\\site-packages\\sklearn\\linear_model\\_coordinate_descent.py:529: ConvergenceWarning: Objective did not converge. You might want to increase the number of iterations. Duality gap: 42915558401155.75, tolerance: 9063490963.889975\n",
      "  model = cd_fast.enet_coordinate_descent(\n",
      "C:\\Users\\bluen\\anaconda3\\lib\\site-packages\\sklearn\\linear_model\\_coordinate_descent.py:529: ConvergenceWarning: Objective did not converge. You might want to increase the number of iterations. Duality gap: 45793996830554.96, tolerance: 9825112377.678791\n",
      "  model = cd_fast.enet_coordinate_descent(\n",
      "C:\\Users\\bluen\\anaconda3\\lib\\site-packages\\sklearn\\linear_model\\_coordinate_descent.py:529: ConvergenceWarning: Objective did not converge. You might want to increase the number of iterations. Duality gap: 43218911076487.91, tolerance: 9445576142.780487\n",
      "  model = cd_fast.enet_coordinate_descent(\n",
      "C:\\Users\\bluen\\anaconda3\\lib\\site-packages\\sklearn\\linear_model\\_coordinate_descent.py:529: ConvergenceWarning: Objective did not converge. You might want to increase the number of iterations. Duality gap: 44695466306260.78, tolerance: 9649162975.731035\n",
      "  model = cd_fast.enet_coordinate_descent(\n",
      "C:\\Users\\bluen\\anaconda3\\lib\\site-packages\\sklearn\\linear_model\\_coordinate_descent.py:529: ConvergenceWarning: Objective did not converge. You might want to increase the number of iterations. Duality gap: 41293607942742.484, tolerance: 8999377254.654268\n",
      "  model = cd_fast.enet_coordinate_descent(\n",
      "C:\\Users\\bluen\\anaconda3\\lib\\site-packages\\sklearn\\linear_model\\_coordinate_descent.py:529: ConvergenceWarning: Objective did not converge. You might want to increase the number of iterations. Duality gap: 42850136467313.2, tolerance: 9063490963.889975\n",
      "  model = cd_fast.enet_coordinate_descent(\n",
      "C:\\Users\\bluen\\anaconda3\\lib\\site-packages\\sklearn\\linear_model\\_coordinate_descent.py:529: ConvergenceWarning: Objective did not converge. You might want to increase the number of iterations. Duality gap: 45485004686799.59, tolerance: 9825112377.678791\n",
      "  model = cd_fast.enet_coordinate_descent(\n"
     ]
    },
    {
     "name": "stderr",
     "output_type": "stream",
     "text": [
      "C:\\Users\\bluen\\anaconda3\\lib\\site-packages\\sklearn\\linear_model\\_coordinate_descent.py:529: ConvergenceWarning: Objective did not converge. You might want to increase the number of iterations. Duality gap: 42966378060270.04, tolerance: 9445576142.780487\n",
      "  model = cd_fast.enet_coordinate_descent(\n",
      "C:\\Users\\bluen\\anaconda3\\lib\\site-packages\\sklearn\\linear_model\\_coordinate_descent.py:529: ConvergenceWarning: Objective did not converge. You might want to increase the number of iterations. Duality gap: 44466454703290.44, tolerance: 9649162975.731035\n",
      "  model = cd_fast.enet_coordinate_descent(\n",
      "C:\\Users\\bluen\\anaconda3\\lib\\site-packages\\sklearn\\linear_model\\_coordinate_descent.py:529: ConvergenceWarning: Objective did not converge. You might want to increase the number of iterations. Duality gap: 40556500091118.8, tolerance: 8999377254.654268\n",
      "  model = cd_fast.enet_coordinate_descent(\n",
      "C:\\Users\\bluen\\anaconda3\\lib\\site-packages\\sklearn\\linear_model\\_coordinate_descent.py:529: ConvergenceWarning: Objective did not converge. You might want to increase the number of iterations. Duality gap: 42071045575923.34, tolerance: 9063490963.889975\n",
      "  model = cd_fast.enet_coordinate_descent(\n",
      "C:\\Users\\bluen\\anaconda3\\lib\\site-packages\\sklearn\\linear_model\\_coordinate_descent.py:529: ConvergenceWarning: Objective did not converge. You might want to increase the number of iterations. Duality gap: 13080077790567.25, tolerance: 9825112377.678791\n",
      "  model = cd_fast.enet_coordinate_descent(\n",
      "C:\\Users\\bluen\\anaconda3\\lib\\site-packages\\sklearn\\linear_model\\_coordinate_descent.py:529: ConvergenceWarning: Objective did not converge. You might want to increase the number of iterations. Duality gap: 12532662125443.953, tolerance: 9445576142.780487\n",
      "  model = cd_fast.enet_coordinate_descent(\n",
      "C:\\Users\\bluen\\anaconda3\\lib\\site-packages\\sklearn\\linear_model\\_coordinate_descent.py:529: ConvergenceWarning: Objective did not converge. You might want to increase the number of iterations. Duality gap: 30580927707987.492, tolerance: 9649162975.731035\n",
      "  model = cd_fast.enet_coordinate_descent(\n",
      "C:\\Users\\bluen\\anaconda3\\lib\\site-packages\\sklearn\\linear_model\\_coordinate_descent.py:529: ConvergenceWarning: Objective did not converge. You might want to increase the number of iterations. Duality gap: 15776412482635.117, tolerance: 8999377254.654268\n",
      "  model = cd_fast.enet_coordinate_descent(\n",
      "C:\\Users\\bluen\\anaconda3\\lib\\site-packages\\sklearn\\linear_model\\_coordinate_descent.py:529: ConvergenceWarning: Objective did not converge. You might want to increase the number of iterations. Duality gap: 53448536862.53125, tolerance: 9063490963.889975\n",
      "  model = cd_fast.enet_coordinate_descent(\n",
      "C:\\Users\\bluen\\anaconda3\\lib\\site-packages\\sklearn\\linear_model\\_coordinate_descent.py:529: ConvergenceWarning: Objective did not converge. You might want to increase the number of iterations. Duality gap: 46247546439404.77, tolerance: 9825112377.678791\n",
      "  model = cd_fast.enet_coordinate_descent(\n",
      "C:\\Users\\bluen\\anaconda3\\lib\\site-packages\\sklearn\\linear_model\\_coordinate_descent.py:529: ConvergenceWarning: Objective did not converge. You might want to increase the number of iterations. Duality gap: 43180866562327.28, tolerance: 9445576142.780487\n",
      "  model = cd_fast.enet_coordinate_descent(\n",
      "C:\\Users\\bluen\\anaconda3\\lib\\site-packages\\sklearn\\linear_model\\_coordinate_descent.py:529: ConvergenceWarning: Objective did not converge. You might want to increase the number of iterations. Duality gap: 44880688038225.36, tolerance: 9649162975.731035\n",
      "  model = cd_fast.enet_coordinate_descent(\n",
      "C:\\Users\\bluen\\anaconda3\\lib\\site-packages\\sklearn\\linear_model\\_coordinate_descent.py:529: ConvergenceWarning: Objective did not converge. You might want to increase the number of iterations. Duality gap: 41346026148939.234, tolerance: 8999377254.654268\n",
      "  model = cd_fast.enet_coordinate_descent(\n",
      "C:\\Users\\bluen\\anaconda3\\lib\\site-packages\\sklearn\\linear_model\\_coordinate_descent.py:529: ConvergenceWarning: Objective did not converge. You might want to increase the number of iterations. Duality gap: 42710444694910.26, tolerance: 9063490963.889975\n",
      "  model = cd_fast.enet_coordinate_descent(\n",
      "C:\\Users\\bluen\\anaconda3\\lib\\site-packages\\sklearn\\linear_model\\_coordinate_descent.py:529: ConvergenceWarning: Objective did not converge. You might want to increase the number of iterations. Duality gap: 45599673871452.28, tolerance: 9825112377.678791\n",
      "  model = cd_fast.enet_coordinate_descent(\n",
      "C:\\Users\\bluen\\anaconda3\\lib\\site-packages\\sklearn\\linear_model\\_coordinate_descent.py:529: ConvergenceWarning: Objective did not converge. You might want to increase the number of iterations. Duality gap: 43068208836732.94, tolerance: 9445576142.780487\n",
      "  model = cd_fast.enet_coordinate_descent(\n",
      "C:\\Users\\bluen\\anaconda3\\lib\\site-packages\\sklearn\\linear_model\\_coordinate_descent.py:529: ConvergenceWarning: Objective did not converge. You might want to increase the number of iterations. Duality gap: 44557201808838.9, tolerance: 9649162975.731035\n",
      "  model = cd_fast.enet_coordinate_descent(\n",
      "C:\\Users\\bluen\\anaconda3\\lib\\site-packages\\sklearn\\linear_model\\_coordinate_descent.py:529: ConvergenceWarning: Objective did not converge. You might want to increase the number of iterations. Duality gap: 41187832283689.82, tolerance: 8999377254.654268\n",
      "  model = cd_fast.enet_coordinate_descent(\n",
      "C:\\Users\\bluen\\anaconda3\\lib\\site-packages\\sklearn\\linear_model\\_coordinate_descent.py:529: ConvergenceWarning: Objective did not converge. You might want to increase the number of iterations. Duality gap: 42654132932817.18, tolerance: 9063490963.889975\n",
      "  model = cd_fast.enet_coordinate_descent(\n",
      "C:\\Users\\bluen\\anaconda3\\lib\\site-packages\\sklearn\\linear_model\\_coordinate_descent.py:529: ConvergenceWarning: Objective did not converge. You might want to increase the number of iterations. Duality gap: 45303030927918.42, tolerance: 9825112377.678791\n",
      "  model = cd_fast.enet_coordinate_descent(\n",
      "C:\\Users\\bluen\\anaconda3\\lib\\site-packages\\sklearn\\linear_model\\_coordinate_descent.py:529: ConvergenceWarning: Objective did not converge. You might want to increase the number of iterations. Duality gap: 42823667700619.414, tolerance: 9445576142.780487\n",
      "  model = cd_fast.enet_coordinate_descent(\n",
      "C:\\Users\\bluen\\anaconda3\\lib\\site-packages\\sklearn\\linear_model\\_coordinate_descent.py:529: ConvergenceWarning: Objective did not converge. You might want to increase the number of iterations. Duality gap: 44337521993714.54, tolerance: 9649162975.731035\n",
      "  model = cd_fast.enet_coordinate_descent(\n",
      "C:\\Users\\bluen\\anaconda3\\lib\\site-packages\\sklearn\\linear_model\\_coordinate_descent.py:529: ConvergenceWarning: Objective did not converge. You might want to increase the number of iterations. Duality gap: 40407178260689.26, tolerance: 8999377254.654268\n",
      "  model = cd_fast.enet_coordinate_descent(\n",
      "C:\\Users\\bluen\\anaconda3\\lib\\site-packages\\sklearn\\linear_model\\_coordinate_descent.py:529: ConvergenceWarning: Objective did not converge. You might want to increase the number of iterations. Duality gap: 41800515533933.77, tolerance: 9063490963.889975\n",
      "  model = cd_fast.enet_coordinate_descent(\n",
      "C:\\Users\\bluen\\anaconda3\\lib\\site-packages\\sklearn\\linear_model\\_coordinate_descent.py:529: ConvergenceWarning: Objective did not converge. You might want to increase the number of iterations. Duality gap: 10843399003397.57, tolerance: 9825112377.678791\n",
      "  model = cd_fast.enet_coordinate_descent(\n",
      "C:\\Users\\bluen\\anaconda3\\lib\\site-packages\\sklearn\\linear_model\\_coordinate_descent.py:529: ConvergenceWarning: Objective did not converge. You might want to increase the number of iterations. Duality gap: 10461381204617.43, tolerance: 9445576142.780487\n",
      "  model = cd_fast.enet_coordinate_descent(\n",
      "C:\\Users\\bluen\\anaconda3\\lib\\site-packages\\sklearn\\linear_model\\_coordinate_descent.py:529: ConvergenceWarning: Objective did not converge. You might want to increase the number of iterations. Duality gap: 28408026981688.18, tolerance: 9649162975.731035\n",
      "  model = cd_fast.enet_coordinate_descent(\n",
      "C:\\Users\\bluen\\anaconda3\\lib\\site-packages\\sklearn\\linear_model\\_coordinate_descent.py:529: ConvergenceWarning: Objective did not converge. You might want to increase the number of iterations. Duality gap: 13563138510428.266, tolerance: 8999377254.654268\n",
      "  model = cd_fast.enet_coordinate_descent(\n",
      "C:\\Users\\bluen\\anaconda3\\lib\\site-packages\\sklearn\\linear_model\\_coordinate_descent.py:529: ConvergenceWarning: Objective did not converge. You might want to increase the number of iterations. Duality gap: 37475509082.234375, tolerance: 9063490963.889975\n",
      "  model = cd_fast.enet_coordinate_descent(\n",
      "C:\\Users\\bluen\\anaconda3\\lib\\site-packages\\sklearn\\linear_model\\_coordinate_descent.py:529: ConvergenceWarning: Objective did not converge. You might want to increase the number of iterations. Duality gap: 46029016542312.41, tolerance: 9825112377.678791\n",
      "  model = cd_fast.enet_coordinate_descent(\n",
      "C:\\Users\\bluen\\anaconda3\\lib\\site-packages\\sklearn\\linear_model\\_coordinate_descent.py:529: ConvergenceWarning: Objective did not converge. You might want to increase the number of iterations. Duality gap: 42963585713591.69, tolerance: 9445576142.780487\n",
      "  model = cd_fast.enet_coordinate_descent(\n"
     ]
    },
    {
     "name": "stderr",
     "output_type": "stream",
     "text": [
      "C:\\Users\\bluen\\anaconda3\\lib\\site-packages\\sklearn\\linear_model\\_coordinate_descent.py:529: ConvergenceWarning: Objective did not converge. You might want to increase the number of iterations. Duality gap: 44663627616340.945, tolerance: 9649162975.731035\n",
      "  model = cd_fast.enet_coordinate_descent(\n",
      "C:\\Users\\bluen\\anaconda3\\lib\\site-packages\\sklearn\\linear_model\\_coordinate_descent.py:529: ConvergenceWarning: Objective did not converge. You might want to increase the number of iterations. Duality gap: 41192308329483.26, tolerance: 8999377254.654268\n",
      "  model = cd_fast.enet_coordinate_descent(\n",
      "C:\\Users\\bluen\\anaconda3\\lib\\site-packages\\sklearn\\linear_model\\_coordinate_descent.py:529: ConvergenceWarning: Objective did not converge. You might want to increase the number of iterations. Duality gap: 42501277819193.086, tolerance: 9063490963.889975\n",
      "  model = cd_fast.enet_coordinate_descent(\n",
      "C:\\Users\\bluen\\anaconda3\\lib\\site-packages\\sklearn\\linear_model\\_coordinate_descent.py:529: ConvergenceWarning: Objective did not converge. You might want to increase the number of iterations. Duality gap: 45401823285961.09, tolerance: 9825112377.678791\n",
      "  model = cd_fast.enet_coordinate_descent(\n",
      "C:\\Users\\bluen\\anaconda3\\lib\\site-packages\\sklearn\\linear_model\\_coordinate_descent.py:529: ConvergenceWarning: Objective did not converge. You might want to increase the number of iterations. Duality gap: 42910502774676.805, tolerance: 9445576142.780487\n",
      "  model = cd_fast.enet_coordinate_descent(\n",
      "C:\\Users\\bluen\\anaconda3\\lib\\site-packages\\sklearn\\linear_model\\_coordinate_descent.py:529: ConvergenceWarning: Objective did not converge. You might want to increase the number of iterations. Duality gap: 44411214358784.33, tolerance: 9649162975.731035\n",
      "  model = cd_fast.enet_coordinate_descent(\n",
      "C:\\Users\\bluen\\anaconda3\\lib\\site-packages\\sklearn\\linear_model\\_coordinate_descent.py:529: ConvergenceWarning: Objective did not converge. You might want to increase the number of iterations. Duality gap: 41080840407179.45, tolerance: 8999377254.654268\n",
      "  model = cd_fast.enet_coordinate_descent(\n",
      "C:\\Users\\bluen\\anaconda3\\lib\\site-packages\\sklearn\\linear_model\\_coordinate_descent.py:529: ConvergenceWarning: Objective did not converge. You might want to increase the number of iterations. Duality gap: 42450012288438.94, tolerance: 9063490963.889975\n",
      "  model = cd_fast.enet_coordinate_descent(\n",
      "C:\\Users\\bluen\\anaconda3\\lib\\site-packages\\sklearn\\linear_model\\_coordinate_descent.py:529: ConvergenceWarning: Objective did not converge. You might want to increase the number of iterations. Duality gap: 45092949721536.09, tolerance: 9825112377.678791\n",
      "  model = cd_fast.enet_coordinate_descent(\n",
      "C:\\Users\\bluen\\anaconda3\\lib\\site-packages\\sklearn\\linear_model\\_coordinate_descent.py:529: ConvergenceWarning: Objective did not converge. You might want to increase the number of iterations. Duality gap: 42680625952376.61, tolerance: 9445576142.780487\n",
      "  model = cd_fast.enet_coordinate_descent(\n",
      "C:\\Users\\bluen\\anaconda3\\lib\\site-packages\\sklearn\\linear_model\\_coordinate_descent.py:529: ConvergenceWarning: Objective did not converge. You might want to increase the number of iterations. Duality gap: 44196874825602.54, tolerance: 9649162975.731035\n",
      "  model = cd_fast.enet_coordinate_descent(\n",
      "C:\\Users\\bluen\\anaconda3\\lib\\site-packages\\sklearn\\linear_model\\_coordinate_descent.py:529: ConvergenceWarning: Objective did not converge. You might want to increase the number of iterations. Duality gap: 40244897110645.66, tolerance: 8999377254.654268\n",
      "  model = cd_fast.enet_coordinate_descent(\n",
      "C:\\Users\\bluen\\anaconda3\\lib\\site-packages\\sklearn\\linear_model\\_coordinate_descent.py:529: ConvergenceWarning: Objective did not converge. You might want to increase the number of iterations. Duality gap: 41601013195944.61, tolerance: 9063490963.889975\n",
      "  model = cd_fast.enet_coordinate_descent(\n",
      "C:\\Users\\bluen\\anaconda3\\lib\\site-packages\\sklearn\\linear_model\\_coordinate_descent.py:529: ConvergenceWarning: Objective did not converge. You might want to increase the number of iterations. Duality gap: 9117810610474.508, tolerance: 9825112377.678791\n",
      "  model = cd_fast.enet_coordinate_descent(\n",
      "C:\\Users\\bluen\\anaconda3\\lib\\site-packages\\sklearn\\linear_model\\_coordinate_descent.py:529: ConvergenceWarning: Objective did not converge. You might want to increase the number of iterations. Duality gap: 8861967195567.055, tolerance: 9445576142.780487\n",
      "  model = cd_fast.enet_coordinate_descent(\n",
      "C:\\Users\\bluen\\anaconda3\\lib\\site-packages\\sklearn\\linear_model\\_coordinate_descent.py:529: ConvergenceWarning: Objective did not converge. You might want to increase the number of iterations. Duality gap: 26453380395023.57, tolerance: 9649162975.731035\n",
      "  model = cd_fast.enet_coordinate_descent(\n",
      "C:\\Users\\bluen\\anaconda3\\lib\\site-packages\\sklearn\\linear_model\\_coordinate_descent.py:529: ConvergenceWarning: Objective did not converge. You might want to increase the number of iterations. Duality gap: 11782705224826.61, tolerance: 8999377254.654268\n",
      "  model = cd_fast.enet_coordinate_descent(\n",
      "C:\\Users\\bluen\\anaconda3\\lib\\site-packages\\sklearn\\linear_model\\_coordinate_descent.py:529: ConvergenceWarning: Objective did not converge. You might want to increase the number of iterations. Duality gap: 27712870306.875, tolerance: 9063490963.889975\n",
      "  model = cd_fast.enet_coordinate_descent(\n",
      "C:\\Users\\bluen\\anaconda3\\lib\\site-packages\\sklearn\\linear_model\\_coordinate_descent.py:529: ConvergenceWarning: Objective did not converge. You might want to increase the number of iterations. Duality gap: 45802493338112.48, tolerance: 9825112377.678791\n",
      "  model = cd_fast.enet_coordinate_descent(\n",
      "C:\\Users\\bluen\\anaconda3\\lib\\site-packages\\sklearn\\linear_model\\_coordinate_descent.py:529: ConvergenceWarning: Objective did not converge. You might want to increase the number of iterations. Duality gap: 42749899257078.23, tolerance: 9445576142.780487\n",
      "  model = cd_fast.enet_coordinate_descent(\n",
      "C:\\Users\\bluen\\anaconda3\\lib\\site-packages\\sklearn\\linear_model\\_coordinate_descent.py:529: ConvergenceWarning: Objective did not converge. You might want to increase the number of iterations. Duality gap: 44436073923429.06, tolerance: 9649162975.731035\n",
      "  model = cd_fast.enet_coordinate_descent(\n",
      "C:\\Users\\bluen\\anaconda3\\lib\\site-packages\\sklearn\\linear_model\\_coordinate_descent.py:529: ConvergenceWarning: Objective did not converge. You might want to increase the number of iterations. Duality gap: 41036674526729.15, tolerance: 8999377254.654268\n",
      "  model = cd_fast.enet_coordinate_descent(\n",
      "C:\\Users\\bluen\\anaconda3\\lib\\site-packages\\sklearn\\linear_model\\_coordinate_descent.py:529: ConvergenceWarning: Objective did not converge. You might want to increase the number of iterations. Duality gap: 42287568194887.44, tolerance: 9063490963.889975\n",
      "  model = cd_fast.enet_coordinate_descent(\n",
      "C:\\Users\\bluen\\anaconda3\\lib\\site-packages\\sklearn\\linear_model\\_coordinate_descent.py:529: ConvergenceWarning: Objective did not converge. You might want to increase the number of iterations. Duality gap: 45215706725156.33, tolerance: 9825112377.678791\n",
      "  model = cd_fast.enet_coordinate_descent(\n",
      "C:\\Users\\bluen\\anaconda3\\lib\\site-packages\\sklearn\\linear_model\\_coordinate_descent.py:529: ConvergenceWarning: Objective did not converge. You might want to increase the number of iterations. Duality gap: 42745534204754.57, tolerance: 9445576142.780487\n",
      "  model = cd_fast.enet_coordinate_descent(\n",
      "C:\\Users\\bluen\\anaconda3\\lib\\site-packages\\sklearn\\linear_model\\_coordinate_descent.py:529: ConvergenceWarning: Objective did not converge. You might want to increase the number of iterations. Duality gap: 44256807124022.0, tolerance: 9649162975.731035\n",
      "  model = cd_fast.enet_coordinate_descent(\n",
      "C:\\Users\\bluen\\anaconda3\\lib\\site-packages\\sklearn\\linear_model\\_coordinate_descent.py:529: ConvergenceWarning: Objective did not converge. You might want to increase the number of iterations. Duality gap: 40983686455901.75, tolerance: 8999377254.654268\n",
      "  model = cd_fast.enet_coordinate_descent(\n",
      "C:\\Users\\bluen\\anaconda3\\lib\\site-packages\\sklearn\\linear_model\\_coordinate_descent.py:529: ConvergenceWarning: Objective did not converge. You might want to increase the number of iterations. Duality gap: 42238947173248.89, tolerance: 9063490963.889975\n",
      "  model = cd_fast.enet_coordinate_descent(\n"
     ]
    },
    {
     "name": "stderr",
     "output_type": "stream",
     "text": [
      "C:\\Users\\bluen\\anaconda3\\lib\\site-packages\\sklearn\\linear_model\\_coordinate_descent.py:529: ConvergenceWarning: Objective did not converge. You might want to increase the number of iterations. Duality gap: 44841770443305.33, tolerance: 9825112377.678791\n",
      "  model = cd_fast.enet_coordinate_descent(\n",
      "C:\\Users\\bluen\\anaconda3\\lib\\site-packages\\sklearn\\linear_model\\_coordinate_descent.py:529: ConvergenceWarning: Objective did not converge. You might want to increase the number of iterations. Duality gap: 42526730266604.71, tolerance: 9445576142.780487\n",
      "  model = cd_fast.enet_coordinate_descent(\n",
      "C:\\Users\\bluen\\anaconda3\\lib\\site-packages\\sklearn\\linear_model\\_coordinate_descent.py:529: ConvergenceWarning: Objective did not converge. You might want to increase the number of iterations. Duality gap: 43968080459087.27, tolerance: 9649162975.731035\n",
      "  model = cd_fast.enet_coordinate_descent(\n",
      "C:\\Users\\bluen\\anaconda3\\lib\\site-packages\\sklearn\\linear_model\\_coordinate_descent.py:529: ConvergenceWarning: Objective did not converge. You might want to increase the number of iterations. Duality gap: 40059293311277.79, tolerance: 8999377254.654268\n",
      "  model = cd_fast.enet_coordinate_descent(\n",
      "C:\\Users\\bluen\\anaconda3\\lib\\site-packages\\sklearn\\linear_model\\_coordinate_descent.py:529: ConvergenceWarning: Objective did not converge. You might want to increase the number of iterations. Duality gap: 41253967135846.67, tolerance: 9063490963.889975\n",
      "  model = cd_fast.enet_coordinate_descent(\n",
      "C:\\Users\\bluen\\anaconda3\\lib\\site-packages\\sklearn\\linear_model\\_coordinate_descent.py:529: ConvergenceWarning: Objective did not converge. You might want to increase the number of iterations. Duality gap: 7759928127685.039, tolerance: 9825112377.678791\n",
      "  model = cd_fast.enet_coordinate_descent(\n",
      "C:\\Users\\bluen\\anaconda3\\lib\\site-packages\\sklearn\\linear_model\\_coordinate_descent.py:529: ConvergenceWarning: Objective did not converge. You might want to increase the number of iterations. Duality gap: 7601547201778.484, tolerance: 9445576142.780487\n",
      "  model = cd_fast.enet_coordinate_descent(\n",
      "C:\\Users\\bluen\\anaconda3\\lib\\site-packages\\sklearn\\linear_model\\_coordinate_descent.py:529: ConvergenceWarning: Objective did not converge. You might want to increase the number of iterations. Duality gap: 24674245770360.992, tolerance: 9649162975.731035\n",
      "  model = cd_fast.enet_coordinate_descent(\n",
      "C:\\Users\\bluen\\anaconda3\\lib\\site-packages\\sklearn\\linear_model\\_coordinate_descent.py:529: ConvergenceWarning: Objective did not converge. You might want to increase the number of iterations. Duality gap: 10329347228323.562, tolerance: 8999377254.654268\n",
      "  model = cd_fast.enet_coordinate_descent(\n",
      "C:\\Users\\bluen\\anaconda3\\lib\\site-packages\\sklearn\\linear_model\\_coordinate_descent.py:529: ConvergenceWarning: Objective did not converge. You might want to increase the number of iterations. Duality gap: 21316285050.109375, tolerance: 9063490963.889975\n",
      "  model = cd_fast.enet_coordinate_descent(\n",
      "C:\\Users\\bluen\\anaconda3\\lib\\site-packages\\sklearn\\linear_model\\_coordinate_descent.py:529: ConvergenceWarning: Objective did not converge. You might want to increase the number of iterations. Duality gap: 45569020224937.84, tolerance: 9825112377.678791\n",
      "  model = cd_fast.enet_coordinate_descent(\n",
      "C:\\Users\\bluen\\anaconda3\\lib\\site-packages\\sklearn\\linear_model\\_coordinate_descent.py:529: ConvergenceWarning: Objective did not converge. You might want to increase the number of iterations. Duality gap: 42541787307551.59, tolerance: 9445576142.780487\n",
      "  model = cd_fast.enet_coordinate_descent(\n",
      "C:\\Users\\bluen\\anaconda3\\lib\\site-packages\\sklearn\\linear_model\\_coordinate_descent.py:529: ConvergenceWarning: Objective did not converge. You might want to increase the number of iterations. Duality gap: 44199237390013.57, tolerance: 9649162975.731035\n",
      "  model = cd_fast.enet_coordinate_descent(\n",
      "C:\\Users\\bluen\\anaconda3\\lib\\site-packages\\sklearn\\linear_model\\_coordinate_descent.py:529: ConvergenceWarning: Objective did not converge. You might want to increase the number of iterations. Duality gap: 40879908338952.555, tolerance: 8999377254.654268\n",
      "  model = cd_fast.enet_coordinate_descent(\n",
      "C:\\Users\\bluen\\anaconda3\\lib\\site-packages\\sklearn\\linear_model\\_coordinate_descent.py:529: ConvergenceWarning: Objective did not converge. You might want to increase the number of iterations. Duality gap: 42068005053661.18, tolerance: 9063490963.889975\n",
      "  model = cd_fast.enet_coordinate_descent(\n",
      "C:\\Users\\bluen\\anaconda3\\lib\\site-packages\\sklearn\\linear_model\\_coordinate_descent.py:529: ConvergenceWarning: Objective did not converge. You might want to increase the number of iterations. Duality gap: 45064486973052.48, tolerance: 9825112377.678791\n",
      "  model = cd_fast.enet_coordinate_descent(\n",
      "C:\\Users\\bluen\\anaconda3\\lib\\site-packages\\sklearn\\linear_model\\_coordinate_descent.py:529: ConvergenceWarning: Objective did not converge. You might want to increase the number of iterations. Duality gap: 42572489688339.21, tolerance: 9445576142.780487\n",
      "  model = cd_fast.enet_coordinate_descent(\n",
      "C:\\Users\\bluen\\anaconda3\\lib\\site-packages\\sklearn\\linear_model\\_coordinate_descent.py:529: ConvergenceWarning: Objective did not converge. You might want to increase the number of iterations. Duality gap: 44094908474880.0, tolerance: 9649162975.731035\n",
      "  model = cd_fast.enet_coordinate_descent(\n",
      "C:\\Users\\bluen\\anaconda3\\lib\\site-packages\\sklearn\\linear_model\\_coordinate_descent.py:529: ConvergenceWarning: Objective did not converge. You might want to increase the number of iterations. Duality gap: 40927549615814.164, tolerance: 8999377254.654268\n",
      "  model = cd_fast.enet_coordinate_descent(\n",
      "C:\\Users\\bluen\\anaconda3\\lib\\site-packages\\sklearn\\linear_model\\_coordinate_descent.py:529: ConvergenceWarning: Objective did not converge. You might want to increase the number of iterations. Duality gap: 42026077763738.34, tolerance: 9063490963.889975\n",
      "  model = cd_fast.enet_coordinate_descent(\n",
      "C:\\Users\\bluen\\anaconda3\\lib\\site-packages\\sklearn\\linear_model\\_coordinate_descent.py:529: ConvergenceWarning: Objective did not converge. You might want to increase the number of iterations. Duality gap: 44608612858101.42, tolerance: 9825112377.678791\n",
      "  model = cd_fast.enet_coordinate_descent(\n",
      "C:\\Users\\bluen\\anaconda3\\lib\\site-packages\\sklearn\\linear_model\\_coordinate_descent.py:529: ConvergenceWarning: Objective did not converge. You might want to increase the number of iterations. Duality gap: 42376187862098.484, tolerance: 9445576142.780487\n",
      "  model = cd_fast.enet_coordinate_descent(\n",
      "C:\\Users\\bluen\\anaconda3\\lib\\site-packages\\sklearn\\linear_model\\_coordinate_descent.py:529: ConvergenceWarning: Objective did not converge. You might want to increase the number of iterations. Duality gap: 43842048952028.35, tolerance: 9649162975.731035\n",
      "  model = cd_fast.enet_coordinate_descent(\n",
      "C:\\Users\\bluen\\anaconda3\\lib\\site-packages\\sklearn\\linear_model\\_coordinate_descent.py:529: ConvergenceWarning: Objective did not converge. You might want to increase the number of iterations. Duality gap: 40332340171419.016, tolerance: 8999377254.654268\n",
      "  model = cd_fast.enet_coordinate_descent(\n",
      "C:\\Users\\bluen\\anaconda3\\lib\\site-packages\\sklearn\\linear_model\\_coordinate_descent.py:529: ConvergenceWarning: Objective did not converge. You might want to increase the number of iterations. Duality gap: 40831303026573.5, tolerance: 9063490963.889975\n",
      "  model = cd_fast.enet_coordinate_descent(\n",
      "C:\\Users\\bluen\\anaconda3\\lib\\site-packages\\sklearn\\linear_model\\_coordinate_descent.py:529: ConvergenceWarning: Objective did not converge. You might want to increase the number of iterations. Duality gap: 6672763052851.328, tolerance: 9825112377.678791\n",
      "  model = cd_fast.enet_coordinate_descent(\n",
      "C:\\Users\\bluen\\anaconda3\\lib\\site-packages\\sklearn\\linear_model\\_coordinate_descent.py:529: ConvergenceWarning: Objective did not converge. You might want to increase the number of iterations. Duality gap: 6590745817283.031, tolerance: 9445576142.780487\n",
      "  model = cd_fast.enet_coordinate_descent(\n",
      "C:\\Users\\bluen\\anaconda3\\lib\\site-packages\\sklearn\\linear_model\\_coordinate_descent.py:529: ConvergenceWarning: Objective did not converge. You might want to increase the number of iterations. Duality gap: 23068664111248.91, tolerance: 9649162975.731035\n",
      "  model = cd_fast.enet_coordinate_descent(\n",
      "C:\\Users\\bluen\\anaconda3\\lib\\site-packages\\sklearn\\linear_model\\_coordinate_descent.py:529: ConvergenceWarning: Objective did not converge. You might want to increase the number of iterations. Duality gap: 9127717912514.422, tolerance: 8999377254.654268\n",
      "  model = cd_fast.enet_coordinate_descent(\n",
      "C:\\Users\\bluen\\anaconda3\\lib\\site-packages\\sklearn\\linear_model\\_coordinate_descent.py:529: ConvergenceWarning: Objective did not converge. You might want to increase the number of iterations. Duality gap: 16900705405.796875, tolerance: 9063490963.889975\n",
      "  model = cd_fast.enet_coordinate_descent(\n",
      "C:\\Users\\bluen\\anaconda3\\lib\\site-packages\\sklearn\\linear_model\\_coordinate_descent.py:529: ConvergenceWarning: Objective did not converge. You might want to increase the number of iterations. Duality gap: 45326176956323.58, tolerance: 9825112377.678791\n",
      "  model = cd_fast.enet_coordinate_descent(\n",
      "C:\\Users\\bluen\\anaconda3\\lib\\site-packages\\sklearn\\linear_model\\_coordinate_descent.py:529: ConvergenceWarning: Objective did not converge. You might want to increase the number of iterations. Duality gap: 42336674265973.1, tolerance: 9445576142.780487\n",
      "  model = cd_fast.enet_coordinate_descent(\n",
      "C:\\Users\\bluen\\anaconda3\\lib\\site-packages\\sklearn\\linear_model\\_coordinate_descent.py:529: ConvergenceWarning: Objective did not converge. You might want to increase the number of iterations. Duality gap: 43950779764224.22, tolerance: 9649162975.731035\n",
      "  model = cd_fast.enet_coordinate_descent(\n",
      "C:\\Users\\bluen\\anaconda3\\lib\\site-packages\\sklearn\\linear_model\\_coordinate_descent.py:529: ConvergenceWarning: Objective did not converge. You might want to increase the number of iterations. Duality gap: 40721651608236.15, tolerance: 8999377254.654268\n",
      "  model = cd_fast.enet_coordinate_descent(\n",
      "C:\\Users\\bluen\\anaconda3\\lib\\site-packages\\sklearn\\linear_model\\_coordinate_descent.py:529: ConvergenceWarning: Objective did not converge. You might want to increase the number of iterations. Duality gap: 41841714330537.76, tolerance: 9063490963.889975\n",
      "  model = cd_fast.enet_coordinate_descent(\n",
      "C:\\Users\\bluen\\anaconda3\\lib\\site-packages\\sklearn\\linear_model\\_coordinate_descent.py:529: ConvergenceWarning: Objective did not converge. You might want to increase the number of iterations. Duality gap: 44919384160124.086, tolerance: 9825112377.678791\n",
      "  model = cd_fast.enet_coordinate_descent(\n",
      "C:\\Users\\bluen\\anaconda3\\lib\\site-packages\\sklearn\\linear_model\\_coordinate_descent.py:529: ConvergenceWarning: Objective did not converge. You might want to increase the number of iterations. Duality gap: 42390985689632.5, tolerance: 9445576142.780487\n",
      "  model = cd_fast.enet_coordinate_descent(\n",
      "C:\\Users\\bluen\\anaconda3\\lib\\site-packages\\sklearn\\linear_model\\_coordinate_descent.py:529: ConvergenceWarning: Objective did not converge. You might want to increase the number of iterations. Duality gap: 43924352426733.03, tolerance: 9649162975.731035\n",
      "  model = cd_fast.enet_coordinate_descent(\n",
      "C:\\Users\\bluen\\anaconda3\\lib\\site-packages\\sklearn\\linear_model\\_coordinate_descent.py:529: ConvergenceWarning: Objective did not converge. You might want to increase the number of iterations. Duality gap: 40817284370245.625, tolerance: 8999377254.654268\n",
      "  model = cd_fast.enet_coordinate_descent(\n",
      "C:\\Users\\bluen\\anaconda3\\lib\\site-packages\\sklearn\\linear_model\\_coordinate_descent.py:529: ConvergenceWarning: Objective did not converge. You might want to increase the number of iterations. Duality gap: 41809757331711.57, tolerance: 9063490963.889975\n",
      "  model = cd_fast.enet_coordinate_descent(\n",
      "C:\\Users\\bluen\\anaconda3\\lib\\site-packages\\sklearn\\linear_model\\_coordinate_descent.py:529: ConvergenceWarning: Objective did not converge. You might want to increase the number of iterations. Duality gap: 44412147014312.46, tolerance: 9825112377.678791\n",
      "  model = cd_fast.enet_coordinate_descent(\n"
     ]
    },
    {
     "name": "stderr",
     "output_type": "stream",
     "text": [
      "C:\\Users\\bluen\\anaconda3\\lib\\site-packages\\sklearn\\linear_model\\_coordinate_descent.py:529: ConvergenceWarning: Objective did not converge. You might want to increase the number of iterations. Duality gap: 42221256212389.96, tolerance: 9445576142.780487\n",
      "  model = cd_fast.enet_coordinate_descent(\n",
      "C:\\Users\\bluen\\anaconda3\\lib\\site-packages\\sklearn\\linear_model\\_coordinate_descent.py:529: ConvergenceWarning: Objective did not converge. You might want to increase the number of iterations. Duality gap: 43718892791334.38, tolerance: 9649162975.731035\n",
      "  model = cd_fast.enet_coordinate_descent(\n",
      "C:\\Users\\bluen\\anaconda3\\lib\\site-packages\\sklearn\\linear_model\\_coordinate_descent.py:529: ConvergenceWarning: Objective did not converge. You might want to increase the number of iterations. Duality gap: 40490010043216.89, tolerance: 8999377254.654268\n",
      "  model = cd_fast.enet_coordinate_descent(\n",
      "C:\\Users\\bluen\\anaconda3\\lib\\site-packages\\sklearn\\linear_model\\_coordinate_descent.py:529: ConvergenceWarning: Objective did not converge. You might want to increase the number of iterations. Duality gap: 40249627690444.055, tolerance: 9063490963.889975\n",
      "  model = cd_fast.enet_coordinate_descent(\n",
      "C:\\Users\\bluen\\anaconda3\\lib\\site-packages\\sklearn\\linear_model\\_coordinate_descent.py:529: ConvergenceWarning: Objective did not converge. You might want to increase the number of iterations. Duality gap: 54458515487736.51, tolerance: 11748083416.771252\n",
      "  model = cd_fast.enet_coordinate_descent(\n"
     ]
    },
    {
     "data": {
      "text/plain": [
       "GridSearchCV(cv=5,\n",
       "             estimator=Pipeline(steps=[('rescale', MinMaxScaler()),\n",
       "                                       ('pca', PCA(n_components=2)),\n",
       "                                       ('poly', PolynomialFeatures()),\n",
       "                                       ('lasso', Lasso(max_iter=100))]),\n",
       "             param_grid={'lasso__alpha': array([0.1, 0.2, 0.3, 0.4, 0.5, 0.6, 0.7, 0.8, 0.9]),\n",
       "                         'poly__degree': range(2, 8)},\n",
       "             scoring=make_scorer(mean_squared_error, greater_is_better=False))"
      ]
     },
     "execution_count": 179,
     "metadata": {},
     "output_type": "execute_result"
    }
   ],
   "source": [
    "model1.fit(X_train, y_train)"
   ]
  },
  {
   "cell_type": "code",
   "execution_count": 180,
   "metadata": {},
   "outputs": [
    {
     "data": {
      "text/plain": [
       "{'lasso__alpha': 0.1, 'poly__degree': 7}"
      ]
     },
     "execution_count": 180,
     "metadata": {},
     "output_type": "execute_result"
    }
   ],
   "source": [
    "model1.best_params_"
   ]
  },
  {
   "cell_type": "code",
   "execution_count": 181,
   "metadata": {},
   "outputs": [],
   "source": [
    "y_train_pred1 = model1.predict(X_train)"
   ]
  },
  {
   "cell_type": "code",
   "execution_count": 182,
   "metadata": {
    "scrolled": true
   },
   "outputs": [
    {
     "name": "stdout",
     "output_type": "stream",
     "text": [
      "train MAE: 1.32e+05\n",
      "train MSE: 3.96e+10\n",
      "train R2: 0.070\n"
     ]
    }
   ],
   "source": [
    "print('train MAE: {0:.2e}'.format(mean_absolute_error(y_train, y_train_pred1)))\n",
    "print('train MSE: {0:.2e}'.format(mean_squared_error(y_train, y_train_pred1)))\n",
    "print('train R2: {0:.3f}'.format(r2_score(y_train, y_train_pred1)))"
   ]
  },
  {
   "cell_type": "code",
   "execution_count": 183,
   "metadata": {},
   "outputs": [],
   "source": [
    "y_test_pred1 = model1.predict(X_test)"
   ]
  },
  {
   "cell_type": "code",
   "execution_count": 184,
   "metadata": {},
   "outputs": [
    {
     "name": "stdout",
     "output_type": "stream",
     "text": [
      "train MAE: 1.74e+05\n",
      "train MSE: 8.66e+10\n",
      "train R2: -0.005\n"
     ]
    }
   ],
   "source": [
    "print('train MAE: {0:.2e}'.format(mean_absolute_error(y_test, y_test_pred1)))\n",
    "print('train MSE: {0:.2e}'.format(mean_squared_error(y_test, y_test_pred1)))\n",
    "print('train R2: {0:.3f}'.format(r2_score(y_test, y_test_pred1)))"
   ]
  },
  {
   "cell_type": "markdown",
   "metadata": {},
   "source": [
    "## 4.2 Decision Tree"
   ]
  },
  {
   "cell_type": "code",
   "execution_count": 185,
   "metadata": {},
   "outputs": [],
   "source": [
    "steps2 = [('rescale', MinMaxScaler()),\n",
    "         ('dt', DecisionTreeRegressor(random_state=0))]\n",
    "model2 = Pipeline(steps2)\n",
    "model2 = model2.fit(X_train, y_train)"
   ]
  },
  {
   "cell_type": "code",
   "execution_count": 186,
   "metadata": {},
   "outputs": [],
   "source": [
    "parameters2 = {'dt__max_depth':range(1,11,2),\n",
    "               'dt__min_samples_leaf':range(20,200,20),\n",
    "               'dt__min_samples_split':range(2,7)}"
   ]
  },
  {
   "cell_type": "code",
   "execution_count": 187,
   "metadata": {},
   "outputs": [],
   "source": [
    "scorer2 = make_scorer(mean_squared_error, greater_is_better = False)"
   ]
  },
  {
   "cell_type": "code",
   "execution_count": 188,
   "metadata": {},
   "outputs": [],
   "source": [
    "model2gs = GridSearchCV(model2, parameters2, cv=5, scoring = scorer2)"
   ]
  },
  {
   "cell_type": "code",
   "execution_count": 189,
   "metadata": {},
   "outputs": [],
   "source": [
    "model2gs = model2gs.fit(X_train, y_train)"
   ]
  },
  {
   "cell_type": "code",
   "execution_count": 190,
   "metadata": {},
   "outputs": [
    {
     "data": {
      "text/plain": [
       "{'dt__max_depth': 7, 'dt__min_samples_leaf': 80, 'dt__min_samples_split': 2}"
      ]
     },
     "execution_count": 190,
     "metadata": {},
     "output_type": "execute_result"
    }
   ],
   "source": [
    "model2gs.best_params_"
   ]
  },
  {
   "cell_type": "code",
   "execution_count": 191,
   "metadata": {},
   "outputs": [],
   "source": [
    "y_train_pred2 = model2gs.predict(X_train)"
   ]
  },
  {
   "cell_type": "code",
   "execution_count": 192,
   "metadata": {},
   "outputs": [
    {
     "name": "stdout",
     "output_type": "stream",
     "text": [
      "train MAE: 1.01e+05\n",
      "train MSE: 2.61e+10\n",
      "train R2: 0.388\n"
     ]
    }
   ],
   "source": [
    "print('train MAE: {0:.2e}'.format(mean_absolute_error(y_train, y_train_pred2)))\n",
    "print('train MSE: {0:.2e}'.format(mean_squared_error(y_train, y_train_pred2)))\n",
    "print('train R2: {0:.3f}'.format(r2_score(y_train, y_train_pred2)))"
   ]
  },
  {
   "cell_type": "code",
   "execution_count": 193,
   "metadata": {},
   "outputs": [],
   "source": [
    "y_test_pred2 = model2gs.predict(X_test)"
   ]
  },
  {
   "cell_type": "code",
   "execution_count": 194,
   "metadata": {},
   "outputs": [
    {
     "name": "stdout",
     "output_type": "stream",
     "text": [
      "train MAE: 1.26e+05\n",
      "train MSE: 5.42e+10\n",
      "train R2: 0.372\n"
     ]
    }
   ],
   "source": [
    "print('train MAE: {0:.2e}'.format(mean_absolute_error(y_test, y_test_pred2)))\n",
    "print('train MSE: {0:.2e}'.format(mean_squared_error(y_test, y_test_pred2)))\n",
    "print('train R2: {0:.3f}'.format(r2_score(y_test, y_test_pred2)))"
   ]
  },
  {
   "cell_type": "code",
   "execution_count": 195,
   "metadata": {},
   "outputs": [
    {
     "data": {
      "text/plain": [
       "array([0.45214603, 0.09460515, 0.07715402, 0.05519498, 0.09601914,\n",
       "       0.07284107, 0.10955114, 0.04248848])"
      ]
     },
     "execution_count": 195,
     "metadata": {},
     "output_type": "execute_result"
    }
   ],
   "source": [
    "importancedt = model2.steps[1][1].feature_importances_\n",
    "importancedt"
   ]
  },
  {
   "cell_type": "code",
   "execution_count": 196,
   "metadata": {},
   "outputs": [
    {
     "data": {
      "text/plain": [
       "([<matplotlib.axis.XTick at 0x18c3392f640>,\n",
       "  <matplotlib.axis.XTick at 0x18c35540730>,\n",
       "  <matplotlib.axis.XTick at 0x18c350b0a90>,\n",
       "  <matplotlib.axis.XTick at 0x18c35d9db50>,\n",
       "  <matplotlib.axis.XTick at 0x18c35da30a0>,\n",
       "  <matplotlib.axis.XTick at 0x18c35da35b0>,\n",
       "  <matplotlib.axis.XTick at 0x18c35da3ac0>,\n",
       "  <matplotlib.axis.XTick at 0x18c35da4040>],\n",
       " [Text(0, 0, 'cost'),\n",
       "  Text(0, 0, 'weight'),\n",
       "  Text(0, 0, 'height'),\n",
       "  Text(0, 0, 'width'),\n",
       "  Text(0, 0, 'year'),\n",
       "  Text(0, 0, 'month'),\n",
       "  Text(0, 0, 'day'),\n",
       "  Text(0, 0, 'product_level')])"
      ]
     },
     "execution_count": 196,
     "metadata": {},
     "output_type": "execute_result"
    },
    {
     "data": {
      "image/png": "[encoded data removed]",
      "text/plain": [
       "<Figure size 432x288 with 1 Axes>"
      ]
     },
     "metadata": {
      "needs_background": "light"
     },
     "output_type": "display_data"
    }
   ],
   "source": [
    "plt.bar(range(len(importancedt)), importancedt, color=\"r\", align = \"center\")\n",
    "plt.xticks(range(len(importancedt)), ['cost', 'weight', 'height', 'width', 'year', 'month', 'day',\n",
    "       'product_level'])"
   ]
  },
  {
   "cell_type": "markdown",
   "metadata": {},
   "source": [
    "## 4.3 Random Forest"
   ]
  },
  {
   "cell_type": "code",
   "execution_count": 197,
   "metadata": {},
   "outputs": [],
   "source": [
    "steps3 = [('rescale', MinMaxScaler()),\n",
    "         ('RF', RandomForestRegressor())]\n",
    "model3 = Pipeline(steps3)\n",
    "model3 = model3.fit(X_train, y_train)"
   ]
  },
  {
   "cell_type": "code",
   "execution_count": 198,
   "metadata": {},
   "outputs": [],
   "source": [
    "parameters3 = {'RF__n_estimators':[100,200,300],\n",
    "               'RF__max_depth':[3,5,10],\n",
    "               'RF__min_samples_leaf':[30,100,150],\n",
    "               'RF__min_samples_split':[2,3,5]}"
   ]
  },
  {
   "cell_type": "code",
   "execution_count": 199,
   "metadata": {},
   "outputs": [],
   "source": [
    "scorer3 = make_scorer(mean_squared_error, greater_is_better = False)"
   ]
  },
  {
   "cell_type": "code",
   "execution_count": 200,
   "metadata": {},
   "outputs": [],
   "source": [
    "model3gs = GridSearchCV(model3, parameters3, cv=5, scoring = scorer3)"
   ]
  },
  {
   "cell_type": "code",
   "execution_count": 201,
   "metadata": {},
   "outputs": [],
   "source": [
    "model3gs = model3gs.fit(X_train, y_train)"
   ]
  },
  {
   "cell_type": "code",
   "execution_count": 202,
   "metadata": {},
   "outputs": [
    {
     "data": {
      "text/plain": [
       "{'RF__max_depth': 10,\n",
       " 'RF__min_samples_leaf': 30,\n",
       " 'RF__min_samples_split': 5,\n",
       " 'RF__n_estimators': 200}"
      ]
     },
     "execution_count": 202,
     "metadata": {},
     "output_type": "execute_result"
    }
   ],
   "source": [
    "model3gs.best_params_"
   ]
  },
  {
   "cell_type": "code",
   "execution_count": 203,
   "metadata": {},
   "outputs": [],
   "source": [
    "y_train_pred3 = model3gs.predict(X_train)"
   ]
  },
  {
   "cell_type": "code",
   "execution_count": 204,
   "metadata": {},
   "outputs": [
    {
     "name": "stdout",
     "output_type": "stream",
     "text": [
      "train MAE: 9.54e+04\n",
      "train MSE: 2.32e+10\n",
      "train R2: 0.456\n"
     ]
    }
   ],
   "source": [
    "print('train MAE: {0:.2e}'.format(mean_absolute_error(y_train, y_train_pred3)))\n",
    "print('train MSE: {0:.2e}'.format(mean_squared_error(y_train, y_train_pred3)))\n",
    "print('train R2: {0:.3f}'.format(r2_score(y_train, y_train_pred3)))"
   ]
  },
  {
   "cell_type": "code",
   "execution_count": 205,
   "metadata": {},
   "outputs": [],
   "source": [
    "y_test_pred3 = model3gs.predict(X_test)"
   ]
  },
  {
   "cell_type": "code",
   "execution_count": 206,
   "metadata": {},
   "outputs": [
    {
     "name": "stdout",
     "output_type": "stream",
     "text": [
      "train MAE: 1.28e+05\n",
      "train MSE: 5.20e+10\n",
      "train R2: 0.397\n"
     ]
    }
   ],
   "source": [
    "print('train MAE: {0:.2e}'.format(mean_absolute_error(y_test, y_test_pred3)))\n",
    "print('train MSE: {0:.2e}'.format(mean_squared_error(y_test, y_test_pred3)))\n",
    "print('train R2: {0:.3f}'.format(r2_score(y_test, y_test_pred3)))"
   ]
  },
  {
   "cell_type": "code",
   "execution_count": 208,
   "metadata": {},
   "outputs": [
    {
     "data": {
      "text/plain": [
       "array([0.44364176, 0.10368345, 0.09607166, 0.06453899, 0.08137901,\n",
       "       0.07316165, 0.10468172, 0.03284176])"
      ]
     },
     "execution_count": 208,
     "metadata": {},
     "output_type": "execute_result"
    }
   ],
   "source": [
    "importancerf = model3.steps[1][1].feature_importances_\n",
    "importancerf"
   ]
  },
  {
   "cell_type": "code",
   "execution_count": 209,
   "metadata": {},
   "outputs": [
    {
     "data": {
      "text/plain": [
       "([<matplotlib.axis.XTick at 0x18c35d3c6a0>,\n",
       "  <matplotlib.axis.XTick at 0x18c35d3cc70>,\n",
       "  <matplotlib.axis.XTick at 0x18c352cf880>,\n",
       "  <matplotlib.axis.XTick at 0x18c35d277c0>,\n",
       "  <matplotlib.axis.XTick at 0x18c35d27e20>,\n",
       "  <matplotlib.axis.XTick at 0x18c35d27850>,\n",
       "  <matplotlib.axis.XTick at 0x18c32f03580>,\n",
       "  <matplotlib.axis.XTick at 0x18c35283460>],\n",
       " [Text(0, 0, 'cost'),\n",
       "  Text(0, 0, 'weight'),\n",
       "  Text(0, 0, 'height'),\n",
       "  Text(0, 0, 'width'),\n",
       "  Text(0, 0, 'year'),\n",
       "  Text(0, 0, 'month'),\n",
       "  Text(0, 0, 'day'),\n",
       "  Text(0, 0, 'product_level')])"
      ]
     },
     "execution_count": 209,
     "metadata": {},
     "output_type": "execute_result"
    },
    {
     "data": {
      "image/png": "[encoded data removed]",
      "text/plain": [
       "<Figure size 432x288 with 1 Axes>"
      ]
     },
     "metadata": {
      "needs_background": "light"
     },
     "output_type": "display_data"
    }
   ],
   "source": [
    "plt.bar(range(len(importancerf)), importancerf, color=\"r\", align = \"center\")\n",
    "plt.xticks(range(len(importancerf)), ['cost', 'weight', 'height', 'width', 'year', 'month', 'day',\n",
    "       'product_level'])"
   ]
  },
  {
   "cell_type": "markdown",
   "metadata": {},
   "source": [
    "## 4.4 Gradient Boosting Tree"
   ]
  },
  {
   "cell_type": "code",
   "execution_count": 210,
   "metadata": {},
   "outputs": [],
   "source": [
    "steps4 = [('rescale', MinMaxScaler()),\n",
    "         ('GBR', GradientBoostingRegressor())]\n",
    "model4 = Pipeline(steps4)\n",
    "model4 = model4.fit(X_train, y_train)"
   ]
  },
  {
   "cell_type": "code",
   "execution_count": 211,
   "metadata": {},
   "outputs": [],
   "source": [
    "parameters4 = {'GBR__learning_rate': [0.05, 0.1], \n",
    "               'GBR__n_estimators': [100, 300, 500], \n",
    "               'GBR__max_depth': [3, 5, 10], \n",
    "               'GBR__min_samples_leaf': range(30, 150, 30), \n",
    "               'GBR__min_samples_split': [2, 3, 5]}"
   ]
  },
  {
   "cell_type": "code",
   "execution_count": 212,
   "metadata": {},
   "outputs": [],
   "source": [
    "scorer4 = make_scorer(mean_squared_error, greater_is_better = False)"
   ]
  },
  {
   "cell_type": "code",
   "execution_count": 213,
   "metadata": {},
   "outputs": [],
   "source": [
    "model4gs = GridSearchCV(model4, parameters4, cv=5, scoring = scorer4)"
   ]
  },
  {
   "cell_type": "code",
   "execution_count": 214,
   "metadata": {},
   "outputs": [],
   "source": [
    "model4gs = model4gs.fit(X_train, y_train)"
   ]
  },
  {
   "cell_type": "code",
   "execution_count": 215,
   "metadata": {},
   "outputs": [
    {
     "data": {
      "text/plain": [
       "{'GBR__learning_rate': 0.1,\n",
       " 'GBR__max_depth': 3,\n",
       " 'GBR__min_samples_leaf': 30,\n",
       " 'GBR__min_samples_split': 2,\n",
       " 'GBR__n_estimators': 100}"
      ]
     },
     "execution_count": 215,
     "metadata": {},
     "output_type": "execute_result"
    }
   ],
   "source": [
    "model4gs.best_params_"
   ]
  },
  {
   "cell_type": "code",
   "execution_count": 216,
   "metadata": {},
   "outputs": [],
   "source": [
    "y_train_pred4 = model4gs.predict(X_train)"
   ]
  },
  {
   "cell_type": "code",
   "execution_count": 217,
   "metadata": {},
   "outputs": [
    {
     "name": "stdout",
     "output_type": "stream",
     "text": [
      "train MAE: 9.28e+04\n",
      "train MSE: 2.02e+10\n",
      "train R2: 0.527\n"
     ]
    }
   ],
   "source": [
    "print('train MAE: {0:.2e}'.format(mean_absolute_error(y_train, y_train_pred4)))\n",
    "print('train MSE: {0:.2e}'.format(mean_squared_error(y_train, y_train_pred4)))\n",
    "print('train R2: {0:.3f}'.format(r2_score(y_train, y_train_pred4)))"
   ]
  },
  {
   "cell_type": "code",
   "execution_count": 218,
   "metadata": {},
   "outputs": [],
   "source": [
    "y_test_pred4 = model4gs.predict(X_test)"
   ]
  },
  {
   "cell_type": "code",
   "execution_count": 219,
   "metadata": {},
   "outputs": [
    {
     "name": "stdout",
     "output_type": "stream",
     "text": [
      "train MAE: 1.31e+05\n",
      "train MSE: 5.47e+10\n",
      "train R2: 0.365\n"
     ]
    }
   ],
   "source": [
    "print('train MAE: {0:.2e}'.format(mean_absolute_error(y_test, y_test_pred4)))\n",
    "print('train MSE: {0:.2e}'.format(mean_squared_error(y_test, y_test_pred4)))\n",
    "print('train R2: {0:.3f}'.format(r2_score(y_test, y_test_pred4)))"
   ]
  },
  {
   "cell_type": "code",
   "execution_count": 220,
   "metadata": {},
   "outputs": [
    {
     "data": {
      "text/plain": [
       "array([0.68769802, 0.06637824, 0.0310436 , 0.0157908 , 0.02607682,\n",
       "       0.04859199, 0.09278854, 0.03163199])"
      ]
     },
     "execution_count": 220,
     "metadata": {},
     "output_type": "execute_result"
    }
   ],
   "source": [
    "importancegb = model4.steps[1][1].feature_importances_\n",
    "importancegb"
   ]
  },
  {
   "cell_type": "code",
   "execution_count": 221,
   "metadata": {},
   "outputs": [
    {
     "data": {
      "text/plain": [
       "([<matplotlib.axis.XTick at 0x18c35d6df70>,\n",
       "  <matplotlib.axis.XTick at 0x18c35d6d160>,\n",
       "  <matplotlib.axis.XTick at 0x18c3528d6d0>,\n",
       "  <matplotlib.axis.XTick at 0x18c3527c2b0>,\n",
       "  <matplotlib.axis.XTick at 0x18c35dc9d60>,\n",
       "  <matplotlib.axis.XTick at 0x18c35d77550>,\n",
       "  <matplotlib.axis.XTick at 0x18c35d77b80>,\n",
       "  <matplotlib.axis.XTick at 0x18c35ebc370>],\n",
       " [Text(0, 0, 'cost'),\n",
       "  Text(0, 0, 'weight'),\n",
       "  Text(0, 0, 'height'),\n",
       "  Text(0, 0, 'width'),\n",
       "  Text(0, 0, 'year'),\n",
       "  Text(0, 0, 'month'),\n",
       "  Text(0, 0, 'day'),\n",
       "  Text(0, 0, 'product_level')])"
      ]
     },
     "execution_count": 221,
     "metadata": {},
     "output_type": "execute_result"
    },
    {
     "data": {
      "image/png": "[encoded data removed]",
      "text/plain": [
       "<Figure size 432x288 with 1 Axes>"
      ]
     },
     "metadata": {
      "needs_background": "light"
     },
     "output_type": "display_data"
    }
   ],
   "source": [
    "plt.bar(range(len(importancegb)), importancegb, color=\"r\", align = \"center\")\n",
    "plt.xticks(range(len(importancegb)), ['cost', 'weight', 'height', 'width', 'year', 'month', 'day',\n",
    "       'product_level'])"
   ]
  },
  {
   "cell_type": "code",
   "execution_count": 222,
   "metadata": {},
   "outputs": [],
   "source": [
    "X_train_gb = X_train.drop(['width'], axis=1)"
   ]
  },
  {
   "cell_type": "code",
   "execution_count": 223,
   "metadata": {},
   "outputs": [],
   "source": [
    "X_test_gb = X_test.drop(['width'], axis=1)"
   ]
  },
  {
   "cell_type": "code",
   "execution_count": 225,
   "metadata": {},
   "outputs": [
    {
     "data": {
      "text/plain": [
       "{'GBR__learning_rate': 0.05,\n",
       " 'GBR__max_depth': 3,\n",
       " 'GBR__min_samples_leaf': 30,\n",
       " 'GBR__min_samples_split': 2,\n",
       " 'GBR__n_estimators': 100}"
      ]
     },
     "execution_count": 225,
     "metadata": {},
     "output_type": "execute_result"
    }
   ],
   "source": [
    "model4 = model4.fit(X_train_gb, y_train)\n",
    "model4gs = GridSearchCV(model4, parameters4, cv=5, scoring = scorer4)\n",
    "model4gs = model4gs.fit(X_train_gb, y_train)\n",
    "model4gs.best_params_"
   ]
  },
  {
   "cell_type": "code",
   "execution_count": 226,
   "metadata": {},
   "outputs": [],
   "source": [
    "y_train_pred4 = model4gs.predict(X_train_gb)"
   ]
  },
  {
   "cell_type": "code",
   "execution_count": 227,
   "metadata": {},
   "outputs": [
    {
     "name": "stdout",
     "output_type": "stream",
     "text": [
      "train MAE: 9.68e+04\n",
      "train MSE: 2.24e+10\n",
      "train R2: 0.475\n"
     ]
    }
   ],
   "source": [
    "print('train MAE: {0:.2e}'.format(mean_absolute_error(y_train, y_train_pred4)))\n",
    "print('train MSE: {0:.2e}'.format(mean_squared_error(y_train, y_train_pred4)))\n",
    "print('train R2: {0:.3f}'.format(r2_score(y_train, y_train_pred4)))"
   ]
  },
  {
   "cell_type": "code",
   "execution_count": 228,
   "metadata": {},
   "outputs": [],
   "source": [
    "y_test_pred4 = model4gs.predict(X_test_gb)"
   ]
  },
  {
   "cell_type": "code",
   "execution_count": 229,
   "metadata": {},
   "outputs": [
    {
     "name": "stdout",
     "output_type": "stream",
     "text": [
      "train MAE: 1.31e+05\n",
      "train MSE: 5.50e+10\n",
      "train R2: 0.363\n"
     ]
    }
   ],
   "source": [
    "print('train MAE: {0:.2e}'.format(mean_absolute_error(y_test, y_test_pred4)))\n",
    "print('train MSE: {0:.2e}'.format(mean_squared_error(y_test, y_test_pred4)))\n",
    "print('train R2: {0:.3f}'.format(r2_score(y_test, y_test_pred4)))"
   ]
  },
  {
   "cell_type": "code",
   "execution_count": 230,
   "metadata": {},
   "outputs": [
    {
     "data": {
      "text/plain": [
       "array([0.70879138, 0.09011766, 0.02194191, 0.02028863, 0.05291974,\n",
       "       0.07600234, 0.02993833])"
      ]
     },
     "execution_count": 230,
     "metadata": {},
     "output_type": "execute_result"
    }
   ],
   "source": [
    "importancegb = model4.steps[1][1].feature_importances_\n",
    "importancegb"
   ]
  },
  {
   "cell_type": "code",
   "execution_count": 232,
   "metadata": {},
   "outputs": [
    {
     "data": {
      "text/plain": [
       "([<matplotlib.axis.XTick at 0x18c35f919a0>,\n",
       "  <matplotlib.axis.XTick at 0x18c35f91940>,\n",
       "  <matplotlib.axis.XTick at 0x18c36007730>,\n",
       "  <matplotlib.axis.XTick at 0x18c35fcc490>,\n",
       "  <matplotlib.axis.XTick at 0x18c35fcc9a0>,\n",
       "  <matplotlib.axis.XTick at 0x18c35fccee0>,\n",
       "  <matplotlib.axis.XTick at 0x18c35f53430>],\n",
       " [Text(0, 0, 'cost'),\n",
       "  Text(0, 0, 'weight'),\n",
       "  Text(0, 0, 'height'),\n",
       "  Text(0, 0, 'year'),\n",
       "  Text(0, 0, 'month'),\n",
       "  Text(0, 0, 'day'),\n",
       "  Text(0, 0, 'product_level')])"
      ]
     },
     "execution_count": 232,
     "metadata": {},
     "output_type": "execute_result"
    },
    {
     "data": {
      "image/png": "[encoded data removed]",
      "text/plain": [
       "<Figure size 432x288 with 1 Axes>"
      ]
     },
     "metadata": {
      "needs_background": "light"
     },
     "output_type": "display_data"
    }
   ],
   "source": [
    "plt.bar(range(len(importancegb)), importancegb, color=\"r\", align = \"center\")\n",
    "plt.xticks(range(len(importancegb)), ['cost', 'weight', 'height', 'year', 'month', 'day',\n",
    "       'product_level'])"
   ]
  },
  {
   "cell_type": "markdown",
   "metadata": {},
   "source": [
    "### by dropping the feature 'width', the loss function is worse than before, so keep the 'width'"
   ]
  },
  {
   "cell_type": "markdown",
   "metadata": {},
   "source": [
    "## 4.5 XgBoosting"
   ]
  },
  {
   "cell_type": "code",
   "execution_count": null,
   "metadata": {},
   "outputs": [],
   "source": [
    "steps5 = [('rescale', MinMaxScaler()),\n",
    "         ('xgb', XGBRegressor())]\n",
    "model5 = Pipeline(steps5)\n",
    "model5 = model5.fit(X_train, y_train)"
   ]
  },
  {
   "cell_type": "code",
   "execution_count": null,
   "metadata": {},
   "outputs": [],
   "source": [
    "parameters5 = {'xgb__gamma': [0.0, 0.1, 0.2, 0.3], \n",
    "               'xgb__learning_rate': [0.05, 0.1], \n",
    "               'xgb__n_estimators': [100, 300, 500], \n",
    "               'xgb__max_depth': [3, 5, 10], \n",
    "               'xgb__lambda': [0.5, 1, 5], \n",
    "               'xgb__min_child_weight': [3, 5, 7]}"
   ]
  },
  {
   "cell_type": "code",
   "execution_count": null,
   "metadata": {},
   "outputs": [],
   "source": [
    "model5gs = GridSearchCV(model5, parameters5, cv=5, scoring = scorer)"
   ]
  },
  {
   "cell_type": "code",
   "execution_count": null,
   "metadata": {},
   "outputs": [],
   "source": [
    "model5gs = model5gs.fit(X_train, y_train)"
   ]
  },
  {
   "cell_type": "code",
   "execution_count": null,
   "metadata": {},
   "outputs": [],
   "source": [
    "model5gs.best_params_"
   ]
  },
  {
   "cell_type": "code",
   "execution_count": null,
   "metadata": {},
   "outputs": [],
   "source": [
    "y_train_pred5 = model5gs.predict(X_train)"
   ]
  },
  {
   "cell_type": "code",
   "execution_count": null,
   "metadata": {},
   "outputs": [],
   "source": [
    "print('train MAE: {0:.2e}'.format(mean_absolute_error(y_train, y_train_pred5)))\n",
    "print('train MSE: {0:.2e}'.format(mean_squared_error(y_train, y_train_pred5)))\n",
    "print('train R2: {0:.3f}'.format(r2_score(y_train, y_train_pred5)))"
   ]
  },
  {
   "cell_type": "code",
   "execution_count": null,
   "metadata": {},
   "outputs": [],
   "source": [
    "y_test_pred5 = model5gs.predict(X_test)"
   ]
  },
  {
   "cell_type": "code",
   "execution_count": null,
   "metadata": {},
   "outputs": [],
   "source": [
    "print('train MAE: {0:.2e}'.format(mean_absolute_error(y_test, y_test_pred5)))\n",
    "print('train MSE: {0:.2e}'.format(mean_squared_error(y_test, y_test_pred5)))\n",
    "print('train R2: {0:.3f}'.format(r2_score(y_test, y_test_pred5)))"
   ]
  },
  {
   "cell_type": "code",
   "execution_count": null,
   "metadata": {},
   "outputs": [],
   "source": [
    "importancexg = model5.steps[1][1].feature_importances_\n",
    "importancexg"
   ]
  },
  {
   "cell_type": "code",
   "execution_count": null,
   "metadata": {},
   "outputs": [],
   "source": [
    "plt.bar(range(len(importancexg)), importancexg, color=\"r\", align = \"center\")\n",
    "plt.xticks(range(len(importancexg)), ['cost', 'weight', 'height', 'width', 'year', 'month', 'day',\n",
    "       'product_level'])"
   ]
  }
 ],
 "metadata": {
  "kernelspec": {
   "display_name": "Python 3",
   "language": "python",
   "name": "python3"
  },
  "language_info": {
   "codemirror_mode": {
    "name": "ipython",
    "version": 3
   },
   "file_extension": ".py",
   "mimetype": "text/x-python",
   "name": "python",
   "nbconvert_exporter": "python",
   "pygments_lexer": "ipython3",
   "version": "3.8.3"
  }
 },
 "nbformat": 4,
 "nbformat_minor": 2
}
